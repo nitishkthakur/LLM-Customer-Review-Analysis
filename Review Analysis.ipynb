{
 "cells": [
  {
   "cell_type": "code",
   "execution_count": 100,
   "id": "22385650-1481-43c0-bd00-3c6462d251dc",
   "metadata": {},
   "outputs": [],
   "source": [
    "import pandas as pd\n",
    "import ollama\n",
    "from ollama import chat\n",
    "from pydantic import BaseModel\n",
    "from openai import OpenAI\n",
    "\n",
    "# Set Display Settings\n",
    "pd.set_option('display.max_colwidth', 70)"
   ]
  },
  {
   "cell_type": "code",
   "execution_count": 108,
   "id": "2c28d692-67fb-4b6c-8ff3-0768faf0e9e6",
   "metadata": {},
   "outputs": [],
   "source": [
    "# Model and Prompt specific settings\n",
    "predefined_topics = ['Oil Issue', 'Door Issue', 'Brake Issue', \n",
    "                     'Service Issue', \n",
    "                     'Communication', \n",
    "                     'Behaviour',\n",
    "                     'Repair Cost', 'Repair Time',\n",
    "                    'Others']\n",
    "\n",
    "allowed_sentiments = ['Positive', 'Negative', 'Neutral']\n",
    "\n",
    "# OpenAI API Key\n",
    "api_key = \"\"\n",
    "\n",
    "# low Temperature to force the model to follow instructions better\n",
    "temperature=0.3\n",
    "\n",
    "# Set this to higher value if large number of output tokens are expected. 5000 is a good default for upto 200-300 reviews. Setting this \n",
    "# prevents the model from long hallucinations - it is the max number of output tokens given by the model\n",
    "max_tokens=5000\n",
    "\n",
    "# Set how many reviews to analyze - these are the top few reviews which are analyzed\n",
    "n_reviews_to_analyze = 30\n",
    "\n",
    "# Do we randomly sample the reviews_to_analyze?\n",
    "random_sample = True\n",
    "\n",
    "# Which model to use?\n",
    "model = \"gpt-4o-mini\"\n",
    "\n",
    "######### Data Related Settings ###########\n",
    "path_of_data = r\"D:\\Drive_Legion_1\\ford_service_review_processed.xlsx\""
   ]
  },
  {
   "cell_type": "code",
   "execution_count": 102,
   "id": "a3dcfa73-2e0d-4714-9bff-e117f42bdac2",
   "metadata": {},
   "outputs": [],
   "source": [
    "# Read Data\n",
    "data=pd.read_excel(path_of_data)\n",
    "data=data.dropna(subset=['review'])\n",
    "data[\"review_original\"]=data[\"review\"]\n",
    "data=data.reset_index()\n",
    "\n",
    "# Sample which reviews to analyze\n",
    "if random_sample:\n",
    "    reviews_to_analyze = data['review_original'].sample(n_reviews_to_analyze)\n",
    "    indices_of_reviews = reviews_to_analyze.index.values.tolist()\n",
    "    reviews_to_analyze = reviews_to_analyze.values.tolist()\n",
    "    \n",
    "else:\n",
    "    reviews_to_analyze = data['review_original'].values.tolist()[:n_reviews_to_analyze]\n"
   ]
  },
  {
   "cell_type": "markdown",
   "id": "5d952090-b218-43ef-9988-3ce08af33d1f",
   "metadata": {},
   "source": [
    "## Use Structured Outputs (Supported by gpt-4o-mini and later) + Ask model to select from predefined topics."
   ]
  },
  {
   "cell_type": "code",
   "execution_count": 103,
   "id": "53ac4c61-604c-48bf-89a7-c081a5b6758f",
   "metadata": {},
   "outputs": [],
   "source": [
    "########## Define the format in which the output is expected ##############\n",
    "\n",
    "# Define Schema of Structured Outputs\n",
    "class ReviewsSchema(BaseModel):\n",
    "    Index: int\n",
    "    Topics: list[str]\n",
    "    Sentiment: str\n",
    "\n",
    "class ListSchema(BaseModel):\n",
    "    Results: list[ReviewsSchema]"
   ]
  },
  {
   "cell_type": "code",
   "execution_count": 104,
   "id": "18fc9983-9a93-467e-bef1-b5bc3171f2b4",
   "metadata": {},
   "outputs": [],
   "source": [
    "# Call OpenAI\n",
    "client = OpenAI(api_key=api_key\n",
    ")\n",
    "completion = client.beta.chat.completions.parse(\n",
    "    model=model,\n",
    "    messages=[\n",
    "        { \"role\": \"system\", \"content\": f'''Analyze the following reviews and do the following 2 things:\n",
    "            1. Identify the key topics talked about in the review only out of the following comma separated list: {\", \".join(predefined_topics)}.\n",
    "            2. Identify the sentiments expressed in the review from the following comma separated list: {\", \".join(allowed_sentiments)}.\n",
    "        \n",
    "            Return the output as mentioned in the structure. Reviews are numbered.'''},\n",
    "            \n",
    "        {'role': 'user',\n",
    "            'content': \"\\n\\n\".join([str(indices_of_reviews[i]) + '. ' + reviews_to_analyze[i] for i in range(n_reviews_to_analyze)])}\n",
    "    \n",
    "    ],\n",
    "    temperature=temperature,\n",
    "    max_tokens=max_tokens,\n",
    "    response_format=ListSchema\n",
    ")\n",
    "\n"
   ]
  },
  {
   "cell_type": "markdown",
   "id": "5c47b0f9-acde-43d8-84bc-980f5ae52c08",
   "metadata": {},
   "source": [
    "### View the Output"
   ]
  },
  {
   "cell_type": "code",
   "execution_count": 105,
   "id": "9c2e880c-df95-4711-bb7f-df6de6240c4b",
   "metadata": {},
   "outputs": [
    {
     "data": {
      "text/plain": [
       "[ReviewsSchema(Index=928, Topics=['Service Issue'], Sentiment='Negative'),\n",
       " ReviewsSchema(Index=554, Topics=['Service Issue'], Sentiment='Positive'),\n",
       " ReviewsSchema(Index=402, Topics=['Service Issue'], Sentiment='Positive'),\n",
       " ReviewsSchema(Index=229, Topics=['Service Issue'], Sentiment='Positive'),\n",
       " ReviewsSchema(Index=443, Topics=['Others'], Sentiment='Neutral'),\n",
       " ReviewsSchema(Index=777, Topics=['Others'], Sentiment='Neutral'),\n",
       " ReviewsSchema(Index=957, Topics=['Service Issue'], Sentiment='Positive'),\n",
       " ReviewsSchema(Index=999, Topics=['Service Issue', 'Communication'], Sentiment='Negative'),\n",
       " ReviewsSchema(Index=986, Topics=['Service Issue'], Sentiment='Positive'),\n",
       " ReviewsSchema(Index=330, Topics=['Service Issue'], Sentiment='Positive'),\n",
       " ReviewsSchema(Index=122, Topics=['Repair Cost'], Sentiment='Negative'),\n",
       " ReviewsSchema(Index=907, Topics=['Service Issue'], Sentiment='Negative'),\n",
       " ReviewsSchema(Index=990, Topics=['Others'], Sentiment='Negative'),\n",
       " ReviewsSchema(Index=1100, Topics=['Others'], Sentiment='Neutral'),\n",
       " ReviewsSchema(Index=995, Topics=['Service Issue', 'Behaviour'], Sentiment='Positive'),\n",
       " ReviewsSchema(Index=15, Topics=['Service Issue', 'Behaviour', 'Repair Cost'], Sentiment='Negative'),\n",
       " ReviewsSchema(Index=1133, Topics=['Others'], Sentiment='Positive'),\n",
       " ReviewsSchema(Index=127, Topics=['Service Issue'], Sentiment='Negative'),\n",
       " ReviewsSchema(Index=480, Topics=['Service Issue', 'Oil Issue'], Sentiment='Negative'),\n",
       " ReviewsSchema(Index=973, Topics=['Service Issue', 'Behaviour'], Sentiment='Negative'),\n",
       " ReviewsSchema(Index=59, Topics=['Repair Cost', 'Service Issue'], Sentiment='Negative'),\n",
       " ReviewsSchema(Index=1052, Topics=['Others'], Sentiment='Neutral'),\n",
       " ReviewsSchema(Index=147, Topics=['Service Issue'], Sentiment='Negative'),\n",
       " ReviewsSchema(Index=114, Topics=['Service Issue'], Sentiment='Positive'),\n",
       " ReviewsSchema(Index=722, Topics=['Service Issue'], Sentiment='Positive'),\n",
       " ReviewsSchema(Index=219, Topics=['Service Issue'], Sentiment='Negative'),\n",
       " ReviewsSchema(Index=802, Topics=['Others'], Sentiment='Neutral'),\n",
       " ReviewsSchema(Index=516, Topics=['Service Issue'], Sentiment='Negative'),\n",
       " ReviewsSchema(Index=921, Topics=['Service Issue'], Sentiment='Positive'),\n",
       " ReviewsSchema(Index=556, Topics=['Service Issue'], Sentiment='Positive')]"
      ]
     },
     "execution_count": 105,
     "metadata": {},
     "output_type": "execute_result"
    }
   ],
   "source": [
    "completion.choices[0].message.parsed.Results"
   ]
  },
  {
   "cell_type": "code",
   "execution_count": 106,
   "id": "65987f41-1453-4472-a6e8-6b497f3b2f2e",
   "metadata": {},
   "outputs": [
    {
     "name": "stdout",
     "output_type": "stream",
     "text": [
      "    Review Index                                   Topics Sentiment  \\\n",
      "0            928                          [Service Issue]  Negative   \n",
      "1            554                          [Service Issue]  Positive   \n",
      "2            402                          [Service Issue]  Positive   \n",
      "3            229                          [Service Issue]  Positive   \n",
      "4            443                                 [Others]   Neutral   \n",
      "5            777                                 [Others]   Neutral   \n",
      "6            957                          [Service Issue]  Positive   \n",
      "7            999           [Service Issue, Communication]  Negative   \n",
      "8            986                          [Service Issue]  Positive   \n",
      "9            330                          [Service Issue]  Positive   \n",
      "10           122                            [Repair Cost]  Negative   \n",
      "11           907                          [Service Issue]  Negative   \n",
      "12           990                                 [Others]  Negative   \n",
      "13          1100                                 [Others]   Neutral   \n",
      "14           995               [Service Issue, Behaviour]  Positive   \n",
      "15            15  [Service Issue, Behaviour, Repair Cost]  Negative   \n",
      "16          1133                                 [Others]  Positive   \n",
      "17           127                          [Service Issue]  Negative   \n",
      "18           480               [Service Issue, Oil Issue]  Negative   \n",
      "19           973               [Service Issue, Behaviour]  Negative   \n",
      "20            59             [Repair Cost, Service Issue]  Negative   \n",
      "21          1052                                 [Others]   Neutral   \n",
      "22           147                          [Service Issue]  Negative   \n",
      "23           114                          [Service Issue]  Positive   \n",
      "24           722                          [Service Issue]  Positive   \n",
      "\n",
      "                                                          Original Review  \n",
      "0   Worst service l every had they have more employees then customer b...  \n",
      "1   I can always count on this City world ford to do the right thing a...  \n",
      "2                                            All good very friendly staff  \n",
      "3                                                       Top rated service  \n",
      "4                                                                    Hoid  \n",
      "5   Must get there at least an hour before they open to secure a space...  \n",
      "6   Ordering Tesla and waiting for the car became a complicated proces...  \n",
      "7   For a big company like Tesla the should have a better customer ser...  \n",
      "8   Tesla Service did a great job replacing my struts!\\nFriendly Servi...  \n",
      "9   Excellent service! They also send you an inspection video so you k...  \n",
      "10  Never will lease another Ford. They charge for even oil change whi...  \n",
      "11  The appointment to pick up was 30 minutes ago and they still don't...  \n",
      "12  Came here on a Thursday afternoon, supposed to be apparently an ef...  \n",
      "13  I barely made to the supercharger. There were many things to do wh...  \n",
      "14  Completely different customer experience structure vs other dealer...  \n",
      "15  fordlinconl Of Queens has always been my favorite to buy my cars I...  \n",
      "16                     Great location with plenty of extra superchargers.  \n",
      "17  This place is very disorganized and when you inform them they made...  \n",
      "18  They give you an appointment your 4th on line a people who came in...  \n",
      "19  Service advisor nickilia is the worse person to help you at Tesla ...  \n",
      "20  I had certified preowned drivetrain warranty back in December of 2...  \n",
      "21  They're nice. They wanna sell you a car, like all the car dealersh...  \n",
      "22  Terrible experience. Kept my car for a week told me I would get pa...  \n",
      "23  Really good service and parts departments. They treat customers we...  \n",
      "24  I just bought my second car at Major world and was very satisfied ...  \n"
     ]
    }
   ],
   "source": [
    "results_list = []\n",
    "for i in range(len(completion.choices[0].message.parsed.Results)):\n",
    "    current_result = completion.choices[0].message.parsed.Results[i]\n",
    "    results_list.append([current_result.Index, current_result.Topics, current_result.Sentiment, data[\"review_original\"].iloc[current_result.Index]])\n",
    "results_df = pd.DataFrame(data = results_list, columns = ['Review Index', 'Topics', 'Sentiment', 'Original Review'])\n",
    "print(results_df.head(25))"
   ]
  },
  {
   "cell_type": "code",
   "execution_count": null,
   "id": "bf4936f9-1a5c-4177-a129-7bf39fde207e",
   "metadata": {},
   "outputs": [],
   "source": []
  }
 ],
 "metadata": {
  "kernelspec": {
   "display_name": "Python 3 (ipykernel)",
   "language": "python",
   "name": "python3"
  },
  "language_info": {
   "codemirror_mode": {
    "name": "ipython",
    "version": 3
   },
   "file_extension": ".py",
   "mimetype": "text/x-python",
   "name": "python",
   "nbconvert_exporter": "python",
   "pygments_lexer": "ipython3",
   "version": "3.12.3"
  }
 },
 "nbformat": 4,
 "nbformat_minor": 5
}
