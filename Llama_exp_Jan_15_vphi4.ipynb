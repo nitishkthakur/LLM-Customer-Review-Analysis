{
 "cells": [
  {
   "cell_type": "code",
   "execution_count": 9,
   "id": "df3defe0-4579-4f39-98fe-a9ce8543e023",
   "metadata": {},
   "outputs": [],
   "source": [
    "import pandas as pd"
   ]
  },
  {
   "cell_type": "code",
   "execution_count": 10,
   "id": "2eea3cd0-fbc1-4085-8f17-5dfb70f31bd7",
   "metadata": {},
   "outputs": [
    {
     "name": "stderr",
     "output_type": "stream",
     "text": [
      "/var/folders/gl/57089jm950v5k1zmmrkghv4r0000gn/T/ipykernel_2383/510883715.py:3: SettingWithCopyWarning: \n",
      "A value is trying to be set on a copy of a slice from a DataFrame.\n",
      "Try using .loc[row_indexer,col_indexer] = value instead\n",
      "\n",
      "See the caveats in the documentation: https://pandas.pydata.org/pandas-docs/stable/user_guide/indexing.html#returning-a-view-versus-a-copy\n",
      "  data[\"review_original\"]=data[\"review\"]\n"
     ]
    }
   ],
   "source": [
    "df=pd.read_excel(\"/Users/santhanakrishnans/Downloads/ford_service_review_processed.xlsx\")\n",
    "data=df.dropna(subset=['review'])\n",
    "data[\"review_original\"]=data[\"review\"]\n",
    "data=data.reset_index()"
   ]
  },
  {
   "cell_type": "code",
   "execution_count": null,
   "id": "e6b0e40b-9541-4011-ba29-3fc7045188b9",
   "metadata": {},
   "outputs": [],
   "source": []
  },
  {
   "cell_type": "code",
   "execution_count": 11,
   "id": "950b1525-e9d0-464a-86d3-b110da06251c",
   "metadata": {},
   "outputs": [
    {
     "data": {
      "text/plain": [
       "2092"
      ]
     },
     "execution_count": 11,
     "metadata": {},
     "output_type": "execute_result"
    }
   ],
   "source": [
    "len(df[\"review\"])"
   ]
  },
  {
   "cell_type": "code",
   "execution_count": null,
   "id": "e81c013c-b424-4242-b88e-3dd2ed7358e8",
   "metadata": {},
   "outputs": [],
   "source": []
  },
  {
   "cell_type": "code",
   "execution_count": 12,
   "id": "b32141e3-32a1-47f6-94ae-72c24f563c07",
   "metadata": {},
   "outputs": [],
   "source": [
    "#data=data.head(30)"
   ]
  },
  {
   "cell_type": "code",
   "execution_count": 13,
   "id": "fcba7318-6c73-4646-9c1e-232afd0bd5f0",
   "metadata": {},
   "outputs": [
    {
     "name": "stdout",
     "output_type": "stream",
     "text": [
      "Requirement already satisfied: tqdm in /opt/anaconda3/lib/python3.12/site-packages (4.66.5)\n",
      "Note: you may need to restart the kernel to use updated packages.\n"
     ]
    }
   ],
   "source": [
    "pip install tqdm\n"
   ]
  },
  {
   "cell_type": "code",
   "execution_count": 14,
   "id": "812d57e8-2bf8-4841-8bb9-3cd70c82b53c",
   "metadata": {},
   "outputs": [],
   "source": [
    "\n",
    "import os\n",
    "\n",
    "# Get the number of logical cores\n",
    "num_cores = os.cpu_count()\n",
    "\n",
    "\n"
   ]
  },
  {
   "cell_type": "code",
   "execution_count": 15,
   "id": "387a5e81-71c3-4f41-b521-cd363122006e",
   "metadata": {},
   "outputs": [
    {
     "data": {
      "text/plain": [
       "8"
      ]
     },
     "execution_count": 15,
     "metadata": {},
     "output_type": "execute_result"
    }
   ],
   "source": [
    "num_cores"
   ]
  },
  {
   "cell_type": "code",
   "execution_count": 16,
   "id": "c1894b2d-3837-4bc1-93fb-666a05f0e90d",
   "metadata": {},
   "outputs": [
    {
     "name": "stderr",
     "output_type": "stream",
     "text": [
      "Processing Reviews:   0%|                              | 0/1181 [00:00<?, ?it/s]"
     ]
    },
    {
     "name": "stdout",
     "output_type": "stream",
     "text": [
      "Raw LLM Output for review: I had a very bad experience in that location. They don’t listen to you and they have bad attitude.Just saying come after one or two weeks every time. They take my car to fix. After two days they called me and said take my car and come back again after two weeks. I don’t recommend them.\n",
      "- Key topics:[Staff, Facilities]\n",
      "- Sentiment:Negative\n",
      "\n",
      "Raw LLM Output for review: Lies and condescending attitudes from the service rep and their manager. Take your business elsewhere. I called to make an appointment to service my F150 Raptor, and gave a detailed explanation  to the rep that my sunroof is leaking, need an oil change, and inspection and door lock fixed. When I arrived Juan the service rep say they have no record of anything except oil change and inspection and they don’t fix leaks. It a ford product who does then? I asked that and then he say I’m saying this a second time don’t make me have to say it a third time We Don’t Fix Leaks! Then he takes me to the manager who says they take a look at it and let me know. The manager call me the next day and says both drains are blocked to clean it out is $1100. I told I can’t afford that. He was lying. I went on YouTube and I learned to test it with a little water, drains are perfectly fine. It’s the rubber seal. But they managed to charge me $478.95 in Labor but not fix anything except an oil change and inspection. I feel like I’ve been robbed.\n",
      "- Key topics:[Product Quality, Service Diagnostics]\n",
      "- Sentiment:Negative\n",
      "\n"
     ]
    },
    {
     "name": "stderr",
     "output_type": "stream",
     "text": [
      "Processing Reviews:   0%|                    | 1/1181 [00:27<9:01:38, 27.54s/it]"
     ]
    },
    {
     "name": "stdout",
     "output_type": "stream",
     "text": [
      "Raw LLM Output for review: Took my truck in to get the front brakes replaced. A week later, my brake fluid reservoir busted and my brakes failed. In my discussions with other mechanics there was a high probability this could have been caused by the brake replacement. Ford Lincoln took no responsibility and made me pay the full cost to repair everything.\n",
      "This is terrible customer service and NOT TRUSTWORTHY.\n",
      "- Key topics:[Brake,Product Quality]\n",
      "- Sentiment:[Negative]\n",
      "\n",
      "Raw LLM Output for review: The service department encountered challenges in diagnosing the charging system fault.\n",
      "\n",
      "The technician suggested that the battery failure led to the P0620 code, but additional investigation revealed damage to the voltage regulator in the alternator.\n",
      "\n",
      "The service fee of over $150 for a brief job, encompassing code reading and battery voltage testing, which I CAN DO AT HOME, seems disproportionately high.\n",
      "\n",
      "It's infuriating that they not only failed to fix the problem but also couldn't diagnose it properly. Instead, they had the audacity to charge a fee for what they claim is a \"diagnosing\" service.\n",
      "\n",
      "It's recommended to enhance thoroughness in future assessments. It's quite challenging to accept that they were too occupied to notice a damaged alternator connector fitting, especially at the crucial point where the voltage regulator is connected.\n",
      "- Key topics:[Service Diagnostics, Service Cost]\n",
      "- Sentiment:Negative\n",
      "\n"
     ]
    },
    {
     "name": "stderr",
     "output_type": "stream",
     "text": [
      "Processing Reviews:   0%|                    | 3/1181 [00:30<2:39:29,  8.12s/it]"
     ]
    },
    {
     "name": "stdout",
     "output_type": "stream",
     "text": [
      "Raw LLM Output for review: I walked in, there was about 4 employees at their desk. Each one looked away as I entered the door,  after a minute or so, I said  \"No one is working today?\" Then Debby assisted me. As she was walking out to my Agency car, I said \" Wow, staff here is rude.\" Then I went to get coffee.  Ms Debby stormed to back, asking me what I said. I told her what I said, then asked why she was so aggressive.  Sis acted like she wanted to fight. Ms Debby at Ford is nasty. She doesn't need to work in Customer Service.  I'm going to take my Agency's Fleet of Fords elsewhere until they send Debbie to the back, under the cars, where her and her nasty attitude belongs.  I'm giving them a 1 star because the Manager Anthony was pleasant.  Just because your in the hood, doesn't mean Ms Debby can act hood in this place of business.\n",
      "- Key topics:[Staff, Facilities]\n",
      "- Sentiment:[Negative]\n",
      "\n"
     ]
    },
    {
     "name": "stderr",
     "output_type": "stream",
     "text": [
      "Processing Reviews:   1%|▏                     | 8/1181 [00:31<42:06,  2.15s/it]"
     ]
    },
    {
     "name": "stdout",
     "output_type": "stream",
     "text": [
      "Raw LLM Output for review: I guess any Ford Dealerships in Queens and/or Nassau County are bad. Biener Ford is horrible! Located at Northern Blvd in Great Neck. Bad reviews all over with the prewritten standard reply.\n",
      "- Key topics:[Biener Ford, Service Quality]\n",
      "- Sentiment:[Negative]\n",
      "\n",
      "Raw LLM Output for review: Took my 2014 mustang gt for a recall two weeks ago. 20 mins in to service rep notified me that they bent my  driver's side door. I was furious because of the negligence. They offered to fix the issue and offered a rental while the car was being repaired. There was lack of communication I called several times for updates no one returned my calls. During the whole process No manager ever spoke to me or apologized for their negligence. I had to show up in person to get an update. Repair took 8 days. Body shop did a good job. Definitely not taking my car back there.\n",
      "- Key topics:[Door, Recall, Staff]\n",
      "- Sentiment: Negative\n",
      "\n",
      "Raw LLM Output for review: Unfortunately had to get towed here, luckily it was here. The service was super quick and easy. I was in and out with two new tires in 2.5 hours. Juan toro helped me out and made it super smooth and efficient. The pricing was competitive as well.\n",
      "- Key topics:[Service Time,Staff,SERVICE COST]\n",
      "-Sentiment: Positive\n",
      "\n"
     ]
    },
    {
     "name": "stderr",
     "output_type": "stream",
     "text": [
      "Processing Reviews:   1%|▏                     | 9/1181 [00:32<39:01,  2.00s/it]"
     ]
    },
    {
     "name": "stdout",
     "output_type": "stream",
     "text": [
      "Raw LLM Output for review: Big Thanks to Varsha that helped me out with problems on my vehicle. I been waiting for parts around 2 months, Finally that delivered today, Varsha told me right the way, and got it done same day before they closed. I really appreciated that. 👍 another thanks to Juan, he is a nice and helpful guy. …\n",
      "- Key topics:[Staff]\n",
      "-Sentiment:Positive\n",
      "\n",
      "Raw LLM Output for review: Top service. These guys are very professional and even go as far as giving you a nice free car wash before you leave their place. Thumbs up 👍🏾 …\n",
      "- Key topics:Staff\n",
      "- Sentiment:[Positive]\n",
      "\n"
     ]
    },
    {
     "name": "stderr",
     "output_type": "stream",
     "text": [
      "Processing Reviews:   1%|▏                    | 10/1181 [00:34<37:30,  1.92s/it]"
     ]
    },
    {
     "name": "stdout",
     "output_type": "stream",
     "text": [
      "Raw LLM Output for review: I left my car for a week and then in the end they couldn’t “find” any parts and then broke my door so now window doesn’t go up and down and when I told them the window worked before I left it they said they can try to fix it for me but it would cost another 173 for diagnosis and then the repair cost\n",
      "- Key topics:[Service Quality, Door]\n",
      "- Sentiment:Negative\n",
      "\n"
     ]
    },
    {
     "name": "stderr",
     "output_type": "stream",
     "text": [
      "Processing Reviews:   1%|▏                    | 11/1181 [00:35<31:47,  1.63s/it]"
     ]
    },
    {
     "name": "stdout",
     "output_type": "stream",
     "text": [
      "Raw LLM Output for review: The worst costumer service. Person who answers the phone do not know how to talk to people. They kept my my car for very long time. Because they are private owned they think that they can do what they want. Horrible experience.\n",
      "- Key topics:[Staff, Service Cost]\n",
      "- Sentiment: Negative\n",
      "\n"
     ]
    },
    {
     "name": "stderr",
     "output_type": "stream",
     "text": [
      "Processing Reviews:   1%|▏                    | 13/1181 [00:37<25:41,  1.32s/it]"
     ]
    },
    {
     "name": "stdout",
     "output_type": "stream",
     "text": [
      "Raw LLM Output for review: Just horrible. I had a scheduled 10 am appointment for a simple oil change. Arrived at 9:50 am to a long line of vehicles that were queued to get into the service garage. Waited for a total of 45 minutes to only make it halfway into the parking lot. There were no employees or customer service representatives present to come out and explain why there was such a delay. I left the parking lot at 11 am after waiting for over an hour to get my vehicle registered...they need to do a better job here, especially for customers who have made appointments. Very disappointing and unprofessional.\n",
      "- Key topics:[Service Time, Facilities]\n",
      "- Sentiment:Negative\n",
      "\n"
     ]
    },
    {
     "name": "stderr",
     "output_type": "stream",
     "text": [
      "Processing Reviews:   1%|▏                    | 14/1181 [00:38<25:48,  1.33s/it]"
     ]
    },
    {
     "name": "stdout",
     "output_type": "stream",
     "text": [
      "Raw LLM Output for review: Extremely slow service. Had an appointment  at a set time for a 15 minute check, waited 90 minutes for the mechanic then an additional 30 minutes before I could get my key. Needed a part, was told it'd be there in 3 days, and that they would call me. Two weeks later still no calls, and when contacted they flat out refused to look up if the part has arrived because the service advisor from the first visit wasn't in. Needless to say, I'm switching to another service center hoping to find one that operates more rationally.\n",
      "- Key topics:[Service Time, Service Cost, Staff]\n",
      "- Sentiment:Negative\n",
      "\n",
      "Raw LLM Output for review: If I had 0 rating I give to this location. Nobody take care. ridiculous location I had 9.30am appointment but still waiting waiting waiting waiting. I recommend Only Lincoln customer plz if you guys going to Empire ford Lincoln at Huntington it’s nice staff & they very quickly take care of customers always . So I recommend to Lincoln customer go at Huntington & see feel relax .\n",
      "- Key topics:[Staff,Service Time]\n",
      "- Sentiment:[Negative]\n",
      "\n",
      "Raw LLM Output for review: fordlinconl Of Queens has always been my favorite to buy my cars I have bought several cars and always used their repair shop but these days I wanted to pick up one of my trucks and one of the mechanics treated me very badly until today I spent $11,000 on repair of my last van and I have 3 more orders, two Transit 350 xlt and a 2024 Navigator which I am going to cancel, it is incredible that I spoke with the Shop manager and he did not listen to me so I have decided not to buy more at this agency The only two people who have treated me spectacularly are Jose Ocasio in the sales area and Ivonne from the repair shop.……. goodbye Ford of Queens\n",
      "- Key topics:[Staff, Service Cost]\n",
      "- Sentiment:Negative\n",
      "\n"
     ]
    },
    {
     "name": "stderr",
     "output_type": "stream",
     "text": [
      "Processing Reviews:   1%|▎                    | 17/1181 [00:42<25:22,  1.31s/it]"
     ]
    },
    {
     "name": "stdout",
     "output_type": "stream",
     "text": [
      "Raw LLM Output for review: Indefinite and unfriendly attitude and first class for service\n",
      "- Key topics:[Staff,Service Quality]\n",
      "- Sentiment: Neutral\n",
      "\n"
     ]
    },
    {
     "name": "stderr",
     "output_type": "stream",
     "text": [
      "Processing Reviews:   2%|▎                    | 18/1181 [00:44<30:26,  1.57s/it]"
     ]
    },
    {
     "name": "stdout",
     "output_type": "stream",
     "text": [
      "Raw LLM Output for review: Debbie is one of the women I dealt with . She was very professional and she does her job well. I came in for an engine light, oil change and my passenger window wasn’t working. the  mechanics checked other things as well. Overall I am happy with the service. I’m definitely going back for them to service my truck. 👍👍👍👍👍 …\n",
      "- Key topics:[Staff, Product Quality]\n",
      "- Sentiment:Positive\n",
      "\n",
      "Raw LLM Output for review: They took a good card of my Ford Escape. I got some cables chewed by a small animal. It costed me a lot to fix it but that was a correct price. Vasha and the mechanic were very professional and friendly.\n",
      "- Key topics:[Staff,Service Quality]\n",
      "- Sentiment:Positive\n",
      "\n"
     ]
    },
    {
     "name": "stderr",
     "output_type": "stream",
     "text": [
      "Processing Reviews:   2%|▎                    | 21/1181 [00:46<19:30,  1.01s/it]"
     ]
    },
    {
     "name": "stdout",
     "output_type": "stream",
     "text": [
      "Raw LLM Output for review: DO NOT LET THIS LOCATION SERVICE YOUR VEHICLE! I have owned some FORD vehicle over the past 12 years and I will never buy FORD again because of this service center. In just over three months (between July2022-Sept.2022), I received two oil changes from this location. By the following month, my low oil light came flashing on and off for about a week or so. Shortly after, in the span of one drive home from work, my car started billowing thick clouds of white smoke and became unsafe to drive. The two employees, B. and R., tried to coerce me into saying that I added oil more than the engine has capacity for. I did not agree to their intimidation tactic and asked them if they tested the liquid to see if other fluids were present(from leakage of improper sealing) to which R. said, \"I took a picture of the puddle.\" I also asked, if they disassembled the engine to find the root of the problem or if the oil indicator is calibrated? In another conversation I had with a Ford employee I asked why they stopped production of the same model car (Ford EcoSport) after 2022, but they replied my car was not involved in any recall. This was the first issue I’ve had with this new vehicle in the 3 years of leasing it, it was under the 60,000 warranty mileage, and never had a problem at the previous 2 Ford service locations I’ve gone to in the past 2 & 1/2 years leading up to this nightmare experience. For the first two weeks they had my car their communication was scarce, they did not respond to me or my insurance company, they lack basic costumer service & professionalism(one employee refused to give me her name and told me I would have to get my car from the lot even after it was not fixed and I made her aware it was unsafe to drive), Oh and the gentleman that was working on my car/the diagnostics report is no longer employed there! The employee, Bryan, was \"let go\", quit, or fired by the time I took the train there to check on my car the next day. Its been 4 months without my car. Avoid the mistake I made and take your car elsewhere- Avoid the danger, stress, and poor practice of this location.\n",
      "- Key topics:[Recall,Product Quality,Service Cost]\n",
      "- Sentiment: [Negative]\n",
      "\n",
      "Raw LLM Output for review: I am very disappointed with the service received from Debby. First of all trying to get a return phone call from her was next to impossible.  Then when you did get her on the phone, she said she would check on your question and call you back on Monday.  Well Monday never came as we never received a phone call back.  When I called again I just started speaking with Jane who was very helpful.  Debby also told me that my brakes were metal to metal and that they needed to be replaced with the rotars.  This was false as I just replaced my brakes.  I took the car back to my personal mechanic and the brakes and rotars are perfect.  I have video and pictures to prove this.  Debby charged me $150 diagnostic fee which was not correct.  They didn't even take the tires off to look at the brakes.  I definitely will not be using Ford of Queens again.  They made plenty of money from replacing my transmission.  They didn't need to start adding unneeded repairs and fees.  Very disappointing and not trustworthy. Also, I did tell Debby my disappointment in her lack of calling us back.  She made excuses that she was very busy.  I didn't call one day.  I called multiple days and left multiple messages.\n",
      "- Key topics:[Staff,Service Quality]\n",
      "-Sentiment:Negative\n",
      "\n",
      "Raw LLM Output for review: I found only one screw on my left front wheal after did recall by this servers center. That mistake is totally ruined my wheal and cost hundreds dollars to fix.\n",
      "- Key topics:[Wheel/Tires, Recall]\n",
      "- Sentiment:Negative\n",
      "\n"
     ]
    },
    {
     "name": "stderr",
     "output_type": "stream",
     "text": [
      "Processing Reviews:   2%|▍                    | 23/1181 [00:49<22:46,  1.18s/it]"
     ]
    },
    {
     "name": "stdout",
     "output_type": "stream",
     "text": [
      "Raw LLM Output for review: I went to get inspection and they told me to fix a bulb will be $400. When i did it outside they did it for $49. All they doing is ripping people off. I waited 3 hours and they still couldn’t figure out what was wrong with the car.\n",
      "- Key topics:[Service Cost,Service Time,Service Diagnostics]\n",
      "- Sentiment:Negative\n",
      "\n",
      "Raw LLM Output for review: I had a few issues with this place and would not recommend to others.\n",
      "\n",
      "The service advisor did not check my battery warranty, even though I mentioned this before our visit. I had a 6 month old battery from another dealer. I wasn't notified until I showed up to pick up the car that I would need a receipt to check if the battery was covered by warranty.\n",
      "\n",
      "The website let me schedule an appointment on New Years day. Google Maps also said they were open, so I showed up to find out they were closed.\n",
      "\n",
      "The receipt gave the number of the service manager to call if I was not satisfied with my service. I called and left a message for the person who answered. I did not receive a call back.\n",
      "\n",
      "I spent over half a grand just to rotate tires and get a battery that should have been reimbursed. Not a good value and not professional service.\n",
      "- Key topics:[Service Quality, Facilities]\n",
      "- Sentiment:Negative\n",
      "\n",
      "Raw LLM Output for review: Set an appointment in advance to have a courtesy vehicle. No point to add that option if you can’t actually fulfill the request and tell me the minute I get there that there is no courtesy vehicle. Very unprofessional. I could have made certain arrangements beforehand had I known. Have had nothing but bad experiences with Ford.\n",
      "- Key topics:[Service Cost, Facilities]\n",
      "- Sentiment:Negative\n",
      "\n"
     ]
    },
    {
     "name": "stderr",
     "output_type": "stream",
     "text": [
      "Processing Reviews:   2%|▍                    | 26/1181 [00:53<22:25,  1.16s/it]"
     ]
    },
    {
     "name": "stdout",
     "output_type": "stream",
     "text": [
      "Raw LLM Output for review: I was help by Service Advisor Juan Toro. His team assisted me with a Battery change to my 2018 Ford Edge. He explained what was needed. In 1 hour service was rendered. Great Job Juan....B. Francis\n",
      "- Key topics:[Staff,Service Time]\n",
      "- Sentiment:Positive\n",
      "\n"
     ]
    },
    {
     "name": "stderr",
     "output_type": "stream",
     "text": [
      "Processing Reviews:   2%|▍                    | 27/1181 [00:53<18:58,  1.01it/s]"
     ]
    },
    {
     "name": "stdout",
     "output_type": "stream",
     "text": [
      "Raw LLM Output for review: My experience at this service center is ALWAYS great. Debbie is excellent at her job, she is very attentive and caring about my concerns. I will always come here for my vehicle maintenance.\n",
      "- Key topics:[Staff]\n",
      "- Sentiment:[Positive]\n",
      "\n"
     ]
    },
    {
     "name": "stderr",
     "output_type": "stream",
     "text": [
      "Processing Reviews:   2%|▍                    | 28/1181 [00:54<18:32,  1.04it/s]"
     ]
    },
    {
     "name": "stdout",
     "output_type": "stream",
     "text": [
      "Raw LLM Output for review: Made an appointment in May for a possible transmission problem. Dropped my car off and for 3 days nobody even looked at it forget about fixing it. I had to pick the car up because I needed it for work. Made the mistake of making another appointment at this place but this time I called & explained to them the problem and to please give me an appointment when a mechanic would be available to look at the car. When I showed up to that appointment I was told no mechanic would be able to look at the car for at least 3 days & possibly longer. Just turned the car around & left. Don't use this place.\n",
      "- Key topics:[Service Time, Facilities]\n",
      "- Sentiment:[Negative]\n",
      "\n",
      "Raw LLM Output for review: Took my car in for a recall. As they worked on the car I chatted with the managers. Very friendly and personable. That is until the work was done. When they gave me back my car I noticed a slew of dashboard warning lights that weren't on before. I brought it to the manager's attention and he immediately became very defensive. \"That wasn't us. We only worked on the recall.\" I told him I wasn't accusing, I just wanted to know what all the lights meant. He told me he could check, but for a fee. I said \"no, thank you\" and left for my local repair guy. Two minutes later Ford calls me back. Apparently, the service tech forgot to reattach a cable. I brought it back, the tech guy apologized profusely, popped the hood and reconnected the wire in two seconds. Problem solved.\n",
      "\n",
      "I give props to the tech guy for admitting his mistake and rectifying the situation instead of becoming all defensive and trying to nickel-and-dime a customer.\n",
      "- Key topics:[Recall,Staff]\n",
      "- Sentiment:[Positive]\n",
      "\n"
     ]
    },
    {
     "name": "stderr",
     "output_type": "stream",
     "text": [
      "Processing Reviews:   3%|▌                    | 30/1181 [00:56<20:50,  1.09s/it]"
     ]
    },
    {
     "name": "stdout",
     "output_type": "stream",
     "text": [
      "Raw LLM Output for review: Went to schedule a airbag recall and software update, I was so surprised and happy when the service advisor told me that someone will call me to schedule appointment to come to my home to perform this service. Great\n",
      "- Key topics:[Service Cost, Facilities]\n",
      "- Sentiment:Positive\n",
      "\n"
     ]
    },
    {
     "name": "stderr",
     "output_type": "stream",
     "text": [
      "Processing Reviews:   3%|▌                    | 31/1181 [00:57<17:21,  1.10it/s]"
     ]
    },
    {
     "name": "stdout",
     "output_type": "stream",
     "text": [
      "Raw LLM Output for review: Everyone is rude I’ve been here multiple times every time I’m here for an hour just waiting to talk to someone but there is plenty of time for the employees to mess around with each other I’ll never being coming back here I’ll spend the extra time in my car driving to Long Island also the service center drove my car around for an extra 20 miles\n",
      "- Key topics:[Staff,Service Time]\n",
      "- Sentiment:Negative\n",
      "\n"
     ]
    },
    {
     "name": "stderr",
     "output_type": "stream",
     "text": [
      "Processing Reviews:   3%|▌                    | 32/1181 [00:59<23:30,  1.23s/it]"
     ]
    },
    {
     "name": "stdout",
     "output_type": "stream",
     "text": [
      "Raw LLM Output for review: They should call this place Ford Lincoln of never picking up your call or calling you back.\n",
      "\n",
      "I been calling everyday for the past week and a half to ask about the status of my car. All I get is the tech is away from the desk, the tech is out to lunch, the tech will call you back, and that’s if they don’t forward you to voicemail.\n",
      "\n",
      "When I asked to speak to a supervisor or manager about the situation……. He’s out as well……\n",
      "Well you about to be out of a customer too.\n",
      "- Key topics:[Staff,Service Time]\n",
      "- Sentiment:Negative\n",
      "\n",
      "Raw LLM Output for review: They worst place ever. Everybody there has an attitude. I  took my car a few times there and every time they keep giving me excuses. They are super slow and I regret buying a ford car. Worst car service I ever got in my entire life. My car been sitting there for 2 days with out doing a thing to it. I’m losing money that way Staff and manager need anger problem Managment. Specially they white person who is at the front. He one of they mangers there.\n",
      "- Key topics:[Staff,Service Time]\n",
      "- Sentiment:[Negative]\n",
      "\n"
     ]
    },
    {
     "name": "stderr",
     "output_type": "stream",
     "text": [
      "Processing Reviews:   3%|▌                    | 35/1181 [01:03<22:39,  1.19s/it]"
     ]
    },
    {
     "name": "stdout",
     "output_type": "stream",
     "text": [
      "Raw LLM Output for review: I went in for recall work on door handles on my SUV. Appointment was made after I verified they had the parts. At appointment they said parts were not in stock and kept my car for 3 days. Recall work was performed. HERE IS THE PART YOU SHOULD READ CAREFULLY: Upon pick up Juan the service technician had a list of unnecessary repairs suggested for my perfect running truck - I had it fully serviced just 2 days before by my mechanic of 16 years. As soon as I picked it up it had a rough idle. I had to leave for an appointment and continued to test drive it. Check engine light came on now and rough idle got worse. Went to my honest mechanic the next day and he found the CLAMPED air intake had been pried off and clip broken in an obvious attempt sabotage the engine running right and trip multiple sensors. My engine was TAMPERED with in order to drum up work. My mechanic said it was impossible that it came off by itself or was accidental. My call to service the department and Juan was never returned after I fully explained what happened. NEVER will do business with this place. Get yourself an honest mechanic and don't trust this place even for recall work. NEVER AGAIN.\n",
      "- Key topics:[Door, Recall,Service Quality]\n",
      "- Sentiment:[Negative]\n",
      "\n",
      "Raw LLM Output for review: I use this shop for my Lincoln MKC service.  Up until now it’s been great.  This last service left me a bit concerned- my car came back looking good as always however, as was washing and detailing my car this past weekend I noticed one of my front wheels was missing a lug nut - they did a tire rotation as part of the service so I decided to check all of my wheels only to find that on each wheel two lug nuts were not tightened and only finger tight.  I’ve been driving daily for two weeks now without a clue.  I replaced the lug nut and rechecked all the wheels.  This is totally unacceptable.\n",
      "- Key topics:[Wheel/Tires, Service Quality]\n",
      "- Sentiment:Negative\n",
      "\n",
      "Raw LLM Output for review: I don’t understand how this is possible when you come to the dealer service, leave the car for repairs and they tell you that they don’t have a replacement car so you have to walk all the time, that’s how to understand it, I think it’s wrong, you pay money for a warranty for everything else for service and when you arrive, bring your car for repairs, they say sorry, we don’t have a car for you, you have to walk, but I think this is complete nonsense, it’s wrong to just do that to your clients\n",
      "- Key topics:[Staff, Service Quality]\n",
      "- Sentiment:Negative\n",
      "\n"
     ]
    },
    {
     "name": "stderr",
     "output_type": "stream",
     "text": [
      "Processing Reviews:   3%|▋                    | 36/1181 [01:06<28:06,  1.47s/it]"
     ]
    },
    {
     "name": "stdout",
     "output_type": "stream",
     "text": [
      "Raw LLM Output for review: This is the most awful service center I ever used. Ever since I bought a preowned vehicle from them it has been haunting my life. After months of buying the car I had to bring it in for a recall. After the recall I can tell it wasn’t driving the same. Made a grinding sound in the back axel that I made them aware of and had them check multiple times. They assured me over and over again there was nothing wrong... fast forward about a year later I bring it in because my mechanic told me the differential is messed up and that my warranty should cover it. I called and tried to set up a time to bring it in. The receptionist told me it’s not covered insisting that I only had a 30k warranty without even looking up my information. I remained persistent and finally she looked it up to tell me I do have a 60k warranty on the power train. I set up the appointment (which was weeks from my call date) and after traveling over an hour away just to find out that the warranty ended literally 5 days ago. I didn’t even know the date the warranty ended because I was not the first owner. But I can’t help but think this was the same grinding sound they told me a year ago was nothing and also can’t help but think they purposely set my appointment date after the warranty ended. I don’t care if they offer me a free car I will never do business with them and I’m seriously contemplating on calling the Better Business Bureau and my local news network to let them know the kind of BS that’s going on in that place. I work very hard and all of this could have been resolved with adequate service.\n",
      "- Key topics:[Service Quality, Recall, Facilities]\n",
      "- Sentiment:[Negative]\n",
      "\n",
      "Raw LLM Output for review: Had an awesome experience at this facility. I've been coming here for years but this was my first time in the renovated faculty and it is GORGEOUS! Got in and out quickly. Service was awesome and my agent (Henry) was particularly efficient and helpful. Recommend anyone who has a Ford or Lincoln to at the very least check it out.\n",
      "- Key topics:[Facilities,Service Time,Staff]\n",
      "- Sentiment:Positive\n",
      "\n",
      "Raw LLM Output for review: Steer clear of this shady, sleazy, and rude service center. I drove the car in for a recall and they brought it back out completely undriveable, asking me to pay for a lot of expensive parts to repair it. I refused of course and had the car towed to an honest mechanic who said that all of the expensive parts I was supposed to replace were fine. Then there was the recall which at first was supposed to take a couple of hours but ended up taking a few months and they didn't even replace everything from the recall. The person I was in contact with quit in that time and nobody else from the service center would return my calls. The secretary I did speak with was extremely rude and was sluring her words like she was drunk. The part they did recall was done in a shoddy manner and it looks like someone took a crowbar to my dashboard. Take your car anywhere else but here.\n",
      "- Key topics:[Service Quality, Facilities ,Staff]\n",
      "- Sentiment:[Negative]\n",
      "\n"
     ]
    },
    {
     "name": "stderr",
     "output_type": "stream",
     "text": [
      "Processing Reviews:   3%|▋                    | 38/1181 [01:11<35:57,  1.89s/it]"
     ]
    },
    {
     "name": "stdout",
     "output_type": "stream",
     "text": [
      "Raw LLM Output for review: Worst customer service ever. Took my f150 for a recall. From the start she was so negative about the issue told me will take months to fix and that I would have to leave truck there. She is not even a technician and is giving diagnostic before even inspecting the car. She even told me that they didn’t even have a a car to lend me while they fix it. I was in disbelief because on what she was telling me without even inspecting the car. I decide to not leave my truck there after that . Her name is Debbie,  I suggest taking your Ford to a better service department.\n",
      "- Key topics:[Staff, Recall,Service Time,Service Diagnostics]\n",
      "- Sentiment: Negative\n",
      "\n"
     ]
    },
    {
     "name": "stderr",
     "output_type": "stream",
     "text": [
      "Processing Reviews:   3%|▋                    | 41/1181 [01:13<26:03,  1.37s/it]"
     ]
    },
    {
     "name": "stdout",
     "output_type": "stream",
     "text": [
      "Raw LLM Output for review: Absolutely just the WORST! Brought my car into their service center based on convenience to commuter transportation on Feb. 26th. I requested a loaner vehicle during my appointment setting which at the time of drop off was not available, but that was the least of my problems. Kevin, my car manager, was provided with a full diagnostics with parts needed from a previous Ford servicing center whom I trusted as well as with my extended warranty information. After following up with the service center on multiple occasions, I was told after a TWO WEEK waiting period that my warranty company would need to send an inspector. After contacting my warranty company, I was told by an extremely versed mechanic that the managers at the servicing center were very incompetent, that they only needed a part that cost less than my $250 deductible and only 30 minutes to install. They recommended bringing my car elsewhere for service. Ford Lincoln advised that they already ordered the part and that within just a few days my car would be ready to pick up. A week passes and still my car is not fixed with no communication from them. The part ordered did not work and now we are at square one. Kevin happens to be out of office on the day I'm promised the car would be ready. Livid at this point, I speak with the manager of the servicing center to have my vehicle ready for pickup regardless of it being fully repaired. The manager attempts to resolve the situation by looking into my files and reaching out to the warranty company yet again regarding the new part requested. Again, the (same) part is less than my deductible. Again, the part does not work. The manager than finally confirmed that the part needed was what was on the previous service center's diagnostic which costs more than $1k to repair (part/ service). By now I've wasted a month waiting for a proper diagnostic and repair. I requested to have my vehicle available to pickup immediately! Upon arrival, I am asked to PAY their diagnostic fee and only after threatening to get a lawyer involved did they waive it. What a deplorable and horrible experience for a FORD dealership. Waiting a month for proper diagnostic is unacceptable. Unless you truly have time (and money) to waste, I would suggest bringing your car elsewhere!\n",
      "- Key topics:[Staff, Service Quality,Service Cost, Service Diagnostics]\n",
      "- Sentiment:[Negative]\n",
      "\n"
     ]
    },
    {
     "name": "stderr",
     "output_type": "stream",
     "text": [
      "Processing Reviews:   4%|▋                    | 42/1181 [01:15<26:32,  1.40s/it]"
     ]
    },
    {
     "name": "stdout",
     "output_type": "stream",
     "text": [
      "Raw LLM Output for review: On my way home the check engine lite comes on.  I called but they were already closed for the day on Saturday.  I chatted with someone online from their website who assured me someone would call to address the problem.  10 days later and still no call so I call and explain but they refuse to accommodate an expedited appointment.\n",
      "- Key topics:[Service Time,Staff]\n",
      "- Sentiment:Negative\n",
      "\n"
     ]
    },
    {
     "name": "stderr",
     "output_type": "stream",
     "text": [
      "Processing Reviews:   4%|▊                    | 44/1181 [01:16<21:21,  1.13s/it]"
     ]
    },
    {
     "name": "stdout",
     "output_type": "stream",
     "text": [
      "Raw LLM Output for review: I got shocks from them and after some time it  start leaking, they have fake duplicate stuff i spent $1000 on this shock and it was all fake waste of my time and money i changed it multiple times and still same leakage problem. They kept exchanging the shocks every week with me and still same leakage problem. They did not even refund my money. Very bad experience. I DO NOT recommend this store. Ford should get these guys out of business. Stealing ur money...\n",
      "- Key topics:[Product Quality,Staff]\n",
      "- Sentiment:[Negative]\n",
      "\n",
      "Raw LLM Output for review: Very unprofessional and dishonest.\n",
      "\n",
      "First time I was there, they told me that my belt needed to be changed, I insisted that they go back and checked considering I just bought a belt from them and changed it myself…lo and behold they came saying it was a mistake…had the pleasure of dealing with Juan Toro, 2nd visit same person, after waiting an hour and 30 mins pass appt time and decided to ask about why have an appointment  if my car just sits there all that time without anyone working on it, I was told that I always have issues and maybe I shouldn’t come back….I initially thought that they made a mistake when trying to upsell me service and give another chance but judging from this interaction it seems to be intentional\n",
      "- Key topics:[Staff,Product Quality]\n",
      "- Sentiment: [Negative]\n",
      "\n"
     ]
    },
    {
     "name": "stderr",
     "output_type": "stream",
     "text": [
      "Processing Reviews:   4%|▊                    | 45/1181 [01:18<25:16,  1.34s/it]"
     ]
    },
    {
     "name": "stdout",
     "output_type": "stream",
     "text": [
      "Raw LLM Output for review: I took my car in for service, the car was still under warranty. Ron my service adviser was great! He keep me updated with what was happening with car and called when the work was completed. Also the car was ready sooner than expected. Great service! You wont be disappointed taking your vehicle to this service center.Thanks Again!\n",
      "- Key topics:[Staff,Service Time]\n",
      "- Sentiment:Positive\n",
      "\n",
      "Raw LLM Output for review: The service agents here are attentive to your concerns and treat you like family. I haven’t experienced service quite like this at any other service center (Ford or otherwise).\n",
      "- Key topics:[Staff, Facilities]\n",
      "- Sentiment:Positive\n",
      "\n"
     ]
    },
    {
     "name": "stderr",
     "output_type": "stream",
     "text": [
      "Processing Reviews:   4%|▊                    | 46/1181 [01:24<47:02,  2.49s/it]"
     ]
    },
    {
     "name": "stdout",
     "output_type": "stream",
     "text": [
      "Raw LLM Output for review: I brought my 2012 Ford Fiesta for a door latch recall and first thing the guy told me was I needed a front wheel alignment I didn’t know any better and said sure whatever  turned out my car never needed it.  Then they came back an hour later and tell me I got a whole list of things I gotta fix. First thing on that list was a oil and filter change as soon as I saw that I knew I was being played because the week before I brought my car to them I had a oil change and filter so now I know the rest of the issues on that paper was probably all a lie and just trying to get me to spend all this money that I don’t  have to spend\n",
      "- Key topics:[Service Cost, Facilities, Staff]\n",
      "- Sentiment:[Negative]\n",
      "\n",
      "Raw LLM Output for review: This place give the worst service, they don't care about the costumers, they have my car parking there for two days when i went there with same day appointment/service, at the end they give me the car back with no service at all. Be aware!! if you have the chance just deal with somebody else.\n",
      "- Key topics:[Service Quality, Facilities]\n",
      "- Sentiment:Negative\n",
      "\n"
     ]
    },
    {
     "name": "stderr",
     "output_type": "stream",
     "text": [
      "Processing Reviews:   4%|▊                  | 49/1181 [01:37<1:06:40,  3.53s/it]"
     ]
    },
    {
     "name": "stdout",
     "output_type": "stream",
     "text": [
      "Raw LLM Output for review: I came in for a recall, Front rotors and brake pads ($$$).Even thought everything was installed fine, they manage to forget to place a Caliper brake clip one of my brake pads. How to do you forget that??? Isn't that an important piece??  I only found out when I went to Mavis to get tires and the mechanic informed me (Thank god i went for tires). When i called Customer service, they  failed to address the issue, and fit me into their schedule. The girl I was speaking with was questioning me as if she was the mechanic and I didn't know what I was talking about. That's not good customer service.  Now I have to wait for a piece that should have been placed on the day of service. Not happy...\n",
      "- Key topics:[Recall, Wheel/Tires]\n",
      "- Sentiment:[Negative]\n",
      "\n"
     ]
    },
    {
     "name": "stderr",
     "output_type": "stream",
     "text": [
      "Processing Reviews:   4%|▊                  | 50/1181 [01:41<1:05:27,  3.47s/it]"
     ]
    },
    {
     "name": "stdout",
     "output_type": "stream",
     "text": [
      "Raw LLM Output for review: I had a great experience  at this Ford service center. The people were great and the service was great. Debby was excellent  and helped me . She has a great attitude  also.\n",
      "- Key topics:[Staff]\n",
      "- Sentiment:Positive\n",
      "\n",
      "Raw LLM Output for review: Most uncodified people work here, and doesn’t know anything.\n",
      "- Key topics:Staff\n",
      "- Sentiment:Negative\n",
      "\n"
     ]
    },
    {
     "name": "stderr",
     "output_type": "stream",
     "text": [
      "Processing Reviews:   4%|▊                  | 52/1181 [01:51<1:18:54,  4.19s/it]"
     ]
    },
    {
     "name": "stdout",
     "output_type": "stream",
     "text": [
      "Raw LLM Output for review: I don’t recommend anyone to use this place. I brought my truck here for them to check why my engine light keeps coming on and my truck shakes while idling, driving. I also asked for an oil change. When I got my truck back the oil was the exact same as I dropped off, yet the mechanic was paid for it. The worst part is that they said my engine was too big for my truck that is why my truck shakes. Smh preposterous reason.....not to mention my engine light came back on same day I picked up from them. Employees don’t want to work but get aid for doing nothing to your vehicle. Disappointing I had to my vehicle somewhere else and they performed a diagnostic test and found the issue with my truck.\n",
      "- Key topics:[Product Quality,Service Cost]\n",
      "- Sentiment:Negative\n",
      "\n"
     ]
    },
    {
     "name": "stderr",
     "output_type": "stream",
     "text": [
      "Processing Reviews:   4%|▊                  | 53/1181 [01:55<1:16:42,  4.08s/it]"
     ]
    },
    {
     "name": "stdout",
     "output_type": "stream",
     "text": [
      "Raw LLM Output for review: Went to this Ford service for my recalls. I only wanted to do one recall for now which is the gas tank deformation. Car is very unsafe to drive. The manager told me they can’t take me in or write me up. I was willing to leave my car but still forcing me to leave that I can’t not do that. Again the car is not safe to drive. And I towed the car there by the way.\n",
      "- Key topics:[Recall,Wheel/Tires]\n",
      "- Sentiment:Negative\n",
      "\n"
     ]
    },
    {
     "name": "stderr",
     "output_type": "stream",
     "text": [
      "Processing Reviews:   5%|▊                  | 54/1181 [01:58<1:12:16,  3.85s/it]"
     ]
    },
    {
     "name": "stdout",
     "output_type": "stream",
     "text": [
      "Raw LLM Output for review: This place sucks. Brought my brand new 2016 transit 3 times for same problem.  First the fan would click on  and stay on even at highway speed's. It never shut off even though the car is not overheating. I brought it in and he change the sensor. This summer same thing happen then went on and stayed on. This time the engine conked out on me and said engine fault. This is very dangerous because it can cause an accident or even death. I brought it in and the guy change the air intake. Still  same problem in the summertime the fan clicks on stays on will not shut off I am not going to wait until the engine conks out on me again so I made an appointment for today which I made online and said it was available. Unfortunately I'm here in the shop is closed they need to redo their website they are wasting peoples precious time when I have an appointment at 8 AM but the shop isn't even open.  This is my third time bring this car in for the same reason. It caused me so much downtime it's disgusting.  And the people are amongst the most rude I have ever meet. Don't bother saying good morning to these people you will not get a response. When I went to go pick up my car for the second time I asked the guy what was wrong with it he completely ignored me and started talking to another worker. Like I did not even exist. Terrible staff. Pretty sure I am going to have to use lemon law on this one.\n",
      "- Key topics:[Product Quality, Staff]\n",
      "- Sentiment: [Negative]\n",
      "\n"
     ]
    },
    {
     "name": "stderr",
     "output_type": "stream",
     "text": [
      "Processing Reviews:   5%|▉                    | 55/1181 [01:59<56:34,  3.01s/it]"
     ]
    },
    {
     "name": "stdout",
     "output_type": "stream",
     "text": [
      "Raw LLM Output for review: I took my car weeks ago for diagnostic for a serious issue. It was dangerous to drive with the issue I was having. I went early morning, took risk to drive there.\n",
      "\n",
      "I was first curtly told I did not have appt and that I had to come back some other day. Upon explaining the situation that car was dangerous to drive, the front desk man was still refusing.  I insisted just to take a quick look by a mechanic so at least I knew what to do, I  was then taken in.\n",
      "\n",
      "I waited in the visitor room patiently for four plus hours, the whole time without uttering a word. After four long hours, the guy who had checked me in, came by and reassured me that I was very close and next in queue.\n",
      "\n",
      "Another two plus hours, that is after a whopping six plus hours literally no exaggeration, the same man came in and without any sense of apology or shame, thuggishly telling me to take my car away as I could not be attended to.\n",
      "\n",
      "Seriously! Six plus painful hours in that little chamber, and then he had the audacity to tell me to take my car back without anything?\n",
      "\n",
      "I kindly objected and politely in one short sentence about my six plus hours wait. This thug was giving me look and attitude as if he were ready to gang attack me, and as if it were my fault waiting so patiently and without much complaint.\n",
      "\n",
      "It was literally six plus hours, no exaggeration, and on top of it I was dismissed without any service,  with no sense of some decency to show remorse.\n",
      "\n",
      "Any decent business would know to leave some room in the day for urgent base services such as my need,  without punishing me for a \"walk-in\" : This business utterly failed on many front.\n",
      "\n",
      "I did not visit to meet the thug nor to endure thuggish behavior.   It seriously looked like a den  of gangsta and mafia Lords.\n",
      "\n",
      "Without my asking for it nor did I care,  I was told the senior dealer person would call me about it, no one did.\n",
      "\n",
      "I explained above objectively without any whining on my part.... You decide!\n",
      "\n",
      "The one star rating is for the thug well deserved for not beating me up.\n",
      "- Key topics:[Service Quality, Staff , Service Time]\n",
      "- Sentiment:[Negative]\n",
      "\n"
     ]
    },
    {
     "name": "stderr",
     "output_type": "stream",
     "text": [
      "Processing Reviews:   5%|▉                    | 56/1181 [02:02<57:04,  3.04s/it]"
     ]
    },
    {
     "name": "stdout",
     "output_type": "stream",
     "text": [
      "Raw LLM Output for review: First time this morning 05mar19. Very friendly. Good service. Nice &clean\n",
      "- Key topics:Staff,Service Time,Facilities,Sentiment:[Positive]\n",
      "- Sentiment:[Positive]\n",
      "\n"
     ]
    },
    {
     "name": "stderr",
     "output_type": "stream",
     "text": [
      "Processing Reviews:   5%|█                    | 57/1181 [02:03<50:02,  2.67s/it]"
     ]
    },
    {
     "name": "stdout",
     "output_type": "stream",
     "text": [
      "Raw LLM Output for review: When I take my car to my mechanic for a tune up or inspection, I make an appointment a week in advance and on that day I am at the shop at 7am. I usually hear from them around 4pm with the results. This is how it works. I know that. However I needed a FORD mechanic to fix my sunroof so I made an appointment telling the receptionist of the specific problem. If I had known that FORD of QUEENS worked on a first come first served basis I would have brought my car in at 7am as well. But, since I had an 11am appointment that I made a week in advance I was surprised to be put at the end of the \"Walk In\" line and was told my car wouldn't even be looked at until 4pm at the earliest.  As a customer that respectfully made an appointment I was prepared to wait 2-3 hours. But to be told I should leave the premises because it would be 5 hours before my car was even looked at was frustrating. I wish they would have either respected my time as well and honored my appointment or be clear on the phone that their daily service is on a first come first serve basis.\n",
      "- Key topics:[Service Time,Staff]\n",
      "- Sentiment:Negative\n",
      "\n",
      "Raw LLM Output for review: Yvonne was a great help , went in to get a wheel alignment and was able to get a beautiful 2019 lincoln to use for work, until my car was ready , which is now my future car ! Had a great experience. The people that work here are very respectful and helpful. Thank you\n",
      "- Key topics:[Staff]\n",
      "- Sentiment:Positive\n",
      "\n"
     ]
    },
    {
     "name": "stderr",
     "output_type": "stream",
     "text": [
      "Processing Reviews:   5%|█                    | 58/1181 [02:06<49:37,  2.65s/it]"
     ]
    },
    {
     "name": "stdout",
     "output_type": "stream",
     "text": [
      "Raw LLM Output for review: Had to get oil change on transit van.  Spoke to Service Agent Henry about also getting tires.  He walked me through my options, and recommended the right tires.  He even drove to Long Island to pick up the tires so that I could have them the same day.  Henry made sure everything went smooth and I was on my way with new tires.\n",
      "- Key topics:[Service Cost, Staff]\n",
      "- Sentiment: [Positive]\n",
      "\n"
     ]
    },
    {
     "name": "stderr",
     "output_type": "stream",
     "text": [
      "Processing Reviews:   5%|█                    | 61/1181 [02:10<35:13,  1.89s/it]"
     ]
    },
    {
     "name": "stdout",
     "output_type": "stream",
     "text": [
      "Raw LLM Output for review: I had certified preowned drivetrain warranty back in December of 2018 and came in with a water pump failure which they were unable to find, but the issue was still there. In next couple months the problem got worse and any person with little knowledge about cars can tell the leak is coming from inside the engine. So when I came back to this service center 6 months later and told them about the problem I got charged 2300$!!!  Of course I don’t have the warranty anymore and they didn’t honor or took responsibility for not able to take care of the problem while I had warranty. Very good business ethics!!! Bravo 👏, but how long??\n",
      "- Key topics:[Product Quality, Service Cost]\n",
      "- Sentiment: [Negative]\n",
      "\n",
      "Raw LLM Output for review: I spoke with Juan that I had a problem with my  Collision Assistance Sensor..  they charge 150 dollars   to diagnose the problem   and they  told me   that something was broken inside that they need  450 dollars to remove the  bumper and that will take 3 hours  ...  and see the problem ...... what a ripp off ... I took  to a mechanic  on liberty Avenue.  They only look at my car   and they saw that my sensor  was not clip In. they took  10 minutes to fix the problem  they didn't even remove the my  bumper  they only remove the grill in less 1 minute...... This Ford of Queens service try too ripp people off ...  what a shame......... I will give them ...... 0 STAR... ...\n",
      "- Key topics:[Service Cost,Product Quality]\n",
      "- Sentiment:Negative\n",
      "\n"
     ]
    },
    {
     "name": "stderr",
     "output_type": "stream",
     "text": [
      "Processing Reviews:   5%|█                    | 62/1181 [02:11<30:51,  1.65s/it]"
     ]
    },
    {
     "name": "stdout",
     "output_type": "stream",
     "text": [
      "Raw LLM Output for review: Took my 2014 Ford Mustang to get serviced here two days ago and the customer service as well as the actual service was GREAT. The guy that helped me was Ron. I didn't have to wait long and was given customer education on my vehicles repair and prevention. Needless to say the service was great. Ask for Ron.\n",
      "- Key topics:[Staff,Service Time]\n",
      "- Sentiment:[Positive]\n",
      "\n"
     ]
    },
    {
     "name": "stderr",
     "output_type": "stream",
     "text": [
      "Processing Reviews:   5%|█                    | 63/1181 [02:13<28:08,  1.51s/it]"
     ]
    },
    {
     "name": "stdout",
     "output_type": "stream",
     "text": [
      "Raw LLM Output for review: My wife recently took her 2008 Ford edge to repair a water leak. They stated that the drains were cleared and an apparent \"crack\" in the door harness was patched up. She was told the leak was no longer present and if in the off chance there was still a leak they would replace the entire door harness.\n",
      "\n",
      "2 days and $400 dollars later it rained and again, the floor was completely flooded AGAIN. She brought the car back again and instead of replacing the harness as per what was suggested, they decided to fill the cracks that they found with silicone.\n",
      "\n",
      "The very next day it rained.... Her car is completely flooded if not WORSE than its ever been. We've had to wait from 02/28/2019 all the way to 03/13/2019 to even be allowed to bring the vehicle in for repairs......\n",
      "\n",
      "To be continued....\n",
      "\n",
      "03/13/2019\n",
      "They told my wife the vehicles previous owner may have had an accident. THATS WHY WE TOOK THE CAR TO GET FIXED IN THE FIRST PLACE! Now they’ve decided to send the vehicle to a body shop and now charge us more money to fix it.... What happened to the guarantee?\n",
      "\n",
      "3/19/2019\n",
      "We were supposed to receive an update on the vehicle Saturday 3/16/2019. Nothing. Tomorrow will be one week since we heard any news on the vehicle......\n",
      "\n",
      "3/20/2019\n",
      "Wife was told the car is being taken to a water specialist to further assess the issue.\n",
      "- Key topics:[Service Quality, Facilities]\n",
      "- Sentiment: [Negative]\n",
      "\n"
     ]
    },
    {
     "name": "stderr",
     "output_type": "stream",
     "text": [
      "Processing Reviews:   5%|█▏                   | 64/1181 [02:15<30:41,  1.65s/it]"
     ]
    },
    {
     "name": "stdout",
     "output_type": "stream",
     "text": [
      "Raw LLM Output for review: Ford of Queens took care of the issue I had with my Ford Transit and made sure everything was perfect. I will definetly be going to them again for all future maintenance and repairs!\n",
      "- Key topics:[Service Cost, Staff]\n",
      "- Sentiment:Positive\n",
      "\n",
      "Raw LLM Output for review: Always have a great experience here. The office staff is always friendly. The mechanics have always fixed the issues I bring the tuck in for. Thet also never try to upsell repairs that aren't needed. If your Ford needs fixing, I highly recommend this service center.\n",
      "- Key topics:[Staff,Product Availability]\n",
      "- Sentiment:Positive\n",
      "\n"
     ]
    },
    {
     "name": "stderr",
     "output_type": "stream",
     "text": [
      "Processing Reviews:   6%|█▏                   | 66/1181 [02:16<21:13,  1.14s/it]"
     ]
    },
    {
     "name": "stdout",
     "output_type": "stream",
     "text": [
      "Raw LLM Output for review: Yvonne is the only reason I would humor coming back to this business. The workers are rude and dismissive. Idk if she sees me about to be rude back, but Ms. Yvonne always steps in and handles all of my concerns despite her already being busy with something else.\n",
      "- Key topics:[Staff,Product Quality]\n",
      "- Sentiment:Negative\n",
      "\n"
     ]
    },
    {
     "name": "stderr",
     "output_type": "stream",
     "text": [
      "Processing Reviews:   6%|█▏                   | 67/1181 [02:17<20:42,  1.12s/it]"
     ]
    },
    {
     "name": "stdout",
     "output_type": "stream",
     "text": [
      "Raw LLM Output for review: Had an amazing experience, 5 star service center. Customer service is top notch and Anisa the service advisor was the star of the show.  If you have a Ford and live anywhere in the tri state area it is definitely worth the trip to Queens like I did.\n",
      "- Key topics:[Staff,Service Quality]\n",
      "- Sentiment:Positive\n",
      "\n",
      "Raw LLM Output for review: I've had bad experiences with Ford in Brooklyn. I transfer to Queens and definitely feel the difference.\n",
      "- Key topics:[Facilities,Staff]\n",
      "- Sentiment:[Negative]\n",
      "\n",
      "Raw LLM Output for review: The service was excellent and Mr. Henry was very attentive to me and advised that my car need some work besides my oil change and he arrange me a car to use while they were working on my car. And the car that he got me to use was excellent.  Love the service on this place.\n",
      "- Key topics:[Staff, Service Quality]\n",
      "- Sentiment:Positive\n",
      "\n"
     ]
    },
    {
     "name": "stderr",
     "output_type": "stream",
     "text": [
      "Processing Reviews:   6%|█▏                   | 68/1181 [02:20<29:52,  1.61s/it]"
     ]
    },
    {
     "name": "stdout",
     "output_type": "stream",
     "text": [
      "Raw LLM Output for review: Over charging come in with a recall last wenday have not gotten my car back since so far looking at close to a 3 thousand dollars of something I have no idea of which could have caused any condition of the car anyway. It is a shame that big companies take advantage of hard working families at a time like this. When will greed end.?\n",
      "- Key topics:[Recall,Product Availability,Not Classified]\n",
      "- Sentiment:[Negative]\n",
      "\n"
     ]
    },
    {
     "name": "stderr",
     "output_type": "stream",
     "text": [
      "Processing Reviews:   6%|█▎                   | 71/1181 [02:20<16:22,  1.13it/s]"
     ]
    },
    {
     "name": "stdout",
     "output_type": "stream",
     "text": [
      "Raw LLM Output for review: The place has been newly renovated and looks beautiful. So cozy and civilized now compared to the old place.  George and another gentlemen in the parts department were very helpful in making me a new key and over in service Juan and Anthony were awesome at getting me right in to program the chip in the new key. Thank you!\n",
      "- Key topics:[Facilities,Staff]\n",
      "- Sentiment:Positive\n",
      "\n"
     ]
    },
    {
     "name": "stderr",
     "output_type": "stream",
     "text": [
      "Processing Reviews:   6%|█▎                   | 72/1181 [02:23<21:10,  1.15s/it]"
     ]
    },
    {
     "name": "stdout",
     "output_type": "stream",
     "text": [
      "Raw LLM Output for review: The service girl was amazing and this dealership will get your work done ✔..there are very welcoming..huge parking  and huge office and waiting area . All the workers here are very helpful..love the roll up entrance..!!!ty for the great fast service 👍 I highly recommend!!! …\n",
      "- Key topics:[Staff,Facilities]\n",
      "- Sentiment:Positive\n",
      "\n"
     ]
    },
    {
     "name": "stderr",
     "output_type": "stream",
     "text": [
      "Processing Reviews:   6%|█▎                   | 73/1181 [02:23<17:43,  1.04it/s]"
     ]
    },
    {
     "name": "stdout",
     "output_type": "stream",
     "text": [
      "Raw LLM Output for review: Difficult to getting appointment. For simple work you have to spend home day. I had problem with the battery 2016 ford explorer it's a new car but you have to pay diagnosis charge like one battery price than you have to pay battery price installation charge lot of expances\n",
      "- Key topics:[Service Cost, Facilities]\n",
      "- Sentiment: Negative\n",
      "\n"
     ]
    },
    {
     "name": "stderr",
     "output_type": "stream",
     "text": [
      "Processing Reviews:   6%|█▎                   | 74/1181 [02:24<16:25,  1.12it/s]"
     ]
    },
    {
     "name": "stdout",
     "output_type": "stream",
     "text": [
      "Raw LLM Output for review: I had my F 150 serviced last week.  As always, it was done quickly and thoroughly.  My advisor, Henry, has taken care of my cars for many years.  I highly recommend this dealership for sales and service.\n",
      "- Key topics:[Staff,Service Time]\n",
      "- Sentiment:Positive\n",
      "\n"
     ]
    },
    {
     "name": "stderr",
     "output_type": "stream",
     "text": [
      "Processing Reviews:   6%|█▎                   | 75/1181 [02:24<15:21,  1.20it/s]"
     ]
    },
    {
     "name": "stdout",
     "output_type": "stream",
     "text": [
      "Raw LLM Output for review: Horrible Customer Service , they fixed my transmission i paid 5300 , it broke within warranty period , they refuse to fix it . Assistant service manager Juan has an attitude problem and refuses to pass the phone to his supervisor. STAY AWAY ! Shop from hell\n",
      "- Key topics:[Staff,Product Quality]\n",
      "- Sentiment: Negative\n",
      "\n"
     ]
    },
    {
     "name": "stderr",
     "output_type": "stream",
     "text": [
      "Processing Reviews:   6%|█▎                   | 76/1181 [02:26<20:54,  1.14s/it]"
     ]
    },
    {
     "name": "stdout",
     "output_type": "stream",
     "text": [
      "Raw LLM Output for review: I always have a great experience when I go to this service shop, but this time was a little different in a good way. The service consultant Henry Dominguez went above and beyond for me when I was having an issue with my warranty, and I am deeply appreciative and couldn't thank him enough.\n",
      "- Key topics:[Staff]\n",
      "- Sentiment:Positive\n",
      "\n"
     ]
    },
    {
     "name": "stderr",
     "output_type": "stream",
     "text": [
      "Processing Reviews:   7%|█▎                   | 77/1181 [02:26<16:40,  1.10it/s]"
     ]
    },
    {
     "name": "stdout",
     "output_type": "stream",
     "text": [
      "Raw LLM Output for review: Special thanks to Yvonne for going out of her way to ease my experience . Anisa was an absolute pleasure to work with ,and I look forward to meeting what I assume will be an awesome sales team when my lease is up in Feb. EXCELLENT CUSTOMER SERVICE !!!\n",
      "- Key topics:[Staff]\n",
      "- Sentiment:Positive\n",
      "\n",
      "Raw LLM Output for review: Very rude staff. Very disrespectful personnel. The guy taking my van from me threw the paper at me. His name is victor. The service writer didnt say a word to me. Didn't tell me what was wrong or how long it would take. Just replied to a text the next day and said \"its ready\"\n",
      "- Key topics:[Staff,Service Quality]\n",
      "- Sentiment:Negative\n",
      "\n"
     ]
    },
    {
     "name": "stderr",
     "output_type": "stream",
     "text": [
      "Processing Reviews:   7%|█▍                   | 78/1181 [02:28<21:17,  1.16s/it]"
     ]
    },
    {
     "name": "stdout",
     "output_type": "stream",
     "text": [
      "Raw LLM Output for review: After my transmission died I tried taking my car to Diblasi Ford, but they wouldn't take my car for 2 weeks! So I called here and they took my car in the next day. The service guys were amongst the nicest I've ever met. Found my permanent shop.\n",
      "- Key topics:[Service Time,Facilities,Staff]\n",
      "- Sentiment:[Positive]\n",
      "\n"
     ]
    },
    {
     "name": "stderr",
     "output_type": "stream",
     "text": [
      "Processing Reviews:   7%|█▍                   | 81/1181 [02:30<14:13,  1.29it/s]"
     ]
    },
    {
     "name": "stdout",
     "output_type": "stream",
     "text": [
      "Raw LLM Output for review: Clean waiting room.  Staff was professional and courteous.  Good location, nearby restaurants and public transportation if you need to leave your car for an extended period.\n",
      "- Key topics:[Facilities,Staff]\n",
      "- Sentiment:Neutral\n",
      "\n",
      "Raw LLM Output for review: their customer service is worst. been there couple time and always the same experience. you always have to call them for updates on your vehicle. Their employees in the office are the worst. you will be standing there and none will ask you if you need any help.\n",
      "- Key topics:[Staff, Facilities]\n",
      "- Sentiment: Negative\n",
      "\n"
     ]
    },
    {
     "name": "stderr",
     "output_type": "stream",
     "text": [
      "Processing Reviews:   7%|█▍                   | 82/1181 [02:31<17:24,  1.05it/s]"
     ]
    },
    {
     "name": "stdout",
     "output_type": "stream",
     "text": [
      "Raw LLM Output for review: Anthony team Yvonne,anissa,and Henry they do excellent job they are very courteous and efficient in expediting your service. When I go for my service on my mkx black label l get the red carpet service they are the best.\n",
      "- Key topics:[Staff]\n",
      "-Sentiment:Positive\n",
      "\n"
     ]
    },
    {
     "name": "stderr",
     "output_type": "stream",
     "text": [
      "Processing Reviews:   7%|█▍                   | 83/1181 [02:33<19:54,  1.09s/it]"
     ]
    },
    {
     "name": "stdout",
     "output_type": "stream",
     "text": [
      "Raw LLM Output for review: Two times having problems with this place worst service ever I wouldn’t take my vehicle here ever unless you want to have a heart attack and get out with an extremely headache. Service is terrible, people are rude, any question you ask the answer is I don’t know, the don’t care about your time in my opinion they should just close down this place.\n",
      "- Key topics:[Service Quality, Facilities]\n",
      "- Sentiment: [Negative]\n",
      "\n"
     ]
    },
    {
     "name": "stderr",
     "output_type": "stream",
     "text": [
      "Processing Reviews:   7%|█▍                   | 84/1181 [02:34<19:14,  1.05s/it]"
     ]
    },
    {
     "name": "stdout",
     "output_type": "stream",
     "text": [
      "Raw LLM Output for review: Great service!!! They help me understand the problem with my car and I got my car the very same day.. I want to also thank Ricard for being up front  and telling me the truth  about with my car problems and his  customer  service was outstanding.   Love you guys.. Thank you for all your help.\n",
      "- Key topics:[Staff,Service Time]\n",
      "- Sentiment:Positive\n",
      "\n",
      "Raw LLM Output for review: Worst service. Ever 1 month to fix a small issue. Alawys have attitude you make appointment for rental when you get there they said we don't have one if I bring in my SUV and request one I should get one their response we only have cars but yet wss told if a SUV comes back we will call you\n",
      "- Key topics:[Service Time, Service Quality]\n",
      "- Sentiment: Negative\n",
      "\n"
     ]
    },
    {
     "name": "stderr",
     "output_type": "stream",
     "text": [
      "Processing Reviews:   7%|█▌                   | 86/1181 [02:36<18:18,  1.00s/it]"
     ]
    },
    {
     "name": "stdout",
     "output_type": "stream",
     "text": [
      "Raw LLM Output for review: Watching paint dry or watching my grass grow better on the other side would have been quicker dont get me started too about the parking situation people parking cars on top of cars im still in awe on my door wasnt banged up in that colliers mansion parking lot i should have went to jiffy lube all i needed was just an oil change\n",
      "- Key topics:[Not Classified, Not Classified, Not Classified]\n",
      "- Sentiment:[Negative]\n",
      "\n"
     ]
    },
    {
     "name": "stderr",
     "output_type": "stream",
     "text": [
      "Processing Reviews:   7%|█▌                   | 87/1181 [02:36<15:12,  1.20it/s]"
     ]
    },
    {
     "name": "stdout",
     "output_type": "stream",
     "text": [
      "Raw LLM Output for review: I received excellent service from Anisa, Henry and the mechanic whose name I unfortunately didn't get. The service was fast, and Anisa provided me with regular updates. I was very happy with my service.\n",
      "- Key topics:[Staff,Service Time]\n",
      "- Sentiment:Positive\n",
      "\n"
     ]
    },
    {
     "name": "stderr",
     "output_type": "stream",
     "text": [
      "Processing Reviews:   7%|█▌                   | 88/1181 [02:37<15:58,  1.14it/s]"
     ]
    },
    {
     "name": "stdout",
     "output_type": "stream",
     "text": [
      "Raw LLM Output for review: Servicing my vehicle has never been easier! Anisa helped me with everything I needed, even my 100 questions now that is excellent service alongside her manager Yvonne who made my experience a breeze!!\n",
      "- Key topics:[Staff,Service Quality]\n",
      "- Sentiment:Positive\n",
      "Raw LLM Output for review: I had prefect service when I brought my car here. Very quick service too. My service advisor Henry is the guy to go to. He knows what he is doing. Great guy. Very happy with my service.\n",
      "- Key topics:[Staff,Service Time]\n",
      "- Sentiment:Positive\n",
      "\n",
      "\n"
     ]
    },
    {
     "name": "stderr",
     "output_type": "stream",
     "text": [
      "Processing Reviews:   8%|█▌                   | 90/1181 [02:39<17:21,  1.05it/s]"
     ]
    },
    {
     "name": "stdout",
     "output_type": "stream",
     "text": [
      "Raw LLM Output for review: When today to get my car service and it was worth  it. They treated me kind and the service on my ford was great. If you have a ford this is the place to go.\n",
      "- Key topics:[Service Quality,Staff]\n",
      "- Sentiment:[Positive]\n",
      "\n",
      "Raw LLM Output for review: Ford Lincoln of Queens never fails at providing awesome service! The entire team does an amazing job. I will definitely be back! Thank you Anisa and Yvonne :)\n",
      "Key topics:[Staff]\n",
      "-Sentiment: Positive\n",
      "\n"
     ]
    },
    {
     "name": "stderr",
     "output_type": "stream",
     "text": [
      "Processing Reviews:   8%|█▌                   | 91/1181 [02:39<14:23,  1.26it/s]"
     ]
    },
    {
     "name": "stdout",
     "output_type": "stream",
     "text": [
      "Raw LLM Output for review: I will never be going to this dealer for anything, I've had too many problems with them. From incorrectly servicing my vehicle, saying that the owners manual is wrong, and declining to take my car in. I will happily take my money elsewhere\n",
      "- Key topics:[Recall,Staff]\n",
      "- Sentiment:[Negative]\n",
      "\n"
     ]
    },
    {
     "name": "stderr",
     "output_type": "stream",
     "text": [
      "Processing Reviews:   8%|█▋                   | 93/1181 [02:41<13:23,  1.35it/s]"
     ]
    },
    {
     "name": "stdout",
     "output_type": "stream",
     "text": [
      "Raw LLM Output for review: They worst place you can go to. ANTHONY MEZZATESTA  Is one of they worst mangers. Unprofessional and has an attitude. He has my car there for 2 weeks and nothing had happened to it.\n",
      "- Key topics:[Staff, Product Quality]\n",
      "- Sentiment:Negative\n",
      "\n",
      "Raw LLM Output for review: Went in for service.  They explained I needed to leave my car.  I asked for a loaner vehicle, but they told me I had to reschedule my appointment for that.  They only time they had available was 10 days later.\n",
      "- Key topics:[Service Time]\n",
      "-Sentiment:Neutral\n",
      "\n",
      "Raw LLM Output for review: Henry my adviser is friendly and helpful willing to go the extra mile. I like bringing in the vehicle knowing it will be taken care of. Thank you Henry for a job well done.\n",
      "- Key topics:[Staff]\n",
      "- Sentiment:Positive\n",
      "\n",
      "Raw LLM Output for review: I came in for an oil change and inspection. I found the customer representative Anisa Mayers to be exceptional. Ms. Mayers was personable and kept me informed during the visit.\n",
      "- Key topics:[Staff]\n",
      "- Sentiment:Positive\n",
      "\n"
     ]
    },
    {
     "name": "stderr",
     "output_type": "stream",
     "text": [
      "Processing Reviews:   8%|█▋                   | 94/1181 [02:44<22:37,  1.25s/it]"
     ]
    },
    {
     "name": "stdout",
     "output_type": "stream",
     "text": [
      "Raw LLM Output for review: I see my rim is damaged because clearly someone didn't take off the tire properly. Very upset and will never go back ok to get my car serviced there !!!!!  I paid $700.00 for service now my 200.00 rim needs to be fixed. Careless!!!!!  So my bill is now 900.00. Thx Ford Lincoln!!!!!!\n",
      "- Key topics:[Wheel/Tires,Service Cost,Staff]\n",
      "- Sentiment:Negative\n",
      "\n"
     ]
    },
    {
     "name": "stderr",
     "output_type": "stream",
     "text": [
      "Processing Reviews:   8%|█▊                   | 99/1181 [02:46<13:03,  1.38it/s]"
     ]
    },
    {
     "name": "stdout",
     "output_type": "stream",
     "text": [
      "Raw LLM Output for review: They are so so so not professional at all,they took almost two months and not find  my car's problem,i drive to another repair shop they took 15minutes find the problem! Unbelievble, dont go there ,dont waste your money and time!\n",
      "- Key topics:[Service Time, Staff]\n",
      "- Sentiment:Negative\n",
      "\n",
      "Raw LLM Output for review: Biggest mistake that people buy ford my car got stop middle of the road and they don’t have any availability in a week to fixed my car this is insane\n",
      "- Key topics:[Service Availability,Product Quality]\n",
      "- Sentiment:Negative\n",
      "\n"
     ]
    },
    {
     "name": "stderr",
     "output_type": "stream",
     "text": [
      "Processing Reviews:   8%|█▋                  | 100/1181 [02:46<10:54,  1.65it/s]"
     ]
    },
    {
     "name": "stdout",
     "output_type": "stream",
     "text": [
      "Raw LLM Output for review: Customer service is amazing here, I come to this place for minor things I could do myself.  All the staff are super friendly  and would definitely tell others who own a Ford to get their services done here\n",
      "- Key topics:[Staff]\n",
      "- Sentiment:[Positive]\n",
      "\n"
     ]
    },
    {
     "name": "stderr",
     "output_type": "stream",
     "text": [
      "Processing Reviews:   9%|█▋                  | 101/1181 [02:47<10:31,  1.71it/s]"
     ]
    },
    {
     "name": "stdout",
     "output_type": "stream",
     "text": [
      "Raw LLM Output for review: I owned a 2017 Ford Mustang, they always try to take care of me. From the moment I’ll drive in, the staff care about you & your car not your pocket. You feel like family that moment you walk in.\n",
      "- Key topics:[Staff]\n",
      "- Sentiment:Positive\n",
      "\n"
     ]
    },
    {
     "name": "stderr",
     "output_type": "stream",
     "text": [
      "Processing Reviews:   9%|█▋                  | 102/1181 [02:49<17:35,  1.02it/s]"
     ]
    },
    {
     "name": "stdout",
     "output_type": "stream",
     "text": [
      "Raw LLM Output for review: As a new client, during the height of the current NYC health situation, Yvonne Brown and her dep't took excellent care of the issue facing my 2017 Lincoln MKZ. I look forward to working with her in the futuure\n",
      "- Key topics:[Staff, Facilities]\n",
      "- Sentiment:Positive\n",
      "\n",
      "Raw LLM Output for review: I’ve never experienced this level of service and attention. I dealt with Yvonne and was amazed by her professionalism & and her going out of the way to help.\n",
      "Highly Recommended!\n",
      "- Key topics:[Staff]\n",
      "- Sentiment:Positive\n",
      "\n",
      "Raw LLM Output for review: Be care full this people are big scammer advisor\n",
      "Didn’t want to help,mean and rude.\n",
      "- Key topics:[Staff]\n",
      "- Sentiment: [Negative]\n",
      "\n"
     ]
    },
    {
     "name": "stderr",
     "output_type": "stream",
     "text": [
      "Processing Reviews:   9%|█▊                  | 105/1181 [02:50<11:11,  1.60it/s]"
     ]
    },
    {
     "name": "stdout",
     "output_type": "stream",
     "text": [
      "Raw LLM Output for review: Excellent Customer Service and Prompt Service. I waited for State Inspection and service was fast even when they seems like having a lot of customers.\n",
      "- Key topics:[Staff,Service Time]\n",
      "- Sentiment:Positive\n",
      "\n",
      "Raw LLM Output for review: Excellent service, and wonderful service personnel.\n",
      "- Key topics:[Staff]\n",
      "- Sentiment:Positive\n",
      "\n"
     ]
    },
    {
     "name": "stderr",
     "output_type": "stream",
     "text": [
      "Processing Reviews:   9%|█▊                  | 106/1181 [02:52<16:59,  1.05it/s]"
     ]
    },
    {
     "name": "stdout",
     "output_type": "stream",
     "text": [
      "Raw LLM Output for review: I have a Ford truck and needed parts. The staff is always very friendly. They always have the parts that I need. If the is not in stock, they will either order it, or call nearby Ford dealers for the part. I love this place.\n",
      "- Key topics:[Staff,Product Availability]\n",
      "- Sentiment:Positive\n",
      "\n",
      "Raw LLM Output for review: Very bad service. . I went for my recall they kept my car for 3 days . they didn't fix it and waste my time . the manager has bad attitude also . I checked my carfax app that app showed me that my car has been fixed\n",
      "- Key topics:[Service Time, Service Quality]\n",
      "- Sentiment: Negative\n",
      "\n"
     ]
    },
    {
     "name": "stderr",
     "output_type": "stream",
     "text": [
      "Processing Reviews:   9%|█▊                  | 109/1181 [02:53<10:54,  1.64it/s]"
     ]
    },
    {
     "name": "stdout",
     "output_type": "stream",
     "text": [
      "Raw LLM Output for review: Try calling you number several time and it looks like Ford Lincoln is affiliate with 3rd party.  Where our call get redirected to somewhere else and they ask us to pay money with our credit card. It not a good reputation.\n",
      "- Key topics:[Not Classified,Product Availability]\n",
      "- Sentiment:Negative\n",
      "\n"
     ]
    },
    {
     "name": "stderr",
     "output_type": "stream",
     "text": [
      "Processing Reviews:   9%|█▊                  | 110/1181 [02:54<14:43,  1.21it/s]"
     ]
    },
    {
     "name": "stdout",
     "output_type": "stream",
     "text": [
      "Raw LLM Output for review: Waited 4 hours for an oil change. Unacceptable when I was the third car in.\n",
      "Disorganized\n",
      "- Key topics:[Service Time, Service Cost]\n",
      "- Sentiment: Negative\n",
      "\n"
     ]
    },
    {
     "name": "stderr",
     "output_type": "stream",
     "text": [
      "Processing Reviews:   9%|█▉                  | 111/1181 [02:55<12:47,  1.39it/s]"
     ]
    },
    {
     "name": "stdout",
     "output_type": "stream",
     "text": [
      "Raw LLM Output for review: Terrible service, very rude people working there. Never getting business, that's for sure!\n",
      "- Key topics:[Staff, Service Quality]\n",
      "- Sentiment: Negative\n",
      "\n"
     ]
    },
    {
     "name": "stderr",
     "output_type": "stream",
     "text": [
      "Processing Reviews:   9%|█▉                  | 112/1181 [02:55<11:15,  1.58it/s]"
     ]
    },
    {
     "name": "stdout",
     "output_type": "stream",
     "text": [
      "Raw LLM Output for review: The new look is amazing compared to the old. They are still slow, but the people are friendly and helpful. I will always go there for service and inspections.\n",
      "- Key topics:[Service Quality,S Staff]\n",
      "- Sentiment:[Positive]\n",
      "\n"
     ]
    },
    {
     "name": "stderr",
     "output_type": "stream",
     "text": [
      "Processing Reviews:  10%|█▉                  | 113/1181 [02:56<12:23,  1.44it/s]"
     ]
    },
    {
     "name": "stdout",
     "output_type": "stream",
     "text": [
      "Raw LLM Output for review: Called them to ask about a recall about my car . Got the only run around switching me too different departments . They even hung on me horrible customer service !!\n",
      "- Key topics:[Recall,Service Quality]\n",
      "- Sentiment:Negative\n",
      "\n"
     ]
    },
    {
     "name": "stderr",
     "output_type": "stream",
     "text": [
      "Processing Reviews:  10%|█▉                  | 114/1181 [02:58<16:46,  1.06it/s]"
     ]
    },
    {
     "name": "stdout",
     "output_type": "stream",
     "text": [
      "Raw LLM Output for review: I took my car  in for service the way Yvonne was taking care of the problem was unbelievable professional it's a great place to leave a car then if you want to get the job done by Yvonne\n",
      "- Key topics:[Staff]\n",
      "- Sentiment:Positive\n",
      "\n",
      "Raw LLM Output for review: I said that my car roof light was off, and he didn't fix it for me.  It is very unreasonable to ask me to pay 150 for diagnosis. Really bad\n",
      "Key topics:Service Cost,Product Quality\n",
      "- Sentiment:Negative\n",
      "\n"
     ]
    },
    {
     "name": "stderr",
     "output_type": "stream",
     "text": [
      "Processing Reviews:  10%|█▉                  | 115/1181 [02:59<17:22,  1.02it/s]"
     ]
    },
    {
     "name": "stdout",
     "output_type": "stream",
     "text": [
      "Raw LLM Output for review: Really good service and parts departments. They treat customers well and get the job done well. I recommend this shop for your Ford car.\n",
      "- Key topics:[Staff,Service Quality,Facilities]\n",
      "- Sentiment:Positive\n",
      "\n"
     ]
    },
    {
     "name": "stderr",
     "output_type": "stream",
     "text": [
      "Processing Reviews:  10%|█▉                  | 117/1181 [02:59<11:37,  1.52it/s]"
     ]
    },
    {
     "name": "stdout",
     "output_type": "stream",
     "text": [
      "Raw LLM Output for review: Such a fake people they told us we have pickup truck back on back but when we was there they told we don’t have that the employee April that was totally fake lady. I hate this place\n",
      "- Key topics:[Staff,Product Quality]\n",
      "- Sentiment:[Negative]\n",
      "\n"
     ]
    },
    {
     "name": "stderr",
     "output_type": "stream",
     "text": [
      "Processing Reviews:  10%|█▉                  | 118/1181 [03:01<15:14,  1.16it/s]"
     ]
    },
    {
     "name": "stdout",
     "output_type": "stream",
     "text": [
      "Raw LLM Output for review: I made an appointment for oil change only to get there on my lunch break to be told its a 3 hour wait.Do better folks.\n",
      "- Key topics:[Service Time, Service Cost]\n",
      "- Sentiment:Negative\n",
      "\n",
      "Raw LLM Output for review: The beast way to get a full serves is to set up appointment with a car loaner .\n",
      "\n",
      "I only rely on this guy named Alfred he's a spright forward guy  and ,he'll tell you when and how long it's actually going to be done with your car\n",
      "- Key topics:[Staff,Service Time]\n",
      "-Sentiment:[Positive]\n",
      "\n"
     ]
    },
    {
     "name": "stderr",
     "output_type": "stream",
     "text": [
      "Processing Reviews:  10%|██                  | 120/1181 [03:02<14:18,  1.24it/s]"
     ]
    },
    {
     "name": "stdout",
     "output_type": "stream",
     "text": [
      "Raw LLM Output for review: Much better after they renovated. They fixed and expanded the waiting room. Service is fast enough.\n",
      "- Key topics:[Facilities,Service Time]\n",
      "- Sentiment: [Positive]\n",
      "\n",
      "Raw LLM Output for review: Didn’t have an appointment just walked in. Service was fast and friendly. Juan toro was the consultant. He was friendly and helpful.\n",
      "- Key topics:[Staff,Facilities]\n",
      "- Sentiment:Positive\n",
      "\n"
     ]
    },
    {
     "name": "stderr",
     "output_type": "stream",
     "text": [
      "Processing Reviews:  10%|██                  | 122/1181 [03:03<13:17,  1.33it/s]"
     ]
    },
    {
     "name": "stdout",
     "output_type": "stream",
     "text": [
      "Raw LLM Output for review: They started off very slow. But they value there service to there customers in the end.  I would continue to do business with them. And to add I always like coming to Ford.\n",
      "- Key topics:[Service Time]\n",
      "- Sentiment:Positive\n",
      "\n",
      "Raw LLM Output for review: I needed service on my vehicle but was told nothing available until the end of April.\n",
      "- Key topics:[Service Time, Product Availability]\n",
      "- Sentiment:Neutral\n",
      "\n"
     ]
    },
    {
     "name": "stderr",
     "output_type": "stream",
     "text": [
      "Processing Reviews:  10%|██                  | 123/1181 [03:05<17:15,  1.02it/s]"
     ]
    },
    {
     "name": "stdout",
     "output_type": "stream",
     "text": [
      "Raw LLM Output for review: Never will lease another Ford. They charge for even oil change which is free at Toyota and nissan if you lease cars from them.\n",
      "- Key topics:[Service Cost,Product Quality]\n",
      "- Sentiment:Negative\n",
      "\n",
      "Raw LLM Output for review: Entering into the Service Shop was not only impressive & effortless, but the exceptional service & professionalism that I experienced far exceeded my expectations.\n",
      "- Key topics:[Facilities,Staff]\n",
      "- Sentiment:Positive.\n",
      "\n"
     ]
    },
    {
     "name": "stderr",
     "output_type": "stream",
     "text": [
      "Processing Reviews:  11%|██▏                 | 126/1181 [03:07<13:05,  1.34it/s]"
     ]
    },
    {
     "name": "stdout",
     "output_type": "stream",
     "text": [
      "Raw LLM Output for review: Very good customer services experience and they have all parts for my car thanks 😊 …\n",
      "- Key topics:Staff,Product Availability\n",
      "- Sentiment:Positive\n",
      "\n"
     ]
    },
    {
     "name": "stderr",
     "output_type": "stream",
     "text": [
      "Processing Reviews:  11%|██▏                 | 127/1181 [03:07<12:36,  1.39it/s]"
     ]
    },
    {
     "name": "stdout",
     "output_type": "stream",
     "text": [
      "Raw LLM Output for review: Took forever and car came back filthy with old spilled all over the engine. I hate going here but sometimes you have no choice.\n",
      "- Key topics:[Service Time, Facilities]\n",
      "- Sentiment:Negative\n",
      "\n"
     ]
    },
    {
     "name": "stderr",
     "output_type": "stream",
     "text": [
      "Processing Reviews:  11%|██▏                 | 129/1181 [03:09<12:20,  1.42it/s]"
     ]
    },
    {
     "name": "stdout",
     "output_type": "stream",
     "text": [
      "Raw LLM Output for review: This place is very disorganized and when you inform them they made a mistake they get upset and make you wait. Recommend  if you have a secondary repair  shop go to it.\n",
      "- Key topics:[Service Cost, Facilities]\n",
      "- Sentiment:Neutral\n",
      "\n",
      "Raw LLM Output for review: Bad experience,very much expensive they charge for some parts for my 150 truck after keeping 3 days my truck they said part not available you can take your truck back we will call you when parts available,\n",
      "I m waiting almost 3 months  still part not available,and they charge my credit card already 1950$ now no one picking my calls\n",
      "Going to take them in consumer court.\n",
      "- Key topics:[Service Time, Service Cost]\n",
      "- Sentiment: Negative\n",
      "\n"
     ]
    },
    {
     "name": "stderr",
     "output_type": "stream",
     "text": [
      "Processing Reviews:  11%|██▏                 | 130/1181 [03:10<12:37,  1.39it/s]"
     ]
    },
    {
     "name": "stdout",
     "output_type": "stream",
     "text": [
      "Raw LLM Output for review: I would not service any car in this place, they are rude. They should rehire or close down. no Stars for this place.\n",
      "- Key topics:[Staff]\n",
      "- Sentiment:Negative\n",
      "\n"
     ]
    },
    {
     "name": "stderr",
     "output_type": "stream",
     "text": [
      "Processing Reviews:  11%|██▏                 | 131/1181 [03:11<13:33,  1.29it/s]"
     ]
    },
    {
     "name": "stdout",
     "output_type": "stream",
     "text": [
      "Raw LLM Output for review: They are so unfriendly worst customer service they don't make any effort to work with warranties they tell you the price this much that much swipes the cc that's it done . that's what they are good at . It's closer to me that's why I went over there I don't want to go to that place again .\n",
      "- Key topics:[Product Quality, Staff]\n",
      "- Sentiment: Negative\n",
      "\n"
     ]
    },
    {
     "name": "stderr",
     "output_type": "stream",
     "text": [
      "Processing Reviews:  11%|██▏                 | 132/1181 [03:12<15:02,  1.16it/s]"
     ]
    },
    {
     "name": "stdout",
     "output_type": "stream",
     "text": [
      "Raw LLM Output for review: They can not help you with a simple thing like an oil change. They are over book don't have man power.  Ford / lincoln get the worst service\n",
      "Key topics:[Service Cost, Staff]\n",
      "- Sentiment:Negative\n",
      "\n"
     ]
    },
    {
     "name": "stderr",
     "output_type": "stream",
     "text": [
      "Processing Reviews:  11%|██▎                 | 133/1181 [03:12<13:50,  1.26it/s]"
     ]
    },
    {
     "name": "stdout",
     "output_type": "stream",
     "text": [
      "Raw LLM Output for review: Best service Dept in N.Y! Great energy , clean environment, professionals who CARE. Thanks Ford Lincoln of Queens\n",
      "- Key topics:[Staff, Facilities]\n",
      "- Sentiment: Positive\n",
      "\n",
      "Raw LLM Output for review: They don't knw how to treat a people so rude and the place is very very dirty and they don't do the service good and the main thing be careful when you go they they will try to rob you even if you hv a warranty pkg or coverage they will make a bill and let you pay until you don't notice that .\n",
      "- Key topics:[Service Quality, Facilities, Staff]\n",
      "- Sentiment:Negative\n",
      "\n"
     ]
    },
    {
     "name": "stderr",
     "output_type": "stream",
     "text": [
      "Processing Reviews:  11%|██▎                 | 135/1181 [03:13<12:10,  1.43it/s]"
     ]
    },
    {
     "name": "stdout",
     "output_type": "stream",
     "text": [
      "Raw LLM Output for review: Very good service. Has nice waiting area with coffee and TVs. Employees are attentive.\n",
      "- Key topics:[Facilities, Staff]\n",
      "- Sentiment:Positive\n",
      "\n",
      "Raw LLM Output for review: Had a great experience with Juan & Fausto for my Ford Explorer here. Thank you!\n",
      "Key topics:[Staff, Facilities]\n",
      "Sentiment:Positive\n",
      "\n"
     ]
    },
    {
     "name": "stderr",
     "output_type": "stream",
     "text": [
      "Processing Reviews:  12%|██▎                 | 137/1181 [03:15<12:04,  1.44it/s]"
     ]
    },
    {
     "name": "stdout",
     "output_type": "stream",
     "text": [
      "Raw LLM Output for review: This is the only place where I bring my Mustang for service, maintenance, or anything. Very professional staff. Just overall an excellent place.\n",
      "Key topics:Staff,SERVICE Quality,Facilities\n",
      "-Sentiment:Positive\n",
      "\n",
      "Raw LLM Output for review: Carlos got me in and out pretty quick. Service was good and the people who work there are professional and courteous\n",
      "Key topics: [Staff,Service Time]\n",
      "-Sentiment: Positive\n",
      "\n"
     ]
    },
    {
     "name": "stderr",
     "output_type": "stream",
     "text": [
      "Processing Reviews:  12%|██▎                 | 139/1181 [03:16<11:40,  1.49it/s]"
     ]
    },
    {
     "name": "stdout",
     "output_type": "stream",
     "text": [
      "Raw LLM Output for review: Very thorough service and I'm absolutely satisfied, especially since I saved over $900 had I gone someplace else.\n",
      "- Key topics:[Service Quality, Staff]\n",
      "- Sentiment: Positive\n",
      "\n",
      "Raw LLM Output for review: New waiting area is so much better. Plenty of seating and table options.\n",
      "- Key topics: Facilities\n",
      "- Sentiment: Positive\n",
      "\n"
     ]
    },
    {
     "name": "stderr",
     "output_type": "stream",
     "text": [
      "Processing Reviews:  12%|██▍                 | 142/1181 [03:18<10:02,  1.73it/s]"
     ]
    },
    {
     "name": "stdout",
     "output_type": "stream",
     "text": [
      "Raw LLM Output for review: Overall nice place with nice staff. however, I had to wait 2 hours to get a loaner car.\n",
      "- Key topics:[Facilities,Staff,Service Time]\n",
      "- Sentiment:Neutral\n",
      "\n",
      "Raw LLM Output for review: I had a worst experience they took my 2013 lincoln for 4days for a 2 to 3 hour job and of course, no loaner car and did charge me 3× the market price\n",
      "- Key topics:[Service Time,Service Cost]\n",
      "- Sentiment:Negative\n",
      "\n"
     ]
    },
    {
     "name": "stderr",
     "output_type": "stream",
     "text": [
      "Processing Reviews:  12%|██▍                 | 143/1181 [03:20<13:04,  1.32it/s]"
     ]
    },
    {
     "name": "stdout",
     "output_type": "stream",
     "text": [
      "Raw LLM Output for review: Service was prompt and completed in one day. Service writer was very nice. Henry was his name.\n",
      "- Key topics:[Staff,Service Time]\n",
      "- Sentiment:Positive\n",
      "\n"
     ]
    },
    {
     "name": "stderr",
     "output_type": "stream",
     "text": [
      "Processing Reviews:  12%|██▍                 | 145/1181 [03:21<11:47,  1.46it/s]"
     ]
    },
    {
     "name": "stdout",
     "output_type": "stream",
     "text": [
      "Raw LLM Output for review: Very unhappy with them they had my truck for eleven days charged me $150.00 inashally to diagnose it and a total of $1,600.00 and they still didn't fix my TRUCK\n",
      "- Key topics:[Service Cost, Service Diagnostics]\n",
      "- Sentiment:Negative\n",
      "\n",
      "Raw LLM Output for review: My experience u don't want to know I thought there were no more good people out there but I was wrong after all this killing and aggressive or violence I never thought I would ever be treated like a human being again\n",
      "- Key topics:[Staff]\n",
      "- Sentiment:[Negative]\n",
      "\n"
     ]
    },
    {
     "name": "stderr",
     "output_type": "stream",
     "text": [
      "Processing Reviews:  12%|██▍                 | 146/1181 [03:22<13:03,  1.32it/s]"
     ]
    },
    {
     "name": "stdout",
     "output_type": "stream",
     "text": [
      "Raw LLM Output for review: They are very unprofessional that take their time take too long when you come to check your car or you get its attitudes like you bothering dumb like they doing you a favor I'm pay for my work I would never ever go there again nor would I recommend anyone\n",
      "- Key topics:[Staff,Service Time]\n",
      "- Sentiment:Negative\n",
      "\n"
     ]
    },
    {
     "name": "stderr",
     "output_type": "stream",
     "text": [
      "Processing Reviews:  12%|██▍                 | 147/1181 [03:23<15:09,  1.14it/s]"
     ]
    },
    {
     "name": "stdout",
     "output_type": "stream",
     "text": [
      "Raw LLM Output for review: Worst experience with them all the time since 7 years went there couple of times always having trouble with their attitude of customer service and dealing\n",
      "Key topics:\n",
      "[Staff,Product Quality]\n",
      "- Sentiment: Negative\n",
      "\n"
     ]
    },
    {
     "name": "stderr",
     "output_type": "stream",
     "text": [
      "Processing Reviews:  13%|██▌                 | 148/1181 [03:24<16:37,  1.04it/s]"
     ]
    },
    {
     "name": "stdout",
     "output_type": "stream",
     "text": [
      "Raw LLM Output for review: Terrible experience. Kept my car for a week told me I would get parts changed, nothing was done. Go to Long Island, this place is a joke. I will seek to further report my issue here.\n",
      "- Key topics:[Service Time, Service Quality]\n",
      "- Sentiment:Negative\n",
      "\n"
     ]
    },
    {
     "name": "stderr",
     "output_type": "stream",
     "text": [
      "Processing Reviews:  13%|██▌                 | 149/1181 [03:25<14:48,  1.16it/s]"
     ]
    },
    {
     "name": "stdout",
     "output_type": "stream",
     "text": [
      "Raw LLM Output for review: That's the WORST service i have ever had, it took me 3 hours just for an engine oil change plus the service was bad...i don't recommend this sucks place to anyone.\n",
      "- Key topics:[Service Quality, Service Cost]\n",
      "- Sentiment: Negative\n",
      "\n",
      "Raw LLM Output for review: \"Horrifying they should be close\"\n",
      "\n",
      "The worst dealership/service, I brought my car three times for the same problem finally they fixed but in the process damaged and created problems that I don't even had before:  They scraped the car bumper, the passenger door do not close properly and I gave my car in with a full tank of gas and I received the car with a quarter of tank?\n",
      "- Key topics:[Dealership/Service,Wheel/Tires]\n",
      "- Sentiment:Negative\n",
      "\n"
     ]
    },
    {
     "name": "stderr",
     "output_type": "stream",
     "text": [
      "Processing Reviews:  13%|██▌                 | 151/1181 [03:26<12:11,  1.41it/s]"
     ]
    },
    {
     "name": "stdout",
     "output_type": "stream",
     "text": [
      "Raw LLM Output for review: Best place to fix your car and I'll be taking my car every time since I've purchased a unlimited warranty.\n",
      "- Key topics:[Facilities,Service Quality]\n",
      "- Sentiment:Positive\n",
      "\n"
     ]
    },
    {
     "name": "stderr",
     "output_type": "stream",
     "text": [
      "Processing Reviews:  13%|██▌                 | 152/1181 [03:27<15:10,  1.13it/s]"
     ]
    },
    {
     "name": "stdout",
     "output_type": "stream",
     "text": [
      "Raw LLM Output for review: They gave me a free car wash for my airbag recall because of a little mix up\n",
      "- Key topics:[Recall,Windshield]\n",
      "- Sentiment:Positive\n",
      "\n",
      "Raw LLM Output for review: New clean facility. Comfortable waiting area.  Staff are extremely courteous and accommodating.\n",
      "- Key topics:[Facilities,Staff]\n",
      "- Sentiment:Positive\n",
      "\n"
     ]
    },
    {
     "name": "stderr",
     "output_type": "stream",
     "text": [
      "Processing Reviews:  13%|██▌                 | 153/1181 [03:28<14:05,  1.22it/s]"
     ]
    },
    {
     "name": "stdout",
     "output_type": "stream",
     "text": [
      "Raw LLM Output for review: Blessings every one my first time there , I must say very friendly staff nice place to relax and wait\n",
      "- Key topics:[Staff, Facilities]\n",
      "- Sentiment: [Positive]\n",
      "\n"
     ]
    },
    {
     "name": "stderr",
     "output_type": "stream",
     "text": [
      "Processing Reviews:  13%|██▌                 | 155/1181 [03:29<12:04,  1.42it/s]"
     ]
    },
    {
     "name": "stdout",
     "output_type": "stream",
     "text": [
      "Raw LLM Output for review: My car has transmission issues and they want to give an appointment \"at least\" for two or three months later 😡 …\n",
      "- Key topics:[Service Time,Transmission]\n",
      "- Sentiment: Negative\n",
      "\n"
     ]
    },
    {
     "name": "stderr",
     "output_type": "stream",
     "text": [
      "Processing Reviews:  13%|██▋                 | 156/1181 [03:31<15:32,  1.10it/s]"
     ]
    },
    {
     "name": "stdout",
     "output_type": "stream",
     "text": [
      "Raw LLM Output for review: Service is way to slow. I prefer to travel to the one in long Island which has better customer service.\n",
      "- Key topics:[Service Time]\n",
      "- Sentiment:Negative\n",
      "\n",
      "Raw LLM Output for review: The worst  Service ever they told me to wait 10 days for a loaner car what am I supposed to do for 10 days without a car?\n",
      "- Key topics:[Service Time,Service Quality]\n",
      "- Sentiment:Negative\n",
      "\n"
     ]
    },
    {
     "name": "stderr",
     "output_type": "stream",
     "text": [
      "Processing Reviews:  13%|██▋                 | 157/1181 [03:31<13:37,  1.25it/s]"
     ]
    },
    {
     "name": "stdout",
     "output_type": "stream",
     "text": [
      "Raw LLM Output for review: they blame the customer for everything. don't take responsibility for their mistakes\n",
      "- Key topics:[Staff, Product Quality]\n",
      "- Sentiment: [Negative]\n",
      "\n"
     ]
    },
    {
     "name": "stderr",
     "output_type": "stream",
     "text": [
      "Processing Reviews:  13%|██▋                 | 159/1181 [03:32<12:31,  1.36it/s]"
     ]
    },
    {
     "name": "stdout",
     "output_type": "stream",
     "text": [
      "Raw LLM Output for review: Worst they keap my car for 3 days for check light engine still did not do it .very rude took\n",
      "- Key topics:[Staff ,Service Time,Battery]\n",
      "- Sentiment:[Negative]\n",
      "\n",
      "Raw LLM Output for review: Great customer service. And nice facility.\n",
      "- Key topics:[Staff, Facilities]\n",
      "- Sentiment: Positive\n",
      "\n"
     ]
    },
    {
     "name": "stderr",
     "output_type": "stream",
     "text": [
      "Processing Reviews:  14%|██▋                 | 160/1181 [03:33<13:22,  1.27it/s]"
     ]
    },
    {
     "name": "stdout",
     "output_type": "stream",
     "text": [
      "Raw LLM Output for review: My place come see my commercial center\n",
      "- Key topics:[Not Classified, Facilities]\n",
      "- Sentiment:[Negative]\n",
      "\n"
     ]
    },
    {
     "name": "stderr",
     "output_type": "stream",
     "text": [
      "Processing Reviews:  14%|██▋                 | 162/1181 [03:34<10:24,  1.63it/s]"
     ]
    },
    {
     "name": "stdout",
     "output_type": "stream",
     "text": [
      "Raw LLM Output for review: They have a new and renovated location, looks very nice and take care of you very fast and professional.\n",
      "- Key topics:Facilities,SERVICE Time \n",
      "- Sentiment: Positive\n",
      "\n"
     ]
    },
    {
     "name": "stderr",
     "output_type": "stream",
     "text": [
      "Processing Reviews:  14%|██▊                 | 163/1181 [03:35<11:08,  1.52it/s]"
     ]
    },
    {
     "name": "stdout",
     "output_type": "stream",
     "text": [
      "Raw LLM Output for review: Saw my favorite service mgr who tried to escape!  But worker did too much work with coffee ttay\n",
      "- Key topics:[Staff]\n",
      "- Sentiment:[Negative]\n",
      "\n"
     ]
    },
    {
     "name": "stderr",
     "output_type": "stream",
     "text": [
      "Processing Reviews:  14%|██▊                 | 164/1181 [03:36<12:22,  1.37it/s]"
     ]
    },
    {
     "name": "stdout",
     "output_type": "stream",
     "text": [
      "Raw LLM Output for review: Best Ford service center in the Tristate area. Best customer service and great technician.\n",
      "Key topics:[Product Availability,Service Quality]\n",
      "-Sentiment:Positive\n",
      "\n"
     ]
    },
    {
     "name": "stderr",
     "output_type": "stream",
     "text": [
      "Processing Reviews:  14%|██▊                 | 165/1181 [03:36<10:30,  1.61it/s]"
     ]
    },
    {
     "name": "stdout",
     "output_type": "stream",
     "text": [
      "Raw LLM Output for review: Great new service center at 92-15 170th Street.  Same great service and staff!!\n",
      "- Key topics:[Staff,Service Quality]\n",
      "- Sentiment:Positive\n",
      "\n"
     ]
    },
    {
     "name": "stderr",
     "output_type": "stream",
     "text": [
      "Processing Reviews:  14%|██▊                 | 166/1181 [03:36<09:13,  1.83it/s]"
     ]
    },
    {
     "name": "stdout",
     "output_type": "stream",
     "text": [
      "Raw LLM Output for review: Fair prices. Honest about the work you need done and quick. What else could you ask for?\n",
      "Key topics:Service Cost,Staff\n",
      "Sentiment: Positive\n",
      "\n"
     ]
    },
    {
     "name": "stderr",
     "output_type": "stream",
     "text": [
      "Processing Reviews:  14%|██▊                 | 167/1181 [03:37<09:54,  1.71it/s]"
     ]
    },
    {
     "name": "stdout",
     "output_type": "stream",
     "text": [
      "Raw LLM Output for review: Experienced staff and very pleasant atmosphere.\n",
      "- Key topics:Staff\n",
      "- Sentiment: Positive\n",
      "\n"
     ]
    },
    {
     "name": "stderr",
     "output_type": "stream",
     "text": [
      "Processing Reviews:  14%|██▊                 | 168/1181 [03:38<11:40,  1.45it/s]"
     ]
    },
    {
     "name": "stdout",
     "output_type": "stream",
     "text": [
      "Raw LLM Output for review: Best service of any car dealership. They treat you like family\n",
      "- Key topics:[Staff]\n",
      "- Sentiment:Positive\n",
      "\n"
     ]
    },
    {
     "name": "stderr",
     "output_type": "stream",
     "text": [
      "Processing Reviews:  14%|██▊                 | 169/1181 [03:39<11:26,  1.47it/s]"
     ]
    },
    {
     "name": "stdout",
     "output_type": "stream",
     "text": [
      "Raw LLM Output for review: Took car in for service friendly staff and was out in reasonable amount of time.\n",
      "Key topics:Staff,Service Time\n",
      "- Sentiment:Positive\n",
      "\n"
     ]
    },
    {
     "name": "stderr",
     "output_type": "stream",
     "text": [
      "Processing Reviews:  14%|██▉                 | 171/1181 [03:40<09:45,  1.72it/s]"
     ]
    },
    {
     "name": "stdout",
     "output_type": "stream",
     "text": [
      "Raw LLM Output for review: bas experience ever i had engine light on my car they keep my car 7 days to fix that problem\n",
      "- Key topics:[Service Time,Staff ,Product Quality]\n",
      "- Sentiment:Negative\n",
      "\n",
      "Raw LLM Output for review: Good for Ford van parts n very helpful people. They are helpful & knowledgeable.\n",
      "- Key topics:[Staff,Product Availability]\n",
      "- Sentiment:Positive\n",
      "\n"
     ]
    },
    {
     "name": "stderr",
     "output_type": "stream",
     "text": [
      "Processing Reviews:  15%|██▉                 | 172/1181 [03:41<11:24,  1.47it/s]"
     ]
    },
    {
     "name": "stdout",
     "output_type": "stream",
     "text": [
      "Raw LLM Output for review: The right part ,quick delivery.\n",
      "- Key topics:\n",
      "Not Classified\n",
      "Sentiment: [Positive]\n",
      "\n"
     ]
    },
    {
     "name": "stderr",
     "output_type": "stream",
     "text": [
      "Processing Reviews:  15%|██▉                 | 173/1181 [03:42<12:45,  1.32it/s]"
     ]
    },
    {
     "name": "stdout",
     "output_type": "stream",
     "text": [
      "Raw LLM Output for review: What a bad experience I had I will rate them the worst below one star\n",
      "- Key topics: [Product Quality, Staff]\n",
      "- Sentiment: Negative\n",
      "\n"
     ]
    },
    {
     "name": "stderr",
     "output_type": "stream",
     "text": [
      "Processing Reviews:  15%|██▉                 | 174/1181 [03:42<11:26,  1.47it/s]"
     ]
    },
    {
     "name": "stdout",
     "output_type": "stream",
     "text": [
      "Raw LLM Output for review: They take very good care of you and your car\n",
      "- Key topics: []\n",
      "- Sentiment: [Positive]\n",
      "\n"
     ]
    },
    {
     "name": "stderr",
     "output_type": "stream",
     "text": [
      "Processing Reviews:  15%|██▉                 | 175/1181 [03:43<09:28,  1.77it/s]"
     ]
    },
    {
     "name": "stdout",
     "output_type": "stream",
     "text": [
      "Raw LLM Output for review: Very bad service awful and dishonest people\n",
      "Please avoid\n",
      "- Key topics:[Service Quality,Staff]\n",
      "- Sentiment:Negative\n",
      "\n"
     ]
    },
    {
     "name": "stderr",
     "output_type": "stream",
     "text": [
      "Processing Reviews:  15%|██▉                 | 176/1181 [03:43<09:16,  1.81it/s]"
     ]
    },
    {
     "name": "stdout",
     "output_type": "stream",
     "text": [
      "Raw LLM Output for review: George was helpful\n",
      "- Key topics:[Staff]\n",
      "- Sentiment:Positive\n",
      "\n"
     ]
    },
    {
     "name": "stderr",
     "output_type": "stream",
     "text": [
      "Processing Reviews:  15%|██▉                 | 177/1181 [03:45<14:21,  1.17it/s]"
     ]
    },
    {
     "name": "stdout",
     "output_type": "stream",
     "text": [
      "Raw LLM Output for review: Not very informative about issues with vehicle more forcus on getting you to order parts.\n",
      "- Key topics:[Not Classified, Service Cost]\n",
      "- Sentiment: Negative\n",
      "\n",
      "Raw LLM Output for review: Quick service on the vehicle.\n",
      "- Key topics:[Service Time]\n",
      "- Sentiment:Positive\n",
      "\n"
     ]
    },
    {
     "name": "stderr",
     "output_type": "stream",
     "text": [
      "Processing Reviews:  15%|███                 | 178/1181 [03:45<14:11,  1.18it/s]"
     ]
    },
    {
     "name": "stdout",
     "output_type": "stream",
     "text": [
      "Raw LLM Output for review: Hospitable customer service, but this place is under construction. Very unorganized at this time.\n",
      "- Key topics:[Facilities,Staff,Service Time]\n",
      "- Sentiment:Neutral\n",
      "\n"
     ]
    },
    {
     "name": "stderr",
     "output_type": "stream",
     "text": [
      "Processing Reviews:  15%|███                 | 180/1181 [03:46<10:03,  1.66it/s]"
     ]
    },
    {
     "name": "stdout",
     "output_type": "stream",
     "text": [
      "Raw LLM Output for review: the remodel looks great and the customer service is always impeccable.\n",
      "- Key topics:[Product Quality, Staff]\n",
      "- Sentiment: [Positive]\n",
      "\n"
     ]
    },
    {
     "name": "stderr",
     "output_type": "stream",
     "text": [
      "Processing Reviews:  15%|███                 | 181/1181 [03:47<11:24,  1.46it/s]"
     ]
    },
    {
     "name": "stdout",
     "output_type": "stream",
     "text": [
      "Raw LLM Output for review: Greeted immediately, all service concerns addressed, responsive and understanding.\n",
      "- Key topics:Staff\n",
      "-Sentiment:Positive\n",
      "\n"
     ]
    },
    {
     "name": "stderr",
     "output_type": "stream",
     "text": [
      "Processing Reviews:  15%|███                 | 182/1181 [03:48<11:53,  1.40it/s]"
     ]
    },
    {
     "name": "stdout",
     "output_type": "stream",
     "text": [
      "Raw LLM Output for review: Todays service was great... everyone was kind and professional.\n",
      "- Key topics:Staff\n",
      "- Sentiment:Positive\n",
      "Raw LLM Output for review: Great experience Henry service manager is great\n",
      "- Key topics:Staff,Service Quality\n",
      "-Sentiment:Positive\n",
      "\n",
      "\n"
     ]
    },
    {
     "name": "stderr",
     "output_type": "stream",
     "text": [
      "Processing Reviews:  16%|███                 | 184/1181 [03:49<11:02,  1.51it/s]"
     ]
    },
    {
     "name": "stdout",
     "output_type": "stream",
     "text": [
      "Raw LLM Output for review: The worst place you can go for service . Very rude and no line on this place . Goes first whoever knows the guy in the front desk\n",
      "- Key topics:[Staff,Service Time]\n",
      "- Sentiment:Negative\n",
      "\n"
     ]
    },
    {
     "name": "stderr",
     "output_type": "stream",
     "text": [
      "Processing Reviews:  16%|███▏                | 185/1181 [03:49<09:35,  1.73it/s]"
     ]
    },
    {
     "name": "stdout",
     "output_type": "stream",
     "text": [
      "Raw LLM Output for review: They know what they're doing. Ask for Richie, he's the best.\n",
      "- Key topics:[Staff]\n",
      "- Sentiment:Positive\n",
      "\n"
     ]
    },
    {
     "name": "stderr",
     "output_type": "stream",
     "text": [
      "Processing Reviews:  16%|███▏                | 186/1181 [03:51<13:18,  1.25it/s]"
     ]
    },
    {
     "name": "stdout",
     "output_type": "stream",
     "text": [
      "Raw LLM Output for review: totally not recommend this place to anyone who want to repair a car under warranty.\n",
      "- Key topics:[Not Classified,Service Quality]\n",
      "- Sentiment:Negative\n",
      "\n",
      "Raw LLM Output for review: PARTS DEPARTMENT, will rape you plus charge you double the price.  NEVER BUY FORD/LINCOLN.\n",
      "TOTAL Junk.\n",
      "- Key topics:[Product Quality, Recall]\n",
      "- Sentiment:[Negative]\n",
      "\n"
     ]
    },
    {
     "name": "stderr",
     "output_type": "stream",
     "text": [
      "Processing Reviews:  16%|███▏                | 188/1181 [03:52<10:17,  1.61it/s]"
     ]
    },
    {
     "name": "stdout",
     "output_type": "stream",
     "text": [
      "Raw LLM Output for review: Walked in it was able to make an appointment for my car in minutes\n",
      "- Key topics:[Service Time]\n",
      "- Sentiment:Positive\n",
      "\n"
     ]
    },
    {
     "name": "stderr",
     "output_type": "stream",
     "text": [
      "Processing Reviews:  16%|███▏                | 189/1181 [03:52<10:56,  1.51it/s]"
     ]
    },
    {
     "name": "stdout",
     "output_type": "stream",
     "text": [
      "Raw LLM Output for review: The service is excellent. They discovered a serious problem and fixed it.\n",
      "- Key topics:[Service Quality]\n",
      "- Sentiment: [Positive]\n",
      "\n"
     ]
    },
    {
     "name": "stderr",
     "output_type": "stream",
     "text": [
      "Processing Reviews:  16%|███▏                | 190/1181 [03:54<14:44,  1.12it/s]"
     ]
    },
    {
     "name": "stdout",
     "output_type": "stream",
     "text": [
      "Raw LLM Output for review: Service is handle extremely very good.\n",
      "- Key topics:[Staff,Service Quality]\n",
      "- Sentiment: Positive\n",
      "\n",
      "Raw LLM Output for review: THE SERVICE WAS EXCELLENT & THE TEAM WAS VERY COURTEOUS,  PROFESSIONAL & TIMELY!!!!!  I AM EXTREMELY SATISFIED!!!!!\n",
      "- Key topics:Staff,Service Quality\n",
      "- Sentiment:[Positive]\n",
      "\n"
     ]
    },
    {
     "name": "stderr",
     "output_type": "stream",
     "text": [
      "Processing Reviews:  16%|███▎                | 192/1181 [03:55<11:49,  1.39it/s]"
     ]
    },
    {
     "name": "stdout",
     "output_type": "stream",
     "text": [
      "Raw LLM Output for review: They kept my car for a week and never even opened the hood\n",
      "- Key topics:[Service Time]\n",
      "- Sentiment:Negative\n",
      "\n",
      "Raw LLM Output for review: I hate this place the people are so rude and  not pleasant i never dealt with people so un organized and rude it’s ridiculous and frustrating\n",
      "- Key topics:[Staff,Facilities,Product Quality]\n",
      "- Sentiment:Negative\n",
      "\n",
      "Raw LLM Output for review: Grade f never bring my cat there again\n",
      "- Key topics:[Not Classified]\n",
      "- Sentiment:Negative\n",
      "\n"
     ]
    },
    {
     "name": "stderr",
     "output_type": "stream",
     "text": [
      "Processing Reviews:  16%|███▎                | 194/1181 [03:57<12:41,  1.30it/s]"
     ]
    },
    {
     "name": "stdout",
     "output_type": "stream",
     "text": [
      "Raw LLM Output for review: 5 star for quality of work and professionalism.\n",
      "- Key topics:[Product Quality, Staff]\n",
      "- Sentiment:Positive\n",
      "\n",
      "Raw LLM Output for review: Hard to find parts department, quick courteous service\n",
      "- Key topics:[Staff,Service Time]\n",
      "- Sentiment:[Positive]\n",
      "\n"
     ]
    },
    {
     "name": "stderr",
     "output_type": "stream",
     "text": [
      "Processing Reviews:  17%|███▎                | 196/1181 [03:58<13:00,  1.26it/s]"
     ]
    },
    {
     "name": "stdout",
     "output_type": "stream",
     "text": [
      "Raw LLM Output for review: TOOK THEM ALMOST 3 HOURS FOR A FREAKING CHANGE OIL. Not coming back.\n",
      "- Key topics:[Service Time,Oil Change/Refill]\n",
      "- Sentiment:Negative\n",
      "\n"
     ]
    },
    {
     "name": "stderr",
     "output_type": "stream",
     "text": [
      "Processing Reviews:  17%|███▎                | 198/1181 [03:59<09:29,  1.73it/s]"
     ]
    },
    {
     "name": "stdout",
     "output_type": "stream",
     "text": [
      "Raw LLM Output for review: Service is great, and the staff is very professional and friendly.\n",
      "- Key topics:[Staff]\n",
      "- Sentiment:Positive\n",
      "\n"
     ]
    },
    {
     "name": "stderr",
     "output_type": "stream",
     "text": [
      "Processing Reviews:  17%|███▎                | 199/1181 [03:59<09:46,  1.67it/s]"
     ]
    },
    {
     "name": "stdout",
     "output_type": "stream",
     "text": [
      "Raw LLM Output for review: Staff are great but parking sucks\n",
      "- Key topics: Staff,Parking \n",
      "- Sentiment: Neutral\n",
      "\n"
     ]
    },
    {
     "name": "stderr",
     "output_type": "stream",
     "text": [
      "Processing Reviews:  17%|███▍                | 200/1181 [04:00<11:35,  1.41it/s]"
     ]
    },
    {
     "name": "stdout",
     "output_type": "stream",
     "text": [
      "Raw LLM Output for review: service at parts center non good you non see me no moooo\n",
      "- Key topics:[Not Classified]\n",
      "- Sentiment:[Negative]\n",
      "\n"
     ]
    },
    {
     "name": "stderr",
     "output_type": "stream",
     "text": [
      "Processing Reviews:  17%|███▍                | 201/1181 [04:01<10:46,  1.52it/s]"
     ]
    },
    {
     "name": "stdout",
     "output_type": "stream",
     "text": [
      "Raw LLM Output for review: Employees are very helpful and knowledgeable.\n",
      "- Key topics:[Staff]\n",
      "- Sentiment: [Positive]\n",
      "\n"
     ]
    },
    {
     "name": "stderr",
     "output_type": "stream",
     "text": [
      "Processing Reviews:  17%|███▍                | 203/1181 [04:02<08:29,  1.92it/s]"
     ]
    },
    {
     "name": "stdout",
     "output_type": "stream",
     "text": [
      "Raw LLM Output for review: Fast service, great prices\n",
      "- Key topics:[Service Time,Product Availability]\n",
      "- Sentiment:Positive\n",
      "\n",
      "Raw LLM Output for review: They were quick with my service\n",
      "- Key topics:Service Time\n",
      "-Sentiment:Positive\n",
      "\n"
     ]
    },
    {
     "name": "stderr",
     "output_type": "stream",
     "text": [
      "Processing Reviews:  17%|███▍                | 204/1181 [04:03<13:08,  1.24it/s]"
     ]
    },
    {
     "name": "stdout",
     "output_type": "stream",
     "text": [
      "Raw LLM Output for review: Great prices and friendly staff.\n",
      "- Key topics:Staff\n",
      "-Sentiment:Positive\n",
      "Raw LLM Output for review: NOW LOCATED ACROSS FROM 171 STREET ON JAMICA BLVD IN SMALL ALLEY\n",
      "- Key topics: Facilities\n",
      "- Sentiment: [Not Classified]\n",
      "\n",
      "\n"
     ]
    },
    {
     "name": "stderr",
     "output_type": "stream",
     "text": [
      "Processing Reviews:  17%|███▍                | 206/1181 [04:04<10:34,  1.54it/s]"
     ]
    },
    {
     "name": "stdout",
     "output_type": "stream",
     "text": [
      "Raw LLM Output for review: Please don’t buy ford cars only buy  a Toyota\n",
      "- Key topics:[Not Classified]\n",
      "- Sentiment:[Negative]\n",
      "Raw LLM Output for review: Ugly derelict facility totally unfit for a major car dealer\n",
      "- Key topics: Facilities,Negative\n",
      "- Sentiment: Negative\n",
      "\n",
      "\n"
     ]
    },
    {
     "name": "stderr",
     "output_type": "stream",
     "text": [
      "Processing Reviews:  18%|███▌                | 208/1181 [04:06<13:15,  1.22it/s]"
     ]
    },
    {
     "name": "stdout",
     "output_type": "stream",
     "text": [
      "Raw LLM Output for review: Its good but pricey\n",
      "- Key topics:[Product Quality, Service Cost]\n",
      "- Sentiment:[Negative]\n",
      "\n",
      "Raw LLM Output for review: It is shame for FORD to have service shop like that.\n",
      "- Key topics:[Service Cost, Facilities,Staff]\n",
      "- Sentiment:[Negative]\n",
      "\n",
      "Raw LLM Output for review: Good service fair price\n",
      "- Key topics:[Service Cost, Service]\n",
      "- Sentiment: Neutral\n",
      "\n"
     ]
    },
    {
     "name": "stderr",
     "output_type": "stream",
     "text": [
      "Processing Reviews:  18%|███▌                | 210/1181 [04:07<11:14,  1.44it/s]"
     ]
    },
    {
     "name": "stdout",
     "output_type": "stream",
     "text": [
      "Raw LLM Output for review: Too long to have an oil change\n",
      "- Key topics:[Oil Change/Refill]\n",
      "- Sentiment: [Negative]\n",
      "\n"
     ]
    },
    {
     "name": "stderr",
     "output_type": "stream",
     "text": [
      "Processing Reviews:  18%|███▌                | 212/1181 [04:08<10:51,  1.49it/s]"
     ]
    },
    {
     "name": "stdout",
     "output_type": "stream",
     "text": [
      "Raw LLM Output for review: This is the place to go to get your Ford parts.\n",
      "- Key topics:[Product Quality]\n",
      "- Sentiment:Positive\n",
      "\n",
      "Raw LLM Output for review: Excellent service department.\n",
      "- Key topics: \n",
      "- Sentiment: [Positive]\n",
      "\n"
     ]
    },
    {
     "name": "stderr",
     "output_type": "stream",
     "text": [
      "Processing Reviews:  18%|███▌                | 214/1181 [04:09<09:11,  1.75it/s]"
     ]
    },
    {
     "name": "stdout",
     "output_type": "stream",
     "text": [
      "Raw LLM Output for review: Very good service\n",
      "- Key topics: [Service Quality]\n",
      "- Sentiment: Positive\n",
      "\n"
     ]
    },
    {
     "name": "stderr",
     "output_type": "stream",
     "text": [
      "Processing Reviews:  18%|███▋                | 215/1181 [04:10<11:19,  1.42it/s]"
     ]
    },
    {
     "name": "stdout",
     "output_type": "stream",
     "text": [
      "Raw LLM Output for review: My New Car Mechanics and Maintenance Shop\n",
      "- Key topics:[Product Quality,Service Cost]\n",
      "- Sentiment: [Not Classified]\n",
      "\n"
     ]
    },
    {
     "name": "stderr",
     "output_type": "stream",
     "text": [
      "Processing Reviews:  18%|███▋                | 216/1181 [04:11<09:56,  1.62it/s]"
     ]
    },
    {
     "name": "stdout",
     "output_type": "stream",
     "text": [
      "Raw LLM Output for review: Very helpful and nice stuff\n",
      "- Key topics:[Staff]\n",
      "- Sentiment:[Positive]\n",
      "\n"
     ]
    },
    {
     "name": "stderr",
     "output_type": "stream",
     "text": [
      "Processing Reviews:  18%|███▋                | 217/1181 [04:12<10:41,  1.50it/s]"
     ]
    },
    {
     "name": "stdout",
     "output_type": "stream",
     "text": [
      "Raw LLM Output for review: Nice work, professional..\n",
      "- Key topics:Staff\n",
      "- Sentiment:[Positive/Negative/Neutral]\n",
      "\n",
      "Raw LLM Output for review: Not a good service\n",
      "- Key topics:[Not Classified]\n",
      "- Sentiment:Negative\n",
      "\n"
     ]
    },
    {
     "name": "stderr",
     "output_type": "stream",
     "text": [
      "Processing Reviews:  19%|███▋                | 219/1181 [04:13<09:54,  1.62it/s]"
     ]
    },
    {
     "name": "stdout",
     "output_type": "stream",
     "text": [
      "Raw LLM Output for review: Very pleasant staff\n",
      "- Key topics:[Staff]\n",
      "- Sentiment:Positive\n",
      "\n"
     ]
    },
    {
     "name": "stderr",
     "output_type": "stream",
     "text": [
      "Processing Reviews:  19%|███▋                | 220/1181 [04:14<11:07,  1.44it/s]"
     ]
    },
    {
     "name": "stdout",
     "output_type": "stream",
     "text": [
      "Raw LLM Output for review: Very bad please for service\n",
      "- Key topics:[Service Quality,Not Classified]\n",
      "- Sentiment:Negative\n",
      "\n",
      "Raw LLM Output for review: Great costumer service\n",
      "- Key topics:[Staff]\n",
      "- Sentiment:Positive\n",
      "\n"
     ]
    },
    {
     "name": "stderr",
     "output_type": "stream",
     "text": [
      "Processing Reviews:  19%|███▋                | 221/1181 [04:15<13:40,  1.17it/s]"
     ]
    },
    {
     "name": "stdout",
     "output_type": "stream",
     "text": [
      "Raw LLM Output for review: Friendly Staff\n",
      "- Key topics:[Staff]\n",
      "- Sentiment:Positive\n",
      "\n",
      "Raw LLM Output for review: nice sever\n",
      "- Key topics: [Not Classified, Not Classified]\n",
      "- Sentiment: [Negative/Neutral]\n",
      "\n"
     ]
    },
    {
     "name": "stderr",
     "output_type": "stream",
     "text": [
      "Processing Reviews:  19%|███▊                | 225/1181 [04:16<07:53,  2.02it/s]"
     ]
    },
    {
     "name": "stdout",
     "output_type": "stream",
     "text": [
      "Raw LLM Output for review: Great service dept\n",
      "- Key topics:[Staff]\n",
      "- Sentiment:[Positive]\n",
      "\n",
      "Raw LLM Output for review: Horrible experience\n",
      "- Key topics:[Not Classified]\n",
      "- Sentiment:[Negative]\n",
      "\n",
      "Raw LLM Output for review: Very rude people\n",
      "- Key topics:Staff\n",
      "- Sentiment:Negative\n",
      "\n"
     ]
    },
    {
     "name": "stderr",
     "output_type": "stream",
     "text": [
      "Processing Reviews:  19%|███▊                | 226/1181 [04:17<11:08,  1.43it/s]"
     ]
    },
    {
     "name": "stdout",
     "output_type": "stream",
     "text": [
      "Raw LLM Output for review: Good job in vehicle\n",
      "- Key topics:[Not Classified]\n",
      "- Sentiment: [Negative]\n",
      "\n",
      "Raw LLM Output for review: Too long of a wait.\n",
      "- Key topics:[Service Time]\n",
      "- Sentiment:[Negative]\n",
      "\n"
     ]
    },
    {
     "name": "stderr",
     "output_type": "stream",
     "text": [
      "Processing Reviews:  19%|███▊                | 228/1181 [04:19<11:43,  1.35it/s]"
     ]
    },
    {
     "name": "stdout",
     "output_type": "stream",
     "text": [
      "Raw LLM Output for review: Very nice service\n",
      "- Key topics: [Staff,Service Time]\n",
      "- Sentiment: [Positive]\n",
      "\n"
     ]
    },
    {
     "name": "stderr",
     "output_type": "stream",
     "text": [
      "Processing Reviews:  19%|███▉                | 230/1181 [04:20<08:55,  1.78it/s]"
     ]
    },
    {
     "name": "stdout",
     "output_type": "stream",
     "text": [
      "Raw LLM Output for review: Top rated service\n",
      "- Key topics:[Not Classified]\n",
      "- Sentiment:[Negative]\n",
      "\n"
     ]
    },
    {
     "name": "stderr",
     "output_type": "stream",
     "text": [
      "Processing Reviews:  20%|███▉                | 231/1181 [04:21<11:09,  1.42it/s]"
     ]
    },
    {
     "name": "stdout",
     "output_type": "stream",
     "text": [
      "Raw LLM Output for review: Fast an courteous\n",
      "- Key topics:[Not Classified]\n",
      "-Sentiment: [Positive/Negative/Neutral]\n",
      "\n"
     ]
    },
    {
     "name": "stderr",
     "output_type": "stream",
     "text": [
      "Processing Reviews:  20%|███▉                | 233/1181 [04:22<08:49,  1.79it/s]"
     ]
    },
    {
     "name": "stdout",
     "output_type": "stream",
     "text": [
      "Raw LLM Output for review: Terrible\n",
      "- Key topics:[Product Quality,Recall]\n",
      "- Sentiment:[Negative]\n",
      "\n",
      "Raw LLM Output for review: Friendly staff!\n",
      "- Key topics:[Staff]\n",
      "- Sentiment: [Positive]\n",
      "\n"
     ]
    },
    {
     "name": "stderr",
     "output_type": "stream",
     "text": [
      "Processing Reviews:  20%|███▉                | 234/1181 [04:23<11:36,  1.36it/s]"
     ]
    },
    {
     "name": "stdout",
     "output_type": "stream",
     "text": [
      "Raw LLM Output for review: GOOD CAR SERVICE\n",
      "- Key topics:[Not Classified]\n",
      "- Sentiment: [Negative/Negative/ Neutral]\n",
      "\n"
     ]
    },
    {
     "name": "stderr",
     "output_type": "stream",
     "text": [
      "Processing Reviews:  20%|███▉                | 236/1181 [04:24<09:11,  1.71it/s]"
     ]
    },
    {
     "name": "stdout",
     "output_type": "stream",
     "text": [
      "Raw LLM Output for review: Very professional.\n",
      "- Key topics:[Staff, Product Quality]\n",
      "- Sentiment:[Positive]\n",
      "\n",
      "Raw LLM Output for review: Good people\n",
      "- Key topics:Staff\n",
      "- Sentiment:[Positive]\n",
      "\n"
     ]
    },
    {
     "name": "stderr",
     "output_type": "stream",
     "text": [
      "Processing Reviews:  20%|████                | 237/1181 [04:24<08:36,  1.83it/s]"
     ]
    },
    {
     "name": "stdout",
     "output_type": "stream",
     "text": [
      "Raw LLM Output for review: No comments\n",
      "- Key topics:[Not Classified]\n",
      "- Sentiment: [Not Classified]\n",
      "\n",
      "Raw LLM Output for review: Great customer service\n",
      "- Key topics:[Staff]\n",
      "- Sentiment: [Positive]\n",
      "\n",
      "Raw LLM Output for review: Great costumer service\n",
      "- Key topics:[Staff]\n",
      "- Sentiment:Positive\n",
      "\n"
     ]
    },
    {
     "name": "stderr",
     "output_type": "stream",
     "text": [
      "Processing Reviews:  20%|████                | 238/1181 [04:27<19:38,  1.25s/it]"
     ]
    },
    {
     "name": "stdout",
     "output_type": "stream",
     "text": [
      "Raw LLM Output for review: In and out service\n",
      "- Key topics:[Not Classified,Not Classified,Service Time,Not Classified]\n",
      "- Sentiment: [Neutral/Negative]\n",
      "\n",
      "Raw LLM Output for review: Overpriced\n",
      "- Key topics:[Not Classified, Product Quality, Service Cost]\n",
      "- Sentiment: [Negative]\n",
      "\n"
     ]
    },
    {
     "name": "stderr",
     "output_type": "stream",
     "text": [
      "Processing Reviews:  20%|████                | 242/1181 [04:29<10:58,  1.43it/s]"
     ]
    },
    {
     "name": "stdout",
     "output_type": "stream",
     "text": [
      "Raw LLM Output for review: EXPEDITION\n",
      "- Key topics:[Product Quality]\n",
      "- Sentiment: [Negative]\n",
      "\n"
     ]
    },
    {
     "name": "stderr",
     "output_type": "stream",
     "text": [
      "Processing Reviews:  21%|████                | 243/1181 [04:29<09:48,  1.59it/s]"
     ]
    },
    {
     "name": "stdout",
     "output_type": "stream",
     "text": [
      "Raw LLM Output for review: Great service\n",
      "- Key topics:[Service Cost, Staff]\n",
      "- Sentiment:Positive\n",
      "\n",
      "Raw LLM Output for review: Good\n",
      "- Key topics:\n",
      "- Sentiment: [Not Classified]\n",
      "\n"
     ]
    },
    {
     "name": "stderr",
     "output_type": "stream",
     "text": [
      "Processing Reviews:  21%|████▏               | 244/1181 [04:30<12:23,  1.26it/s]"
     ]
    },
    {
     "name": "stdout",
     "output_type": "stream",
     "text": [
      "Raw LLM Output for review: Great service\n",
      "- Key topics: [Staff,Service Time]\n",
      "- Sentiment: [Positive]\n",
      "\n"
     ]
    },
    {
     "name": "stderr",
     "output_type": "stream",
     "text": [
      "Processing Reviews:  21%|████▏               | 245/1181 [04:32<14:05,  1.11it/s]"
     ]
    },
    {
     "name": "stdout",
     "output_type": "stream",
     "text": [
      "Raw LLM Output for review: Bring your car to this location for service by appointment. Ford car service center\n",
      "- Key topics:[Facilities]\n",
      "- Sentiment:Neutral\n",
      "\n",
      "Raw LLM Output for review: Good services\n",
      "- Key topics: [Service Quality]\n",
      "- Sentiment: [Positive]\n",
      "\n"
     ]
    },
    {
     "name": "stderr",
     "output_type": "stream",
     "text": [
      "Processing Reviews:  21%|████▏               | 248/1181 [04:33<10:22,  1.50it/s]"
     ]
    },
    {
     "name": "stdout",
     "output_type": "stream",
     "text": [
      "Raw LLM Output for review: Excellent Place to service your Ford, Excellent service, comfortable place to wait, friendly, knowledgeable about what your car requires, affordable, 100% recommended\n",
      "- Key topics:[Service Quality, Facilities, Staff]\n",
      "- Sentiment:Positive\n",
      "\n"
     ]
    },
    {
     "name": "stderr",
     "output_type": "stream",
     "text": [
      "Processing Reviews:  21%|████▏               | 249/1181 [04:34<10:20,  1.50it/s]"
     ]
    },
    {
     "name": "stdout",
     "output_type": "stream",
     "text": [
      "Raw LLM Output for review: It took me 3 hours to change the engine oil. Damn it, it’s not human...\n",
      "- Key topics:[Service Time,Battery]\n",
      "- Sentiment:[Negative]\n",
      "\n",
      "Raw LLM Output for review: They are very friendly, and efficient in finding your parts after a while, well, don't worry, Paul, Orlando\n",
      "- Key topics:[Staff]\n",
      "- Sentiment:Positive\n",
      "\n"
     ]
    },
    {
     "name": "stderr",
     "output_type": "stream",
     "text": [
      "Processing Reviews:  21%|████▏               | 250/1181 [04:35<11:24,  1.36it/s]"
     ]
    },
    {
     "name": "stdout",
     "output_type": "stream",
     "text": [
      "Raw LLM Output for review: Terrible place, very bad service, the manager does not help you at all and I have been waiting for more than 6 months for them to change the airbags that have a factory defect.\n",
      "- Key topics:[Service Quality, Facilities]\n",
      "- Sentiment: Negative\n",
      "\n"
     ]
    },
    {
     "name": "stderr",
     "output_type": "stream",
     "text": [
      "Processing Reviews:  21%|████▎               | 252/1181 [04:36<12:09,  1.27it/s]"
     ]
    },
    {
     "name": "stdout",
     "output_type": "stream",
     "text": [
      "Raw LLM Output for review: The secretary is very despotic, just looking at a Hispanic person seems to bother her\n",
      "- Key topics:[Staff]\n",
      "- Sentiment: [Negative]\n",
      "\n",
      "Raw LLM Output for review: Very delayed 3 hours waiting for an oil change\n",
      "- Key topics:[Service Time, Oil Change/Refill]\n",
      "- Sentiment:Negative\n",
      "\n",
      "Raw LLM Output for review: Good service, very friendly\n",
      "- Key topics:[Staff]\n",
      "- Sentiment:Positive\n",
      "\n"
     ]
    },
    {
     "name": "stderr",
     "output_type": "stream",
     "text": [
      "Processing Reviews:  22%|████▎               | 254/1181 [04:38<11:43,  1.32it/s]"
     ]
    },
    {
     "name": "stdout",
     "output_type": "stream",
     "text": [
      "Raw LLM Output for review: Nice man Sukhjinder Singh nice will be dealing\n",
      "- Key topics: [Not Classified,Staff]\n",
      "- Sentiment: [Positive]\n",
      "\n",
      "Raw LLM Output for review: Overall, good experience they had me in and out relatively quick and answered any questions I had waiting area was clean and well stocked with coffee. it appeared the tech took great care to not mess my Interior they covered the seat nicely and the traditional floor mat.\n",
      "- Key topics:[Service Time,Facilities]\n",
      "- Sentiment:Positive\n",
      "\n"
     ]
    },
    {
     "name": "stderr",
     "output_type": "stream",
     "text": [
      "Processing Reviews:  22%|████▎               | 258/1181 [04:41<10:13,  1.51it/s]"
     ]
    },
    {
     "name": "stdout",
     "output_type": "stream",
     "text": [
      "Raw LLM Output for review: Very excellent attention\n",
      "- Key topics: [None Classified,Not Classified]\n",
      "- Sentiment: [Positive]\n",
      "\n",
      "Raw LLM Output for review: Professional, timely and cost-effective service provided. The only thing is I wish they would not leave the protective seat and foot covers once completed. Would be nice if they removed and disposed of them vs the customer.\n",
      "- Key topics:[Service Cost,Service Time]\n",
      "- Sentiment:Positive\n",
      "\n"
     ]
    },
    {
     "name": "stderr",
     "output_type": "stream",
     "text": [
      "Processing Reviews:  22%|████▍               | 259/1181 [04:41<10:48,  1.42it/s]"
     ]
    },
    {
     "name": "stdout",
     "output_type": "stream",
     "text": [
      "Raw LLM Output for review: . Mr Hamby explained what maintenance was needed asap and gave me a list and charges. The only complaint I have is why no one ever told me about the upkeeps so it wouldn’t have gotten so bad. I’ve been having my inspections done here since I’ve had my car. Otherwise all good.\n",
      "- Key topics:[Service Cost, Facilities]\n",
      "- Sentiment:Positive\n",
      "\n",
      "Raw LLM Output for review: I can’t say enough about Nick and the service team at Bethlehem Ford. I kinda bent a tie rod two days be for leaving on a trip to the dunes. Nick had the parts ordered and truck back in my hands in plenty of time.\n",
      "- Key topics:[Staff,Service Time]\n",
      "- Sentiment:Positive\n",
      "\n"
     ]
    },
    {
     "name": "stderr",
     "output_type": "stream",
     "text": [
      "Processing Reviews:  22%|████▍               | 260/1181 [04:45<18:35,  1.21s/it]"
     ]
    },
    {
     "name": "stdout",
     "output_type": "stream",
     "text": [
      "Raw LLM Output for review: They recently repaired a tire for me. The service took as long as anticipated and the customer service was great.\n",
      "- Key topics:[Service Time, Staff, Product Quality]\n",
      "- Sentiment: [Positive]\n",
      "\n"
     ]
    },
    {
     "name": "stderr",
     "output_type": "stream",
     "text": [
      "Processing Reviews:  22%|████▍               | 261/1181 [04:45<17:34,  1.15s/it]"
     ]
    },
    {
     "name": "stdout",
     "output_type": "stream",
     "text": [
      "Raw LLM Output for review: They told me I needed to pay $3800 for a TCM part for transmission or car would stop moving. I refused and picked car up and 3 yrs later my car is still moving. What a way to scam a woman.\n",
      "- Key topics:[Product Quality,Service Cost]\n",
      "- Sentiment: [Negative]\n",
      "\n"
     ]
    },
    {
     "name": "stderr",
     "output_type": "stream",
     "text": [
      "Processing Reviews:  22%|████▍               | 263/1181 [04:47<13:59,  1.09it/s]"
     ]
    },
    {
     "name": "stdout",
     "output_type": "stream",
     "text": [
      "Raw LLM Output for review: Drop my car off for a recall. They didn’t have the parts so I had to wait 2 days. Then when I get me car back the steering wheel is turned all the way to the left bout is driving staring and my ac wasn’t working. Drop off the car again only for them to tell me they didn’t tighten a bolt on the steering wheel and didn’t plug in the ac.\n",
      "- Key topics:[Recall, Service Time,Wheel/Tires]\n",
      "- Sentiment:Negative\n",
      "\n"
     ]
    },
    {
     "name": "stderr",
     "output_type": "stream",
     "text": [
      "Processing Reviews:  22%|████▍               | 264/1181 [04:48<16:34,  1.08s/it]"
     ]
    },
    {
     "name": "stdout",
     "output_type": "stream",
     "text": [
      "Raw LLM Output for review: The staff at Bethlehem Ford is outstanding.  They're polite and friendly and answer all my questions.\n",
      "- Key topics:Staff\n",
      "-Sentiment:[Positive]\n",
      "\n",
      "Raw LLM Output for review: They always do an awesome  job. This means all aspects. Polite. Acknowledge  You. Tell you  expected wait time..offer  service to take you home & pic up. Explain what needs done & a ckecklist of how the car systems are functioning . And what You may need to address with next visit. And of course things are taken care of well. Price...well competitive...nothing with car repairs is inexpensive.  Oil change is not a problem. Take car in for jobs like brakes etc. Ive been going here for at least 10yrs without switching  to anyone else.\n",
      "Now they send a video of mechanic working on car\n",
      "- Key topics:[Staff,Service Quality]\n",
      "- Sentiment:Positive\n",
      "\n"
     ]
    },
    {
     "name": "stderr",
     "output_type": "stream",
     "text": [
      "Processing Reviews:  23%|████▌               | 266/1181 [04:49<10:47,  1.41it/s]"
     ]
    },
    {
     "name": "stdout",
     "output_type": "stream",
     "text": [
      "Raw LLM Output for review: The worst customer service. Over the course of several weeks and multiple calls, I was told a manager would call me back to address my issue from a previous visit. Additionally, I left a voicemail with the manager. Three weeks later, no response.\n",
      "- Key topics:[Staff,Service Time]\n",
      "-Sentiment: Negative\n",
      "\n"
     ]
    },
    {
     "name": "stderr",
     "output_type": "stream",
     "text": [
      "Processing Reviews:  23%|████▌               | 267/1181 [04:51<15:17,  1.00s/it]"
     ]
    },
    {
     "name": "stdout",
     "output_type": "stream",
     "text": [
      "Raw LLM Output for review: I can not Stand the automated scheduling It is lousy and not easy to get around This may be good for the common joe but I have a Fleet of Trucks and at times several issues! I much rather speak with a Human and not a computer\n",
      "- Key topics:[Service Time, Facilities]\n",
      "- Sentiment:Negative\n",
      "\n"
     ]
    },
    {
     "name": "stderr",
     "output_type": "stream",
     "text": [
      "Processing Reviews:  23%|████▌               | 268/1181 [04:52<18:11,  1.20s/it]"
     ]
    },
    {
     "name": "stdout",
     "output_type": "stream",
     "text": [
      "Raw LLM Output for review: I was very pleased with the scheduling process, drop off, payment and pick up of my vehicle. But the best thing for me was the video step through of my car and it’s condition. That made sense to me and helped me to understand my car on a different level. Top notch!\n",
      "- Key topics:[Product Quality, Facilities]\n",
      "- Sentiment:Positive\n",
      "\n",
      "Raw LLM Output for review: Totally easy and convenient - from my home driveway.  Best recall experience of my life.\n",
      "- Key topics:[Product Availability,Recall]\n",
      "- Sentiment: Positive\n",
      "\n"
     ]
    },
    {
     "name": "stderr",
     "output_type": "stream",
     "text": [
      "Processing Reviews:  23%|████▌               | 270/1181 [04:54<14:48,  1.02it/s]"
     ]
    },
    {
     "name": "stdout",
     "output_type": "stream",
     "text": [
      "Raw LLM Output for review: I am very disappointed with the service department. They did not communicate at all and had my truck for two weeks and essentially only did an oil change. I was informed my truck was ready to be picked up and when I arrived the truck was not drivable. Then I was informed they would make sure to have it ready by the end of the day to come back to pick up unless I received a call. I did not receive a call or voicemail, came to pick up my truck again and still not ready. Between the major lack of communication, the amount of time my truck was in service and only receive an oil change is truly poor service. Do better!\n",
      "- Key topics:[Staff,Service Time,Product Quality]\n",
      "- Sentiment:Negative\n",
      "\n"
     ]
    },
    {
     "name": "stderr",
     "output_type": "stream",
     "text": [
      "Processing Reviews:  23%|████▌               | 271/1181 [04:55<14:19,  1.06it/s]"
     ]
    },
    {
     "name": "stdout",
     "output_type": "stream",
     "text": [
      "Raw LLM Output for review: Can't say enough good things about my service experience here! They are very helpful and explained what they would be doing to my vehicle. I even arrived early and they started working on my truck promptly. I will definitely be going back there again for future vehicle services!\n",
      "- Key topics:[Staff,Service Time]\n",
      "- Sentiment:[Positive]\n",
      "\n"
     ]
    },
    {
     "name": "stderr",
     "output_type": "stream",
     "text": [
      "Processing Reviews:  23%|████▌               | 272/1181 [04:56<15:00,  1.01it/s]"
     ]
    },
    {
     "name": "stdout",
     "output_type": "stream",
     "text": [
      "Raw LLM Output for review: Jamie Homnick was my service advisor and took great care of me and my vehicle.\n",
      "- Key topics:[Staff]\n",
      "- Sentiment:Positive\n",
      "\n"
     ]
    },
    {
     "name": "stderr",
     "output_type": "stream",
     "text": [
      "Processing Reviews:  23%|████▌               | 273/1181 [04:56<13:41,  1.11it/s]"
     ]
    },
    {
     "name": "stdout",
     "output_type": "stream",
     "text": [
      "Raw LLM Output for review: I had my oil changed and tires rotated. They did a full inspection of the car. The service dept was phenominal (thank you Bill) and everyone was professional, helpful and very friendly! I also looked at a new vehicle while I was waiting and Hugh was sooooo very helpful! We have purchased four vehicles from Bethlehem Ford and will continue to purchase our cars/trucks from them in the future. We will also continue having all of our maintenance done there as well. We would recommend them to everyone and we do!!!!\n",
      "- Key topics:[Service Quality, Facilities]\n",
      "- Sentiment:Positive\n",
      "\n"
     ]
    },
    {
     "name": "stderr",
     "output_type": "stream",
     "text": [
      "Processing Reviews:  23%|████▋               | 274/1181 [04:59<20:53,  1.38s/it]"
     ]
    },
    {
     "name": "stdout",
     "output_type": "stream",
     "text": [
      "Raw LLM Output for review: I had check engine light on, called and was able to get in the very next day which was great because they were able to diagnose the problem and return my truck with the problem resolved in 2 days. Awesome work team! My service advisor (Rachel) was very helpful..\n",
      "- Key topics:[Service Time,Product Quality]\n",
      "- Sentiment:[Positive]\n",
      "\n"
     ]
    },
    {
     "name": "stderr",
     "output_type": "stream",
     "text": [
      "Processing Reviews:  23%|████▋               | 275/1181 [04:59<16:17,  1.08s/it]"
     ]
    },
    {
     "name": "stdout",
     "output_type": "stream",
     "text": [
      "Raw LLM Output for review: I went for an oil change n tire repair. I was told it would be a quick service, they had me there for over two and half hours. When I finally got my truck back, it had a brand new scratch on the driver side door. They took responsibility, but it's unacceptable. Waiting to get the car fixed.\n",
      "- Key topics:[Service Time, Facilities]\n",
      "- Sentiment:Negative\n",
      "\n"
     ]
    },
    {
     "name": "stderr",
     "output_type": "stream",
     "text": [
      "Processing Reviews:  23%|████▋               | 276/1181 [05:01<16:44,  1.11s/it]"
     ]
    },
    {
     "name": "stdout",
     "output_type": "stream",
     "text": [
      "Raw LLM Output for review: Purchased new 2024 Ford Maverick last week. I had additional items installed on my Maverick after purchase. All done well. Bethlehem Ford also provided shuttle service.\n",
      "- Key topics:[Service Cost, Facilities]\n",
      "- Sentiment:Positive\n",
      "\n"
     ]
    },
    {
     "name": "stderr",
     "output_type": "stream",
     "text": [
      "Processing Reviews:  23%|████▋               | 277/1181 [05:02<17:06,  1.14s/it]"
     ]
    },
    {
     "name": "stdout",
     "output_type": "stream",
     "text": [
      "Raw LLM Output for review: My car was kept overnight for an oil change, no one called that day or the following day to provide an update. I requested my car to be done by 12pm due to an engagement I had. When I called at 12pm, I was sent to a VM, I left a message for a rep. I gave me approximately an hour to respond and no one did. I then called again and a rep informed me that my car had not yet been serviced and stated I would receive a call back. The previous day I had informed that I needed a shuttle and one was not offered to me, for pick up. I received a call back and was informed that I needed to be there by 3 pm or I could go through the sales side and pick up my car after 3pm. I had to look for a ride there, and when I got there the sales team were like deer in headlights and were unaware that I would be picking up my car. My car key could not be located at first. When it was located I inquired about using my ford points to pay and the rep informed “that he did not have access”. Note, I have paid with my ford points in the past without any issue. And to top it off I then received a coupon in the mail the next day for the oil change. It’s apparent that things have changed at this site.  I will not be returning.\n",
      "- Key topics:[Service Quality, Facilities]\n",
      "- Sentiment: Negative\n",
      "\n"
     ]
    },
    {
     "name": "stderr",
     "output_type": "stream",
     "text": [
      "Processing Reviews:  24%|████▋               | 278/1181 [05:03<18:08,  1.21s/it]"
     ]
    },
    {
     "name": "stdout",
     "output_type": "stream",
     "text": [
      "Raw LLM Output for review: Was treated well and informed of what was being done. Was surprised at the video of the vehicle inspection. Rachael was very professional when checking me in. And my courtesy driver Layla was friendly and outgoing! Thanks for the positive experience.\n",
      "- Key topics:[Staff]\n",
      "- Sentiment:Positive\n",
      "\n"
     ]
    },
    {
     "name": "stderr",
     "output_type": "stream",
     "text": [
      "Processing Reviews:  24%|████▋               | 279/1181 [05:03<14:08,  1.06it/s]"
     ]
    },
    {
     "name": "stdout",
     "output_type": "stream",
     "text": [
      "Raw LLM Output for review: Caleb deserves a bonus! He was very informative and communicated well throughout the process of getting my company vehicle serviced. He is also confident in his work! Answered all of the questions I had before I even asked. Shout out Caleb.\n",
      "- Key topics:[Staff]\n",
      "- Sentiment:Positive\n",
      "\n"
     ]
    },
    {
     "name": "stderr",
     "output_type": "stream",
     "text": [
      "Processing Reviews:  24%|████▋               | 280/1181 [05:06<19:50,  1.32s/it]"
     ]
    },
    {
     "name": "stdout",
     "output_type": "stream",
     "text": [
      "Raw LLM Output for review: rob at bethlehem Ford was great.  so friendly and also made me feel validated and cared about.  bethlehem ford was able to pick up the piece where koch 33 was unable to assist and complete their job.  the honored that I paid for a service elsewhere and didn't get it completed and did not charge me for the tire rotation.  they also made sure they sent the correct tire tread left.  he has dis a quick safety look at things without asking.  that is what I call service.  someone that goes above and beyond to make a customer feel safe in their care.  I would recommend this facility and again rob and his team was great.\n",
      "- Key topics:[Staff, Facilities]\n",
      "- Sentiment:[Positive]\n",
      "\n"
     ]
    },
    {
     "name": "stderr",
     "output_type": "stream",
     "text": [
      "Processing Reviews:  24%|████▊               | 281/1181 [05:07<18:54,  1.26s/it]"
     ]
    },
    {
     "name": "stdout",
     "output_type": "stream",
     "text": [
      "Raw LLM Output for review: My family and I have purchased several of our cars here. Most recently my husband purchased his truck. We’ve also taken our cars to their service team and without fail, they always do an exceptional job. Whether it’s scheduled maintenance or an emergency, such as needing a tire looked at for loss of air pressure, they have always gotten me in quick. I was able to drop off my vehicle and leave it over night. They scheduled me for a 1pm appointment but they looked at my car first thing in the morning, patched up my tire and I was driving home before 10am. The communication is excellent and I love the videos where they show you what they’ve done/found/recommend. Thank you Bethlehem Ford! We will always come back.\n",
      "- Key topics:[Staff, Service Time]\n",
      "- Sentiment:Positive\n",
      "\n"
     ]
    },
    {
     "name": "stderr",
     "output_type": "stream",
     "text": [
      "Processing Reviews:  24%|████▊               | 282/1181 [05:09<21:36,  1.44s/it]"
     ]
    },
    {
     "name": "stdout",
     "output_type": "stream",
     "text": [
      "Raw LLM Output for review: Gave my phone number to service guy and had him read it back to me to clarify number was correct, waited over 4.5 hours, NOBODY called me to tell me my car was finished. 10 minute job they did and no respect to do the entire job for a vehicle purchased 2 weeks ago. $24,000 car and nothing but a run around. Frustrated? mad? upset, grab a chair the list goes on and on. After the service I received from that place yesterday, I don't recommend that place to ANYONE. First time buying a car too, and the service I got afterwards is mindblowing BAD!!!!\n",
      "- Key topics:[Service Time,Staff,Product Quality]\n",
      "- Sentiment: Negative\n",
      "\n"
     ]
    },
    {
     "name": "stderr",
     "output_type": "stream",
     "text": [
      "Processing Reviews:  24%|████▊               | 283/1181 [05:09<19:03,  1.27s/it]"
     ]
    },
    {
     "name": "stdout",
     "output_type": "stream",
     "text": [
      "Raw LLM Output for review: They did air condition diagnostic for me. They had amazing customer service from beginning to end and I really appreciated there courtesy pick up and drop off of my vehicle at my place of employment it was so convenient. I highly recommend them to anyone and everyone they go over and beyond.\n",
      "- Key topics:[Service Diagnostics, Staff, Facilities]\n",
      "- Sentiment:[Positive]\n",
      "\n"
     ]
    },
    {
     "name": "stderr",
     "output_type": "stream",
     "text": [
      "Processing Reviews:  24%|████▊               | 284/1181 [05:11<20:12,  1.35s/it]"
     ]
    },
    {
     "name": "stdout",
     "output_type": "stream",
     "text": [
      "Raw LLM Output for review: I brought my car in for inspection emissions and an oil change at 8:00 a.m. they did not finish my car until almost 11:00 a.m. they had a new mechanic that did not put some sensor back in my vehicle and it kept having  an error. They had to drive it around the block for the error to clear off my dash. This was very frustrating waiting this long. The service manager in the department was very apologetic but the new mechanic In my opinion needs more training but all the staff was very friendly.\n",
      "- Key topics:[Service Time, Facilities]\n",
      "- Sentiment: [Negative]\n",
      "\n"
     ]
    },
    {
     "name": "stderr",
     "output_type": "stream",
     "text": [
      "Processing Reviews:  24%|████▊               | 285/1181 [05:13<22:10,  1.48s/it]"
     ]
    },
    {
     "name": "stdout",
     "output_type": "stream",
     "text": [
      "Raw LLM Output for review: Issues with the radio. They are working on it.\n",
      "Hasn’t been resolved yet but, the experience so far has been a positive one.\n",
      "UPDATE: (after a few months, since being fixed) Aug 2023 -\n",
      "It took several shots at getting the radio working. Chasing down many wires The entire team had been great and patient with me as my patience was very thin. They assured me they will get it right. They did!\n",
      "Big thanks to Geoff Seelig\n",
      "- Key topics:[Music System,Service Quality]\n",
      "- Sentiment:[Positive/Negative]\n",
      "\n"
     ]
    },
    {
     "name": "stderr",
     "output_type": "stream",
     "text": [
      "Processing Reviews:  24%|████▊               | 286/1181 [05:14<19:27,  1.30s/it]"
     ]
    },
    {
     "name": "stdout",
     "output_type": "stream",
     "text": [
      "Raw LLM Output for review: Always get good service at Bethlehem Ford. Easy scheduling of appointment, friendly customer service and on time completion of my vehicle. This time I had recall work done as well as noisy brakes that needed a bushing kit, as well as oil change.\n",
      "- Key topics:[Service Time, Facilities]\n",
      "- Sentiment:Positive\n",
      "\n"
     ]
    },
    {
     "name": "stderr",
     "output_type": "stream",
     "text": [
      "Processing Reviews:  24%|████▊               | 287/1181 [05:15<19:04,  1.28s/it]"
     ]
    },
    {
     "name": "stdout",
     "output_type": "stream",
     "text": [
      "Raw LLM Output for review: Josh made my experience so smooth, and the customer service from all of the team was incredible! I felt very comfortable bringing my vehicle here for service & will do so again in the future.\n",
      "- Key topics:[Staff, Service Time]\n",
      "- Sentiment: [Positive]\n",
      "\n"
     ]
    },
    {
     "name": "stderr",
     "output_type": "stream",
     "text": [
      "Processing Reviews:  24%|████▉               | 289/1181 [05:17<16:08,  1.09s/it]"
     ]
    },
    {
     "name": "stdout",
     "output_type": "stream",
     "text": [
      "Raw LLM Output for review: I’m from out of state- had two flat tires ( drove over something on way to PA) - Steve, Connie and service team were great!  Brought vehicle in without an appointment- they got the tires and fixed that day!  So thankful for the great customer service!  Courtney was great too- I called the night before, service was closed, she helped me figure out what to do in a moment of panicking.  Thank you all at Bethlehem Ford!!!\n",
      "- Key topics:[Staff,Service Time,Facilities]\n",
      "- Sentiment:[Positive]\n",
      "\n",
      "Raw LLM Output for review: Just purchased my ‘new to me’ car. Outstanding service from start to finish. Could not ask for a better team from my sales person, Dasean, to the office team and service teams. Highly recommended.\n",
      "- Key topics:[Staff,Service Quality]\n",
      "- Sentiment:Positive\n",
      "\n",
      "Raw LLM Output for review: Awesome service, super convenient. They dropped my car off when my service was finished and offered me a ride as well when I originally dropped off the car. Nice folks, too.\n",
      "Most convenient experience!\n",
      "- Key topics:[Staff]\n",
      "- Sentiment:Positive\n",
      "\n"
     ]
    },
    {
     "name": "stderr",
     "output_type": "stream",
     "text": [
      "Processing Reviews:  25%|████▉               | 291/1181 [05:20<20:29,  1.38s/it]"
     ]
    },
    {
     "name": "stdout",
     "output_type": "stream",
     "text": [
      "Raw LLM Output for review: I went to the dealership for inspection, an oil change, and tire rotation. After waiting for two hours I was finally updated and told my rear brakes also needed to be replaced. I was then told it would take another hour/hour and a half, but was there for another two hours and 15 minutes. Appointments were definitely delayed as this appointment should not have take over 4 hours to complete.\n",
      "- Key topics:[Service Time, Staff]\n",
      "- Sentiment: Negative\n",
      "\n"
     ]
    },
    {
     "name": "stderr",
     "output_type": "stream",
     "text": [
      "Processing Reviews:  25%|████▉               | 292/1181 [05:22<21:09,  1.43s/it]"
     ]
    },
    {
     "name": "stdout",
     "output_type": "stream",
     "text": [
      "Raw LLM Output for review: Bethlehem Ford Service always makes sure that my vehicle is in great condition.  They know and understand that safety is my top priority for my vehicle. The service staff are always courteous and friendly.  They make me feel comfortable and confident in the maintenance and repairs they perform on my vehicle. I  moved to the area in February 2020 and they have been a connection for me to build trust with in my new surroundings. I trust them as if they were close family members. Thank you Bethlehem Ford Service Department for all you do to keep me safe on the highways.\n",
      "- Key topics:[Staff, Facilities]\n",
      "- Sentiment:Positive\n",
      "\n",
      "Raw LLM Output for review: I have always received good service at Bethlehem Ford. As I had parked my vehicle and was entering I was met by Shanika and she escorted me to her work station. She was very pleasant and knew here job very well. Processed me in very quickly. Her estimate for wait time was spot on and again processed me very quickly when service was completed. She automatically processes my visit with my Ford Rewards points.\n",
      "- Key topics:[Staff, Facilities]\n",
      "- Sentiment:Positive\n",
      "\n"
     ]
    },
    {
     "name": "stderr",
     "output_type": "stream",
     "text": [
      "Processing Reviews:  25%|████▉               | 293/1181 [05:24<24:17,  1.64s/it]"
     ]
    },
    {
     "name": "stdout",
     "output_type": "stream",
     "text": [
      "Raw LLM Output for review: Worst service ever. They had my suv for almost a month. I brought it in with a ticking noise coming out of the engine compartment but they couldn't hear anything. Funny they must be deaf bc when i picked it up it did it right away. Check engine light came on half way home for turbo underboost and cam vvt solenoids. Ordered those parts and going to replace myself since there service department is highly under qualified.  I wouldn't bring a bicycle to them too look at. And trying to get ahold of someone, good luck. You have a better chance of talking to a brick wall and getting a response. I will not recommend them too anyone. I hope they go out of business because all around there dealer is the worst I've ever been too.\n",
      "- Key topics:[Brake,Turbo underboost,Service Quality]\n",
      "- Sentiment:Negative\n",
      "\n"
     ]
    },
    {
     "name": "stderr",
     "output_type": "stream",
     "text": [
      "Processing Reviews:  25%|████▉               | 295/1181 [05:25<14:53,  1.01s/it]"
     ]
    },
    {
     "name": "stdout",
     "output_type": "stream",
     "text": [
      "Raw LLM Output for review: I had quit going a few years ago, a few things didn't seem right.  But today was a whole different experience.  Customer service was great.  Recall was done promptly and thr other issue was taken care off no charge which would have never happened at prevoius dealer.\n",
      "- Key topics:[Staff, Recall]\n",
      "- Sentiment:Positive\n",
      "\n"
     ]
    },
    {
     "name": "stderr",
     "output_type": "stream",
     "text": [
      "Processing Reviews:  25%|█████               | 296/1181 [05:28<21:36,  1.47s/it]"
     ]
    },
    {
     "name": "stdout",
     "output_type": "stream",
     "text": [
      "Raw LLM Output for review: Very courteous & thorough..they send you a text with a video of the issues they find which I thought was great. Work was done in a timely manner & at a fair price.\n",
      "- Key topics:[Staff,Service Time]\n",
      "- Sentiment: [Positive]\n",
      "\n",
      "Raw LLM Output for review: I brought the car in that I bought from this dealer about 2/3 months ago. I had a tire going flat either the mail still in the center of the tire. They said it could not be plugged and I needed a new tire. (I do not know why tires can’t be patched anymore instead of just plugged. They ordered. New tire which would not be available until the next morning. They gave me a ride home and picked me up the next morning which was great. The tire price I was quoted on the phone ended up being about $100 more. They wanted to sell me 4 new tires. I bought the one I needed because the others came with the car and we’re in good condition. The exact tire from a place I took the car to when it happened would have been about $60 cheaper.\n",
      "- Key topics:[Wheel/Tires,Product Quality]\n",
      "- Sentiment:[Negative]\n",
      "\n"
     ]
    },
    {
     "name": "stderr",
     "output_type": "stream",
     "text": [
      "Processing Reviews:  25%|█████               | 298/1181 [05:29<17:50,  1.21s/it]"
     ]
    },
    {
     "name": "stdout",
     "output_type": "stream",
     "text": [
      "Raw LLM Output for review: I have been to Bethlehem Ford’s service department several times now, I did not purchase my car there but you would never know that. The service advisors are knowledgeable and very easy to work with, as are the technicians. I recommend them highly. I might even buy a car there someday.\n",
      "- Key topics:[Staff]\n",
      "- Sentiment:Positive\n",
      "\n",
      "Raw LLM Output for review: Had the TCM (transmission control module) replaced on my 2015 Ford Focus and then had my car inspected. They replaced a motor mount and 2 new tires with rotation and alignment. Before they did the work I got a text message with a video link showing what my car needed fixed! That was amazing and informative. Mike was knowledgeable and very helpful and never treated me less than because I'm a woman. He answered all my questions with a smile on his face. I'm so glad Haldeman Ford screwed up my car and that I was able to get in to Bethlehem Ford so quickly for them to do the job the right way! Fantastic service all around! Thanks everyone!\n",
      "- Key topics:[Service Quality,Staff]\n",
      "- Sentiment:Positive\n",
      "\n"
     ]
    },
    {
     "name": "stderr",
     "output_type": "stream",
     "text": [
      "Processing Reviews:  25%|█████               | 300/1181 [05:32<17:57,  1.22s/it]"
     ]
    },
    {
     "name": "stdout",
     "output_type": "stream",
     "text": [
      "Raw LLM Output for review: Friendly environment with great service!\n",
      "Ford addressed an unknown recall at the time of my service and provided 2 way shuttle service to make my experience less difficult to plan.\n",
      "Key topics: [Service Quality, Facilities]\n",
      "- Sentiment: Positive\n",
      "\n",
      "Raw LLM Output for review: Excessive Labor Costs--Undisclosed.\n",
      "I had my brakes replaced and AC system serviced (fluid & dye) for almost $1300. The majority of the cost was labor ($775.63). Their costs are NOT disclosed prior to getting the work done. It is only when you are faced with the bill that labor charges are revealed. Turns out it's $170 labor for any diagnostic issue flat. Then, it's $85-$172 per hour after the $170. If the costs were disclosed prior to fixing my vehicle, I would have went elsewhere. A colleague recommended a service station up the street -- Joe's repairs on broad street (they also have a tire station) and noted he was charged a reasonable price for his repairs.\n",
      "- Key topics:[Service Cost, Product Quality]\n",
      "- Sentiment:Negative\n",
      "\n",
      "Raw LLM Output for review: Thanks for the oil change. Great job. Thanks again for finding the issue and resolving in it. Quick and efficient service.\n",
      "- Key topics:Service Cost, Service Quality\n",
      "- Sentiment:Positive\n",
      "\n"
     ]
    },
    {
     "name": "stderr",
     "output_type": "stream",
     "text": [
      "Processing Reviews:  26%|█████               | 302/1181 [05:34<17:42,  1.21s/it]"
     ]
    },
    {
     "name": "stdout",
     "output_type": "stream",
     "text": [
      "Raw LLM Output for review: Have an issue with my car so I took it in. They checked what the issue was i came in for and other issues, gave me a estimate everything was quick everyone was polite. I might not get everything done but I love that they checked for me.\n",
      "- Key topics:[Service Quality, Facilities, Staff]\n",
      "- Sentiment:[Positive]\n",
      "\n",
      "Raw LLM Output for review: Bought a suv from them used. Radio didn’t work I was told it did , brought it back 5 times still not fixed. 6 months later my break lines are fully rusted through, bring it in for service they want 3000$ + , brought it to another big name mechanic only charging me 700$ something is off here 2600 for labor little sketchy to me. They are no help at all. The suv is a death trap that I am now stuck with. I will say the people that work at this dealership are very nice I do not blame them I blame the company. Never had this problem with any of my Mazdas and the Hondas we’ve owned. So all in all Ford do better!\n",
      "- Key topics:[Product Quality,Service Cost]\n",
      "- Sentiment:[Negative]\n",
      "\n",
      "Raw LLM Output for review: Calab was in training and was very professional,  courteous and knowledgeable. So was the rest of the staff and the courtesy van driver.\n",
      "I always recommend Bethlehem Ford♥️♥️\n",
      "- Key topics:[Staff]\n",
      "- Sentiment:[Positive]\n",
      "\n"
     ]
    },
    {
     "name": "stderr",
     "output_type": "stream",
     "text": [
      "Processing Reviews:  26%|█████▏              | 304/1181 [05:37<18:20,  1.25s/it]"
     ]
    },
    {
     "name": "stdout",
     "output_type": "stream",
     "text": [
      "Raw LLM Output for review: I am disappointed with Ford as a company.  The dealership I took the car to was nice. However, I just bought a certified preowned Explorer on 08/31/2022.  Apparently, the battery went on the car and it’s my responsibility.  So I paid $236 to replace it. It’s interesting how that works out for Ford. I have not had the car long at all and I am already budgeting for repairs and/or out of pocket costs after spending 30k\n",
      "- Key topics:[Not Classified,Recall,Product Quality]\n",
      "- Sentiment:Negative\n",
      "\n"
     ]
    },
    {
     "name": "stderr",
     "output_type": "stream",
     "text": [
      "Processing Reviews:  26%|█████▏              | 307/1181 [05:39<14:27,  1.01it/s]"
     ]
    },
    {
     "name": "stdout",
     "output_type": "stream",
     "text": [
      "Raw LLM Output for review: They always do great work, their team is excellent, their communication every step of the way is fantastic, whether it is an emergency, a recall, or routine maintenance, I highly recommend!!\n",
      "- Key topics:[Staff, Facilities]\n",
      "- Sentiment:Positive\n",
      "\n",
      "Raw LLM Output for review: The employees were smiling and helpful. He did a great job. I definitely recommend it to everyone.\n",
      "- Key topics:[Staff]\n",
      "- Sentiment:Positive\n",
      "\n"
     ]
    },
    {
     "name": "stderr",
     "output_type": "stream",
     "text": [
      "Processing Reviews:  26%|█████▏              | 308/1181 [05:43<22:42,  1.56s/it]"
     ]
    },
    {
     "name": "stdout",
     "output_type": "stream",
     "text": [
      "Raw LLM Output for review: I took my 2020 Chevy silverado up there today. Before i took it i called for a quote that they told me would be starting at around $60 plus the extra quarts it takes. When it was all said and done, i go up to pay and they charged me $201.. they said that it was full synthetic and that it would’ve never been $60.. which is fine my issue was that i called before hand to get a quote for no reason. they said it was cause i didn’t give them a VIN # that they never asked for. i don’t understand how they expect the average joe to know to give them their VIN # to get the right quote. i feel as if they should’ve asked and paid their due diligence to make sure they were giving the right quote. i was not expecting to pay $200 today but i was prepared for $100. The guy who i tried explaining everything was super rude and didn’t care to listen or compromise. He’s in a field of customer service and today i did not feel like he cared to represent Ford Bethlehem in any shape or form. I will not be going back and to anyone reading this make sure you ask every single question cause they don’t care!!\n",
      "- Key topics:[Service Cost,Staff]\n",
      "- Sentiment:Negative\n",
      "\n"
     ]
    },
    {
     "name": "stderr",
     "output_type": "stream",
     "text": [
      "Processing Reviews:  26%|█████▏              | 310/1181 [05:44<16:38,  1.15s/it]"
     ]
    },
    {
     "name": "stdout",
     "output_type": "stream",
     "text": [
      "Raw LLM Output for review: Horrible horrible horrible we waited half a year for our oil pan to get replaced under warranty when I was making research and everywhere I go the parts was available .  It this place the excuse was it was backorder . Backorder doesn’t take half a year . If there was a negative start review I would use it .\n",
      "- Key topics:[Service Time, Product Quality]\n",
      "- Sentiment: Negative\n",
      "\n"
     ]
    },
    {
     "name": "stderr",
     "output_type": "stream",
     "text": [
      "Processing Reviews:  26%|█████▎              | 311/1181 [05:44<14:23,  1.01it/s]"
     ]
    },
    {
     "name": "stdout",
     "output_type": "stream",
     "text": [
      "Raw LLM Output for review: This isn't a bad review on the business or the service person handling my concern.  This is more an issue with Ford.  To give a little bit of context, I bought my 2017 Ford Focus Titanium brand new and took out a premiem warranty at time of purchase.  The car has essentially all options with it including a sunroof. Past 4.5 years I've put 61000 miles on the car.  Started to notice a rattling on the driver side ceiling  liner  by the sunroof which is seldomly used.  Brought in to Bethlehem Ford and was advised it would be looked at.  Towards the end of the day received a phone call that they were still looking at what could be done, but this item wasn't covered under warranty and would probably run 300-500 bucks, nice warranty.  The next day called back from the service advisor who advised the whole liner would need to be replaced on my 61000 mile car and it would be $2700.  Still kind of floored and wondering what other issues the vehicle may have in the future if I keep it.  Did call the dealership twice after they responded to my review spoke to the secretary/operator who connected me to a voicemail that I left messages on and never received a call back.\n",
      "- Key topics:[Product Availability, Recall]\n",
      "- Sentiment:[Negative]\n",
      "\n"
     ]
    },
    {
     "name": "stderr",
     "output_type": "stream",
     "text": [
      "Processing Reviews:  26%|█████▎              | 312/1181 [05:46<17:23,  1.20s/it]"
     ]
    },
    {
     "name": "stdout",
     "output_type": "stream",
     "text": [
      "Raw LLM Output for review: The mobile service was so easy to use! The technician was very communicative and I felt comfortable dealing with him.\n",
      "Key topics:[Staff],Service Time\n",
      "Sentiment:Positive\n",
      "\n",
      "Raw LLM Output for review: Recently bought a 2019 Ford Explorer from here 11/21. It’s been in for service for a transmission pulling issue several times and they say there is nothing wrong with it. They keep it all day and sometimes several days to then say nothing is wrong. Very unprofessional people picking up the phone as well. Never again will I buy anything from this place\n",
      "- Key topics:[Recall,Service Quality]\n",
      "- Sentiment:Negative\n",
      "\n"
     ]
    },
    {
     "name": "stderr",
     "output_type": "stream",
     "text": [
      "Processing Reviews:  27%|█████▎              | 314/1181 [05:46<11:26,  1.26it/s]"
     ]
    },
    {
     "name": "stdout",
     "output_type": "stream",
     "text": [
      "Raw LLM Output for review: First time using this dealership. Made appointment on line and was ready before I finished work. Has a shuttle service, but I chose not to use it. Steven was a great representative for the dealership.\n",
      "- Key topics:[Staff]\n",
      "- Sentiment:Positive\n",
      "\n"
     ]
    },
    {
     "name": "stderr",
     "output_type": "stream",
     "text": [
      "Processing Reviews:  27%|█████▎              | 315/1181 [05:48<13:48,  1.04it/s]"
     ]
    },
    {
     "name": "stdout",
     "output_type": "stream",
     "text": [
      "Raw LLM Output for review: Great, friendly staff.  Kept me updated on their progress and even sent me a video of what they wanted to repair/replace before I decided to do it or not.  Highly recommend\n",
      "- Key topics:[Staff]\n",
      "- Sentiment:Positive\n",
      "\n"
     ]
    },
    {
     "name": "stderr",
     "output_type": "stream",
     "text": [
      "Processing Reviews:  27%|█████▎              | 316/1181 [05:50<19:52,  1.38s/it]"
     ]
    },
    {
     "name": "stdout",
     "output_type": "stream",
     "text": [
      "Raw LLM Output for review: I was there a half hour to diagnose my check engine light.   Told I needed $600+ worth of work for a canister purge cylanoid.  When I opt to not have the work done, my bill for diagnosing is $180!!!  A little outrageous!!  I won’t go back and a will share my experience with others about service at Bethlehem Ford.\n",
      "- Key topics:[Service Time, Service Cost]\n",
      "- Sentiment:Negative\n",
      "\n"
     ]
    },
    {
     "name": "stderr",
     "output_type": "stream",
     "text": [
      "Processing Reviews:  27%|█████▍              | 318/1181 [05:51<13:38,  1.05it/s]"
     ]
    },
    {
     "name": "stdout",
     "output_type": "stream",
     "text": [
      "Raw LLM Output for review: Took My Ford Escape in for a Safety recall issue all 4 Door Latches needed to be replaced.. Nothing like going to pick up your car when they are finished to find more issues wrong with the car and wasnt even told about it.. I checked over the car and Drivers side door window the regulator was making noise and my window would not go up or down. Passenger side door window was making a rubbing noise amd the wire harness was rubbing the window regulator. Passenger side back door handle piece would pop off when u pull on handle.. top it off my passenger side door panel still not on right\n",
      "not happy at all with the service. Will not go back\n",
      "Was even told they detailed my car which was false car was still dirty..\n",
      "- Key topics:[Wheel/Tires, Facilities, Service Quality]\n",
      "- Sentiment: Negative\n",
      "\n",
      "Raw LLM Output for review: Bethlehem Ford service department is a pleasure to work with. It doesn’t matter it you schedule online, over the phone or in person. You always receive the same attention to detail. I have been using Bethlehem Ford for decades. Steve and the rest of the staff do a great job.\n",
      "- Key topics:[Staff,Service Time]\n",
      "- Sentiment:Positive\n",
      "\n",
      "Raw LLM Output for review: Always prompt to get my vehicle back to work on it, always professional always courteous. Will continually bring my vehicle there.  The service advisors are fantastic!\n",
      "- Key topics:[Staff,SERVICE COST ,Facilities]\n",
      "- Sentiment:Positive\n",
      "\n"
     ]
    },
    {
     "name": "stderr",
     "output_type": "stream",
     "text": [
      "Processing Reviews:  27%|█████▍              | 320/1181 [05:54<15:28,  1.08s/it]"
     ]
    },
    {
     "name": "stdout",
     "output_type": "stream",
     "text": [
      "Raw LLM Output for review: Was given wrong information on multiple occasions concerning what needs to be fixed. I’m told its covered under my warranty then the next person I talk to informed me that it’s not covered and it’s going to cost me $1400.00. This is so sad because I’ve been a ford customer for many many years. As of right not I don’t believe I will step foot back in there.\n",
      "- Key topics:[Product Quality, Staff]\n",
      "- Sentiment:Negative\n",
      "\n",
      "Raw LLM Output for review: Rob and the service manager did everything they could to make a bad situation work out for the best. I feel like they went above and beyond to help resolve the issues with my vehicle.\n",
      "- Key topics:[Staff]\n",
      "- Sentiment:Positive\n",
      "\n"
     ]
    },
    {
     "name": "stderr",
     "output_type": "stream",
     "text": [
      "Processing Reviews:  27%|█████▍              | 321/1181 [05:56<17:13,  1.20s/it]"
     ]
    },
    {
     "name": "stdout",
     "output_type": "stream",
     "text": [
      "Raw LLM Output for review: Most unprofessional company. So incompetent. These people didn't have my car ready and didn't even put gas in it. Didn't disclose the multiple issues that the vehicle has.\n",
      "- Key topics:[Not Classified, Service Cost]\n",
      "- Sentiment:Negative\n",
      "Raw LLM Output for review: They were great at contacting me about a recall that needed fixing and they came to me and made it extremely convenient.\n",
      "- Key topics:[Service Diagnostics, Facilities]\n",
      "- Sentiment:Positive\n",
      "\n",
      "\n"
     ]
    },
    {
     "name": "stderr",
     "output_type": "stream",
     "text": [
      "Processing Reviews:  27%|█████▍              | 324/1181 [06:00<19:42,  1.38s/it]"
     ]
    },
    {
     "name": "stdout",
     "output_type": "stream",
     "text": [
      "Raw LLM Output for review: The guy at the service desk does not know how to smile and looks like he hates his job. The younger guy at the quick lube desk was on the phone and as I stood there I looked to my right and there was the guy I am about to talk about sitting there and instead of saying (Sir I can help you over here) he sat there until I asked him if he can help me.  I cracked a little joke to lighten the atmosphere and there was no reaction whatsoever. Me and my Son just looked at each other like wow. He just told me to sign and went through his robotic routine. Would not go back there for anything except warranty work like I was there to do this time.\n",
      "- Key topics:[Staff, Facilities]\n",
      "- Sentiment:Negative\n",
      "\n",
      "Raw LLM Output for review: Very very bad did not even touch my car after having it for 4 days and charged me $200 and told me i could not get my car back unless i paid the fee. This is worst dealership.\n",
      "- Key topics:[Staff,Service Cost]\n",
      "- Sentiment:Negative\n",
      "\n",
      "Raw LLM Output for review: Love that they keep us updated every step of the way\n",
      "- Key topics:Service Time\n",
      "- Sentiment:Positive\n",
      "\n"
     ]
    },
    {
     "name": "stderr",
     "output_type": "stream",
     "text": [
      "Processing Reviews:  28%|█████▌              | 326/1181 [06:02<16:24,  1.15s/it]"
     ]
    },
    {
     "name": "stdout",
     "output_type": "stream",
     "text": [
      "Raw LLM Output for review: Was having issues with my f150. Now I'm mechanically inclined, I also have a diagnostic tool for my truck. I told service rep I was having a P0017 code which is a crankshaft sensor issue and the advancetrac light came on. I was also getting high oil pressure and my truck would go limp. (This happened after an oil change) So I took it to ford because I didn't want to deal with it. After they ran diagnostic (which I already did but i get it, its procedural). After which they told me it would be $5000 for a new engine harness and that MAY fix the issue. I declined ofcourse took it home. Did some searching on the internet and found that the issue of going limp can be from a faulty filter or oil pressure switch. I purchased both parts for less than $30. I removed the intake assembly and chanrge pipes for driver side turbo. Pulled the pressure switch out using a 13/16 wrench and replaced it. Reassembled air intake and turbo pipes. Did a full oil change with high performance Fram filter. Then drove to New Jersey and back no issues with oil pressure and going limp. I was pushing the truck because I wanted to see if I could replicate the oil pressure issue and it didn't happen. So now I'm back to square 1 with advance trac and crankshaft sensor lights. The abs module was not looked at, the wheel speed sensor was not looked at, the crankshaft sensor was not looked at, etc. However they charged me $200, I would love to have my money back. Seems like after they found out I was paying out of pocket and it wasnt covered under warranty they didn't want to really look at it. I guess ill just take it to a mom and pop shop and have the crankshaft sensor replaced. Again i could do it myself but I have a degree for havac and im a commercial HVACR tech, so i dont have the time. You would think ford techs would be the best well... i got another thing for you. Waste of time and money. By the length of this article here that I'm writing you can tell how infuriated I am.\n",
      "- Key topics:[Wheel/Tires,Service Quality]\n",
      "- Sentiment:Negative\n",
      "\n",
      "Raw LLM Output for review: The work that I requested was completed satisfactorily.\n",
      "- Key topics:Not Classified\n",
      "- Sentiment:Positive\n",
      "\n"
     ]
    },
    {
     "name": "stderr",
     "output_type": "stream",
     "text": [
      "Processing Reviews:  28%|█████▌              | 328/1181 [06:04<16:12,  1.14s/it]"
     ]
    },
    {
     "name": "stdout",
     "output_type": "stream",
     "text": [
      "Raw LLM Output for review: Person at the front desk was super friendly and helpful. The service was completed fast and effiently.\n",
      "- Key topics:Staff,Sservice Time\n",
      "- Sentiment:[Positive]\n",
      "\n"
     ]
    },
    {
     "name": "stderr",
     "output_type": "stream",
     "text": [
      "Processing Reviews:  28%|█████▌              | 330/1181 [06:05<12:40,  1.12it/s]"
     ]
    },
    {
     "name": "stdout",
     "output_type": "stream",
     "text": [
      "Raw LLM Output for review: Rear tire was loosing air. Stopped by with out an appointment. They were able to locate cause of leak and repair tire. This was taken care of impromptu on a Saturday afternoon with a minimal wait time.\n",
      "- Key topics:[Service Time,Wheel/Tires]\n",
      "- Sentiment:Positive\n",
      "\n"
     ]
    },
    {
     "name": "stderr",
     "output_type": "stream",
     "text": [
      "Processing Reviews:  28%|█████▌              | 331/1181 [06:06<13:00,  1.09it/s]"
     ]
    },
    {
     "name": "stdout",
     "output_type": "stream",
     "text": [
      "Raw LLM Output for review: Excellent service! They also send you an inspection video so you know exactly the condition your vehicle is in. Fast and professional!\n",
      "- Key topics:[Service Quality, Facilities, Product Availability]\n",
      "- Sentiment:Positive\n",
      "\n"
     ]
    },
    {
     "name": "stderr",
     "output_type": "stream",
     "text": [
      "Processing Reviews:  28%|█████▌              | 332/1181 [06:07<13:20,  1.06it/s]"
     ]
    },
    {
     "name": "stdout",
     "output_type": "stream",
     "text": [
      "Raw LLM Output for review: I had my F-350 in for inspection and oil change. In and out in a timely manner. No problem getting an appointment. My truck and I are always treated with respect and care.\n",
      "- Key topics:[Service Time, Staff]\n",
      "- Sentiment:Positive\n",
      "\n"
     ]
    },
    {
     "name": "stderr",
     "output_type": "stream",
     "text": [
      "Processing Reviews:  28%|█████▋              | 333/1181 [06:07<12:30,  1.13it/s]"
     ]
    },
    {
     "name": "stdout",
     "output_type": "stream",
     "text": [
      "Raw LLM Output for review: Friendly, courteous, timely and satisfied with work.\n",
      "- Key topics:Service Time,Staff\n",
      "- Sentiment:Positive\n",
      "\n"
     ]
    },
    {
     "name": "stderr",
     "output_type": "stream",
     "text": [
      "Processing Reviews:  28%|█████▋              | 334/1181 [06:08<13:03,  1.08it/s]"
     ]
    },
    {
     "name": "stdout",
     "output_type": "stream",
     "text": [
      "Raw LLM Output for review: Scheduled inspection and service online. Bethlehem Ford sent me a video showing the inspection process,  and handled everything as expected.  Thanks Bethlehem Ford.\n",
      "- Key topics:[Service Quality,Facilities]\n",
      "- Sentiment:Positive\n",
      "\n"
     ]
    },
    {
     "name": "stderr",
     "output_type": "stream",
     "text": [
      "Processing Reviews:  28%|█████▋              | 335/1181 [06:10<14:39,  1.04s/it]"
     ]
    },
    {
     "name": "stdout",
     "output_type": "stream",
     "text": [
      "Raw LLM Output for review: I’ve been going to ford for a long time, they’ve been doing a great job maintaining my car. Thank you again to all at Bethlehem Ford!!\n",
      "- Key topics:[Staff, Product Quality]\n",
      "- Sentiment: [Positive]\n",
      "\n"
     ]
    },
    {
     "name": "stderr",
     "output_type": "stream",
     "text": [
      "Processing Reviews:  28%|█████▋              | 336/1181 [06:10<12:10,  1.16it/s]"
     ]
    },
    {
     "name": "stdout",
     "output_type": "stream",
     "text": [
      "Raw LLM Output for review: I've been coming here for years-lease/purchase through regular maintenance/repairs/inspection. A1 Customer service throughout interactions. No complaints here!\n",
      "Key topics:[Product Availability, Staff]\n",
      "- Sentiment: Positive\n",
      "\n"
     ]
    },
    {
     "name": "stderr",
     "output_type": "stream",
     "text": [
      "Processing Reviews:  29%|█████▋              | 337/1181 [06:12<15:06,  1.07s/it]"
     ]
    },
    {
     "name": "stdout",
     "output_type": "stream",
     "text": [
      "Raw LLM Output for review: Brought the car in with a misfire with no appointment. They had it diagnosed and fixed with a new motor in less than a week. Very professional and courteous\n",
      "- Key topics: [Service Quality,Staff]\n",
      "- Sentiment:[Positive]\n",
      "\n"
     ]
    },
    {
     "name": "stderr",
     "output_type": "stream",
     "text": [
      "Processing Reviews:  29%|█████▋              | 338/1181 [06:12<12:35,  1.12it/s]"
     ]
    },
    {
     "name": "stdout",
     "output_type": "stream",
     "text": [
      "Raw LLM Output for review: I called them in the morning and asked them if I could bring my car in for a battery replacement. He said just bring it in whenever you can get here. When I arrived, they took my suv in right away. Now that’s service.\n",
      "- Key topics:[Service Time]\n",
      "- Sentiment:[Positive]\n",
      "\n"
     ]
    },
    {
     "name": "stderr",
     "output_type": "stream",
     "text": [
      "Processing Reviews:  29%|█████▋              | 339/1181 [06:14<17:41,  1.26s/it]"
     ]
    },
    {
     "name": "stdout",
     "output_type": "stream",
     "text": [
      "Raw LLM Output for review: The customer service were so nice and helpful.\n",
      "Thank you ford team for all the work you did for my ford transit\n",
      "- Key topics:Staff,Product Availability\n",
      "- Sentiment:Positive\n",
      "\n"
     ]
    },
    {
     "name": "stderr",
     "output_type": "stream",
     "text": [
      "Processing Reviews:  29%|█████▊              | 340/1181 [06:15<14:21,  1.02s/it]"
     ]
    },
    {
     "name": "stdout",
     "output_type": "stream",
     "text": [
      "Raw LLM Output for review: My experience at the bethlehem ford dealer are the most professional dealer i have been too I  have been to quite a few and the customer service i got here was exceptional and i got my first new car from them I will be back in the future thank you\n",
      "- Key topics:[Staff,Service Quality]\n",
      "- Sentiment:Positive\n",
      "\n",
      "Raw LLM Output for review: I love that they take a video of the under carriage so you can see what they see and inside the hood I was impressed with that. Love the work they do definitely recommend them for service.\n",
      "- Key topics:Service Quality\n",
      "-Sentiment:[Positive]\n",
      "\n"
     ]
    },
    {
     "name": "stderr",
     "output_type": "stream",
     "text": [
      "Processing Reviews:  29%|█████▊              | 341/1181 [06:17<17:54,  1.28s/it]"
     ]
    },
    {
     "name": "stdout",
     "output_type": "stream",
     "text": [
      "Raw LLM Output for review: Diagnostic on 12v battery.  Bethlehem Ford accommodated my request without the need of an appointment.  They provided fast and courteous service.\n",
      "- Key topics:[Service Cost, Staff, Facilities]\n",
      "- Sentiment:Positive\n",
      "\n"
     ]
    },
    {
     "name": "stderr",
     "output_type": "stream",
     "text": [
      "Processing Reviews:  29%|█████▊              | 343/1181 [06:18<14:52,  1.07s/it]"
     ]
    },
    {
     "name": "stdout",
     "output_type": "stream",
     "text": [
      "Raw LLM Output for review: Great experience and quality work. Steven Baker is always a great service agent. Technician did a great job.\n",
      "- Key topics:[Staff, Product Quality]\n",
      "- Sentiment: Positive\n",
      "\n"
     ]
    },
    {
     "name": "stderr",
     "output_type": "stream",
     "text": [
      "Processing Reviews:  29%|█████▊              | 344/1181 [06:19<12:29,  1.12it/s]"
     ]
    },
    {
     "name": "stdout",
     "output_type": "stream",
     "text": [
      "Raw LLM Output for review: Very Friendly team and excellent service, have been going to them for past two years.\n",
      "- Key topics:[Staff,Service Quality]\n",
      "- Sentiment:Positive\n",
      "\n",
      "Raw LLM Output for review: I love this service center! Steven always brightens my morning and my free shuttle to work is delightful with Mike!\n",
      "Key topics:[Staff]\n",
      "-Sentiment:Positive\n",
      "\n"
     ]
    },
    {
     "name": "stderr",
     "output_type": "stream",
     "text": [
      "Processing Reviews:  29%|█████▊              | 345/1181 [06:20<14:35,  1.05s/it]"
     ]
    },
    {
     "name": "stdout",
     "output_type": "stream",
     "text": [
      "Raw LLM Output for review: Serviced car within 24 hours, even though I did not have an appointment, & replaced battery while I waited.\n",
      "- Key topics:[Service Time,Staff]\n",
      "- Sentiment:Positive\n",
      "\n"
     ]
    },
    {
     "name": "stderr",
     "output_type": "stream",
     "text": [
      "Processing Reviews:  29%|█████▉              | 347/1181 [06:22<13:29,  1.03it/s]"
     ]
    },
    {
     "name": "stdout",
     "output_type": "stream",
     "text": [
      "Raw LLM Output for review: Professional employees,  quality service, reasonably prices, I have never had a problem with Koch Ford of Bethlehem.\n",
      "- Key topics:[Staff,Product Quality]\n",
      "- Sentiment:Positive\n",
      "\n",
      "Raw LLM Output for review: No issues\n",
      "- Key topics:Not Classified\n",
      "- Sentiment:Neutral\n",
      "\n"
     ]
    },
    {
     "name": "stderr",
     "output_type": "stream",
     "text": [
      "Processing Reviews:  30%|█████▉              | 349/1181 [06:24<14:11,  1.02s/it]"
     ]
    },
    {
     "name": "stdout",
     "output_type": "stream",
     "text": [
      "Raw LLM Output for review: Quick in and out. Complimentary inspection of my vehicle was done. Friendly staff.\n",
      "- Key topics:[Staff,Service Time,Facilities]\n",
      "- Sentiment:[Positive]\n",
      "\n"
     ]
    },
    {
     "name": "stderr",
     "output_type": "stream",
     "text": [
      "Processing Reviews:  30%|█████▉              | 350/1181 [06:24<11:49,  1.17it/s]"
     ]
    },
    {
     "name": "stdout",
     "output_type": "stream",
     "text": [
      "Raw LLM Output for review: I had an inspection done. Great service and like the video sent as a follow up.\n",
      "- Key topics:Service quality,Facilities\n",
      "- Sentiment:Positive\n",
      "\n",
      "Raw LLM Output for review: They always take care of my automotive needs and Caleb the writer was awesome and all the service advisors are great\n",
      "- Key topics:[Staff]\n",
      "- Sentiment:Positive\n",
      "\n"
     ]
    },
    {
     "name": "stderr",
     "output_type": "stream",
     "text": [
      "Processing Reviews:  30%|█████▉              | 351/1181 [06:26<14:49,  1.07s/it]"
     ]
    },
    {
     "name": "stdout",
     "output_type": "stream",
     "text": [
      "Raw LLM Output for review: Good experience,  no weight, polite, fair inspection, didn’t try to add-on unnecessary work. Will switch for my regular maintenance.\n",
      "- Key topics:[Staff,Service Quality]\n",
      "- Sentiment:Positive\n",
      "\n"
     ]
    },
    {
     "name": "stderr",
     "output_type": "stream",
     "text": [
      "Processing Reviews:  30%|█████▉              | 352/1181 [06:29<20:25,  1.48s/it]"
     ]
    },
    {
     "name": "stdout",
     "output_type": "stream",
     "text": [
      "Raw LLM Output for review: Bill was great and stayed in communication with me the whole time.\n",
      "- Key topics:[Staff]\n",
      "- Sentiment:Positive\n",
      "\n",
      "Raw LLM Output for review: I have had nothing but positive experiences with Bethlehem Ford service department. I highly recommend.\n",
      "- Key topics:[Staff,Service Quality,Facilities]\n",
      "- Sentiment:Positive\n",
      "\n",
      "Raw LLM Output for review: I used the Ford Quick Lane to have my tires checked and they attended to it immediately.\n",
      "- Key topics: [Service Time,Wheel/Tires]\n",
      "- Sentiment: Neutral\n",
      "\n"
     ]
    },
    {
     "name": "stderr",
     "output_type": "stream",
     "text": [
      "Processing Reviews:  30%|██████              | 356/1181 [06:29<09:49,  1.40it/s]"
     ]
    },
    {
     "name": "stdout",
     "output_type": "stream",
     "text": [
      "Raw LLM Output for review: They were very thorough in explaining my situation,very timely and very courtesy.  I will return and im very eased with my service tk you\n",
      "- Key topics:[Staff]\n",
      "- Sentiment: Positive\n",
      "\n",
      "Raw LLM Output for review: Great service. Like video that tech goes over what they have done.\n",
      "- Key topics:[Service Quality]\n",
      "- Sentiment:Positive\n",
      "\n"
     ]
    },
    {
     "name": "stderr",
     "output_type": "stream",
     "text": [
      "Processing Reviews:  30%|██████              | 357/1181 [06:32<14:25,  1.05s/it]"
     ]
    },
    {
     "name": "stdout",
     "output_type": "stream",
     "text": [
      "Raw LLM Output for review: Friendly and informative staff. Work was done and vehicle completed in the time promised.\n",
      "- Key topics:[Staff, Service Time]\n",
      "- Sentiment: Positive\n",
      "Raw LLM Output for review: The service manager was friendly and courteous got me in on time the work was done right and got me out when the job was done\n",
      "- Key topics:Staff,Service Time\n",
      "- Sentiment:Positive\n",
      "\n",
      "\n"
     ]
    },
    {
     "name": "stderr",
     "output_type": "stream",
     "text": [
      "Processing Reviews:  30%|██████              | 360/1181 [06:32<08:40,  1.58it/s]"
     ]
    },
    {
     "name": "stdout",
     "output_type": "stream",
     "text": [
      "Raw LLM Output for review: Extremely helpful and got us back on our road trip in great time.\n",
      "- Key topics:[Service Time]\n",
      "-Sentiment:Positive\n",
      "\n"
     ]
    },
    {
     "name": "stderr",
     "output_type": "stream",
     "text": [
      "Processing Reviews:  31%|██████              | 361/1181 [06:35<14:06,  1.03s/it]"
     ]
    },
    {
     "name": "stdout",
     "output_type": "stream",
     "text": [
      "Raw LLM Output for review: Super service as always. Been using Bethlehem Ford's service department for decades. It's top notch on all counts.\n",
      "- Key topics:[Service Quality, Facilities]\n",
      "- Sentiment:Positive\n",
      "Raw LLM Output for review: Bought a new F150 and the sales team were friendly and accommodating\n",
      "- Key topics:[Staff]\n",
      "- Sentiment:Positive.\n",
      "\n",
      "\n"
     ]
    },
    {
     "name": "stderr",
     "output_type": "stream",
     "text": [
      "Processing Reviews:  31%|██████▏             | 363/1181 [06:36<10:03,  1.35it/s]"
     ]
    },
    {
     "name": "stdout",
     "output_type": "stream",
     "text": [
      "Raw LLM Output for review: People be warned stay away from this service center!!!! At 47yrs old and have been a Ford owner for years, this is with out a doubt the worst service center I’ve ever delt with!!!!!!!\n",
      "- Key topics:[Staff, Service Quality]\n",
      "- Sentiment: Negative\n",
      "Raw LLM Output for review: I used to like this place-I will never go there again!  WAAY too expensive, & took all day! I'm not paying for their remodeling & new employees anymore.\n",
      "- Key topics:[Service Cost, Facilities]\n",
      "- Sentiment:Negative\n",
      "\n",
      "\n"
     ]
    },
    {
     "name": "stderr",
     "output_type": "stream",
     "text": [
      "Processing Reviews:  31%|██████▏             | 365/1181 [06:38<12:35,  1.08it/s]"
     ]
    },
    {
     "name": "stdout",
     "output_type": "stream",
     "text": [
      "Raw LLM Output for review: I like the people however I have to keep going back to the service department over and over because I feel they are just taking guesses at the vehicle's issues.\n",
      "- Key topics:Staff\n",
      "- Sentiment:[Negative]\n",
      "\n",
      "Raw LLM Output for review: Bethlehem Ford has excellent customer service and experienced technicians. Highly recommend.\n",
      "- Key topics:[Staff,Product Quality]\n",
      "- Sentiment: [Positive]\n",
      "\n",
      "Raw LLM Output for review: Quality service. Clear explanation of service needed and options clearly  provided. Done on time.\n",
      "- Key topics:[Service Quality,Facilities]\n",
      "- Sentiment:Positive\n",
      "\n"
     ]
    },
    {
     "name": "stderr",
     "output_type": "stream",
     "text": [
      "Processing Reviews:  31%|██████▏             | 366/1181 [06:40<13:43,  1.01s/it]"
     ]
    },
    {
     "name": "stdout",
     "output_type": "stream",
     "text": [
      "Raw LLM Output for review: Had a recall taking care of service was curious and done in the said time line\n",
      "- Key topics:[Product Quality,Service Time]\n",
      "- Sentiment: [Neutral]\n",
      "\n",
      "Raw LLM Output for review: Super friendly staff. Kept me informed on what was happening with my car\n",
      "- Key topics:Staff,Sentiment:Positive\n",
      "\n",
      "Raw LLM Output for review: Very friendly and fixed my clutch in a reasonable amount of time\n",
      "- Key topics:[Service Time]\n",
      "- Sentiment:Positive\n",
      "\n"
     ]
    },
    {
     "name": "stderr",
     "output_type": "stream",
     "text": [
      "Processing Reviews:  31%|██████▏             | 369/1181 [06:42<12:43,  1.06it/s]"
     ]
    },
    {
     "name": "stdout",
     "output_type": "stream",
     "text": [
      "Raw LLM Output for review: They repaired a flat tire, believe had a screw in, also did recall while I waited\n",
      "- Key topics:[Wheel/Tires,Recall]\n",
      "-Sentiment: [Negative]\n",
      "\n",
      "Raw LLM Output for review: Very good promptnservice.did not try to upsell or perform unnecessary repairs.friendly knowledgeable staff.\n",
      "- Key topics:[Staff]\n",
      "- Sentiment: Positive\n",
      "\n",
      "Raw LLM Output for review: They were very friendly well organized and explained every detail\n",
      "- Key topics: [Staff]\n",
      "- Sentiment: [Positive]\n",
      "\n",
      "Raw LLM Output for review: They didn't work on the vehicle but kept it all day and never called me stating nothing could be done\n",
      "- Key topics:[Service Time,Staff]\n",
      "- Sentiment:Negative\n",
      "\n"
     ]
    },
    {
     "name": "stderr",
     "output_type": "stream",
     "text": [
      "Processing Reviews:  32%|██████▎             | 373/1181 [06:46<11:59,  1.12it/s]"
     ]
    },
    {
     "name": "stdout",
     "output_type": "stream",
     "text": [
      "Raw LLM Output for review: Went in everyone was very polite and personal. Vehicle had a few issues we went in and out in about 30 to 40 mins\n",
      "- Key topics:[Staff,Service Time]\n",
      "- Sentiment: [Positive/Negative/Neutral]\n",
      "\n"
     ]
    },
    {
     "name": "stderr",
     "output_type": "stream",
     "text": [
      "Processing Reviews:  32%|██████▎             | 375/1181 [06:46<09:35,  1.40it/s]"
     ]
    },
    {
     "name": "stdout",
     "output_type": "stream",
     "text": [
      "Raw LLM Output for review: Overall service was good. $69.00 for an oil change  is outrageous.\n",
      "- Key topics:[Service Cost, Oil Change/Refill]\n",
      "- Sentiment:Negative\n",
      "\n"
     ]
    },
    {
     "name": "stderr",
     "output_type": "stream",
     "text": [
      "Processing Reviews:  32%|██████▍             | 378/1181 [06:48<09:13,  1.45it/s]"
     ]
    },
    {
     "name": "stdout",
     "output_type": "stream",
     "text": [
      "Raw LLM Output for review: The service was preformed quickly while I waited.  Staff was pleasant and well informed.\n",
      "- Key topics: [Staff,Service Time]\n",
      "- Sentiment: Positive\n",
      "\n",
      "Raw LLM Output for review: Very happy with service.  Would definitely recommend\n",
      "- Key topics:[Service Quality, Staff]\n",
      "- Sentiment:Positive\n",
      "\n",
      "Raw LLM Output for review: Great place! Friendly and prompt. Employees are knowledgeable and easy to work with.\n",
      "Key topics:[Staff]\n",
      "-Sentiment:Positive\n",
      "\n"
     ]
    },
    {
     "name": "stderr",
     "output_type": "stream",
     "text": [
      "Processing Reviews:  32%|██████▍             | 379/1181 [06:49<10:56,  1.22it/s]"
     ]
    },
    {
     "name": "stdout",
     "output_type": "stream",
     "text": [
      "Raw LLM Output for review: Take company trucks here for a few years now. Easy to deal with, and reiable service.\n",
      "- Key topics:[Service Cost,Staff]\n",
      "- Sentiment: [Positive/Negative/Neutral]\n",
      "\n"
     ]
    },
    {
     "name": "stderr",
     "output_type": "stream",
     "text": [
      "Processing Reviews:  32%|██████▍             | 381/1181 [06:50<09:26,  1.41it/s]"
     ]
    },
    {
     "name": "stdout",
     "output_type": "stream",
     "text": [
      "Raw LLM Output for review: My dealer and maintenance garage since 2001.  Two new vehicles and two used vehicles\n",
      "- Key topics:Product Availability \n",
      "- Sentiment:Neutral\n",
      "\n",
      "Raw LLM Output for review: Very good service, even without an appointment.\n",
      "- Key topics:Service Time\n",
      "-Sentiment:Positive\n",
      "\n"
     ]
    },
    {
     "name": "stderr",
     "output_type": "stream",
     "text": [
      "Processing Reviews:  32%|██████▍             | 383/1181 [06:51<07:16,  1.83it/s]"
     ]
    },
    {
     "name": "stdout",
     "output_type": "stream",
     "text": [
      "Raw LLM Output for review: Tech was excellent!\n",
      "- Key topics: [Not Classified]\n",
      "- Sentiment: [Positive]\n",
      "\n"
     ]
    },
    {
     "name": "stderr",
     "output_type": "stream",
     "text": [
      "Processing Reviews:  33%|██████▌             | 384/1181 [06:52<09:34,  1.39it/s]"
     ]
    },
    {
     "name": "stdout",
     "output_type": "stream",
     "text": [
      "Raw LLM Output for review: Friendly and helpful and did the work in a timely manner\n",
      "- Key topics:[Service Time, Staff]\n",
      "- Sentiment:[Positive]\n",
      "\n",
      "Raw LLM Output for review: My service was very quick. Less then hour.\n",
      "- Key topics:[Service Time]\n",
      "- Sentiment:Positive\n",
      "\n",
      "Raw LLM Output for review: The Service rep was very friendly and informative.\n",
      "- Key topics:[Staff]\n",
      "- Sentiment:Positive\n",
      "\n"
     ]
    },
    {
     "name": "stderr",
     "output_type": "stream",
     "text": [
      "Processing Reviews:  33%|██████▌             | 385/1181 [06:53<10:46,  1.23it/s]"
     ]
    },
    {
     "name": "stdout",
     "output_type": "stream",
     "text": [
      "Raw LLM Output for review: Repairs were well done and service was excellent.\n",
      "- Key topics:[Service Cost, Staff]\n",
      "- Sentiment: [Positive]\n",
      "\n"
     ]
    },
    {
     "name": "stderr",
     "output_type": "stream",
     "text": [
      "Processing Reviews:  33%|██████▌             | 388/1181 [06:55<08:03,  1.64it/s]"
     ]
    },
    {
     "name": "stdout",
     "output_type": "stream",
     "text": [
      "Raw LLM Output for review: Customer service was outstanding especially shanika and bill in service .\n",
      "- Key topics:Staff\n",
      "- Sentiment:Positive\n",
      "\n"
     ]
    },
    {
     "name": "stderr",
     "output_type": "stream",
     "text": [
      "Processing Reviews:  33%|██████▌             | 390/1181 [06:56<07:29,  1.76it/s]"
     ]
    },
    {
     "name": "stdout",
     "output_type": "stream",
     "text": [
      "Raw LLM Output for review: Great customer service and completed in a timely manner!\n",
      "- Key topics:Staff,Service Time\n",
      "- Sentiment:Positive\n",
      "\n",
      "Raw LLM Output for review: Staff professional and friendly\n",
      "- Key topics:[Staff]\n",
      "- Sentiment: [Positive]\n",
      "\n"
     ]
    },
    {
     "name": "stderr",
     "output_type": "stream",
     "text": [
      "Processing Reviews:  33%|██████▌             | 391/1181 [06:56<06:06,  2.16it/s]"
     ]
    },
    {
     "name": "stdout",
     "output_type": "stream",
     "text": [
      "Raw LLM Output for review: Very pleasant experience.  Have choice of places to go, this is my favorite\n",
      "- Key topics:Not Classified\n",
      "- Sentiment:Positive\n",
      "\n"
     ]
    },
    {
     "name": "stderr",
     "output_type": "stream",
     "text": [
      "Processing Reviews:  33%|██████▋             | 392/1181 [06:58<10:29,  1.25it/s]"
     ]
    },
    {
     "name": "stdout",
     "output_type": "stream",
     "text": [
      "Raw LLM Output for review: Great place. Been going for over 15 years\n",
      "- Key topics: [Not Classified, Facilities]\n",
      "- Sentiment: Neutral\n",
      "\n",
      "Raw LLM Output for review: Good service and good sense of humor Bill.\n",
      "- Key topics: [Staff]\n",
      "- Sentiment: Positive\n",
      "\n"
     ]
    },
    {
     "name": "stderr",
     "output_type": "stream",
     "text": [
      "Processing Reviews:  33%|██████▋             | 395/1181 [06:59<07:05,  1.85it/s]"
     ]
    },
    {
     "name": "stdout",
     "output_type": "stream",
     "text": [
      "Raw LLM Output for review: Did good work as always. Able to fit me in with short notice.\n",
      "- Key topics:[Staff,Service Time]\n",
      "- Sentiment: [Positive]\n",
      "\n",
      "Raw LLM Output for review: Very nice the young man put my window blades on my windows for me, thank 🙏 you very very much. …\n",
      "- Key topics:[Staff, Facilities]\n",
      "- Sentiment: [Positive]\n",
      "\n"
     ]
    },
    {
     "name": "stderr",
     "output_type": "stream",
     "text": [
      "Processing Reviews:  34%|██████▋             | 396/1181 [07:00<08:20,  1.57it/s]"
     ]
    },
    {
     "name": "stdout",
     "output_type": "stream",
     "text": [
      "Raw LLM Output for review: They where very professional and great service.\n",
      "- Key topics:Staff\n",
      "-Sentiment:Positive\n",
      "\n"
     ]
    },
    {
     "name": "stderr",
     "output_type": "stream",
     "text": [
      "Processing Reviews:  34%|██████▋             | 397/1181 [07:01<09:26,  1.38it/s]"
     ]
    },
    {
     "name": "stdout",
     "output_type": "stream",
     "text": [
      "Raw LLM Output for review: Highly recommend. Great service and friendly.\n",
      "- Key topics:[Staff,Service Time]\n",
      "- Sentiment:Positive\n",
      "\n",
      "Raw LLM Output for review: Kind, courteous and does as they say\n",
      "- Key topics:Staff\n",
      "- Sentiment:Positive\n",
      "\n"
     ]
    },
    {
     "name": "stderr",
     "output_type": "stream",
     "text": [
      "Processing Reviews:  34%|██████▋             | 398/1181 [07:02<09:38,  1.35it/s]"
     ]
    },
    {
     "name": "stdout",
     "output_type": "stream",
     "text": [
      "Raw LLM Output for review: Excellent service went all the way to fix\n",
      "- Key topics:[Service Quality, Facilities]\n",
      "- Sentiment:[Positive]\n",
      "\n"
     ]
    },
    {
     "name": "stderr",
     "output_type": "stream",
     "text": [
      "Processing Reviews:  34%|██████▊             | 400/1181 [07:02<06:51,  1.90it/s]"
     ]
    },
    {
     "name": "stdout",
     "output_type": "stream",
     "text": [
      "Raw LLM Output for review: Best Ford dealer in the area to get service done!\n",
      "- Key topics:[Staff]\n",
      "- Sentiment: Positive\n",
      "\n",
      "Raw LLM Output for review: All good very friendly staff\n",
      "- Key topics:[Staff]\n",
      "- Sentiment:Positive\n",
      "\n",
      "Raw LLM Output for review: Very informative of what is going on with the voltage issue\n",
      "- Key topics: [Not Classified]\n",
      "- Sentiment: [Neutral]\n",
      "\n",
      "Raw LLM Output for review: Forgot to change sticker inside windshield\n",
      "- Key topics:[Wheel/Tires, Facilities,Recall]\n",
      "- Sentiment:Neutral\n",
      "\n",
      "Raw LLM Output for review: State Inspection. .\n",
      "Yearly maintenance as scheduled.\n",
      "- Key topics:Service Cost\n",
      "- Sentiment:[Positive]\n",
      "\n",
      "Raw LLM Output for review: Everything was good, the people very professional\n",
      "- Key topics:\n",
      "- Staff\n",
      "- Sentiment: [Positive]\n",
      "\n",
      "Note: The review only mentions positive experiences with the staff and lacks specific details about product quality, service time, facilities, etc.\n",
      "\n",
      "Raw LLM Output for review: Everyone is so friendly and knowledgeable.\n",
      "- Key topics:Staff\n",
      "-Sentiment:Positive\n",
      "\n",
      "Raw LLM Output for review: Great work just a bit pricey!!!\n",
      "- Key topics:Service Cost\n",
      "- Sentiment:Neutral\n",
      "\n",
      "Raw LLM Output for review: Garbage\n",
      "- Key topics: [Not Classified]\n",
      "- Sentiment: [Negative]\n",
      "\n"
     ]
    },
    {
     "name": "stderr",
     "output_type": "stream",
     "text": [
      "Processing Reviews:  34%|██████▊             | 401/1181 [07:12<34:41,  2.67s/it]"
     ]
    },
    {
     "name": "stdout",
     "output_type": "stream",
     "text": [
      "Raw LLM Output for review: Love them I dont go anywhere else.\n",
      "- Key topics: [Staff], Sentiment: [Positive]\n",
      "\n",
      "Note: The review does not explicitly mention any specific topic from the predefined list except Staff. However, it is mentioned that \"I dont go anywhere else\" which implies Product Quality as well because reviewer prefers to go with same service center for their all needs\n",
      "\n"
     ]
    },
    {
     "name": "stderr",
     "output_type": "stream",
     "text": [
      "Processing Reviews:  35%|██████▉             | 410/1181 [07:13<09:35,  1.34it/s]"
     ]
    },
    {
     "name": "stdout",
     "output_type": "stream",
     "text": [
      "Raw LLM Output for review: Airbag recall, excellent experience\n",
      "- Key topics:[Recall, Service Quality]\n",
      "- Sentiment:Positive\n",
      "\n",
      "Raw LLM Output for review: Good service and great at getting you in and out .\n",
      "- Key topics:Service Time\n",
      "- Sentiment:Positive\n",
      "\n"
     ]
    },
    {
     "name": "stderr",
     "output_type": "stream",
     "text": [
      "Processing Reviews:  35%|██████▉             | 412/1181 [07:13<08:00,  1.60it/s]"
     ]
    },
    {
     "name": "stdout",
     "output_type": "stream",
     "text": [
      "Raw LLM Output for review: The service is always Great!!\n",
      "- Key topics:None\n",
      "- Sentiment:Positive\n",
      "\n"
     ]
    },
    {
     "name": "stderr",
     "output_type": "stream",
     "text": [
      "Processing Reviews:  35%|██████▉             | 413/1181 [07:14<08:37,  1.48it/s]"
     ]
    },
    {
     "name": "stdout",
     "output_type": "stream",
     "text": [
      "Raw LLM Output for review: Very prompt and courteous service.\n",
      "- Key topics:Staff\n",
      "-Sentiment:Positive\n",
      "\n"
     ]
    },
    {
     "name": "stderr",
     "output_type": "stream",
     "text": [
      "Processing Reviews:  35%|███████             | 415/1181 [07:16<08:43,  1.46it/s]"
     ]
    },
    {
     "name": "stdout",
     "output_type": "stream",
     "text": [
      "Raw LLM Output for review: Great services and great communication 👏 👌 …\n",
      "- Key topics:[Service Quality]\n",
      "- Sentiment: [Positive]\n",
      "\n",
      "Raw LLM Output for review: Recall and inspection.  Good communication.\n",
      "- Key topics: [Recall, Facilities]\n",
      "- Sentiment: Neutral\n",
      "\n"
     ]
    },
    {
     "name": "stderr",
     "output_type": "stream",
     "text": [
      "Processing Reviews:  35%|███████             | 416/1181 [07:16<07:46,  1.64it/s]"
     ]
    },
    {
     "name": "stdout",
     "output_type": "stream",
     "text": [
      "Raw LLM Output for review: Very professional and speedy service\n",
      "- Key topics:[Service Quality,Facilities]\n",
      "- Sentiment:Positive\n",
      "\n"
     ]
    },
    {
     "name": "stderr",
     "output_type": "stream",
     "text": [
      "Processing Reviews:  35%|███████             | 417/1181 [07:17<07:53,  1.61it/s]"
     ]
    },
    {
     "name": "stdout",
     "output_type": "stream",
     "text": [
      "Raw LLM Output for review: Inspection , good job!\n",
      "- Key topics: [Service Quality]\n",
      "- Sentiment: Positive\n",
      "\n"
     ]
    },
    {
     "name": "stderr",
     "output_type": "stream",
     "text": [
      "Processing Reviews:  35%|███████             | 419/1181 [07:19<08:39,  1.47it/s]"
     ]
    },
    {
     "name": "stdout",
     "output_type": "stream",
     "text": [
      "Raw LLM Output for review: Great service and customer service.\n",
      "- Key topics:[Staff,Service Time]\n",
      "- Sentiment:Positive\n",
      "\n",
      "Raw LLM Output for review: Friendly, love it here\n",
      "- Key topics: [None Classified]\n",
      "- Sentiment: [Positive]\n",
      "\n"
     ]
    },
    {
     "name": "stderr",
     "output_type": "stream",
     "text": [
      "Processing Reviews:  36%|███████             | 420/1181 [07:19<07:57,  1.60it/s]"
     ]
    },
    {
     "name": "stdout",
     "output_type": "stream",
     "text": [
      "Raw LLM Output for review: Always on schedule and quality service\n",
      "- Key topics:[Service Time,Product Quality]\n",
      "- Sentiment:Positive\n",
      "\n"
     ]
    },
    {
     "name": "stderr",
     "output_type": "stream",
     "text": [
      "Processing Reviews:  36%|███████▏            | 421/1181 [07:20<08:34,  1.48it/s]"
     ]
    },
    {
     "name": "stdout",
     "output_type": "stream",
     "text": [
      "Raw LLM Output for review: Good service and nice employees\n",
      "- Key topics:[Staff,Service Time]\n",
      "- Sentiment: [Positive]\n",
      "\n"
     ]
    },
    {
     "name": "stderr",
     "output_type": "stream",
     "text": [
      "Processing Reviews:  36%|███████▏            | 423/1181 [07:21<08:12,  1.54it/s]"
     ]
    },
    {
     "name": "stdout",
     "output_type": "stream",
     "text": [
      "Raw LLM Output for review: Very professional and a joy to deal with.\n",
      "- Key topics: [Staff]\n",
      "- Sentiment: [Positive]\n",
      "\n",
      "Raw LLM Output for review: Poor communication and did not fix the issue\n",
      "- Key topics:[Not Classified, Not Classified]\n",
      "- Sentiment:Negative\n",
      "\n",
      "Raw LLM Output for review: Work was done quickly\n",
      "- Key topics:[Service Time]\n",
      "- Sentiment: [Positive]\n",
      "\n",
      "Raw LLM Output for review: Everyone was very helpful and courteous\n",
      "- Key topics:Staff\n",
      "-Sentiment:Positive\n",
      "\n",
      "Raw LLM Output for review: Great service!\n",
      "- Key topics:[Service Quality,Staff]\n",
      "- Sentiment:[Positive]\n",
      "\n",
      "Raw LLM Output for review: Great costumer service\n",
      "- Key topics:[Staff]\n",
      "- Sentiment:[Positive]\n",
      "\n"
     ]
    },
    {
     "name": "stderr",
     "output_type": "stream",
     "text": [
      "Processing Reviews:  36%|███████▏            | 424/1181 [07:25<21:05,  1.67s/it]"
     ]
    },
    {
     "name": "stdout",
     "output_type": "stream",
     "text": [
      "Raw LLM Output for review: Great experience from start to finish!\n",
      "- Key topics: [Not Classified, Not Classified, Not Classified, Not Classified, Not Classified, Not Classified, Not Classified, Not Classified, Service Quality]\n",
      "- Sentiment: Positive\n",
      "\n"
     ]
    },
    {
     "name": "stderr",
     "output_type": "stream",
     "text": [
      "Processing Reviews:  36%|███████▎            | 429/1181 [07:26<07:17,  1.72it/s]"
     ]
    },
    {
     "name": "stdout",
     "output_type": "stream",
     "text": [
      "Raw LLM Output for review: Wonderful service Thank You\n",
      "- Key topics: \n",
      "- Sentiment: [Positive]\n",
      "\n"
     ]
    },
    {
     "name": "stderr",
     "output_type": "stream",
     "text": [
      "Processing Reviews:  36%|███████▎            | 430/1181 [07:26<07:28,  1.68it/s]"
     ]
    },
    {
     "name": "stdout",
     "output_type": "stream",
     "text": [
      "Raw LLM Output for review: The best service ever\n",
      "- Key topics: [Staff]\n",
      "- Sentiment: Positive\n",
      "\n"
     ]
    },
    {
     "name": "stderr",
     "output_type": "stream",
     "text": [
      "Processing Reviews:  36%|███████▎            | 431/1181 [07:27<07:54,  1.58it/s]"
     ]
    },
    {
     "name": "stdout",
     "output_type": "stream",
     "text": [
      "Raw LLM Output for review: Friendly, knowledgeable and efficient.\n",
      "- Key topics:Staff\n",
      "- Sentiment:Positive\n",
      "\n"
     ]
    },
    {
     "name": "stderr",
     "output_type": "stream",
     "text": [
      "Processing Reviews:  37%|███████▎            | 432/1181 [07:28<08:19,  1.50it/s]"
     ]
    },
    {
     "name": "stdout",
     "output_type": "stream",
     "text": [
      "Raw LLM Output for review: Bought  2007 Pick up  Truck  There\n",
      "- Key topics:[Not Classified]\n",
      "- Sentiment:[Negative]\n",
      "\n",
      "Raw LLM Output for review: Great service and staff.\n",
      "- Key topics:[Staff]\n",
      "- Sentiment:Positive\n",
      "\n"
     ]
    },
    {
     "name": "stderr",
     "output_type": "stream",
     "text": [
      "Processing Reviews:  37%|███████▎            | 435/1181 [07:29<06:39,  1.87it/s]"
     ]
    },
    {
     "name": "stdout",
     "output_type": "stream",
     "text": [
      "Raw LLM Output for review: This dealership needs a major pverhaul\n",
      "- Key topics: [Facilities]\n",
      "- Sentiment: [Negative]\n",
      "\n",
      "Raw LLM Output for review: Always excellent service\n",
      "- Key topics:[Staff]\n",
      "- Sentiment:Positive\n",
      "\n"
     ]
    },
    {
     "name": "stderr",
     "output_type": "stream",
     "text": [
      "Processing Reviews:  37%|███████▍            | 436/1181 [07:30<07:48,  1.59it/s]"
     ]
    },
    {
     "name": "stdout",
     "output_type": "stream",
     "text": [
      "Raw LLM Output for review: Great customer service\n",
      "- Key topics: \n",
      "- Sentiment: [Positive]\n",
      "\n",
      "Raw LLM Output for review: Was fast and efficient\n",
      "- Key topics:[Service Time]\n",
      "- Sentiment:Positive\n",
      "\n",
      "Raw LLM Output for review: Very courteous service\n",
      "- Key topics:[Staff]\n",
      "- Sentiment:Positive\n",
      "\n"
     ]
    },
    {
     "name": "stderr",
     "output_type": "stream",
     "text": [
      "Processing Reviews:  37%|███████▍            | 438/1181 [07:32<07:59,  1.55it/s]"
     ]
    },
    {
     "name": "stdout",
     "output_type": "stream",
     "text": [
      "Raw LLM Output for review: Very satisfied.\n",
      "- Key topics:[Not Classified]\n",
      "- Sentiment:[Positive]\n",
      "\n",
      "Raw LLM Output for review: Friendly and responsive\n",
      "- Key topics:[Not Classified, Staff]\n",
      "- Sentiment: [Positive]\n",
      "\n"
     ]
    },
    {
     "name": "stderr",
     "output_type": "stream",
     "text": [
      "Processing Reviews:  38%|███████▌            | 443/1181 [07:34<05:41,  2.16it/s]"
     ]
    },
    {
     "name": "stdout",
     "output_type": "stream",
     "text": [
      "Raw LLM Output for review: Good experience\n",
      "- Key topics: [Not Classified, Not Classified, Not Classified]\n",
      "- Sentiment: Positive\n",
      "\n",
      "Raw LLM Output for review: Excellent service\n",
      "- Key topics: [Staff]\n",
      "- Sentiment: Positive\n",
      "\n",
      "Raw LLM Output for review: Great service.\n",
      "- Key topics:[Service]\n",
      "- Sentiment:Positive\n",
      "\n",
      "Raw LLM Output for review: Lack of communication.\n",
      "- Key topics:[Not Classified]\n",
      "- Sentiment:Negative\n",
      "\n",
      "Raw LLM Output for review: Friendly and professional.\n",
      "- Key topics:Not Classified\n",
      "- Sentiment:Positive\n",
      "\n",
      "Raw LLM Output for review: Very professional\n",
      "- Key topics: [Staff]\n",
      "- Sentiment: [Positive]\n",
      "\n",
      "Raw LLM Output for review: I've been a Bethlehem Ford customer for over 20 years.  They are competent and friendly, and I will keep coming back.  Bill, in Service area, should get a raise.\n",
      "- Key topics:[Staff,Safety]\n",
      "- Sentiment:[Positive]\n",
      "\n",
      "Raw LLM Output for review: Excellent service as usual with Ford dealers\n",
      "- Key topics:[Service Quality,Staff]\n",
      "- Sentiment:Positive\n",
      "\n"
     ]
    },
    {
     "name": "stderr",
     "output_type": "stream",
     "text": [
      "Processing Reviews:  38%|███████▌            | 444/1181 [07:39<15:45,  1.28s/it]"
     ]
    },
    {
     "name": "stdout",
     "output_type": "stream",
     "text": [
      "Raw LLM Output for review: Hoid\n",
      "Since you didn't provide a review, I'll assume the text is empty and provide an output with the specified format.\n",
      "\n",
      "- Key topics: []\n",
      "- Sentiment: []\n",
      "\n"
     ]
    },
    {
     "name": "stderr",
     "output_type": "stream",
     "text": [
      "Processing Reviews:  38%|███████▌            | 450/1181 [07:40<07:08,  1.71it/s]"
     ]
    },
    {
     "name": "stdout",
     "output_type": "stream",
     "text": [
      "Raw LLM Output for review: Flexible and informative! They give a vehicle inspection video, so you can see your vehicle in detail!\n",
      "- Key topics:[Not Classified, Not Classified, Not Classified]\n",
      "- Sentiment:Positive\n",
      "\n"
     ]
    },
    {
     "name": "stderr",
     "output_type": "stream",
     "text": [
      "Processing Reviews:  38%|███████▋            | 451/1181 [07:42<09:07,  1.33it/s]"
     ]
    },
    {
     "name": "stdout",
     "output_type": "stream",
     "text": [
      "Raw LLM Output for review: Excellent Service\n",
      "- Key topics:[Not Classified, Staff]\n",
      "- Sentiment:[Positive]\n",
      "\n",
      "Raw LLM Output for review: Very good service and attention.\n",
      "- Key topics:Service quality,Facilities \n",
      "- Sentiment:Positive\n",
      "\n",
      "Raw LLM Output for review: Very good service with Sofía in service\n",
      "- Key topics:[Staff,Service Quality]\n",
      "- Sentiment:Positive\n",
      "\n"
     ]
    },
    {
     "name": "stderr",
     "output_type": "stream",
     "text": [
      "Processing Reviews:  38%|███████▋            | 454/1181 [07:43<07:19,  1.65it/s]"
     ]
    },
    {
     "name": "stdout",
     "output_type": "stream",
     "text": [
      "Raw LLM Output for review: Terrible experience\n",
      "- Key topics:[Not Classified]\n",
      "- Sentiment:Negative\n",
      "\n"
     ]
    },
    {
     "name": "stderr",
     "output_type": "stream",
     "text": [
      "Processing Reviews:  39%|███████▋            | 456/1181 [07:45<08:40,  1.39it/s]"
     ]
    },
    {
     "name": "stdout",
     "output_type": "stream",
     "text": [
      "Raw LLM Output for review: Excellent!!\n",
      "- Key topics:Not Classified\n",
      "- Sentiment:[Positive]\n",
      "\n",
      "Raw LLM Output for review: Worst customer service ever. I left my car there a week ago and they keep saying that they have many cars to fix before mine so making an appointment with them makes no sense at all. The guy named Deimetris is just very rude for no reason even tho they charge you at lot of money don’t give you a well service\n",
      "- Key topics:[Staff,Service Quality]\n",
      "- Sentiment:Negative\n",
      "\n",
      "Raw LLM Output for review: Terrible Customer Service. No communication with Customers on Wait time etc. Will Have You waiting for 3,4,5 hours with no Update if car is being seen or not.only came in for an oil change @10:30 a.m, I’m still here waiting it’s 3 o’clock.\n",
      "- Key topics:[Service Time,Staff]\n",
      "- Sentiment:Negative\n",
      "\n"
     ]
    },
    {
     "name": "stderr",
     "output_type": "stream",
     "text": [
      "Processing Reviews:  39%|███████▊            | 458/1181 [07:46<08:33,  1.41it/s]"
     ]
    },
    {
     "name": "stdout",
     "output_type": "stream",
     "text": [
      "Raw LLM Output for review: They be having a bad attitude when you go about your car, like it's your car. You go for 1 thing they come back with a whole book\n",
      "- Key topics:[Not Classified, Not Classified]\n",
      "- Sentiment:[Negative]\n",
      "\n"
     ]
    },
    {
     "name": "stderr",
     "output_type": "stream",
     "text": [
      "Processing Reviews:  39%|███████▊            | 459/1181 [07:48<10:11,  1.18it/s]"
     ]
    },
    {
     "name": "stdout",
     "output_type": "stream",
     "text": [
      "Raw LLM Output for review: Awesome experience, very friendly and helpful staff I'm really happy with the care that they provided for my car.\n",
      "- Key topics:[Staff]\n",
      "- Sentiment:Positive\n",
      "\n",
      "Raw LLM Output for review: One time in Feb I was there from 10am to 4pm with NO conclusion to my issue. Last time I picked up my car from there,battery was dead,coolant was empty,and there was big stain in the driver's seat. How do you give a car back to the customer and it DOESN'T start? Not too mention the engine is STILL overheating!\n",
      "- Key topics:[Battery,Engine]\n",
      "-Sentiment:Negative\n",
      "\n"
     ]
    },
    {
     "name": "stderr",
     "output_type": "stream",
     "text": [
      "Processing Reviews:  39%|███████▊            | 460/1181 [07:49<11:03,  1.09it/s]"
     ]
    },
    {
     "name": "stdout",
     "output_type": "stream",
     "text": [
      "Raw LLM Output for review: Prompt and good service. I went there for a recall and they promptly took care of it. You have to make an appointment before heading.\n",
      "- Key topics:Service Time,Product Availability\n",
      "- Sentiment:[Positive]\n",
      "\n"
     ]
    },
    {
     "name": "stderr",
     "output_type": "stream",
     "text": [
      "Processing Reviews:  39%|███████▊            | 462/1181 [07:51<10:29,  1.14it/s]"
     ]
    },
    {
     "name": "stdout",
     "output_type": "stream",
     "text": [
      "Raw LLM Output for review: They did not  diagnose the problem with my car properly. I paid 2300 to fix the problem. 2 weeks later I'm back in the shop with the same problem. The exact same problem\n",
      "- Key topics:[Service Diagnostics, Service Cost]\n",
      "- Sentiment: Negative\n",
      "\n"
     ]
    },
    {
     "name": "stderr",
     "output_type": "stream",
     "text": [
      "Processing Reviews:  39%|███████▊            | 463/1181 [07:53<13:25,  1.12s/it]"
     ]
    },
    {
     "name": "stdout",
     "output_type": "stream",
     "text": [
      "Raw LLM Output for review: I wish I can put 0 star. If there is a zero star they are the ones who deserve it. The worst customer service ever. Never answer the phone. You will never get service on time even if you have an appointment. Trust me, find yourself another dealership.\n",
      "- Key topics:[Staff,Service Time]\n",
      "- Sentiment: Negative\n",
      "\n"
     ]
    },
    {
     "name": "stderr",
     "output_type": "stream",
     "text": [
      "Processing Reviews:  39%|███████▊            | 464/1181 [07:53<12:37,  1.06s/it]"
     ]
    },
    {
     "name": "stdout",
     "output_type": "stream",
     "text": [
      "Raw LLM Output for review: Horrible experience! Extremely slow service. Waited  6+ hours to get serviced. Would not recommend. It defeats the purpose of appointments and paying vehicle warranty when you’re not getting serviced in a reasonable amount of time.\n",
      "- Key topics:[Service Time,Not Classified]\n",
      "- Sentiment:Negative\n",
      "\n"
     ]
    },
    {
     "name": "stderr",
     "output_type": "stream",
     "text": [
      "Processing Reviews:  39%|███████▊            | 465/1181 [07:54<10:21,  1.15it/s]"
     ]
    },
    {
     "name": "stdout",
     "output_type": "stream",
     "text": [
      "Raw LLM Output for review: They will give you an appointment for eg: January 1st at 8:30am but when you take you vehicle at that time they look at your vehicle 5 days after.  This is very inconsiderate.  If you give me an appointment January 1st I expect you will be look at my vehicle January 1st.  To add injury when you call to check what’s going on the employees are rude and unprofessional.  We were sold a brand new defective car. Yes come under here and leave and email where I can contact you but when I do you do not reply!\n",
      "- Key topics:[Service Time,Staff]\n",
      "- Sentiment:Negative\n",
      "\n"
     ]
    },
    {
     "name": "stderr",
     "output_type": "stream",
     "text": [
      "Processing Reviews:  39%|███████▉            | 466/1181 [07:55<11:53,  1.00it/s]"
     ]
    },
    {
     "name": "stdout",
     "output_type": "stream",
     "text": [
      "Raw LLM Output for review: Arrived at 9:15 for a scheduled service and was told I would be waiting for about two hours. Throughout the time I’ve noticed that people who have came in way after me were getting their services done as soon as possible and we’re able to leave before me. I wasn’t able to be called to finally get my car back until 4 hours later when the place was scheduled to close. As I have said before, I came in at 9:15 and was able to check my car in but it wasn’t seen until 12:12. If they want to run a dealership they need to understand the logistics of things and not overbook AND understaff every time. They say that they’re understaffed in servicemen yet have so many assistants around not doing anything and wasting time. This is definitely not the place to go and I suggest others to pay attention to these reviews because they’re all consistent about the same issue. Literally ridiculous.\n",
      "- Key topics:[Service Time,Staff]\n",
      "- Sentiment:Negative\n",
      "\n"
     ]
    },
    {
     "name": "stderr",
     "output_type": "stream",
     "text": [
      "Processing Reviews:  40%|███████▉            | 467/1181 [07:56<12:22,  1.04s/it]"
     ]
    },
    {
     "name": "stdout",
     "output_type": "stream",
     "text": [
      "Raw LLM Output for review: Great customer service in the parts department the female I was dealing with on the phone and the one  in person with the full head of curls were so nice and helpful just sorry I can't remember the names of the two women. But they both were great and had my part ready for me when I got there too.\n",
      "- Key topics:[Staff,Product Availability]\n",
      "- Sentiment:Positive\n",
      "\n"
     ]
    },
    {
     "name": "stderr",
     "output_type": "stream",
     "text": [
      "Processing Reviews:  40%|███████▉            | 468/1181 [07:57<12:44,  1.07s/it]"
     ]
    },
    {
     "name": "stdout",
     "output_type": "stream",
     "text": [
      "Raw LLM Output for review: Brought new vehicle in for the first scheduled maintenance and was very dissatisfied. Invoice showed services done but fluids were not topped off as listed. Staff was less than pleasant. For dealer service, I'd be better off at a different location. Will not be returning for next scheduled maintenance.\n",
      "- Key topics:[Service Quality,Staff,Service Cost]\n",
      "- Sentiment:Negative\n",
      "\n"
     ]
    },
    {
     "name": "stderr",
     "output_type": "stream",
     "text": [
      "Processing Reviews:  40%|███████▉            | 469/1181 [07:58<10:06,  1.17it/s]"
     ]
    },
    {
     "name": "stdout",
     "output_type": "stream",
     "text": [
      "Raw LLM Output for review: Great service. Make you feel welcomed\n",
      "- Key topics: \n",
      "- Staff\n",
      "- Service Time\n",
      "\n",
      "\n",
      "- Sentiment: Positive\n",
      "\n"
     ]
    },
    {
     "name": "stderr",
     "output_type": "stream",
     "text": [
      "Processing Reviews:  40%|███████▉            | 470/1181 [08:00<14:24,  1.22s/it]"
     ]
    },
    {
     "name": "stdout",
     "output_type": "stream",
     "text": [
      "Raw LLM Output for review: I mean this with all due respect, these people do not like their jobs. They do it because there is nothing else they are willing to start their career over again for. They do the minimal amount and keep it pushing without regard for customer satisfaction.\n",
      "- Key topics:[Staff,Satisfaction]\n",
      "- Sentiment: [Negative]\n",
      "\n"
     ]
    },
    {
     "name": "stderr",
     "output_type": "stream",
     "text": [
      "Processing Reviews:  40%|███████▉            | 471/1181 [08:01<14:09,  1.20s/it]"
     ]
    },
    {
     "name": "stdout",
     "output_type": "stream",
     "text": [
      "Raw LLM Output for review: Worst Ford service ever ! They’re customer service skills are no existent. They never answer the phone and do not communicate properly. The “supervisor” Manny is a joke. It’s simple, if your not happy with your profession then quit! Disgusting.\n",
      "- Key topics:[Staff, Service Quality]\n",
      "- Sentiment: Negative\n",
      "\n"
     ]
    },
    {
     "name": "stderr",
     "output_type": "stream",
     "text": [
      "Processing Reviews:  40%|███████▉            | 472/1181 [08:03<16:54,  1.43s/it]"
     ]
    },
    {
     "name": "stdout",
     "output_type": "stream",
     "text": [
      "Raw LLM Output for review: I dropped off my car on a Wednesday with the so called Service Advisor Gilda. My car was not looked at till 4 days later mind you I had an appointment that they never put into the system because they also have incompetent people that answer there phones but after all that I was told I have to get in contact with my warranty company myself to see if the car was covered for the problems it had. So I had to do her job. Once it was identified they contact the warranty company but never scheduled an appointment for them to come an approve the work. I called Gilda she tells me everything is set that they are waiting for the adjuster to come and when I call the warranty company once again I am told they have not received any call from the service department or Gilda it is now almost going on 2 weeks and all I keep getting is the run around. I even spoke to the manager that tells me he will personally get back to me and I have yet to hear from him. They have the worst customer service I have ever seen from any dealer\n",
      "- Key topics:[Service Time, Staff,Customer Service]\n",
      "- Sentiment:[Negative]\n",
      "\n",
      "Raw LLM Output for review: So, I went in for the works package which is and oil change and a tire rotation. Waited for 1.5 hours to find out that they hadn't done the tire rotation. They told me they did it. But I had specific markings on each tire and I knew they didn't do it. So I had to wait for another 45 minutes to get them done. Completely unacceptable!\n",
      "- Key topics:[Service Time,Wheel/Tires]\n",
      "- Sentiment: Negative\n",
      "\n"
     ]
    },
    {
     "name": "stderr",
     "output_type": "stream",
     "text": [
      "Processing Reviews:  40%|████████            | 474/1181 [08:04<12:07,  1.03s/it]"
     ]
    },
    {
     "name": "stdout",
     "output_type": "stream",
     "text": [
      "Raw LLM Output for review: They had our car for 3 weeks and it took them over 2 weeks to even return our calls to say what was wrong. They play the phone game letting it ring, or they will answer and say they're not at their desk right now. They're out to lunch or whatever, we'll have them call you back. Lies.\n",
      "- Key topics:[Service Time, Staff]\n",
      "- Sentiment:[Negative]\n",
      "\n"
     ]
    },
    {
     "name": "stderr",
     "output_type": "stream",
     "text": [
      "Processing Reviews:  40%|████████            | 475/1181 [08:05<11:55,  1.01s/it]"
     ]
    },
    {
     "name": "stdout",
     "output_type": "stream",
     "text": [
      "Raw LLM Output for review: If I could leave .5 of a star I would. By far the WORST customer service I've experienced. The Service Advisor's never follow up with call backs, and when a customer calls the office the phone is never answered or you're on hold and the call drops on their end. Customer Service needs to be a priority.\n",
      "- Key topics:[Service Cost,Staff]\n",
      "- Sentiment:Negative\n",
      "\n",
      "Raw LLM Output for review: Unfortunately or fortunately my car is under extended warranty due to manufacture defects. Purchase car in 2011. I am glad to say they handled each issue to my satisfaction and of course no fee. My car needed their service about 2-4 times I think. I'm please.\n",
      "- Key topics:[Service Quality, Facilities]\n",
      "- Sentiment:Neutral\n",
      "\n"
     ]
    },
    {
     "name": "stderr",
     "output_type": "stream",
     "text": [
      "Processing Reviews:  40%|████████            | 476/1181 [08:08<17:17,  1.47s/it]"
     ]
    },
    {
     "name": "stdout",
     "output_type": "stream",
     "text": [
      "Raw LLM Output for review: They didn't replace my next estimate oil change sticker and didn't check the tires pressure.  I found out After leaving the place. When back right away and they apologized. They change the sticker and stopped the pressure unbalanced. Me tires blew up the next day form broken glass. Make me think if they even change the oil and topped the rest of the fluid.\n",
      "- Key topics:[Oil Change/Refill, Wheel/Tires]\n",
      "- Sentiment:Neutral\n",
      "\n"
     ]
    },
    {
     "name": "stderr",
     "output_type": "stream",
     "text": [
      "Processing Reviews:  40%|████████            | 477/1181 [08:08<13:32,  1.15s/it]"
     ]
    },
    {
     "name": "stdout",
     "output_type": "stream",
     "text": [
      "Raw LLM Output for review: Look an oil change is 30 minute process, I understand if the mechanics take an hour or  an hour and a half but 3 hours is ridiculous. And on top of that your waiting 2 hours only to be told after that your car is finally being looked at and that it’s a extra hour.\n",
      "- Key topics:[Service Time, Oil Change/Refill]\n",
      "- Sentiment:Negative\n",
      "\n"
     ]
    },
    {
     "name": "stderr",
     "output_type": "stream",
     "text": [
      "Processing Reviews:  41%|████████            | 479/1181 [08:08<08:32,  1.37it/s]"
     ]
    },
    {
     "name": "stdout",
     "output_type": "stream",
     "text": [
      "Raw LLM Output for review: They kept my car for a month, telling me that the transmission guy is only there two days a week only to get my car back to find its \"unfixable\" then get overcharged $200. Ask for a itemized bill, or just don't go here.\n",
      "- Key topics:[Service Cost, Service Time]\n",
      "- Sentiment: Negative\n",
      "\n"
     ]
    },
    {
     "name": "stderr",
     "output_type": "stream",
     "text": [
      "Processing Reviews:  41%|████████▏           | 480/1181 [08:10<11:41,  1.00s/it]"
     ]
    },
    {
     "name": "stdout",
     "output_type": "stream",
     "text": [
      "Raw LLM Output for review: Been trying to get my roof railing fixed here for months now regarding a recall. They never have the pieces and done a terrible job. They even tried taping it down with black electric tape...\n",
      "- Key topics:[Recall, Product Quality]\n",
      "- Sentiment:Negative\n",
      "\n"
     ]
    },
    {
     "name": "stderr",
     "output_type": "stream",
     "text": [
      "Processing Reviews:  41%|████████▏           | 481/1181 [08:11<11:32,  1.01it/s]"
     ]
    },
    {
     "name": "stdout",
     "output_type": "stream",
     "text": [
      "Raw LLM Output for review: Good and effective service from the all personal\n",
      "- Key topics:[Staff]\n",
      "- Sentiment:[Positive]\n",
      "\n",
      "Raw LLM Output for review: They give you an appointment your 4th on line a people who came in an hour after you leaves before you. I would understand this if I had an issue with my car but an oil change. The staff does not even keep you updated. 3 hours waiting\n",
      "- Key topics:[Service Time,Staff]\n",
      "- Sentiment:Negative\n",
      "\n"
     ]
    },
    {
     "name": "stderr",
     "output_type": "stream",
     "text": [
      "Processing Reviews:  41%|████████▏           | 483/1181 [08:13<10:48,  1.08it/s]"
     ]
    },
    {
     "name": "stdout",
     "output_type": "stream",
     "text": [
      "Raw LLM Output for review: Brought my car in for oil change so Literally took 3 hours to do car was spotless when I give to them And received the car with oil stains all over the front fenders hood and driver's door I will never take my car back there again\n",
      "- Key topics:[Oil Change/Refill,Service Time]\n",
      "- Sentiment:Negative\n",
      "\n"
     ]
    },
    {
     "name": "stderr",
     "output_type": "stream",
     "text": [
      "Processing Reviews:  41%|████████▏           | 484/1181 [08:15<14:35,  1.26s/it]"
     ]
    },
    {
     "name": "stdout",
     "output_type": "stream",
     "text": [
      "Raw LLM Output for review: This place is horrible 😣 no customer service, and when you have that extended guaranty they don’t tell you what is wrong with the car of course, I should’ve known that they don’t want todo work extra for “free”. Even though, extended guarantee is for that. …\n",
      "- Key topics:[Service Quality,Staff]\n",
      "- Sentiment:Negative\n",
      "\n",
      "Raw LLM Output for review: I went there twice and wasn't able to have my car looked at. I was told to bring it in early Wednesday morning and was told no bring it back early Saturday morning and still was turned down I wish they get the information right when telling a customer to come and then being turned away.\n",
      "- Key topics:[Service Time, Staff]\n",
      "- Sentiment:Negative\n",
      "\n"
     ]
    },
    {
     "name": "stderr",
     "output_type": "stream",
     "text": [
      "Processing Reviews:  41%|████████▏           | 485/1181 [08:18<19:57,  1.72s/it]"
     ]
    },
    {
     "name": "stdout",
     "output_type": "stream",
     "text": [
      "Raw LLM Output for review: BEWAREEEEEEEE!! I went in for a safety recall and oil change, came out with my gas mileage reading being messed up!! I live about 3 miles away from this service center but the gas mileage reading shows I drove 18 miles! I call right away and they say I will be charged a diagnostics fee and I have to make an appointment if I want to find out the problem. This is unacceptable!\n",
      "\n",
      "DO NOT SERVICE YOUR VEHICLE HERE!\n",
      "- Key topics:[Service Quality, Facilities, Oil Change/Refill]\n",
      "- Sentiment: Negative\n",
      "\n"
     ]
    },
    {
     "name": "stderr",
     "output_type": "stream",
     "text": [
      "Processing Reviews:  41%|████████▏           | 487/1181 [08:19<12:49,  1.11s/it]"
     ]
    },
    {
     "name": "stdout",
     "output_type": "stream",
     "text": [
      "Raw LLM Output for review: I bought my car from the ford sales in Boston road and it’s been about nine months to this day and the car almost Killed me about 5xs. They sold me a car that’s a LEMON\n",
      "I have taken this car to the service center on numerous occasions and they claim to have fixed the car but the same problem keeps coming back. Yesterday while rushing my son to the hospital(driving behind the ambulance) my car once again for the third time shuts right off while am driving leaving me behind and my son rushed away in the ambulance.\n",
      "I was stuck at the scene waiting for a tow truck for almost two hours.\n",
      "A few staff memeber there is very nice and try very hard to help me but who ever is fixing my car refuses to do what needs to be done to make this car safe.\n",
      "At this point My car is unsafe and life threatening and the service center have done nothing but claim to have fix the issue that keeps Arising.\n",
      "Today has am typing my car is once again in the shop towed there for the same issue they fixed three weeks ago and before that was towed there again for the same issue they had fixed weeks before that.\n",
      "- Key topics:[Product Quality,Service Diagnostics]\n",
      "- Sentiment:[Negative]\n",
      "\n"
     ]
    },
    {
     "name": "stderr",
     "output_type": "stream",
     "text": [
      "Processing Reviews:  41%|████████▎           | 489/1181 [08:20<10:16,  1.12it/s]"
     ]
    },
    {
     "name": "stdout",
     "output_type": "stream",
     "text": [
      "Raw LLM Output for review: Don’t waste your time going there .... they will steal and or switch stuff off your vehicle and filing a complaint with the manager Anthony is and will be a complete waste of time .. You would be better off taking a chance with the much better respectable staff at the parking lot of the nearby auto zone.... negative 5 stars\n",
      "- Key topics:[Staff,Service Time,Recall]\n",
      "-Sentiment: Negative\n",
      "\n",
      "Raw LLM Output for review: I went to City World Ford Service, Friday, July 12. I was met by Ms. Diaz. She introduced me to manager and he promised to take care of my 2017 Ford Explorer XLT. The day before, charging service now light came on, showing a red battery. Immediately, the air conditioner and defrost stopped working. So to the dealer I went. Ms.Diaz was extremely professional and caring. They had to order parts and initially doubted if the parts would arrive that day. Ms. Diaz tried to get me a loaner car, but could not. Then she told me my parts arrived. It was late in the day as the business is scheduled to close at 5 P.M. well she stayed until my vehicle was repaired. She refused to leave until I was satisfied. Throughout the transaction, she was always professional and calm despite my uneasy demeanor. Upon completion of repair, she was last person to leave the business office. I could not have had a better customer servant during this unpleasant event. Thank you Ms. Diaz and the entire City World Ford Service department.\n",
      "- Key topics:[Staff,Service Time]\n",
      "- Sentiment:Positive\n",
      "\n"
     ]
    },
    {
     "name": "stderr",
     "output_type": "stream",
     "text": [
      "Processing Reviews:  41%|████████▎           | 490/1181 [08:22<12:16,  1.07s/it]"
     ]
    },
    {
     "name": "stdout",
     "output_type": "stream",
     "text": [
      "Raw LLM Output for review: Awful service, appointments don’t matter, if you want your car fixed literally go anywhere but here.\n",
      "- Key topics:Service Time,Facilities\n",
      "- Sentiment:Negative\n",
      "\n"
     ]
    },
    {
     "name": "stderr",
     "output_type": "stream",
     "text": [
      "Processing Reviews:  42%|████████▎           | 491/1181 [08:22<09:52,  1.16it/s]"
     ]
    },
    {
     "name": "stdout",
     "output_type": "stream",
     "text": [
      "Raw LLM Output for review: I will never go back I went to get recall done they didn't do my inspection and didn't tell me so left and got a ticket $65.00 so what kind of recall was that.\n",
      "Key topics:[Recall,Service Quality]\n",
      "-Sentiment:Negative\n",
      "\n",
      "Raw LLM Output for review: It was the worst Mechanix experience I've ever had even considering this is a ford facility the service manager was the most u proffesional worker I've ever encountered avoid this place at all cost u will lose time and money and definitely patience\n",
      "- Key topics:[Staff,Service Cost]\n",
      "- Sentiment:Negative\n",
      "\n"
     ]
    },
    {
     "name": "stderr",
     "output_type": "stream",
     "text": [
      "Processing Reviews:  42%|████████▎           | 492/1181 [08:24<13:47,  1.20s/it]"
     ]
    },
    {
     "name": "stdout",
     "output_type": "stream",
     "text": [
      "Raw LLM Output for review: Terrible place!!! I had an appointment to drop off my car at 2:00. I arrived there at 2:05 and they refused to take my car. Definitely not recommended!\n",
      "- Key topics:[Not Classified, Not Classified, Not Classified]\n",
      "- Sentiment:Negative\n",
      "\n"
     ]
    },
    {
     "name": "stderr",
     "output_type": "stream",
     "text": [
      "Processing Reviews:  42%|████████▎           | 494/1181 [08:25<10:24,  1.10it/s]"
     ]
    },
    {
     "name": "stdout",
     "output_type": "stream",
     "text": [
      "Raw LLM Output for review: Worst Ford to go to!! Held my car for 3 weeks and did absolutely nothing!! Then held my car hostage till I gave them 180.00$  Do not deal with Jada on the phone or Virgilio Gonzalez / advisor!! dumb and dumber!! Save urself from getting Robbed, have a good day\n",
      "- Key topics:[Service Time, Service Cost, Staff]\n",
      "- Sentiment:Negative\n",
      "\n",
      "Raw LLM Output for review: My experience at the Ford service shop was quick and very professional 👏 …\n",
      "- Key topics: [Service Time, Staff]\n",
      "- Sentiment: Positive\n",
      "\n"
     ]
    },
    {
     "name": "stderr",
     "output_type": "stream",
     "text": [
      "Processing Reviews:  42%|████████▍           | 496/1181 [08:26<08:16,  1.38it/s]"
     ]
    },
    {
     "name": "stdout",
     "output_type": "stream",
     "text": [
      "Raw LLM Output for review: Customer service was excellent\n",
      "- Key topics:[Not Classified]\n",
      "- Sentiment:Positive\n",
      "\n"
     ]
    },
    {
     "name": "stderr",
     "output_type": "stream",
     "text": [
      "Processing Reviews:  42%|████████▍           | 497/1181 [08:28<11:24,  1.00s/it]"
     ]
    },
    {
     "name": "stdout",
     "output_type": "stream",
     "text": [
      "Raw LLM Output for review: Manny and the team are awesome.  Thank you guys for always taking good care of me.\n",
      "- Key topics:Staff\n",
      "-Sentiment:[Positive]\n",
      "\n",
      "Raw LLM Output for review: The service department is questionable. They are not good at making the customer happy.\n",
      "Key topics:\n",
      "- Staff\n",
      "- Service Time\n",
      "- Not Classified\n",
      "\n",
      "\n",
      "- Sentiment: Negative\n",
      "\n"
     ]
    },
    {
     "name": "stderr",
     "output_type": "stream",
     "text": [
      "Processing Reviews:  42%|████████▍           | 499/1181 [08:28<07:28,  1.52it/s]"
     ]
    },
    {
     "name": "stdout",
     "output_type": "stream",
     "text": [
      "Raw LLM Output for review: Nasty people with bad attitude.  I will never go there again. They can't fix nothing right and have an attitude when you come back.  Then they will give at least 3 weeks appointment trying to make you not come back.  The worst shop ever!!!\n",
      "- Key topics:[Staff,Service Quality]\n",
      "- Sentiment:Negative\n",
      "\n"
     ]
    },
    {
     "name": "stderr",
     "output_type": "stream",
     "text": [
      "Processing Reviews:  42%|████████▍           | 500/1181 [08:30<09:19,  1.22it/s]"
     ]
    },
    {
     "name": "stdout",
     "output_type": "stream",
     "text": [
      "Raw LLM Output for review: No body compares with me i have almost 3 weeeks and my car still in servoce and i have 2 months only wothbthe car can you believe and check engine is al ready on always you call they put you in hold for hours then they close the call never come to this agaain i dont know why i bought ford\n",
      "- Key topics:[Service Quality, Facilities]\n",
      "- Sentiment:Negative\n",
      "\n"
     ]
    },
    {
     "name": "stderr",
     "output_type": "stream",
     "text": [
      "Processing Reviews:  43%|████████▌           | 503/1181 [08:32<07:35,  1.49it/s]"
     ]
    },
    {
     "name": "stdout",
     "output_type": "stream",
     "text": [
      "Raw LLM Output for review: I  was told that due to the another location closing down, I would have to leave my car with them for a month to get repairs done. I had a 8:15am appointment, just to still wait in line then leave.\n",
      "- Key topics:[Service Time, Facilities]\n",
      "- Sentiment:[Negative]\n",
      "\n",
      "Raw LLM Output for review: Great service, got what I wanted, at very good prices....got my third Ford, great condition, great mileages, very dependable cars, with excellent gas mileage! Only once, with 3 cars, but, great City Ford service, at 3850 Boston Road....\n",
      "- Key topics:[Product Availability,Service Quality]\n",
      "- Sentiment:Positive\n",
      "\n",
      "Raw LLM Output for review: Horrible service I’ve called back twice already this morning to the parts department and he picks up and say hi ford hold on one moment hasn’t asked me anything just put me on hold the total time is 25 minutes and I called twice!!!!!! Will never go here after this\n",
      "- Key topics:[Staff,Service Time]\n",
      "- Sentiment:Negative\n",
      "\n"
     ]
    },
    {
     "name": "stderr",
     "output_type": "stream",
     "text": [
      "Processing Reviews:  43%|████████▌           | 504/1181 [08:33<08:48,  1.28it/s]"
     ]
    },
    {
     "name": "stdout",
     "output_type": "stream",
     "text": [
      "Raw LLM Output for review: I raised the rating to 4 stars. They do good work and they have a comfortable waiting area. They also sometimes have coffee and D&D donuts.\n",
      "- Key topics:[Service Quality,Facilities]\n",
      "- Sentiment:Positive\n",
      "\n",
      "Raw LLM Output for review: One of the morning secretaries that takes the the payment she's very amazing Delilah she should get a raise he is very helping she is so warm and she try to help customers as much as she can\n",
      "- Key topics:[Staff]\n",
      "- Sentiment:[Positive]\n",
      "\n"
     ]
    },
    {
     "name": "stderr",
     "output_type": "stream",
     "text": [
      "Processing Reviews:  43%|████████▌           | 505/1181 [08:35<12:00,  1.07s/it]"
     ]
    },
    {
     "name": "stdout",
     "output_type": "stream",
     "text": [
      "Raw LLM Output for review: Great customer service. Went to get an oil change let me tell you that it was quick and painless. Thank you , Manny\n",
      "- Key topics:[Service Quality, Facilities]\n",
      "- Sentiment:[Positive]\n",
      "\n"
     ]
    },
    {
     "name": "stderr",
     "output_type": "stream",
     "text": [
      "Processing Reviews:  43%|████████▌           | 507/1181 [08:35<08:08,  1.38it/s]"
     ]
    },
    {
     "name": "stdout",
     "output_type": "stream",
     "text": [
      "Raw LLM Output for review: Got an oil change and my tire rotated, I was very pleased with the service .\n",
      "- Key topics:[Oil Change/Refill, Service Time]\n",
      "- Sentiment:Positive\n",
      "\n"
     ]
    },
    {
     "name": "stderr",
     "output_type": "stream",
     "text": [
      "Processing Reviews:  43%|████████▌           | 508/1181 [08:36<06:59,  1.60it/s]"
     ]
    },
    {
     "name": "stdout",
     "output_type": "stream",
     "text": [
      "Raw LLM Output for review: Just great service\n",
      "- Key topics:[Staff,Service Time]\n",
      "- Sentiment:Positive\n",
      "\n"
     ]
    },
    {
     "name": "stderr",
     "output_type": "stream",
     "text": [
      "Processing Reviews:  43%|████████▋           | 510/1181 [08:38<07:56,  1.41it/s]"
     ]
    },
    {
     "name": "stdout",
     "output_type": "stream",
     "text": [
      "Raw LLM Output for review: I was very satisfied with the work performed .the loyalty of letting me know that there was nothing wrong with my van.any other place a list would have been made up.thankyou\n",
      "- Key topics:[Staff,Service Time]\n",
      "- Sentiment:[Positive]\n",
      "\n",
      "Raw LLM Output for review: Quick had no appointment service explained everything to me. Had a great experience service was above and beyond.\n",
      "- Key topics:[Service,Staff]\n",
      "- Sentiment:Positive\n",
      "\n"
     ]
    },
    {
     "name": "stderr",
     "output_type": "stream",
     "text": [
      "Processing Reviews:  43%|████████▋           | 511/1181 [08:38<07:59,  1.40it/s]"
     ]
    },
    {
     "name": "stdout",
     "output_type": "stream",
     "text": [
      "Raw LLM Output for review: Beware !!! Worst place to take car for service.\n",
      "\n",
      "You will pay up $2000 dollars to get car back in exact same shape you left it no work will be done!!! I’m telling you BEWARE !!!\n",
      "- Key topics:[Service Cost, Facilities]\n",
      "- Sentiment:Negative\n",
      "\n"
     ]
    },
    {
     "name": "stderr",
     "output_type": "stream",
     "text": [
      "Processing Reviews:  43%|████████▋           | 512/1181 [08:39<06:36,  1.69it/s]"
     ]
    },
    {
     "name": "stdout",
     "output_type": "stream",
     "text": [
      "Raw LLM Output for review: I wish customer service was better trained to let me know over the phone that they were going to charge me $149, just for diagnostics.\n",
      "- Key topics:[Service Cost, Staff]\n",
      "- Sentiment:Negative\n",
      "\n",
      "Raw LLM Output for review: Service is great but the only downside is that they always have new staff every time i go there for a service its always someone new\n",
      "- Key topics:[Staff]\n",
      "- Sentiment:Neutral\n",
      "\n"
     ]
    },
    {
     "name": "stderr",
     "output_type": "stream",
     "text": [
      "Processing Reviews:  43%|████████▋           | 513/1181 [08:41<11:20,  1.02s/it]"
     ]
    },
    {
     "name": "stdout",
     "output_type": "stream",
     "text": [
      "Raw LLM Output for review: no one answers phones here and if they do they will hang up just dont order parts here\n",
      "- Key topics:[Not Classified, Staff]\n",
      "- Sentiment: Negative\n",
      "\n"
     ]
    },
    {
     "name": "stderr",
     "output_type": "stream",
     "text": [
      "Processing Reviews:  44%|████████▋           | 515/1181 [08:42<08:05,  1.37it/s]"
     ]
    },
    {
     "name": "stdout",
     "output_type": "stream",
     "text": [
      "Raw LLM Output for review: They played with my time,I dropped my car by 730 am,supposed to be ready by 5 pm when I showed up they told me dont even start with my car ,because a lot of vehicles before me,what the appointments are for?\n",
      "- Key topics:[Service Time, Staff]\n",
      "- Sentiment: Negative\n",
      "\n"
     ]
    },
    {
     "name": "stderr",
     "output_type": "stream",
     "text": [
      "Processing Reviews:  44%|████████▋           | 516/1181 [08:42<06:51,  1.62it/s]"
     ]
    },
    {
     "name": "stdout",
     "output_type": "stream",
     "text": [
      "Raw LLM Output for review: I don’t a about the service department but the parts department I’ll never call again, spoke to a young man  named  Zaross an he wasn’t nice at all and had me on hold for about 30 hour\n",
      "If I was you I’ll not order parts from them\n",
      "- Key topics:[Staff,Service Time]\n",
      "- Sentiment:Negative\n",
      "\n"
     ]
    },
    {
     "name": "stderr",
     "output_type": "stream",
     "text": [
      "Processing Reviews:  44%|████████▊           | 517/1181 [08:43<07:40,  1.44it/s]"
     ]
    },
    {
     "name": "stdout",
     "output_type": "stream",
     "text": [
      "Raw LLM Output for review: Nice but it took over an hour to cut and program a new key. The actual dealer gave us a duplicate for a different car.\n",
      "- Key topics:[Service Time]\n",
      "- Sentiment:Negative\n",
      "\n"
     ]
    },
    {
     "name": "stderr",
     "output_type": "stream",
     "text": [
      "Processing Reviews:  44%|████████▊           | 518/1181 [08:43<06:56,  1.59it/s]"
     ]
    },
    {
     "name": "stdout",
     "output_type": "stream",
     "text": [
      "Raw LLM Output for review: I can't understand the negative reviews here... I've been here twice and have excellent service... no complaints whatsoever...\n",
      "- Key topics:[Product Quality]\n",
      "- Sentiment: Positive\n",
      "\n"
     ]
    },
    {
     "name": "stderr",
     "output_type": "stream",
     "text": [
      "Processing Reviews:  44%|████████▊           | 519/1181 [08:44<09:00,  1.22it/s]"
     ]
    },
    {
     "name": "stdout",
     "output_type": "stream",
     "text": [
      "Raw LLM Output for review: They over charged me for replacing one light oven $80 that’s was crazy. They said the bulb. $40 and to put it in $40 that’s ridiculous\n",
      "- Key topics:[Service Cost,Product Quality]\n",
      "- Sentiment:Negative\n",
      "\n"
     ]
    },
    {
     "name": "stderr",
     "output_type": "stream",
     "text": [
      "Processing Reviews:  44%|████████▊           | 520/1181 [08:45<07:17,  1.51it/s]"
     ]
    },
    {
     "name": "stdout",
     "output_type": "stream",
     "text": [
      "Raw LLM Output for review: Love my experience  at city world ford excellent service from start to finish\n",
      "- Key topics:[Not Classified,Service Quality]\n",
      "- Sentiment:Positive\n",
      "\n"
     ]
    },
    {
     "name": "stderr",
     "output_type": "stream",
     "text": [
      "Processing Reviews:  44%|████████▊           | 521/1181 [08:45<06:37,  1.66it/s]"
     ]
    },
    {
     "name": "stdout",
     "output_type": "stream",
     "text": [
      "Raw LLM Output for review: My first time here to service my truck and they were good and reasonable timing\n",
      "- Key topics:[Service Time]\n",
      "- Sentiment:Positive\n",
      "\n"
     ]
    },
    {
     "name": "stderr",
     "output_type": "stream",
     "text": [
      "Processing Reviews:  44%|████████▊           | 522/1181 [08:47<10:29,  1.05it/s]"
     ]
    },
    {
     "name": "stdout",
     "output_type": "stream",
     "text": [
      "Raw LLM Output for review: Bad experience to drop off car\n",
      "When I get my car next day it’s was dirty in driver and passenger seats doors also had a deep scratched in driver window\n",
      "That didn’t have befored\n",
      "- Key topics:[Oil Change/Refill,Service Time]\n",
      "- Sentiment:Neutral\n",
      "\n"
     ]
    },
    {
     "name": "stderr",
     "output_type": "stream",
     "text": [
      "Processing Reviews:  44%|████████▊           | 523/1181 [08:48<10:14,  1.07it/s]"
     ]
    },
    {
     "name": "stdout",
     "output_type": "stream",
     "text": [
      "Raw LLM Output for review: Rip offs that’s all I have to say, I don’t do all the long story telling and all that, but deal with this dealership at your own expense. Terrible!!!\n",
      "- Key topics:[Service Cost, Facilities]\n",
      "- Sentiment:[Negative]\n",
      "\n"
     ]
    },
    {
     "name": "stderr",
     "output_type": "stream",
     "text": [
      "Processing Reviews:  44%|████████▊           | 524/1181 [08:48<08:40,  1.26it/s]"
     ]
    },
    {
     "name": "stdout",
     "output_type": "stream",
     "text": [
      "Raw LLM Output for review: The service here is terrible I took my car with a transmission problem n they said they would fix it in few days but then when I went back they said it would take them months and every time I call they give me attitude\n",
      "\n",
      "Absolutely trash customer service\n",
      "- Key topics:[Product Quality, Staff]\n",
      "- Sentiment: [Negative]\n",
      "\n",
      "Raw LLM Output for review: waist of time if you ask me 3erd time coming all day waiting on my vehicle came at 8am appointment and  at 2:30 they told me that my car was about to going in 🤦🏼‍♀️ my kids where all over the place  everyone before and after us left and we’re still here 🤦🏼‍♀️this is getting worst everytime …\n",
      "- Key topics:[Service Time, Staff]\n",
      "- Sentiment:Negative\n",
      "\n"
     ]
    },
    {
     "name": "stderr",
     "output_type": "stream",
     "text": [
      "Processing Reviews:  45%|████████▉           | 526/1181 [08:50<08:30,  1.28it/s]"
     ]
    },
    {
     "name": "stdout",
     "output_type": "stream",
     "text": [
      "Raw LLM Output for review: Great people thank you all especially Mechanic Luis and Rep. Julissa the Best.\n",
      "Great customer service.\n",
      "I would like some service discount coupons.\n",
      "- Key topics:Staff\n",
      "- Sentiment:[Positive]\n",
      "\n"
     ]
    },
    {
     "name": "stderr",
     "output_type": "stream",
     "text": [
      "Processing Reviews:  45%|████████▉           | 527/1181 [08:51<10:19,  1.06it/s]"
     ]
    },
    {
     "name": "stdout",
     "output_type": "stream",
     "text": [
      "Raw LLM Output for review: For maintenance is bad,I go to the one in yonkers for maintenance,more professional and courtesy\n",
      "- Key topics:[Staff,Service Quality]\n",
      "- Sentiment:Neutral.\n",
      "\n"
     ]
    },
    {
     "name": "stderr",
     "output_type": "stream",
     "text": [
      "Processing Reviews:  45%|████████▉           | 528/1181 [08:52<08:23,  1.30it/s]"
     ]
    },
    {
     "name": "stdout",
     "output_type": "stream",
     "text": [
      "Raw LLM Output for review: I don’t know how how they fix the car. I had three engine sign within 1 month amd my car is not that old it has only 30000 miles. May be i had warranty they why they don’t fix them properly.\n",
      "- Key topics:[Engine,Product Quality]\n",
      "- Sentiment:Negative\n",
      "\n"
     ]
    },
    {
     "name": "stderr",
     "output_type": "stream",
     "text": [
      "Processing Reviews:  45%|████████▉           | 529/1181 [08:52<07:28,  1.45it/s]"
     ]
    },
    {
     "name": "stdout",
     "output_type": "stream",
     "text": [
      "Raw LLM Output for review: AVOID THIS PLACE AT ALL COST, NO NEED FOR A LONG BAD REVIEW THIS PLACE IS ABSOLUTELY HORRIBLE, DROP YOUR CAR OFF AND SEE, THESE PEOPLE MADE ME NEVER WANT A FORD AGAIN🤮 THE LADY ROSA IS THE WORST OF THE WORST, STAY AWAY …\n",
      "- Key topics:[Service Quality, Staff]\n",
      "- Sentiment: [Negative]\n",
      "\n"
     ]
    },
    {
     "name": "stderr",
     "output_type": "stream",
     "text": [
      "Processing Reviews:  45%|████████▉           | 530/1181 [08:53<07:43,  1.40it/s]"
     ]
    },
    {
     "name": "stdout",
     "output_type": "stream",
     "text": [
      "Raw LLM Output for review: I recommend that you do not visit this place the service is bad there are some employees that when you go it seems as if you were going to really ask that I had never seen such a bad service in my life, they tell you that they fix you and they do not fix you anything  Be very careful in this place.!!!!!!!!\n",
      "- Key topics:[Service Quality,Staff]\n",
      "- Sentiment:Negative\n",
      "\n",
      "Raw LLM Output for review: My experience was just okay. There was no enthusiasm of staff to greet & offer to help customers.\n",
      "- Key topics:[Staff]\n",
      "- Sentiment:Negative\n",
      "\n"
     ]
    },
    {
     "name": "stderr",
     "output_type": "stream",
     "text": [
      "Processing Reviews:  45%|████████▉           | 531/1181 [08:55<10:56,  1.01s/it]"
     ]
    },
    {
     "name": "stdout",
     "output_type": "stream",
     "text": [
      "Raw LLM Output for review: Worst place for new buyers, the charge my friend $22,000 just for financing,  the car broke down a month later, also had a  water filtration, STAY AWAY FROM THIS RATS\n",
      "- Key topics:[Not Classified,Service Cost]\n",
      "- Sentiment:[Negative]\n",
      "\n"
     ]
    },
    {
     "name": "stderr",
     "output_type": "stream",
     "text": [
      "Processing Reviews:  45%|█████████           | 533/1181 [08:55<06:39,  1.62it/s]"
     ]
    },
    {
     "name": "stdout",
     "output_type": "stream",
     "text": [
      "Raw LLM Output for review: Trash people.  Never gave me the second key on my lease and now they want to charge me for it\n",
      "- Key topics:[Service Cost, Staff]\n",
      "- Sentiment:Negative\n",
      "\n"
     ]
    },
    {
     "name": "stderr",
     "output_type": "stream",
     "text": [
      "Processing Reviews:  45%|█████████           | 534/1181 [08:55<05:51,  1.84it/s]"
     ]
    },
    {
     "name": "stdout",
     "output_type": "stream",
     "text": [
      "Raw LLM Output for review: They was right on the money helping me out thank you for everything I will always go to service for them\n",
      "- Key topics:[Staff]\n",
      "- Sentiment:Positive\n",
      "\n"
     ]
    },
    {
     "name": "stderr",
     "output_type": "stream",
     "text": [
      "Processing Reviews:  45%|█████████           | 535/1181 [08:57<10:02,  1.07it/s]"
     ]
    },
    {
     "name": "stdout",
     "output_type": "stream",
     "text": [
      "Raw LLM Output for review: The people who work in the parts area are very rude when answering and do not have a good attitude to help the client, if they do not like to do their job they should look for the job where they can do it well ...\n",
      "- Key topics:[Staff]\n",
      "- Sentiment:Negative\n",
      "\n",
      "Raw LLM Output for review: Everyone was nice and friendly. Even though my cars gonna be there all day I was in and out.\n",
      "- Key topics:[Staff]\n",
      "- Sentiment: [Positive]\n",
      "\n",
      "Raw LLM Output for review: Workers are very slow and have gotten lazy over time I went for an oil change and the works package the didn't reset the oil change required light,no air in tires and didn't bother to tell me about my wiper in the back that I purposely left to be changed ,won't go there anymore!!\n",
      "- Key topics:[Staff, Service Time]\n",
      "- Sentiment: [Negative]\n",
      "\n"
     ]
    },
    {
     "name": "stderr",
     "output_type": "stream",
     "text": [
      "Processing Reviews:  46%|█████████           | 538/1181 [08:58<06:41,  1.60it/s]"
     ]
    },
    {
     "name": "stdout",
     "output_type": "stream",
     "text": [
      "Raw LLM Output for review: It's impossible to get an appointment.  When you finally get one be prepared to wait 3 hours for an oil change\n",
      "- Key topics:[Service Time, Service Cost]\n",
      "- Sentiment: Negative\n",
      "\n"
     ]
    },
    {
     "name": "stderr",
     "output_type": "stream",
     "text": [
      "Processing Reviews:  46%|█████████▏          | 539/1181 [09:00<08:08,  1.31it/s]"
     ]
    },
    {
     "name": "stdout",
     "output_type": "stream",
     "text": [
      "Raw LLM Output for review: Always a good impression...and very attentive service\n",
      "- Key topics:[Staff]\n",
      "- Sentiment:Positive\n",
      "\n",
      "Raw LLM Output for review: Horrible my Van has been there since November 18th and i can't even get an estimated time when it will be finished.\n",
      "- Key topics:Service Time\n",
      "- Sentiment:Negative\n",
      "\n"
     ]
    },
    {
     "name": "stderr",
     "output_type": "stream",
     "text": [
      "Processing Reviews:  46%|█████████▏          | 540/1181 [09:00<07:21,  1.45it/s]"
     ]
    },
    {
     "name": "stdout",
     "output_type": "stream",
     "text": [
      "Raw LLM Output for review: This place is the Pitts! To put it lightly,staff was friendly,  but the service sucked. WILL NOT RETURN TO THIS PLACE FOR REPAIRS!\n",
      "- Key topics:[Staff, Service Quality]\n",
      "- Sentiment: Negative\n",
      "\n"
     ]
    },
    {
     "name": "stderr",
     "output_type": "stream",
     "text": [
      "Processing Reviews:  46%|█████████▏          | 542/1181 [09:01<06:34,  1.62it/s]"
     ]
    },
    {
     "name": "stdout",
     "output_type": "stream",
     "text": [
      "Raw LLM Output for review: I went to order a Coolant Sensor for my Ford Sporttrac,great price,great service\n",
      "- Key topics:[Product Quality,Service]\n",
      "- Sentiment:Positive\n",
      "\n",
      "Raw LLM Output for review: So far, so bad. Still dealing with an ongoing issue. I will update this review once my experience is complete.\n",
      "- Key topics:[Product Quality]\n",
      "- Sentiment:[Negative]\n",
      "\n"
     ]
    },
    {
     "name": "stderr",
     "output_type": "stream",
     "text": [
      "Processing Reviews:  46%|█████████▏          | 543/1181 [09:02<08:08,  1.31it/s]"
     ]
    },
    {
     "name": "stdout",
     "output_type": "stream",
     "text": [
      "Raw LLM Output for review: They give you an appointment when you get there They don’t have time for you and I think it just wasting time to go to them....\n",
      "- Key topics:[Not Classified,Service Time]\n",
      "- Sentiment:Negative\n",
      "\n",
      "Raw LLM Output for review: Dont go here. They make you wait even if you have an appointment and are unprofessional from top to bottom.\n",
      "- Key topics:[Staff, Service Time]\n",
      "- Sentiment: Negative\n",
      "\n"
     ]
    },
    {
     "name": "stderr",
     "output_type": "stream",
     "text": [
      "Processing Reviews:  46%|█████████▏          | 545/1181 [09:04<08:17,  1.28it/s]"
     ]
    },
    {
     "name": "stdout",
     "output_type": "stream",
     "text": [
      "Raw LLM Output for review: the wors dealership in NYC they sell cars beyond repairs don't buy a car in that dealer you will regret stay away from them buy somewhere else scam artist stay away I'm warning you\n",
      "- Key topics:[Not Classified, Not Classified, Not Classified, Not Classified]\n",
      "- Sentiment:[Negative]\n",
      "\n",
      "Raw LLM Output for review: Very professional and polite, I was out within an hour and a half.\n",
      "- Key topics:[Service Time]\n",
      "- Sentiment: Positive\n",
      "\n"
     ]
    },
    {
     "name": "stderr",
     "output_type": "stream",
     "text": [
      "Processing Reviews:  46%|█████████▎          | 547/1181 [09:05<07:52,  1.34it/s]"
     ]
    },
    {
     "name": "stdout",
     "output_type": "stream",
     "text": [
      "Raw LLM Output for review: Terrible service, Stay away from City World Ford Service . And the difference to one Ford Service to another is the Customer Service, I went to Ford of Englewood NJ The service is Excellent\n",
      "- Key topics:[Staff,Customer Service]\n",
      "- Sentiment:[Negative/Neutral]\n",
      "\n"
     ]
    },
    {
     "name": "stderr",
     "output_type": "stream",
     "text": [
      "Processing Reviews:  46%|█████████▎          | 549/1181 [09:06<07:14,  1.45it/s]"
     ]
    },
    {
     "name": "stdout",
     "output_type": "stream",
     "text": [
      "Raw LLM Output for review: Need a ford or Mercury part. The right place to go.\n",
      "- Key topics:[Not Classified,Product Availability]\n",
      "- Sentiment:Neutral\n",
      "\n"
     ]
    },
    {
     "name": "stderr",
     "output_type": "stream",
     "text": [
      "Processing Reviews:  47%|█████████▎          | 550/1181 [09:07<07:18,  1.44it/s]"
     ]
    },
    {
     "name": "stdout",
     "output_type": "stream",
     "text": [
      "Raw LLM Output for review: THE WORST ON GET YOUR CAR MIX THEY JUST PATCH THE PROBLEM UP AND KEEP TRYING TO CHARGE FOR THE SAME THING OVER AND OVER THEY MUST GET BETTER\n",
      "- Key topics:[Service Quality]\n",
      "- Sentiment:Negative\n",
      "\n",
      "Raw LLM Output for review: They did not have the part I needed without buying additional items.\n",
      "- Key topics:[Product Quality, Product Availability]\n",
      "- Sentiment: [Negative]\n",
      "\n"
     ]
    },
    {
     "name": "stderr",
     "output_type": "stream",
     "text": [
      "Processing Reviews:  47%|█████████▎          | 552/1181 [09:08<06:10,  1.70it/s]"
     ]
    },
    {
     "name": "stdout",
     "output_type": "stream",
     "text": [
      "Raw LLM Output for review: They don't do insurance picture inspection for any company.\n",
      "- Key topics:[Not Classified]\n",
      "- Sentiment: [Negative]\n",
      "\n"
     ]
    },
    {
     "name": "stderr",
     "output_type": "stream",
     "text": [
      "Processing Reviews:  47%|█████████▍          | 554/1181 [09:10<06:45,  1.55it/s]"
     ]
    },
    {
     "name": "stdout",
     "output_type": "stream",
     "text": [
      "Raw LLM Output for review: Gave me wrong diagnosis for problem with my car. Took it to another Ford dealership who fixed it. They seem overwhelmed with work.\n",
      "Key topics: [Service Diagnostics, Staff, Service Quality]\n",
      "Sentiment: Negative\n",
      "\n",
      "Raw LLM Output for review: Fast and efficient service Mr.\n",
      "Sanderson in the service dept.was polite and very helpful.\n",
      "- Key topics:[Staff,Service Time]\n",
      "- Sentiment:Positive\n",
      "\n",
      "Raw LLM Output for review: I can always count on this City world ford to do the right thing and keep me on the road!\n",
      "- Key topics:[Product Quality,Staff]\n",
      "- Sentiment:Positive\n",
      "\n"
     ]
    },
    {
     "name": "stderr",
     "output_type": "stream",
     "text": [
      "Processing Reviews:  47%|█████████▍          | 556/1181 [09:11<06:21,  1.64it/s]"
     ]
    },
    {
     "name": "stdout",
     "output_type": "stream",
     "text": [
      "Raw LLM Output for review: I have bad expirans keep my car one month for just bumper replash\n",
      "- Key topics: [Product Quality,Service Cost]\n",
      "- Sentiment: Negative\n",
      "\n"
     ]
    },
    {
     "name": "stderr",
     "output_type": "stream",
     "text": [
      "Processing Reviews:  47%|█████████▍          | 557/1181 [09:12<08:17,  1.25it/s]"
     ]
    },
    {
     "name": "stdout",
     "output_type": "stream",
     "text": [
      "Raw LLM Output for review: Quickest inspection ever and they didn't overcharge!\n",
      "- Key topics:[Service Time, Service Cost]\n",
      "- Sentiment:Positive\n",
      "\n",
      "Raw LLM Output for review: waiting there for hours and terrible customer service\n",
      "- Key topics:[Service Time,Staff]\n",
      "- Sentiment:[Negative]\n",
      "\n"
     ]
    },
    {
     "name": "stderr",
     "output_type": "stream",
     "text": [
      "Processing Reviews:  47%|█████████▍          | 558/1181 [09:13<07:35,  1.37it/s]"
     ]
    },
    {
     "name": "stdout",
     "output_type": "stream",
     "text": [
      "Raw LLM Output for review: Routine maintenance. Came in for an scheduled appointment and was seen on time and work was done timely\n",
      "- Key topics:[Service Time,Service Cost,Product Quality]\n",
      "- Sentiment:Neutral\n",
      "\n"
     ]
    },
    {
     "name": "stderr",
     "output_type": "stream",
     "text": [
      "Processing Reviews:  47%|█████████▍          | 559/1181 [09:13<07:11,  1.44it/s]"
     ]
    },
    {
     "name": "stdout",
     "output_type": "stream",
     "text": [
      "Raw LLM Output for review: Excellent very polite and really was great for service.😉 …\n",
      "- Key topics:Staff,Service Time\n",
      "- Sentiment:Positive\n",
      "\n",
      "Raw LLM Output for review: Terrible customer service running my credit score without  my permission smh\n",
      "- Key topics:[Not Classified]\n",
      "- Sentiment:[Negative]\n",
      "\n"
     ]
    },
    {
     "name": "stderr",
     "output_type": "stream",
     "text": [
      "Processing Reviews:  48%|█████████▌          | 561/1181 [09:15<07:34,  1.36it/s]"
     ]
    },
    {
     "name": "stdout",
     "output_type": "stream",
     "text": [
      "Raw LLM Output for review: Didn't experience anything to out of the norm  just the waiting period is long....\n",
      "- Key topics:[Not Classified,Service Time]\n",
      "- Sentiment:Neutral\n",
      "\n"
     ]
    },
    {
     "name": "stderr",
     "output_type": "stream",
     "text": [
      "Processing Reviews:  48%|█████████▌          | 564/1181 [09:16<04:44,  2.17it/s]"
     ]
    },
    {
     "name": "stdout",
     "output_type": "stream",
     "text": [
      "Raw LLM Output for review: The city world very nice people and they take care of you\n",
      "- Key topics:\n",
      "- Facilities\n",
      "- Staff\n",
      "\n",
      "\n",
      "- Sentiment: Positive\n",
      "\n",
      "Raw LLM Output for review: Great as usual,  took much longer today.\n",
      "- Key topics:Service Time\n",
      "-Sentiment:Neutral\n",
      "\n"
     ]
    },
    {
     "name": "stderr",
     "output_type": "stream",
     "text": [
      "Processing Reviews:  48%|█████████▌          | 565/1181 [09:18<08:20,  1.23it/s]"
     ]
    },
    {
     "name": "stdout",
     "output_type": "stream",
     "text": [
      "Raw LLM Output for review: Good customer service, highly professional\n",
      "- Key topics:[Staff]\n",
      "- Sentiment:Positive\n",
      "\n",
      "Raw LLM Output for review: I was invited to never come back at parts department.\n",
      "- Key topics:[Staff]\n",
      "- Sentiment:Negative\n",
      "\n",
      "Raw LLM Output for review: Poor,  WHEN it comes down to being honest about what's going on with your car.\n",
      "- Key topics:[Not Classified, Not Classified]\n",
      "- Sentiment: [Negative]\n",
      "\n",
      "Raw LLM Output for review: They improve on service good work Ford\n",
      "- Key topics:[Service Quality, Staff]\n",
      "- Sentiment:Positive.\n",
      "\n"
     ]
    },
    {
     "name": "stderr",
     "output_type": "stream",
     "text": [
      "Processing Reviews:  48%|█████████▋          | 570/1181 [09:20<05:49,  1.75it/s]"
     ]
    },
    {
     "name": "stdout",
     "output_type": "stream",
     "text": [
      "Raw LLM Output for review: Manny today sat ,10 was very disrespectful , with a bad attitude...\n",
      "- Key topics:[Staff]\n",
      "- Sentiment:[Negative]\n",
      "\n",
      "Raw LLM Output for review: Fast and accurate servise like home .👍😀 …\n",
      "- Key topics:Service Time\n",
      "- Sentiment:[Positive]\n",
      "\n",
      "Raw LLM Output for review: Service was great, Wendy you are fabulous 🙂 …\n",
      "- Key topics:Staff\n",
      "- Sentiment:Positive\n",
      "\n",
      "Raw LLM Output for review: Because some  of the staff don't know talk to the customers\n",
      "- Key topics:[Staff]\n",
      "- Sentiment:Negative\n",
      "\n"
     ]
    },
    {
     "name": "stderr",
     "output_type": "stream",
     "text": [
      "Processing Reviews:  49%|█████████▋          | 573/1181 [09:22<06:11,  1.63it/s]"
     ]
    },
    {
     "name": "stdout",
     "output_type": "stream",
     "text": [
      "Raw LLM Output for review: Do not go.. you will regret it\n",
      "- Key topics:[Not Classified]\n",
      "- Sentiment:Negative\n",
      "\n",
      "Raw LLM Output for review: This time I was in and out fairly quickly\n",
      "- Key topics:Service Time\n",
      "-Sentiment:Positive\n",
      "\n",
      "Raw LLM Output for review: Terrible service.  Stay away.  Do not purchase a Ford\n",
      "- Key topics:[Product Quality,Service Cost]\n",
      "- Sentiment:Negative\n",
      "\n"
     ]
    },
    {
     "name": "stderr",
     "output_type": "stream",
     "text": [
      "Processing Reviews:  49%|█████████▋          | 574/1181 [09:23<07:26,  1.36it/s]"
     ]
    },
    {
     "name": "stdout",
     "output_type": "stream",
     "text": [
      "Raw LLM Output for review: Great prices and friendly service!❤️\n",
      "- Key topics:[Product Availability,Service Cost,Staff]\n",
      "- Sentiment: [Positive]\n",
      "\n"
     ]
    },
    {
     "name": "stderr",
     "output_type": "stream",
     "text": [
      "Processing Reviews:  49%|█████████▊          | 577/1181 [09:24<05:20,  1.89it/s]"
     ]
    },
    {
     "name": "stdout",
     "output_type": "stream",
     "text": [
      "Raw LLM Output for review: Wonderful... Workers are very pleasant and helpful.....\n",
      "- Key topics:[Staff]\n",
      "- Sentiment:Positive\n",
      "\n"
     ]
    },
    {
     "name": "stderr",
     "output_type": "stream",
     "text": [
      "Processing Reviews:  49%|█████████▊          | 578/1181 [09:24<05:11,  1.94it/s]"
     ]
    },
    {
     "name": "stdout",
     "output_type": "stream",
     "text": [
      "Raw LLM Output for review: Expect  to wait even on easy jobs.... 🤦🏾‍♂️ …\n",
      "- Key topics:[Service Time]\n",
      "- Sentiment:Negative\n",
      "\n"
     ]
    },
    {
     "name": "stderr",
     "output_type": "stream",
     "text": [
      "Processing Reviews:  49%|█████████▊          | 579/1181 [09:25<05:51,  1.71it/s]"
     ]
    },
    {
     "name": "stdout",
     "output_type": "stream",
     "text": [
      "Raw LLM Output for review: Timeline for update is too far long to get vehicle status....\n",
      "- Key topics:[Service Time,Product Quality]\n",
      "- Sentiment: Negative\n",
      "\n"
     ]
    },
    {
     "name": "stderr",
     "output_type": "stream",
     "text": [
      "Processing Reviews:  49%|█████████▊          | 580/1181 [09:26<05:10,  1.94it/s]"
     ]
    },
    {
     "name": "stdout",
     "output_type": "stream",
     "text": [
      "Raw LLM Output for review: just kind high with there prices but professional\n",
      "- Key topics:[Service Cost]\n",
      "- Sentiment:Neutral.\n",
      "\n",
      "Raw LLM Output for review: The service department is pretty great\n",
      "- Key topics:Service\n",
      "- Sentiment:Positive\n",
      "\n"
     ]
    },
    {
     "name": "stderr",
     "output_type": "stream",
     "text": [
      "Processing Reviews:  49%|█████████▊          | 581/1181 [09:27<06:44,  1.48it/s]"
     ]
    },
    {
     "name": "stdout",
     "output_type": "stream",
     "text": [
      "Raw LLM Output for review: Worst mechanics on the face of the Earth do not go there\n",
      "- Key topics:[Staff, Service Quality]\n",
      "- Sentiment: [Negative]\n",
      "\n"
     ]
    },
    {
     "name": "stderr",
     "output_type": "stream",
     "text": [
      "Processing Reviews:  49%|█████████▉          | 584/1181 [09:28<05:03,  1.97it/s]"
     ]
    },
    {
     "name": "stdout",
     "output_type": "stream",
     "text": [
      "Raw LLM Output for review: Their \"ripoffs\" starting from the receptionist to the top honcho\n",
      "- Key topics:[Service Cost, Staff]\n",
      "- Sentiment:Negative\n",
      "\n",
      "Raw LLM Output for review: To be honest I feel hurt I got played.\n",
      "- Key topics:[Not Classified]\n",
      "- Sentiment:[Negative]\n",
      "\n"
     ]
    },
    {
     "name": "stderr",
     "output_type": "stream",
     "text": [
      "Processing Reviews:  50%|█████████▉          | 585/1181 [09:29<06:13,  1.60it/s]"
     ]
    },
    {
     "name": "stdout",
     "output_type": "stream",
     "text": [
      "Raw LLM Output for review: Great service and friendly staff\n",
      "- Key topics:Staff\n",
      "- Sentiment:Positive\n",
      "\n",
      "Raw LLM Output for review: Good Service so far.\n",
      "- Key topics: [Service]\n",
      "- Sentiment: [Positive]\n",
      "\n"
     ]
    },
    {
     "name": "stderr",
     "output_type": "stream",
     "text": [
      "Processing Reviews:  50%|█████████▉          | 588/1181 [09:30<04:57,  2.00it/s]"
     ]
    },
    {
     "name": "stdout",
     "output_type": "stream",
     "text": [
      "Raw LLM Output for review: Don’t even waste your time\n",
      "- Key topics:[Not Classified]\n",
      "- Sentiment:[Negative]\n",
      "\n",
      "Raw LLM Output for review: Good service and great staff\n",
      "- Key topics:Staff,Service Quality\n",
      "- Sentiment:Positive\n",
      "\n",
      "Raw LLM Output for review: Very bad customer service.\n",
      "- Key topics:Staff\n",
      "-Sentiment:Negative\n",
      "\n"
     ]
    },
    {
     "name": "stderr",
     "output_type": "stream",
     "text": [
      "Processing Reviews:  50%|█████████▉          | 589/1181 [09:31<06:10,  1.60it/s]"
     ]
    },
    {
     "name": "stdout",
     "output_type": "stream",
     "text": [
      "Raw LLM Output for review: Professional, kind and fast service.\n",
      "- Key topics:Staff,Service Time\n",
      "- Sentiment:Positive\n",
      "\n",
      "Raw LLM Output for review: Service was quick and easy.\n",
      "- Key topics:[Service Time]\n",
      "- Sentiment:Positive\n",
      "\n",
      "Raw LLM Output for review: Horrible customer service.\n",
      "- Key topics:[Staff]\n",
      "- Sentiment: Negative\n",
      "\n",
      "Raw LLM Output for review: No answers phone\n",
      "- Key topics:[Not Classified]\n",
      "- Sentiment:[Negative]\n",
      "\n",
      "Raw LLM Output for review: Great customer service\n",
      "- Key topics:Staff\n",
      "- Sentiment:[Positive]\n",
      "\n",
      "Raw LLM Output for review: Very good\n",
      "- Key topics:Not Classified\n",
      "- Sentiment:Positive\n",
      "\n",
      "Raw LLM Output for review: Not even close to being professionals.\n",
      "- Key topics:[Staff, Service Quality]\n",
      "- Sentiment:Negative\n",
      "\n",
      "Raw LLM Output for review: So slow\n",
      "- Key topics: [Service Time]\n",
      "- Sentiment: Negative\n",
      "\n"
     ]
    },
    {
     "name": "stderr",
     "output_type": "stream",
     "text": [
      "Processing Reviews:  50%|██████████          | 591/1181 [09:37<15:45,  1.60s/it]"
     ]
    },
    {
     "name": "stdout",
     "output_type": "stream",
     "text": [
      "Raw LLM Output for review: EFFECTIVE IMMEDIATELY AVAILABLE EMPLOYEES\n",
      "- Key topics:[Staff]\n",
      "- Sentiment:Neutral\n",
      "\n",
      "Raw LLM Output for review: Bad experience\n",
      "- Key topics:[Not Classified,Not Classified,Not Classified,Not Classified,Not Classified,Not Classified,Not Classified,Not Classified,Not Classified,Not Classified,Not Classified,Not Classified]\n",
      "- Sentiment:[Negative]\n",
      "\n"
     ]
    },
    {
     "name": "stderr",
     "output_type": "stream",
     "text": [
      "Processing Reviews:  51%|██████████▏         | 600/1181 [09:39<05:23,  1.80it/s]"
     ]
    },
    {
     "name": "stdout",
     "output_type": "stream",
     "text": [
      "Raw LLM Output for review: Great car loving it$\n",
      "- Key topics: [Product Quality]\n",
      "- Sentiment: [Positive]\n",
      "\n",
      "Raw LLM Output for review: Friendly and helpful staff\n",
      "- Key topics:Staff\n",
      "-Sentiment:Positive\n",
      "\n",
      "Raw LLM Output for review: Do good work\n",
      "- Key topics:Not Classified\n",
      "- Sentiment:Neutral\n",
      "\n"
     ]
    },
    {
     "name": "stderr",
     "output_type": "stream",
     "text": [
      "Processing Reviews:  51%|██████████▏         | 601/1181 [09:40<05:49,  1.66it/s]"
     ]
    },
    {
     "name": "stdout",
     "output_type": "stream",
     "text": [
      "Raw LLM Output for review: Always Great Service\n",
      "- Key topics: [Service Quality,Staff]\n",
      "- Sentiment: [Positive]\n",
      "\n"
     ]
    },
    {
     "name": "stderr",
     "output_type": "stream",
     "text": [
      "Processing Reviews:  51%|██████████▏         | 604/1181 [09:41<05:36,  1.72it/s]"
     ]
    },
    {
     "name": "stdout",
     "output_type": "stream",
     "text": [
      "Raw LLM Output for review: Michelle was a pleasure to deal with,\n",
      "- Key topics:Staff\n",
      "-Sentiment:Positive\n",
      "\n",
      "Raw LLM Output for review: Horrible service.\n",
      "- Key topics:[Service Quality,Staff]\n",
      "- Sentiment:[Negative]\n",
      "\n",
      "Raw LLM Output for review: Service is good.\n",
      "- Key topics: [Service Quality]\n",
      "- Sentiment: Positive\n",
      "\n",
      "Raw LLM Output for review: On point\n",
      "- Key topics:Not Classified\n",
      "- Sentiment:Neutral\n",
      "\n",
      "Raw LLM Output for review: The worst\n",
      "- Key topics:[Not Classified]\n",
      "- Sentiment:[Negative]\n",
      "\n",
      "Raw LLM Output for review: 😏😏....... …\n",
      "- Key topics:Not Classified\n",
      "- Sentiment:Not Classified\n",
      "\n",
      "Raw LLM Output for review: Me friends car dealership\n",
      "- Key topics:[Staff]\n",
      "- Sentiment: [Negative]\n",
      "\n"
     ]
    },
    {
     "name": "stderr",
     "output_type": "stream",
     "text": [
      "Processing Reviews:  51%|██████████▏         | 605/1181 [09:47<11:44,  1.22s/it]"
     ]
    },
    {
     "name": "stdout",
     "output_type": "stream",
     "text": [
      "Raw LLM Output for review: Poor  service\n",
      "- Key topics:[Poor Service]\n",
      "- Sentiment:[Negative]\n",
      "\n",
      "Raw LLM Output for review: Very professional\n",
      "- Key topics: [Not Classified,Not Classified,Not Classified,Not Classified,Not Classified,Not Classified,Not Classified,Not Classified,Not Classified,Not Classified,Not Classified]\n",
      "- Sentiment: [Positive/Negative/Neutral]: Positive\n",
      "\n",
      "Raw LLM Output for review: NICE place\n",
      "- Key topics:Not Classified \n",
      "- Sentiment:Positive\n",
      "\n",
      "Raw LLM Output for review: Very good\n",
      "- Key topics: [Not Classified]\n",
      "- Sentiment: Positive\n",
      "\n",
      "Raw LLM Output for review: OFFICIAL\n",
      "- Key topics:[Recall, Service Quality]\n",
      "- Sentiment:Neutral\n",
      "\n",
      "Raw LLM Output for review: Fast, efficient\n",
      "- Key topics: [Service Time]\n",
      "- Sentiment: [Positive]\n",
      "\n"
     ]
    },
    {
     "name": "stderr",
     "output_type": "stream",
     "text": [
      "Processing Reviews:  52%|██████████▎         | 612/1181 [09:51<08:22,  1.13it/s]"
     ]
    },
    {
     "name": "stdout",
     "output_type": "stream",
     "text": [
      "Raw LLM Output for review: Excellent\n",
      "Since the review is just \"Excellent\" without any additional information, it's difficult to assign specific topics. However, based on the predefined list, I can make an educated guess.\n",
      "\n",
      "- Key topics: [Not Classified]\n",
      "- Sentiment:[Positive]\n",
      "\n"
     ]
    },
    {
     "name": "stderr",
     "output_type": "stream",
     "text": [
      "Processing Reviews:  52%|██████████▍         | 618/1181 [09:52<05:11,  1.80it/s]"
     ]
    },
    {
     "name": "stdout",
     "output_type": "stream",
     "text": [
      "Raw LLM Output for review: Great service\n",
      "- Key topics:[Staff]\n",
      "- Sentiment:Positive\n",
      "\n",
      "Raw LLM Output for review: Decent dealership\n",
      "- Key topics:[Facilities,Staff]\n",
      "- Sentiment:Neutral\n",
      "\n"
     ]
    },
    {
     "name": "stderr",
     "output_type": "stream",
     "text": [
      "Processing Reviews:  52%|██████████▍         | 620/1181 [09:53<05:26,  1.72it/s]"
     ]
    },
    {
     "name": "stdout",
     "output_type": "stream",
     "text": [
      "Raw LLM Output for review: Horrible service\n",
      "- Key topics:[Service Quality,Staff]\n",
      "- Sentiment:Negative\n",
      "\n"
     ]
    },
    {
     "name": "stderr",
     "output_type": "stream",
     "text": [
      "Processing Reviews:  53%|██████████▌         | 622/1181 [09:54<04:35,  2.03it/s]"
     ]
    },
    {
     "name": "stdout",
     "output_type": "stream",
     "text": [
      "Raw LLM Output for review: Good service\n",
      "- Key topics:Service Quality\n",
      "- Sentiment:Positive\n",
      "Raw LLM Output for review: Great service\n",
      "- Key topics: \n",
      "- Sentiment: Positive\n",
      "\n",
      "\n",
      "Raw LLM Output for review: Excellent service\n",
      "- Key topics:[Staff]\n",
      "- Sentiment:Positive\n",
      "\n"
     ]
    },
    {
     "name": "stderr",
     "output_type": "stream",
     "text": [
      "Processing Reviews:  53%|██████████▌         | 624/1181 [09:55<05:37,  1.65it/s]"
     ]
    },
    {
     "name": "stdout",
     "output_type": "stream",
     "text": [
      "Raw LLM Output for review: Great service\n",
      "- Key topics:Service\n",
      "- Sentiment:Positive\n",
      "\n",
      "Raw LLM Output for review: Good service\n",
      "- Key topics:[Staff,Service Time]\n",
      "- Sentiment:Positive\n",
      "\n"
     ]
    },
    {
     "name": "stderr",
     "output_type": "stream",
     "text": [
      "Processing Reviews:  53%|██████████▌         | 625/1181 [09:57<07:50,  1.18it/s]"
     ]
    },
    {
     "name": "stdout",
     "output_type": "stream",
     "text": [
      "Raw LLM Output for review: Great service\n",
      "- Key topics: [Staff, Service Time]\n",
      "- Sentiment: Positive\n",
      "\n",
      "Raw LLM Output for review: If I had to recommend them, wouldn't I????  I wouldn't do it, their commitment and kindness ends when the sale is finalized, 2 months waiting for an appointment, now the car has been in the service for more than a week and no one knows anything, they don't care\n",
      "- Key topics:[Staff,Service Time]\n",
      "- Sentiment:Negative\n",
      "\n",
      "Raw LLM Output for review: Excellent service!! Fast and honest\n",
      "!!\n",
      "- Key topics:[Service Time,Staff]\n",
      "- Sentiment:Positive\n",
      "\n",
      "Raw LLM Output for review: The worst service, they never answer and they yell at you, you should go to the city because the treatment of the consumer is fatal from these Hispanics towards another real Hispanic and I tried to call and they leave me on hold and hang up, the so-called lack of ethics and professionalism\n",
      "- Key topics:[Staff,Service Time]\n",
      "- Sentiment:[Negative]\n",
      "\n",
      "Raw LLM Output for review: The worst place to take your vehicle, very bad service and the longest wait you will have\n",
      "Key topics: [Service Time, Service Quality]\n",
      "- Sentiment: Negative\n",
      "\n",
      "Raw LLM Output for review: Excellent service\n",
      "- Key topics:Service Cost \n",
      "- Sentiment: [Positive]\n",
      "\n",
      "Raw LLM Output for review: The Ford service is not very good, it is very messy in all aspects\n",
      "- Key topics:[Service Quality,Facilities]\n",
      "- Sentiment:Negative\n",
      "\n",
      "Raw LLM Output for review: The attention was excellent, they explained to me with great patience and I felt very comfortable. Thank you!!\n",
      "- Key topics:[Staff,Service Quality]\n",
      "- Sentiment:Positive\n",
      "\n",
      "Raw LLM Output for review: They treat the customer like one out of free, they make fun of the customer in their face, they ignore the article and what they tell you is to sue it like this they told me\n",
      "- Key topics:[Staff,Service Quality]\n",
      "- Sentiment:Negative\n",
      "\n"
     ]
    },
    {
     "name": "stderr",
     "output_type": "stream",
     "text": [
      "Processing Reviews:  53%|██████████▌         | 626/1181 [10:13<33:33,  3.63s/it]"
     ]
    },
    {
     "name": "stdout",
     "output_type": "stream",
     "text": [
      "Raw LLM Output for review: Great services.\n",
      "- Key topics:[Staff, Service Quality]\n",
      "- Sentiment: [Positive/Negative/Neutral]\n",
      "\n",
      "Note: Since the review is very brief and only contains positive words, it's difficult to assign a sentiment. However, based on the content, it can be inferred that the reviewer had a good experience with the staff and service quality, which are both positive topics.\n",
      "\n",
      "Raw LLM Output for review: Excellent service, they are fast, very attentive and very efficient. I have been serving Toyota for years.\n",
      "- Key topics:[Service Time, Staff, Facilities]\n",
      "- Sentiment: Positive\n",
      "\n",
      "Raw LLM Output for review: The parts were very expensive, I got it for half of what they sold me.\n",
      "- Key topics:[Price/Cost,Product Quality]\n",
      "- Sentiment:Positive\n",
      "\n",
      "Raw LLM Output for review: More or less enjoyed with family\n",
      "- Key topics:Not Classified\n",
      "- Sentiment:Neutral\n",
      "\n"
     ]
    },
    {
     "name": "stderr",
     "output_type": "stream",
     "text": [
      "Processing Reviews:  54%|██████████▊         | 635/1181 [10:17<12:44,  1.40s/it]"
     ]
    },
    {
     "name": "stdout",
     "output_type": "stream",
     "text": [
      "Raw LLM Output for review: Good\n",
      "Since the review is \"Good\", it doesn't contain any negative information. Therefore, all the relevant topics are neutral or positive.\n",
      "\n",
      "- Key topics: [Not Classified]\n",
      "- Sentiment: Positive\n",
      "\n"
     ]
    },
    {
     "name": "stderr",
     "output_type": "stream",
     "text": [
      "Processing Reviews:  54%|██████████▊         | 640/1181 [10:20<09:26,  1.05s/it]"
     ]
    },
    {
     "name": "stdout",
     "output_type": "stream",
     "text": [
      "Raw LLM Output for review: Very slow I'm still waiting for my Ford Explorer\n",
      "- Key topics:[Service Time,Product Availability]\n",
      "- Sentiment:Negative\n",
      "\n",
      "Raw LLM Output for review: Good attention from the staff who work there. !!\n",
      "- Key topics:[Staff]\n",
      "- Sentiment:Positive\n",
      "\n"
     ]
    },
    {
     "name": "stderr",
     "output_type": "stream",
     "text": [
      "Processing Reviews:  54%|██████████▊         | 642/1181 [10:21<08:54,  1.01it/s]"
     ]
    },
    {
     "name": "stdout",
     "output_type": "stream",
     "text": [
      "Raw LLM Output for review: The worst service that is seen in a dile de hauto and is visited a lot in NY\n",
      "- Key topics:[Not Classified]\n",
      "- Sentiment:[Negative]\n",
      "\n"
     ]
    },
    {
     "name": "stderr",
     "output_type": "stream",
     "text": [
      "Processing Reviews:  54%|██████████▉         | 643/1181 [10:22<08:52,  1.01it/s]"
     ]
    },
    {
     "name": "stdout",
     "output_type": "stream",
     "text": [
      "Raw LLM Output for review: For optimal service for Ford\n",
      "- Key topics:[Not Classified, Product Quality]\n",
      "- Sentiment:Neutral\n",
      "\n",
      "Raw LLM Output for review: Very good service\n",
      "- Key topics:Not Classified\n",
      "- Sentiment:Positive\n",
      "\n"
     ]
    },
    {
     "name": "stderr",
     "output_type": "stream",
     "text": [
      "Processing Reviews:  55%|██████████▉         | 644/1181 [10:24<10:22,  1.16s/it]"
     ]
    },
    {
     "name": "stdout",
     "output_type": "stream",
     "text": [
      "Raw LLM Output for review: Any problem with your car can be solved here\n",
      "- Key topics: [Not Classified,Product Quality]\n",
      "- Sentiment: Positive\n",
      "\n"
     ]
    },
    {
     "name": "stderr",
     "output_type": "stream",
     "text": [
      "Processing Reviews:  55%|██████████▉         | 646/1181 [10:25<08:43,  1.02it/s]"
     ]
    },
    {
     "name": "stdout",
     "output_type": "stream",
     "text": [
      "Raw LLM Output for review: Well.\n",
      "- Key topics:[Not Classified]\n",
      "- Sentiment: [Neutral]\n",
      "\n"
     ]
    },
    {
     "name": "stderr",
     "output_type": "stream",
     "text": [
      "Processing Reviews:  55%|██████████▉         | 647/1181 [10:26<08:21,  1.06it/s]"
     ]
    },
    {
     "name": "stdout",
     "output_type": "stream",
     "text": [
      "Raw LLM Output for review: They last a long time to check the vehicle\n",
      "- Key topics:[Not Classified]\n",
      "- Sentiment:[Neutral]\n",
      "\n"
     ]
    },
    {
     "name": "stderr",
     "output_type": "stream",
     "text": [
      "Processing Reviews:  55%|██████████▉         | 648/1181 [10:27<08:26,  1.05it/s]"
     ]
    },
    {
     "name": "stdout",
     "output_type": "stream",
     "text": [
      "Raw LLM Output for review: A good service...\n",
      "- Key topics:[Not Classified]\n",
      "- Sentiment:Positive\n",
      "\n"
     ]
    },
    {
     "name": "stderr",
     "output_type": "stream",
     "text": [
      "Processing Reviews:  55%|██████████▉         | 649/1181 [10:29<10:26,  1.18s/it]"
     ]
    },
    {
     "name": "stdout",
     "output_type": "stream",
     "text": [
      "Raw LLM Output for review: Good attention\n",
      "Guaranteed services\n",
      "- Key topics:[Not Classified,Not Classified]\n",
      "- Sentiment:[Positive]\n",
      "\n"
     ]
    },
    {
     "name": "stderr",
     "output_type": "stream",
     "text": [
      "Processing Reviews:  55%|███████████         | 650/1181 [10:29<08:58,  1.01s/it]"
     ]
    },
    {
     "name": "stdout",
     "output_type": "stream",
     "text": [
      "Raw LLM Output for review: Terrible customer service\n",
      "- Key topics:[Staff,Service Cost]\n",
      "- Sentiment:Negative\n",
      "\n"
     ]
    },
    {
     "name": "stderr",
     "output_type": "stream",
     "text": [
      "Processing Reviews:  55%|███████████         | 651/1181 [10:30<08:22,  1.05it/s]"
     ]
    },
    {
     "name": "stdout",
     "output_type": "stream",
     "text": [
      "Raw LLM Output for review: Excellent\n",
      "- Key topics: [Not Classified]\n",
      "- Sentiment: Excellent\n",
      "\n"
     ]
    },
    {
     "name": "stderr",
     "output_type": "stream",
     "text": [
      "Processing Reviews:  55%|███████████         | 652/1181 [10:32<10:50,  1.23s/it]"
     ]
    },
    {
     "name": "stdout",
     "output_type": "stream",
     "text": [
      "Raw LLM Output for review: Very good service\n",
      "- Key topics: [Staff,Service Time]\n",
      "- Sentiment: Positive\n",
      "\n"
     ]
    },
    {
     "name": "stderr",
     "output_type": "stream",
     "text": [
      "Processing Reviews:  55%|███████████         | 653/1181 [10:34<11:26,  1.30s/it]"
     ]
    },
    {
     "name": "stdout",
     "output_type": "stream",
     "text": [
      "Raw LLM Output for review: I just want to thank everyone at major world chevrolet service department, everyone was so helpful . I had stuck with my car, they sent me tow truck and fixed my car same day\n",
      "- Key topics:[Staff]\n",
      "- Sentiment:Positive\n",
      "\n"
     ]
    },
    {
     "name": "stderr",
     "output_type": "stream",
     "text": [
      "Processing Reviews:  55%|███████████         | 654/1181 [10:35<10:36,  1.21s/it]"
     ]
    },
    {
     "name": "stdout",
     "output_type": "stream",
     "text": [
      "Raw LLM Output for review: Major world services are the best. I have had 4 cars bought and serviced with Major World and never had any problems or worries about the quality of service I would receive when I brought or had my car serviced.\n",
      "- Key topics:[Product Quality]\n",
      "- Sentiment:Positive\n",
      "\n"
     ]
    },
    {
     "name": "stderr",
     "output_type": "stream",
     "text": [
      "Processing Reviews:  55%|███████████         | 655/1181 [10:36<12:01,  1.37s/it]"
     ]
    },
    {
     "name": "stdout",
     "output_type": "stream",
     "text": [
      "Raw LLM Output for review: I have been going there for years, and they handled everything professionally and promptly. This is the shop I rely on for all my car maintenance.\n",
      "- Key topics:[Staff,Service Quality,Facilities]\n",
      "- Sentiment:Positive\n",
      "\n"
     ]
    },
    {
     "name": "stderr",
     "output_type": "stream",
     "text": [
      "Processing Reviews:  56%|███████████         | 656/1181 [10:38<11:36,  1.33s/it]"
     ]
    },
    {
     "name": "stdout",
     "output_type": "stream",
     "text": [
      "Raw LLM Output for review: Slow as hell I literally spent 6 hours there to be told my car needs a part and I have to come back when they order it. It has been 2 weeks and I’m still waiting not even an updated phone call. Plus I have a ford “American car”. I wonder how some businesses stay open with no structure or professionalism.\n",
      "- Key topics:[Service Time,Product Quality]\n",
      "- Sentiment:Negative\n",
      "\n"
     ]
    },
    {
     "name": "stderr",
     "output_type": "stream",
     "text": [
      "Processing Reviews:  56%|███████████▏        | 657/1181 [10:39<11:28,  1.31s/it]"
     ]
    },
    {
     "name": "stdout",
     "output_type": "stream",
     "text": [
      "Raw LLM Output for review: Bad experienced!!! Apart from the fact that they are very rude and have terrible customer service, they make you waste a lot of time unnecessarily.\n",
      "- Key topics:[Service Cost, Facilities, Staff]\n",
      "- Sentiment:Negative\n",
      "\n"
     ]
    },
    {
     "name": "stderr",
     "output_type": "stream",
     "text": [
      "Processing Reviews:  56%|███████████▏        | 658/1181 [10:39<08:41,  1.00it/s]"
     ]
    },
    {
     "name": "stdout",
     "output_type": "stream",
     "text": [
      "Raw LLM Output for review: Very nice staff, Easy to get appointment, car fixed very quickly.\n",
      "- Key topics:[Staff,Service Time]\n",
      "- Sentiment:Positive\n",
      "\n",
      "Raw LLM Output for review: The service is I asked is it and I really liked major Chevrolet service world. I recommend to come here next time.\n",
      "- Key topics:Service, Staff\n",
      "- Sentiment:Positive\n",
      "\n"
     ]
    },
    {
     "name": "stderr",
     "output_type": "stream",
     "text": [
      "Processing Reviews:  56%|███████████▏        | 659/1181 [10:42<14:23,  1.65s/it]"
     ]
    },
    {
     "name": "stdout",
     "output_type": "stream",
     "text": [
      "Raw LLM Output for review: Avoid this service center at all costs. I took it there twice and each time I left with new problems I didn’t have before taking the car there.\n",
      "- Key topics:[Product Quality,Service Time,Recall]\n",
      "- Sentiment:Negative\n",
      "\n"
     ]
    },
    {
     "name": "stderr",
     "output_type": "stream",
     "text": [
      "Processing Reviews:  56%|███████████▏        | 661/1181 [10:44<11:15,  1.30s/it]"
     ]
    },
    {
     "name": "stdout",
     "output_type": "stream",
     "text": [
      "Raw LLM Output for review: I was getting my suv service even though I got charge an arm and a leg they treated me good\n",
      "- Key topics:[Service Cost, Staff]\n",
      "- Sentiment:Positive\n",
      "\n"
     ]
    },
    {
     "name": "stderr",
     "output_type": "stream",
     "text": [
      "Processing Reviews:  56%|███████████▏        | 662/1181 [10:44<08:58,  1.04s/it]"
     ]
    },
    {
     "name": "stdout",
     "output_type": "stream",
     "text": [
      "Raw LLM Output for review: These guys were amazing. They made my shopping experience painless . No pressure to buy by my salesperson Robinson also great service and treatment by the management\n",
      "- Key topics:[Staff,Service Quality]\n",
      "- Sentiment:[Positive]\n",
      "\n",
      "Raw LLM Output for review: Fast reliable service center, the technician explained the issue and how it can be resolved and was able to get it done with the warranty taking care of 90% of it.\n",
      "- Key topics:[Service Quality, Staff]\n",
      "- Sentiment:Positive\n",
      "\n"
     ]
    },
    {
     "name": "stderr",
     "output_type": "stream",
     "text": [
      "Processing Reviews:  56%|███████████▏        | 663/1181 [10:49<17:15,  2.00s/it]"
     ]
    },
    {
     "name": "stdout",
     "output_type": "stream",
     "text": [
      "Raw LLM Output for review: Bought and serviced my BMW here in 2020. Great services. They Are always taking care of my cars and they Are really Professional. I would reccommend everyone to come here. I am always happy with the service\n",
      "- Key topics:[Staff,Service Quality,Facilities]\n",
      "- Sentiment:Positive\n",
      "\n"
     ]
    },
    {
     "name": "stderr",
     "output_type": "stream",
     "text": [
      "Processing Reviews:  56%|███████████▎        | 665/1181 [10:50<11:41,  1.36s/it]"
     ]
    },
    {
     "name": "stdout",
     "output_type": "stream",
     "text": [
      "Raw LLM Output for review: I bought a  Lincoln MKS 2013 major world over 7 year ago , i had issues and always done my maintenance at the service dept , I'm very content and like the services provided, the manager Nenad and all service writers Jessica ,and luz are very helpful always explain what I need. 100% satisfied! Thank you major world -\n",
      "- Key topics:[Staff,Service Quality]\n",
      "- Sentiment:Positive\n",
      "\n",
      "Raw LLM Output for review: It's always a pleasure to go there to service my car. My advisor, Sally Perez, makes it so for me. She's really concerned about the time I spend there. I love the fact that after the service is done, it is wrapped up with a wash.\n",
      "- Key topics:[Staff,Service Time]\n",
      "- Sentiment:Positive\n",
      "\n"
     ]
    },
    {
     "name": "stderr",
     "output_type": "stream",
     "text": [
      "Processing Reviews:  56%|███████████▎        | 667/1181 [10:53<12:26,  1.45s/it]"
     ]
    },
    {
     "name": "stdout",
     "output_type": "stream",
     "text": [
      "Raw LLM Output for review: My starter went out, my car has been in the shop for 8 days, they first say they ordered the wrong part, then they keep giving me the run around. Stay away from Major World . Leonard and Vic don’t even care They are scammers don’t even honor their warranty, Stay away.\n",
      "- Key topics:[Staff, Product Quality]\n",
      "- Sentiment:Negative\n",
      "\n"
     ]
    },
    {
     "name": "stderr",
     "output_type": "stream",
     "text": [
      "Processing Reviews:  57%|███████████▎        | 668/1181 [10:54<11:08,  1.30s/it]"
     ]
    },
    {
     "name": "stdout",
     "output_type": "stream",
     "text": [
      "Raw LLM Output for review: The service department is outstanding they do take care of you even if you have to wait a little bit not too long they do take care of you like family I especially want to thank the staff the service manager Nenad and Jessica\n",
      "- Key topics:[Staff,Service Time]\n",
      "- Sentiment:Positive\n",
      "\n"
     ]
    },
    {
     "name": "stderr",
     "output_type": "stream",
     "text": [
      "Processing Reviews:  57%|███████████▎        | 669/1181 [10:54<09:00,  1.06s/it]"
     ]
    },
    {
     "name": "stdout",
     "output_type": "stream",
     "text": [
      "Raw LLM Output for review: Honestly, like with every service station, just come in early and you leave early. Got there at 7:30a (they open at 8:00a) left within an hour. Great service and good mechanics.\n",
      "- Key topics:[Service Time]\n",
      "- Sentiment:Positive\n",
      "\n"
     ]
    },
    {
     "name": "stderr",
     "output_type": "stream",
     "text": [
      "Processing Reviews:  57%|███████████▎        | 670/1181 [10:56<10:25,  1.22s/it]"
     ]
    },
    {
     "name": "stdout",
     "output_type": "stream",
     "text": [
      "Raw LLM Output for review: This is a great service, professional assistance and support.\n",
      "We bought our family cars with this company and service the cars with them.\n",
      "Wonderful experience, absolutely recommend.\n",
      "Key topics:[Staff,Service Quality,Facilities]\n",
      "- Sentiment:Positive\n",
      "\n"
     ]
    },
    {
     "name": "stderr",
     "output_type": "stream",
     "text": [
      "Processing Reviews:  57%|███████████▎        | 671/1181 [10:59<15:24,  1.81s/it]"
     ]
    },
    {
     "name": "stdout",
     "output_type": "stream",
     "text": [
      "Raw LLM Output for review: Its always a pleasure going there. Some how I always end up with Jessica (or Jennifer) helping me. She is super sweet and helpful. Anytime something is wrong with my car I take it there and it gets fixed right up. The place is clean, vending machines are always fully stocked and they have charging ports for your phone.\n",
      "- Key topics:[Staff,Service Time]\n",
      "- Sentiment:Positive\n",
      "\n",
      "Raw LLM Output for review: Good customer service but the mechanical person do not keep the car clean. After oil changes, door, steering wheel is all oil spots.\n",
      "- Key topics:[Staff, Service Quality]\n",
      "- Sentiment: Negative\n",
      "\n",
      "Raw LLM Output for review: Nice experience at this Cadillac service e center, professional staff, large waiting area and quick service too.\n",
      "- Key topics:[Staff,Facilities,Service Time]\n",
      "- Sentiment:Positive.\n",
      "\n"
     ]
    },
    {
     "name": "stderr",
     "output_type": "stream",
     "text": [
      "Processing Reviews:  57%|███████████▍        | 674/1181 [11:03<12:24,  1.47s/it]"
     ]
    },
    {
     "name": "stdout",
     "output_type": "stream",
     "text": [
      "Raw LLM Output for review: It's most dishonest and disorganized mechanic service that I have ever seen. I can't believe Cadillac is working with this place. This place is disgusting, do not know waste your time and money and do not go there.\n",
      "- Key topics:[Facilities, Service Quality]\n",
      "- Sentiment: [Negative/Negative]\n",
      "\n",
      "Raw LLM Output for review: The entire staff was kind and friendly especially Terrena she was very helpful and informative she made sure I felt welcomed.  Mike was also helpful kept me updated with what’s going on and made sure to double checked everything was running smoothly I would definitely recommend the service department.\n",
      "- Key topics:[Staff]\n",
      "- Sentiment:Positive\n",
      "\n"
     ]
    },
    {
     "name": "stderr",
     "output_type": "stream",
     "text": [
      "Processing Reviews:  57%|███████████▍        | 675/1181 [11:05<13:16,  1.57s/it]"
     ]
    },
    {
     "name": "stdout",
     "output_type": "stream",
     "text": [
      "Raw LLM Output for review: Unbelievably long wait even though the part was ordered 2 days ago… horrible customer service from shop manager Juka .. who was rude and unprofessional. One of the worst experiences\n",
      "- Key topics:[Service Time,Staff]\n",
      "- Sentiment:Negative\n",
      "\n",
      "Raw LLM Output for review: They take your car in and get it done. Very few smiles if you’re a new customer to them.  Not very nice but overall experience was ok. I have heard nightmare stories will sitting there and makes you not want to come back. My experience was OK and everything was fine.\n",
      "- Key topics:[Staff,Service Time]\n",
      "- Sentiment:Neutral\n",
      "\n"
     ]
    },
    {
     "name": "stderr",
     "output_type": "stream",
     "text": [
      "Processing Reviews:  57%|███████████▍        | 678/1181 [11:10<13:07,  1.57s/it]"
     ]
    },
    {
     "name": "stdout",
     "output_type": "stream",
     "text": [
      "Raw LLM Output for review: The service is so good\n",
      "- Key topics: [Service Cost,Staff,Service Time]\n",
      "- Sentiment: Positive\n",
      "\n",
      "Raw LLM Output for review: Worst customer service ever. The staff and the big Russian guy they don't give deam about you or your car. One thing is true, major world is a huge and really big Scam.\n",
      "-Key topics: [Staff, Facilities], \n",
      "-Sentiment: Negative\n",
      "\n"
     ]
    },
    {
     "name": "stderr",
     "output_type": "stream",
     "text": [
      "Processing Reviews:  58%|███████████▌        | 680/1181 [11:11<10:40,  1.28s/it]"
     ]
    },
    {
     "name": "stdout",
     "output_type": "stream",
     "text": [
      "Raw LLM Output for review: Took my Subaru in for a state inspection, master technician Adian had me in and out of there in less than 15 minutes. He took the time out to give me some in-depth detail about my specific vehicle I really appreciated that. If you bring your GM product to get repaired I strongly recommend you book Adian to get it done💪🏾 …\n",
      "- Key topics:[Staff,Service Time]\n",
      "- Sentiment:Positive\n",
      "\n",
      "Raw LLM Output for review: I went for to check my car battery ,, my apointment was 12pm and i was there on time ,, but still nobody take me unyil 1pm and after tht they told me tey can take me after 2 cuz of lunch break ,, then y they give me 12pm.apointment ,, very rude ppl bad service ,, dnt go there\n",
      "- Key topics:[Staff, Service Time]\n",
      "- Sentiment: Negative\n",
      "\n"
     ]
    },
    {
     "name": "stderr",
     "output_type": "stream",
     "text": [
      "Processing Reviews:  58%|███████████▌        | 682/1181 [11:15<12:51,  1.55s/it]"
     ]
    },
    {
     "name": "stdout",
     "output_type": "stream",
     "text": [
      "Raw LLM Output for review: Parts department counter guys are so rude have no type of customer service or skills . They treat you like you’re a child . At the end of the day they are just workers and don’t care for their customers.\n",
      "- Key topics:[Staff]\n",
      "-Sentiment:Negative\n",
      "\n",
      "Raw LLM Output for review: Had my rear camera go out on the truck and called parts dept to get the part number. They do not give PN over the phone. I have owned BMW/Mercedes no problem with this. apparently need top secret clearance for Chevy part number. Great job fellas!\n",
      "- Key topics:[Service Cost, Facilities]\n",
      "- Sentiment:[Neutral]\n",
      "\n"
     ]
    },
    {
     "name": "stderr",
     "output_type": "stream",
     "text": [
      "Processing Reviews:  58%|███████████▌        | 683/1181 [11:16<11:43,  1.41s/it]"
     ]
    },
    {
     "name": "stdout",
     "output_type": "stream",
     "text": [
      "Raw LLM Output for review: Told me my car would be ready in 2-3 days, it’s been over a week. I called for an update, was told they would call me back, never did. I called again, no one answers the phone. Avoid this place if possible. No respect for customers.\n",
      "- Key topics:[Service Time, Staff]\n",
      "- Sentiment:Negative\n",
      "\n",
      "Raw LLM Output for review: Always feel welcomed and get assistance right away. Victor Almonte, Manager was of great service through the whole process. Definitely recommend coming here\n",
      "- Key topics:[Staff,Service Time,Facilities]\n",
      "- Sentiment:[Positive]\n",
      "\n"
     ]
    },
    {
     "name": "stderr",
     "output_type": "stream",
     "text": [
      "Processing Reviews:  58%|███████████▌        | 685/1181 [11:18<10:28,  1.27s/it]"
     ]
    },
    {
     "name": "stdout",
     "output_type": "stream",
     "text": [
      "Raw LLM Output for review: This people here is amazing! All the time I visited for that maintenance car I received the best atencion start with the manager and the office people, then the mechanics. I lovely recommend!\n",
      "Key topics:[Staff]\n",
      "- Sentiment:Positive\n",
      "\n",
      "Raw LLM Output for review: Their service is horrible you call the service # no one picks up and you can’t speak to anyone! The worst customer service ever!\n",
      "- Key topics:Staff,Service Cost\n",
      "- Sentiment:Negative\n",
      "\n",
      "Raw LLM Output for review: Jessica and Terrena was very polite..gave me the service I needed for my car .. really appreciate the other issues in regards to my warranty.. would definitely recommend this place to others\n",
      "- Key topics:[Staff]\n",
      "- Sentiment:Positive\n",
      "\n",
      "Raw LLM Output for review: I came into this location for an oil change. I was told there is a special for $129 that includes the ac and cabin filter unit. 1 hour later I'm looking at a bill for $217. Waiting to speak to a manager 😡 be careful with these people and what they do to your car. …\n",
      "- Key topics:[Service Cost, Service Time]\n",
      "- Sentiment: Negative\n",
      "\n"
     ]
    },
    {
     "name": "stderr",
     "output_type": "stream",
     "text": [
      "Processing Reviews:  58%|███████████▋        | 690/1181 [11:20<06:46,  1.21it/s]"
     ]
    },
    {
     "name": "stdout",
     "output_type": "stream",
     "text": [
      "Raw LLM Output for review: They are all so helpful and kept me informed of all my issues\n",
      "- Key topics:[Staff]\n",
      "- Sentiment:Positive\n",
      "\n",
      "Raw LLM Output for review: Bad  place to come never come back\n",
      "- Key topics:Not Classified\n",
      "- Sentiment:Negative\n",
      "\n"
     ]
    },
    {
     "name": "stderr",
     "output_type": "stream",
     "text": [
      "Processing Reviews:  59%|███████████▋        | 691/1181 [11:21<06:51,  1.19it/s]"
     ]
    },
    {
     "name": "stdout",
     "output_type": "stream",
     "text": [
      "Raw LLM Output for review: Major world conned my girlfriend into purchasing an over priced vehicle. If you dont want to be ripped off, stay away from this place. They have so many cars, but the dont check them out for issues, or clean them. I feel so sorry for my girlfriend. She will be paying nearly double what the vehicle is worth.\n",
      "- Key topics:[Staff,Product Quality]\n",
      "- Sentiment:Negative\n",
      "\n",
      "Raw LLM Output for review: Javier was nice.  Office personnel are good.  Check your warranty!  Even if its leased you will get a rude awakening thinking your covered under mileage.\n",
      "- Key topics:[Staff,Product Quality]\n",
      "- Sentiment:[Negative/Negative]\n",
      "\n"
     ]
    },
    {
     "name": "stderr",
     "output_type": "stream",
     "text": [
      "Processing Reviews:  59%|███████████▊        | 694/1181 [11:23<06:08,  1.32it/s]"
     ]
    },
    {
     "name": "stdout",
     "output_type": "stream",
     "text": [
      "Raw LLM Output for review: The service here is very good.  They are very knowledgeable and assistance is quick. But there is wait until your is done.\n",
      "- Key topics:[Service Quality,Staff]\n",
      "- Sentiment:Positive\n",
      "\n"
     ]
    },
    {
     "name": "stderr",
     "output_type": "stream",
     "text": [
      "Processing Reviews:  59%|███████████▊        | 695/1181 [11:23<05:30,  1.47it/s]"
     ]
    },
    {
     "name": "stdout",
     "output_type": "stream",
     "text": [
      "Raw LLM Output for review: Its an ok place. They would have gotten a higher rating if my alignment wasn't off, they gave me newer tires with my used car purchase and the wipers on the car weren't so old that there was metal coming out of them\n",
      "- Key topics:[Facilities,Product Availability]\n",
      "- Sentiment:[Neutral]\n",
      "\n"
     ]
    },
    {
     "name": "stderr",
     "output_type": "stream",
     "text": [
      "Processing Reviews:  59%|███████████▊        | 696/1181 [11:24<05:06,  1.58it/s]"
     ]
    },
    {
     "name": "stdout",
     "output_type": "stream",
     "text": [
      "Raw LLM Output for review: Worst place to get service, advisor Jay was very unprofessional and not helpful, also I noticed a low level of customer service skills when it comes to interact with customers Jay needs more training.  Worst place to get service.\n",
      "- Key topics:[Staff, Facilities]\n",
      "- Sentiment:Negative\n",
      "\n"
     ]
    },
    {
     "name": "stderr",
     "output_type": "stream",
     "text": [
      "Processing Reviews:  59%|███████████▊        | 697/1181 [11:24<04:34,  1.76it/s]"
     ]
    },
    {
     "name": "stdout",
     "output_type": "stream",
     "text": [
      "Raw LLM Output for review: They answer the phone to transfer you to a full message board you can’t leave even a message. Just asking time and availability or appointment inquiries to no avail. Visiting the shop to see all the phone receptionist not busy is very upsetting.\n",
      "- Key topics:[Service Time, Facilities]\n",
      "- Sentiment:Negative\n",
      "\n"
     ]
    },
    {
     "name": "stderr",
     "output_type": "stream",
     "text": [
      "Processing Reviews:  59%|███████████▊        | 698/1181 [11:26<06:46,  1.19it/s]"
     ]
    },
    {
     "name": "stdout",
     "output_type": "stream",
     "text": [
      "Raw LLM Output for review: I purchased both of my vehicles here. Great cars and their service center is amazing. I have no complaints. Need a car? Come here. You won't regret it.\n",
      "- Key topics:[Staff, Product Availability]\n",
      "- Sentiment:Positive\n",
      "\n"
     ]
    },
    {
     "name": "stderr",
     "output_type": "stream",
     "text": [
      "Processing Reviews:  59%|███████████▊        | 699/1181 [11:26<05:35,  1.44it/s]"
     ]
    },
    {
     "name": "stdout",
     "output_type": "stream",
     "text": [
      "Raw LLM Output for review: 2nd time here and same horrible experience, they skipped my car, like 6 times, if I don't say anything they'll leave me waiting all day, now they're just being rude and disrespectful. Please guys work on your customer service!\n",
      "- Key topics:[Service Time, Staff]\n",
      "- Sentiment:Negative\n",
      "\n",
      "Raw LLM Output for review: Great service! Friendly staff eager to help you get your car right\n",
      "- Key topics:[Staff, Service Quality]\n",
      "- Sentiment:Positive\n",
      "\n"
     ]
    },
    {
     "name": "stderr",
     "output_type": "stream",
     "text": [
      "Processing Reviews:  59%|███████████▊        | 700/1181 [11:27<05:54,  1.36it/s]"
     ]
    },
    {
     "name": "stdout",
     "output_type": "stream",
     "text": [
      "Raw LLM Output for review: No one answers the phone?? Only do oil change on friday?  So if one has a warrantable failure one must wait till monday or PAY for the repair and argue with Chevy Motor Division for reimbursement. This place is following NYC down.\n",
      "- Key topics:[Service Cost, Service Time]\n",
      "- Sentiment: Negative\n",
      "\n"
     ]
    },
    {
     "name": "stderr",
     "output_type": "stream",
     "text": [
      "Processing Reviews:  59%|███████████▉        | 702/1181 [11:29<06:12,  1.29it/s]"
     ]
    },
    {
     "name": "stdout",
     "output_type": "stream",
     "text": [
      "Raw LLM Output for review: Unprofessional and rude.  Street mechanics have better knowledge then these guys, and be prepared to waste your whole entire day to  replace two tires (yes only 2 tires) and a signal light.  If I could give it a ZERO star I would.\n",
      "- Key topics:[Service Time,Staff]\n",
      "- Sentiment:Negative\n",
      "\n"
     ]
    },
    {
     "name": "stderr",
     "output_type": "stream",
     "text": [
      "Processing Reviews:  60%|███████████▉        | 703/1181 [11:29<05:12,  1.53it/s]"
     ]
    },
    {
     "name": "stdout",
     "output_type": "stream",
     "text": [
      "Raw LLM Output for review: I can't wait to finish my lease and never come back!!!! Every time I walk-ing for service they never have enough mechanics, they are not open Saturdays and worst of all when you call to schedule an appointment they are booked so I don't know how they expect me to do service.\n",
      "- Key topics:[Service Time, Staff]\n",
      "- Sentiment:Negative\n",
      "\n",
      "Raw LLM Output for review: Good service for newly purchased vehicles ... however the wait was incredibly long, almost 6 hours?  Not including car wash.  Can this be streamlined?\n",
      "- Key topics:[Service Time]\n",
      "- Sentiment:Neutral\n",
      "\n"
     ]
    },
    {
     "name": "stderr",
     "output_type": "stream",
     "text": [
      "Processing Reviews:  60%|███████████▉        | 704/1181 [11:29<04:39,  1.70it/s]"
     ]
    },
    {
     "name": "stdout",
     "output_type": "stream",
     "text": [
      "Raw LLM Output for review: Always great work. I don't trust anyone else with my car at this point.\n",
      "- Key topics:[Product Quality]\n",
      "- Sentiment: [Negative]\n",
      "\n",
      "Raw LLM Output for review: The staff are  always friendly to me and answers my questions  They repair my car and also give me an understanding of what to do and what  not to do to keep my car in excellent condition.\n",
      "Key topics:[Staff]\n",
      "- Sentiment:Positive\n",
      "\n"
     ]
    },
    {
     "name": "stderr",
     "output_type": "stream",
     "text": [
      "Processing Reviews:  60%|███████████▉        | 706/1181 [11:31<06:27,  1.23it/s]"
     ]
    },
    {
     "name": "stdout",
     "output_type": "stream",
     "text": [
      "Raw LLM Output for review: I just want to thank the whole Major World crew for assisting me on my first visit to a car dealer.\n",
      "they all where very kind and friendly and I will also recommend this dealer to all my friends and family. THANK YOU MAJOR WORLD.\n",
      "- Key topics:[Staff,Product Quality]\n",
      "- Sentiment:Positive\n",
      "\n",
      "Raw LLM Output for review: cathy is incredibly rude. Instead of being helpful. She hung up on me 4 time. When I asked who I could speak to complain about her, they put me on unending hold\n",
      "- Key topics:[Staff]\n",
      "- Sentiment:[Negative]\n",
      "\n"
     ]
    },
    {
     "name": "stderr",
     "output_type": "stream",
     "text": [
      "Processing Reviews:  60%|████████████        | 709/1181 [11:32<03:41,  2.13it/s]"
     ]
    },
    {
     "name": "stdout",
     "output_type": "stream",
     "text": [
      "Raw LLM Output for review: Before you buy a car make sure you check  the mileage in the car and the mileage in the paper you sign.  I bought a car with 52,000 miles that's what was shown on the receipt but when i look at the title the odometer it shown 67000. Make sure you look and pay close attention to everything you signed.\n",
      "- Key topics:[Recall]\n",
      "- Sentiment:Neutral\n",
      "\n"
     ]
    },
    {
     "name": "stderr",
     "output_type": "stream",
     "text": [
      "Processing Reviews:  60%|████████████        | 710/1181 [11:34<06:04,  1.29it/s]"
     ]
    },
    {
     "name": "stdout",
     "output_type": "stream",
     "text": [
      "Raw LLM Output for review: Crooks & I will be calling my lawyer !\n",
      "- Key topics:[Not Classified]\n",
      "- Sentiment:[Negative]\n",
      "\n"
     ]
    },
    {
     "name": "stderr",
     "output_type": "stream",
     "text": [
      "Processing Reviews:  60%|████████████        | 711/1181 [11:34<05:11,  1.51it/s]"
     ]
    },
    {
     "name": "stdout",
     "output_type": "stream",
     "text": [
      "Raw LLM Output for review: The people that work there they trying to be nice and professional but I think they use a cheap parts i've been there like more than three times just for my brakes and less than three months.\n",
      "Key topics:[Product Quality, Brake]\n",
      "- Sentiment: Negative\n",
      "\n"
     ]
    },
    {
     "name": "stderr",
     "output_type": "stream",
     "text": [
      "Processing Reviews:  60%|████████████        | 712/1181 [11:34<04:44,  1.65it/s]"
     ]
    },
    {
     "name": "stdout",
     "output_type": "stream",
     "text": [
      "Raw LLM Output for review: They never answer their phone. I'm not really happy with their stuff. The service of the car is not bad, they know what they do.\n",
      "- Key topics:[Product Quality,Service Cost]\n",
      "- Sentiment:Neutral\n",
      "\n"
     ]
    },
    {
     "name": "stderr",
     "output_type": "stream",
     "text": [
      "Processing Reviews:  60%|████████████        | 713/1181 [11:35<04:21,  1.79it/s]"
     ]
    },
    {
     "name": "stdout",
     "output_type": "stream",
     "text": [
      "Raw LLM Output for review: This ppl are scammers they sold me a guaranteed saying it was free and when i tried to refinance on a different bank they told me that the extra charge wasnt interest but it was warranty now they wont pick up the call or be responsible for the warranty they gave me for \"free\"\n",
      "- Key topics:[Scammers,Service Cost]\n",
      "- Sentiment:Negative\n",
      "\n"
     ]
    },
    {
     "name": "stderr",
     "output_type": "stream",
     "text": [
      "Processing Reviews:  60%|████████████        | 714/1181 [11:36<05:41,  1.37it/s]"
     ]
    },
    {
     "name": "stdout",
     "output_type": "stream",
     "text": [
      "Raw LLM Output for review: No problems or Complaints very professional staff always nice. They fix what you ask them to fix and Never a long wait. 👍🏾👍🏾 …\n",
      "- Key topics:[Staff]\n",
      "- Sentiment:Positive\n",
      "\n"
     ]
    },
    {
     "name": "stderr",
     "output_type": "stream",
     "text": [
      "Processing Reviews:  61%|████████████        | 715/1181 [11:37<05:14,  1.48it/s]"
     ]
    },
    {
     "name": "stdout",
     "output_type": "stream",
     "text": [
      "Raw LLM Output for review: I've purchased 4 cars from between 2000 and 2016 and their service is excellent fast no hassle very attentive, I will buy all my cars from them Hugo, Laura and Ricardo amazing team!!!\n",
      "- Key topics:[Staff]\n",
      "- Sentiment:[Positive]\n",
      "\n"
     ]
    },
    {
     "name": "stderr",
     "output_type": "stream",
     "text": [
      "Processing Reviews:  61%|████████████▏       | 716/1181 [11:37<05:13,  1.48it/s]"
     ]
    },
    {
     "name": "stdout",
     "output_type": "stream",
     "text": [
      "Raw LLM Output for review: Had a bad experience going there.  The waiting is very long. They don't tell you the truth about the condition of the car until they secure some money. To get the money back is also a hard part.\n",
      "- Key topics:[Service Time, Facilities]\n",
      "- Sentiment: Negative\n",
      "\n"
     ]
    },
    {
     "name": "stderr",
     "output_type": "stream",
     "text": [
      "Processing Reviews:  61%|████████████▏       | 717/1181 [11:38<04:35,  1.69it/s]"
     ]
    },
    {
     "name": "stdout",
     "output_type": "stream",
     "text": [
      "Raw LLM Output for review: Sales fake Chinese parts aftermarket pieces and they charge you as original pieces\n",
      "- Key topics:[Product Quality,Not Classified]\n",
      "- Sentiment: Negative\n",
      "\n"
     ]
    },
    {
     "name": "stderr",
     "output_type": "stream",
     "text": [
      "Processing Reviews:  61%|████████████▏       | 718/1181 [11:39<05:00,  1.54it/s]"
     ]
    },
    {
     "name": "stdout",
     "output_type": "stream",
     "text": [
      "Raw LLM Output for review: Brian Abreu was the TOP SALESMAN that day!!!! Why? He sold me my vehicle I have now! 2019 Chevy Equinox\n",
      "- Key topics: [Staff]\n",
      "- Sentiment: Positive\n",
      "\n"
     ]
    },
    {
     "name": "stderr",
     "output_type": "stream",
     "text": [
      "Processing Reviews:  61%|████████████▏       | 719/1181 [11:39<05:02,  1.53it/s]"
     ]
    },
    {
     "name": "stdout",
     "output_type": "stream",
     "text": [
      "Raw LLM Output for review: Tbh I hate this place , maybe they don’t treat everyone the same but they not taking me seriously maybe because I’m young guy , the workers or fine , the boss or managers needs to act right with their customers, they need to know how to communicate\n",
      "- Key topics:[Staff, Facilities]\n",
      "- Sentiment:Negative\n",
      "\n"
     ]
    },
    {
     "name": "stderr",
     "output_type": "stream",
     "text": [
      "Processing Reviews:  61%|████████████▏       | 720/1181 [11:40<04:44,  1.62it/s]"
     ]
    },
    {
     "name": "stdout",
     "output_type": "stream",
     "text": [
      "Raw LLM Output for review: Good and quick\n",
      "- Key topics:[Not Classified]\n",
      "- Sentiment:Positive\n",
      "\n"
     ]
    },
    {
     "name": "stderr",
     "output_type": "stream",
     "text": [
      "Processing Reviews:  61%|████████████▏       | 721/1181 [11:41<05:23,  1.42it/s]"
     ]
    },
    {
     "name": "stdout",
     "output_type": "stream",
     "text": [
      "Raw LLM Output for review: Granted, this is faaar out in Brooklyn, but they did right by my Jeep service and were very lovely & kind. Not something I would expect to find myself saying about a dealership.\n",
      "- Key topics:[Service Quality,Facilities]\n",
      "- Sentiment:[Positive]\n",
      "\n"
     ]
    },
    {
     "name": "stderr",
     "output_type": "stream",
     "text": [
      "Processing Reviews:  61%|████████████▏       | 722/1181 [11:41<05:17,  1.44it/s]"
     ]
    },
    {
     "name": "stdout",
     "output_type": "stream",
     "text": [
      "Raw LLM Output for review: I had a lady helped me out that didn't know anything she kept going to someone else for advice and help they should have people that's more knowledgeable of what's Happening and they also charge $190 for a diagnostic check\n",
      "- Key topics:[Service Diagnostics,Staff]\n",
      "- Sentiment:Negative\n",
      "\n"
     ]
    },
    {
     "name": "stderr",
     "output_type": "stream",
     "text": [
      "Processing Reviews:  61%|████████████▏       | 723/1181 [11:42<04:56,  1.54it/s]"
     ]
    },
    {
     "name": "stdout",
     "output_type": "stream",
     "text": [
      "Raw LLM Output for review: I just bought my second car at Major world and was very satisfied with their service and the help they offer for you to make the best decision in selecting your car.\n",
      "- Key topics:[Service Quality, Facilities]\n",
      "- Sentiment:Positive\n",
      "\n",
      "Raw LLM Output for review: Great service , always  very friendly\n",
      "- Key topics:[Staff]\n",
      "- Sentiment:Positive\n",
      "\n"
     ]
    },
    {
     "name": "stderr",
     "output_type": "stream",
     "text": [
      "Processing Reviews:  61%|████████████▎       | 725/1181 [11:43<05:30,  1.38it/s]"
     ]
    },
    {
     "name": "stdout",
     "output_type": "stream",
     "text": [
      "Raw LLM Output for review: Is its Dealership or garage mechanics? Its first dealership where I went to who doesn’t know how to fix a car , another place fix a problem in 30 minutes, don’t even try to go here if your time important for you!\n",
      "- Key topics:[Dealership, Service Time]\n",
      "- Sentiment: Negative\n",
      "\n"
     ]
    },
    {
     "name": "stderr",
     "output_type": "stream",
     "text": [
      "Processing Reviews:  61%|████████████▎       | 726/1181 [11:44<04:53,  1.55it/s]"
     ]
    },
    {
     "name": "stdout",
     "output_type": "stream",
     "text": [
      "Raw LLM Output for review: Their service department  is horrible,  I have stop going to this place , and I dont know why I came back. I'm warning people dont lease, buy,  rent get your car service or even call these people to ask them questions.\n",
      "- Key topics:[Service Cost, Facilities]\n",
      "- Sentiment:[Negative]\n",
      "\n"
     ]
    },
    {
     "name": "stderr",
     "output_type": "stream",
     "text": [
      "Processing Reviews:  62%|████████████▎       | 727/1181 [11:44<04:53,  1.55it/s]"
     ]
    },
    {
     "name": "stdout",
     "output_type": "stream",
     "text": [
      "Raw LLM Output for review: The wait to have your car serviced is extremely long, and they have no loners, won't suggest a purchase from this dealership.\n",
      "- Key topics:[Service Time, Facilities, Staff]\n",
      "- Sentiment: Negative\n",
      "\n"
     ]
    },
    {
     "name": "stderr",
     "output_type": "stream",
     "text": [
      "Processing Reviews:  62%|████████████▎       | 728/1181 [11:45<05:25,  1.39it/s]"
     ]
    },
    {
     "name": "stdout",
     "output_type": "stream",
     "text": [
      "Raw LLM Output for review: I was there for an oil change. All went well in a reasonable time.\n",
      "- Key topics:[Service Time,Oil Change]\n",
      "- Sentiment: [Positive/Negative/Neutral]: Positive\n",
      "\n"
     ]
    },
    {
     "name": "stderr",
     "output_type": "stream",
     "text": [
      "Processing Reviews:  62%|████████████▎       | 729/1181 [11:46<04:24,  1.71it/s]"
     ]
    },
    {
     "name": "stdout",
     "output_type": "stream",
     "text": [
      "Raw LLM Output for review: Absolutely great service, but have patience because they are always busy and to be thorough takes time.\n",
      "- Key topics:[Service Time]\n",
      "- Sentiment: Neutral\n",
      "\n"
     ]
    },
    {
     "name": "stderr",
     "output_type": "stream",
     "text": [
      "Processing Reviews:  62%|████████████▎       | 730/1181 [11:46<04:05,  1.84it/s]"
     ]
    },
    {
     "name": "stdout",
     "output_type": "stream",
     "text": [
      "Raw LLM Output for review: Arrived at 8:00 for a front end alignment, they returned my car at closing, had had me sitting there for 9 hours.\n",
      "- Key topics:[Service Time]\n",
      "- Sentiment:Negative\n",
      "\n",
      "Raw LLM Output for review: Shareese is really nice, it’s a good regular shop, plenty of seating and very busy\n",
      "- Key topics:[Staff]\n",
      "- Sentiment:Positive\n",
      "\n"
     ]
    },
    {
     "name": "stderr",
     "output_type": "stream",
     "text": [
      "Processing Reviews:  62%|████████████▍       | 731/1181 [11:48<06:32,  1.15it/s]"
     ]
    },
    {
     "name": "stdout",
     "output_type": "stream",
     "text": [
      "Raw LLM Output for review: Good service, if you in time for you appointment ,they help you promptly,and the work time it's always average time ,depending on what they doing to you car.\n",
      "- Key topics:[Service Time, Staff]\n",
      "- Sentiment: [Positive/Negative/Neutral]\n",
      "\n"
     ]
    },
    {
     "name": "stderr",
     "output_type": "stream",
     "text": [
      "Processing Reviews:  62%|████████████▍       | 733/1181 [11:48<03:58,  1.88it/s]"
     ]
    },
    {
     "name": "stdout",
     "output_type": "stream",
     "text": [
      "Raw LLM Output for review: excellent service with the best attention, highly recommended\n",
      "- Key topics:[Staff,Service Quality]\n",
      "- Sentiment:Positive\n",
      "\n"
     ]
    },
    {
     "name": "stderr",
     "output_type": "stream",
     "text": [
      "Processing Reviews:  62%|████████████▍       | 734/1181 [11:49<04:01,  1.85it/s]"
     ]
    },
    {
     "name": "stdout",
     "output_type": "stream",
     "text": [
      "Raw LLM Output for review: Great service!\n",
      "- Key topics:[Staff,Service Time]\n",
      "- Sentiment: Positive\n",
      "\n"
     ]
    },
    {
     "name": "stderr",
     "output_type": "stream",
     "text": [
      "Processing Reviews:  62%|████████████▍       | 737/1181 [11:50<03:32,  2.09it/s]"
     ]
    },
    {
     "name": "stdout",
     "output_type": "stream",
     "text": [
      "Raw LLM Output for review: la shana is the best agent at that store   anybody  that comes  to that store ask for her you wont be disappointed.     thank you for  your help. ramon&glenny\n",
      "- Key topics:[Staff]\n",
      "-Sentiment:[Positive]\n",
      "\n",
      "Raw LLM Output for review: I paid $180 and they check all the fluids and oil change. They forgot to put the cap for the antifreeze container.\n",
      "- Key topics:[Oil Change/Refill]\n",
      "- Sentiment:Negative\n",
      "\n",
      "Raw LLM Output for review: ...might be the FASTEST Repair Service ever! No joking!!!\n",
      "- Key topics:[Service Time]\n",
      "- Sentiment:Positive\n",
      "\n"
     ]
    },
    {
     "name": "stderr",
     "output_type": "stream",
     "text": [
      "Processing Reviews:  62%|████████████▍       | 738/1181 [11:51<03:25,  2.15it/s]"
     ]
    },
    {
     "name": "stdout",
     "output_type": "stream",
     "text": [
      "Raw LLM Output for review: Rena very nice person & Very professional very very nice so was Jessica recommend this place or anybody thank you very much have a good day\n",
      "- Key topics:[Staff]\n",
      "-Sentiment:Positive\n",
      "\n"
     ]
    },
    {
     "name": "stderr",
     "output_type": "stream",
     "text": [
      "Processing Reviews:  63%|████████████▌       | 739/1181 [11:53<06:12,  1.19it/s]"
     ]
    },
    {
     "name": "stdout",
     "output_type": "stream",
     "text": [
      "Raw LLM Output for review: Very detailed and Jessica was extremely helpful and courteous. Fixed my car, great service\n",
      "- Key topics:[Staff,Service Quality]\n",
      "- Sentiment:Positive\n",
      "\n"
     ]
    },
    {
     "name": "stderr",
     "output_type": "stream",
     "text": [
      "Processing Reviews:  63%|████████████▌       | 740/1181 [11:53<05:20,  1.38it/s]"
     ]
    },
    {
     "name": "stdout",
     "output_type": "stream",
     "text": [
      "Raw LLM Output for review: Great service , they service all my cars and take care of all my needs\n",
      "- Key topics:Staff,Service Time\n",
      "- Sentiment:Positive\n",
      "\n",
      "Raw LLM Output for review: Awesome people amazing experience buying my first car. Been 3 times in total, and every time is a great time.\n",
      "- Key topics:[Staff,Facilities,Product Quality]\n",
      "- Sentiment:Positive\n",
      "\n"
     ]
    },
    {
     "name": "stderr",
     "output_type": "stream",
     "text": [
      "Processing Reviews:  63%|████████████▌       | 742/1181 [11:53<03:51,  1.89it/s]"
     ]
    },
    {
     "name": "stdout",
     "output_type": "stream",
     "text": [
      "Raw LLM Output for review: Harble place they came to repair the vehicle and they  do not repair My vehicle been in so many times that I stop taking the Vehicle  over there because the issue was never resolved They also claim that they change the engine they never did I found out when I took it to another dealer And the repairs were never fixed\n",
      "- Key topics:[Recall,Product Quality]\n",
      "- Sentiment:Negative\n",
      "\n",
      "Raw LLM Output for review: I was really surprised at how friendly, knowledgeable and helpful the parts department people were. I'll be back for any parts I need in the future and would recommend them to my friends.\n",
      "- Key topics:[Staff]\n",
      "- Sentiment:Positive\n",
      "\n"
     ]
    },
    {
     "name": "stderr",
     "output_type": "stream",
     "text": [
      "Processing Reviews:  63%|████████████▌       | 743/1181 [11:55<05:47,  1.26it/s]"
     ]
    },
    {
     "name": "stdout",
     "output_type": "stream",
     "text": [
      "Raw LLM Output for review: The service is great but it's expensive\n",
      "- Key topics:[Service Cost,Service Quality]\n",
      "- Sentiment:Neutral\n",
      "\n"
     ]
    },
    {
     "name": "stderr",
     "output_type": "stream",
     "text": [
      "Processing Reviews:  63%|████████████▌       | 744/1181 [11:55<04:50,  1.51it/s]"
     ]
    },
    {
     "name": "stdout",
     "output_type": "stream",
     "text": [
      "Raw LLM Output for review: I gave$ 5,000 down and the price of the car went up instead of down. From $17,000 to 21,000 for Mazda2018 used car.\n",
      "- Key topics:[Product Availability,Product Quality]\n",
      "- Sentiment: Negative\n",
      "\n",
      "Raw LLM Output for review: Great service peroid. And that have all the Beautiful spanish women their working.\n",
      "- Key topics:Staff\n",
      "-Sentiment:[Positive]\n",
      "\n"
     ]
    },
    {
     "name": "stderr",
     "output_type": "stream",
     "text": [
      "Processing Reviews:  63%|████████████▋       | 747/1181 [11:57<04:44,  1.52it/s]"
     ]
    },
    {
     "name": "stdout",
     "output_type": "stream",
     "text": [
      "Raw LLM Output for review: The service was very good and I didn't have a long wait time\n",
      "- Key topics:Service Time,Staff\n",
      "- Sentiment:Positive\n",
      "\n"
     ]
    },
    {
     "name": "stderr",
     "output_type": "stream",
     "text": [
      "Processing Reviews:  63%|████████████▋       | 749/1181 [11:58<03:43,  1.93it/s]"
     ]
    },
    {
     "name": "stdout",
     "output_type": "stream",
     "text": [
      "Raw LLM Output for review: I have used them for  about two years, they do shy away from  car insurance repair  and may ripe you off\n",
      "- Key topics:[Service Cost, Not Classified]\n",
      "- Sentiment:Negative\n",
      "\n",
      "Raw LLM Output for review: Professional and speedy service with truly knowledgeable mechanics.  I’ve been coming here for years for vehicle services and will continue to do so!\n",
      "- Key topics:[Staff,Service Time]\n",
      "- Sentiment:Positive\n",
      "\n",
      "Raw LLM Output for review: Very bad very nasty no Costomer service at all i would never rocmend any body to buy car or anything from there.\n",
      "- Key topics:[Staff, Product Quality]\n",
      "- Sentiment: Negative\n",
      "\n"
     ]
    },
    {
     "name": "stderr",
     "output_type": "stream",
     "text": [
      "Processing Reviews:  64%|████████████▋       | 752/1181 [12:00<03:53,  1.83it/s]"
     ]
    },
    {
     "name": "stdout",
     "output_type": "stream",
     "text": [
      "Raw LLM Output for review: I spoke before going for be sure was the real Price as we saw online, and when arrive   they say was different,. It's fraud\n",
      "- Key topics:[Not Classified,Service Cost]\n",
      "- Sentiment: Negative\n",
      "\n",
      "Raw LLM Output for review: The worst experience, don't waste your time and money coming here,\n",
      "- Key topics:[Not Classified]\n",
      "- Sentiment:[Negative]\n",
      "\n",
      "Raw LLM Output for review: Friendly, knowledgeable. Wait time could be a bil lengthy.  But overall, worth the wait..\n",
      "- Key topics:[Service Time]\n",
      "- Sentiment: [Positive]\n",
      "\n",
      "Raw LLM Output for review: HUGE selection of great cars, at great deals, with a great staff. If you're looking to buy a car, look no further!\n",
      "- Key topics:[Product Availability,Staff,Service Cost]\n",
      "- Sentiment:Positive\n",
      "\n"
     ]
    },
    {
     "name": "stderr",
     "output_type": "stream",
     "text": [
      "Processing Reviews:  64%|████████████▊       | 754/1181 [12:03<05:41,  1.25it/s]"
     ]
    },
    {
     "name": "stdout",
     "output_type": "stream",
     "text": [
      "Raw LLM Output for review: Took a long time to get an appointment.  Took them a long time to fix my car.\n",
      "- Key topics:[Service Time,Product Quality]\n",
      "- Sentiment:Negative\n",
      "\n",
      "Raw LLM Output for review: I love it, ismael was my sell man he was great, i recommend everyone to come here\n",
      "- Key topics:[Staff]\n",
      "- Sentiment:Positive\n",
      "\n",
      "Raw LLM Output for review: Being honest, that's not a good place to get a car, I don't recomend that place, I made that mistake.\n",
      "- Key topics:[Not Classified,Product Availability]\n",
      "- Sentiment:Negative\n",
      "\n"
     ]
    },
    {
     "name": "stderr",
     "output_type": "stream",
     "text": [
      "Processing Reviews:  64%|████████████▊       | 756/1181 [12:04<04:49,  1.47it/s]"
     ]
    },
    {
     "name": "stdout",
     "output_type": "stream",
     "text": [
      "Raw LLM Output for review: Dont buy a car from this place...salespeople are all liars and you will get screwed into a bad deal.\n",
      "- Key topics:[Salesperson, Sales/Purchasing, Service Cost]\n",
      "- Sentiment: [Negative]\n",
      "\n"
     ]
    },
    {
     "name": "stderr",
     "output_type": "stream",
     "text": [
      "Processing Reviews:  64%|████████████▊       | 759/1181 [12:04<03:39,  1.93it/s]"
     ]
    },
    {
     "name": "stdout",
     "output_type": "stream",
     "text": [
      "Raw LLM Output for review: I’m so happy they really did a great job\n",
      "- Key topics: []\n",
      "- Sentiment: Positive\n",
      "\n"
     ]
    },
    {
     "name": "stderr",
     "output_type": "stream",
     "text": [
      "Processing Reviews:  64%|████████████▊       | 760/1181 [12:05<03:38,  1.92it/s]"
     ]
    },
    {
     "name": "stdout",
     "output_type": "stream",
     "text": [
      "Raw LLM Output for review: Super fast service great customer service\n",
      "- Key topics:[Staff,Service Time]\n",
      "- Sentiment: Positive\n",
      "\n",
      "Raw LLM Output for review: Almost 4 hours gone.. still don't know how long it gonna take to fix Bluetooth..\n",
      "- Key topics:[Music System]\n",
      "- Sentiment:Negative\n",
      "\n"
     ]
    },
    {
     "name": "stderr",
     "output_type": "stream",
     "text": [
      "Processing Reviews:  65%|████████████▉       | 762/1181 [12:06<03:51,  1.81it/s]"
     ]
    },
    {
     "name": "stdout",
     "output_type": "stream",
     "text": [
      "Raw LLM Output for review: Had roof racks installed today and when I picked up my car oil/grease was all over the windows ....very unprofessional\n",
      "- Key topics:[Wheel/Tires,Product Quality]\n",
      "- Sentiment:Negative\n",
      "\n"
     ]
    },
    {
     "name": "stderr",
     "output_type": "stream",
     "text": [
      "Processing Reviews:  65%|████████████▉       | 763/1181 [12:06<03:26,  2.03it/s]"
     ]
    },
    {
     "name": "stdout",
     "output_type": "stream",
     "text": [
      "Raw LLM Output for review: In and out quickly renovating is done\n",
      "- Key topics:Service Time\n",
      "- Sentiment:Positive\n",
      "\n",
      "Raw LLM Output for review: Not my cup of tea. I would. It recommend anyone to go here\n",
      "- Key topics:[Not Classified]\n",
      "- Sentiment:Neutral\n",
      "\n"
     ]
    },
    {
     "name": "stderr",
     "output_type": "stream",
     "text": [
      "Processing Reviews:  65%|████████████▉       | 764/1181 [12:08<04:29,  1.55it/s]"
     ]
    },
    {
     "name": "stdout",
     "output_type": "stream",
     "text": [
      "Raw LLM Output for review: Quite slow and unorganized. 2 weeks later and still waiting on a part, while they blame everyone else for delay\n",
      "- Key topics:[Service Time,Product Quality]\n",
      "- Sentiment:Negative\n",
      "\n"
     ]
    },
    {
     "name": "stderr",
     "output_type": "stream",
     "text": [
      "Processing Reviews:  65%|████████████▉       | 766/1181 [12:09<04:17,  1.61it/s]"
     ]
    },
    {
     "name": "stdout",
     "output_type": "stream",
     "text": [
      "Raw LLM Output for review: Worst Service I've Evered received in my Life time... Never Again\n",
      "- Key topics:[Service Quality,Staff]\n",
      "- Sentiment:Negative\n",
      "\n"
     ]
    },
    {
     "name": "stderr",
     "output_type": "stream",
     "text": [
      "Processing Reviews:  65%|████████████▉       | 767/1181 [12:09<03:57,  1.75it/s]"
     ]
    },
    {
     "name": "stdout",
     "output_type": "stream",
     "text": [
      "Raw LLM Output for review: This is the worst place in nyc 2 buy a car....No don t do it...I wish someone would have told me how bad this place is\n",
      "- Key topics:[Facilities,Product Availability]\n",
      "- Sentiment:Negative\n",
      "\n"
     ]
    },
    {
     "name": "stderr",
     "output_type": "stream",
     "text": [
      "Processing Reviews:  65%|█████████████       | 768/1181 [12:10<03:40,  1.87it/s]"
     ]
    },
    {
     "name": "stdout",
     "output_type": "stream",
     "text": [
      "Raw LLM Output for review: This place sucks I waited over an hour to get an inspection. Other repairs, they can't fix it right the first time.\n",
      "- Key topics:[Service Time,Staff]\n",
      "- Sentiment: Negative\n",
      "\n"
     ]
    },
    {
     "name": "stderr",
     "output_type": "stream",
     "text": [
      "Processing Reviews:  65%|█████████████       | 769/1181 [12:10<04:04,  1.68it/s]"
     ]
    },
    {
     "name": "stdout",
     "output_type": "stream",
     "text": [
      "Raw LLM Output for review: Variety of vehicles. Salesman galore. If youre looking for a hooptie or a brand new vehicle.  They've got it.....\n",
      "- Key topics: [Product Availability, Not Classified]\n",
      "- Sentiment:[Positive]\n",
      "\n"
     ]
    },
    {
     "name": "stderr",
     "output_type": "stream",
     "text": [
      "Processing Reviews:  65%|█████████████       | 770/1181 [12:11<03:43,  1.84it/s]"
     ]
    },
    {
     "name": "stdout",
     "output_type": "stream",
     "text": [
      "Raw LLM Output for review: I was greeted well fast service went early.\n",
      "- Key topics:[Service Time]\n",
      "- Sentiment:Positive\n",
      "\n"
     ]
    },
    {
     "name": "stderr",
     "output_type": "stream",
     "text": [
      "Processing Reviews:  65%|█████████████       | 771/1181 [12:11<03:09,  2.16it/s]"
     ]
    },
    {
     "name": "stdout",
     "output_type": "stream",
     "text": [
      "Raw LLM Output for review: They lost my car keys and I had to keep checking on them because they would forget about me.\n",
      "- Key topics:[Staff]\n",
      "- Sentiment:Negative\n",
      "\n"
     ]
    },
    {
     "name": "stderr",
     "output_type": "stream",
     "text": [
      "Processing Reviews:  65%|█████████████       | 772/1181 [12:12<04:11,  1.62it/s]"
     ]
    },
    {
     "name": "stdout",
     "output_type": "stream",
     "text": [
      "Raw LLM Output for review: Very fast. Couldn't complete recall. There system was down.\n",
      "- Key topics:[Service Time,Recall]\n",
      "- Sentiment:Negative\n",
      "\n"
     ]
    },
    {
     "name": "stderr",
     "output_type": "stream",
     "text": [
      "Processing Reviews:  65%|█████████████       | 773/1181 [12:13<04:39,  1.46it/s]"
     ]
    },
    {
     "name": "stdout",
     "output_type": "stream",
     "text": [
      "Raw LLM Output for review: The work wasn't completely done. The AC needs to be adjusted. Aciura MDX 2011\n",
      "- Key topics:[Product Quality,Service Cost]\n",
      "- Sentiment:Negative\n",
      "\n"
     ]
    },
    {
     "name": "stderr",
     "output_type": "stream",
     "text": [
      "Processing Reviews:  66%|█████████████       | 774/1181 [12:13<04:03,  1.67it/s]"
     ]
    },
    {
     "name": "stdout",
     "output_type": "stream",
     "text": [
      "Raw LLM Output for review: Very good service for your cars and parts\n",
      "- Key topics:[Service Quality, Facilities]\n",
      "- Sentiment:[Positive]\n",
      "Raw LLM Output for review: Is ok you know dealers are stealers, just gi there for recalls only\n",
      "- Key topics:[Recall]\n",
      "- Sentiment:[Negative]\n",
      "\n",
      "\n"
     ]
    },
    {
     "name": "stderr",
     "output_type": "stream",
     "text": [
      "Processing Reviews:  66%|█████████████▏      | 776/1181 [12:14<03:54,  1.73it/s]"
     ]
    },
    {
     "name": "stdout",
     "output_type": "stream",
     "text": [
      "Raw LLM Output for review: Major world service is excellent\n",
      "- Key topics: [Not Classified]\n",
      "- Sentiment:[Positive]\n",
      "\n"
     ]
    },
    {
     "name": "stderr",
     "output_type": "stream",
     "text": [
      "Processing Reviews:  66%|█████████████▏      | 777/1181 [12:15<03:48,  1.77it/s]"
     ]
    },
    {
     "name": "stdout",
     "output_type": "stream",
     "text": [
      "Raw LLM Output for review: They have a lot of tricks to sale you the cars and they are not honest with the status of the vehicle\n",
      "- Key topics:[Not Classified]\n",
      "- Sentiment:Negative\n",
      "\n"
     ]
    },
    {
     "name": "stderr",
     "output_type": "stream",
     "text": [
      "Processing Reviews:  66%|█████████████▏      | 778/1181 [12:16<03:56,  1.70it/s]"
     ]
    },
    {
     "name": "stdout",
     "output_type": "stream",
     "text": [
      "Raw LLM Output for review: Must get there at least an hour before they open to secure a space on the long line before it gets too hectic.\n",
      "- Key topics:[Service Time, Facilities]\n",
      "- Sentiment:Neutral\n",
      "\n",
      "Raw LLM Output for review: You wait forever to get services, bad place to doing business.\n",
      "- Key topics:[Service Time, Facilities]\n",
      "- Sentiment:Negative\n",
      "\n"
     ]
    },
    {
     "name": "stderr",
     "output_type": "stream",
     "text": [
      "Processing Reviews:  66%|█████████████▏      | 780/1181 [12:16<03:27,  1.93it/s]"
     ]
    },
    {
     "name": "stdout",
     "output_type": "stream",
     "text": [
      "Raw LLM Output for review: They make yiu wait 4 hours for just single light change\n",
      "- Key topics:[Service Time]\n",
      "- Sentiment:Negative\n",
      "\n"
     ]
    },
    {
     "name": "stderr",
     "output_type": "stream",
     "text": [
      "Processing Reviews:  66%|█████████████▏      | 781/1181 [12:17<03:51,  1.73it/s]"
     ]
    },
    {
     "name": "stdout",
     "output_type": "stream",
     "text": [
      "Raw LLM Output for review: So far the service and customer service has been good\n",
      "- Key topics:Service Cost,Staff \n",
      "- Sentiment:Positive\n",
      "\n"
     ]
    },
    {
     "name": "stderr",
     "output_type": "stream",
     "text": [
      "Processing Reviews:  66%|█████████████▏      | 782/1181 [12:17<03:17,  2.02it/s]"
     ]
    },
    {
     "name": "stdout",
     "output_type": "stream",
     "text": [
      "Raw LLM Output for review: Nena in Service is Amazing!!! Really couldn't as for better customer care!!!\n",
      "- Key topics:[Staff]\n",
      "- Sentiment:Positive\n",
      "\n",
      "Raw LLM Output for review: Excellent customer services  and Entired Auto serviced employer.\n",
      "- Key topics:[Staff]\n",
      "- Sentiment:Positive\n",
      "\n"
     ]
    },
    {
     "name": "stderr",
     "output_type": "stream",
     "text": [
      "Processing Reviews:  66%|█████████████▎      | 784/1181 [12:19<03:30,  1.88it/s]"
     ]
    },
    {
     "name": "stdout",
     "output_type": "stream",
     "text": [
      "Raw LLM Output for review: It's ok but sometimes there cars are not what you think not good\n",
      "- Key topics: [Product Quality]\n",
      "- Sentiment: Neutral\n",
      "\n",
      "Raw LLM Output for review: A great car place to get your next auto.\n",
      "- Key topics:[Not Classified]\n",
      "- Sentiment:Positive\n",
      "\n"
     ]
    },
    {
     "name": "stderr",
     "output_type": "stream",
     "text": [
      "Processing Reviews:  66%|█████████████▎      | 785/1181 [12:20<04:26,  1.49it/s]"
     ]
    },
    {
     "name": "stdout",
     "output_type": "stream",
     "text": [
      "Raw LLM Output for review: Is a man by the name jabier beautifull in treating people.\n",
      "- Key topics:[Staff, Product Quality]\n",
      "- Sentiment: [Negative]\n",
      "\n"
     ]
    },
    {
     "name": "stderr",
     "output_type": "stream",
     "text": [
      "Processing Reviews:  67%|█████████████▎      | 786/1181 [12:20<04:28,  1.47it/s]"
     ]
    },
    {
     "name": "stdout",
     "output_type": "stream",
     "text": [
      "Raw LLM Output for review: Very professional people friendly and willing to work with you.\n",
      "- Key topics: \n",
      "- Staff\n",
      "- Service Cost \n",
      "- Sentiment: [Positive]\n",
      "\n"
     ]
    },
    {
     "name": "stderr",
     "output_type": "stream",
     "text": [
      "Processing Reviews:  67%|█████████████▎      | 788/1181 [12:21<03:09,  2.08it/s]"
     ]
    },
    {
     "name": "stdout",
     "output_type": "stream",
     "text": [
      "Raw LLM Output for review: GREAT SERVICE. WAS IN AND OUT. CUSTOMER SERVICE WAS SUPER.\n",
      "- Key topics:[Staff,Service Time]\n",
      "- Sentiment:Positive\n",
      "\n"
     ]
    },
    {
     "name": "stderr",
     "output_type": "stream",
     "text": [
      "Processing Reviews:  67%|█████████████▎      | 789/1181 [12:22<03:47,  1.73it/s]"
     ]
    },
    {
     "name": "stdout",
     "output_type": "stream",
     "text": [
      "Raw LLM Output for review: Nasty attitude towards costumers...  no greeting, no \"thank you.. come back again\"\n",
      "- Key topics:Staff,Sentiment\n",
      "- Sentiment:Negative\n",
      "\n"
     ]
    },
    {
     "name": "stderr",
     "output_type": "stream",
     "text": [
      "Processing Reviews:  67%|█████████████▍      | 790/1181 [12:22<03:14,  2.02it/s]"
     ]
    },
    {
     "name": "stdout",
     "output_type": "stream",
     "text": [
      "Raw LLM Output for review: these people are profesionals,they work very quickly\n",
      "thanks guys!!\n",
      "- Key topics:[Staff,Service Time]\n",
      "- Sentiment:Positive\n",
      "\n"
     ]
    },
    {
     "name": "stderr",
     "output_type": "stream",
     "text": [
      "Processing Reviews:  67%|█████████████▍      | 791/1181 [12:22<03:07,  2.08it/s]"
     ]
    },
    {
     "name": "stdout",
     "output_type": "stream",
     "text": [
      "Raw LLM Output for review: The BEST IN NEW YORK CITY HANDS DOWN\n",
      "- Key topics:[Not Classified]\n",
      "- Sentiment:Positive\n",
      "\n"
     ]
    },
    {
     "name": "stderr",
     "output_type": "stream",
     "text": [
      "Processing Reviews:  67%|█████████████▍      | 792/1181 [12:23<03:11,  2.03it/s]"
     ]
    },
    {
     "name": "stdout",
     "output_type": "stream",
     "text": [
      "Raw LLM Output for review: Stand over them when they work on your car damn thief if you don't be careful\n",
      "- Key topics:[Not Classified]\n",
      "- Sentiment:[Negative]\n",
      "\n"
     ]
    },
    {
     "name": "stderr",
     "output_type": "stream",
     "text": [
      "Processing Reviews:  67%|█████████████▍      | 793/1181 [12:24<03:55,  1.65it/s]"
     ]
    },
    {
     "name": "stdout",
     "output_type": "stream",
     "text": [
      "Raw LLM Output for review: The service is crapy they threat you like you are nothing\n",
      "Key topics:[Staff,SERVICE Cost]\n",
      "-Sentiment:Negative\n",
      "\n"
     ]
    },
    {
     "name": "stderr",
     "output_type": "stream",
     "text": [
      "Processing Reviews:  67%|█████████████▍      | 794/1181 [12:24<03:31,  1.83it/s]"
     ]
    },
    {
     "name": "stdout",
     "output_type": "stream",
     "text": [
      "Raw LLM Output for review: Big Rip off for cars .not friendly at all\n",
      "- Key topics:[Service Cost, Facilities]\n",
      "- Sentiment:Negative\n",
      "\n",
      "Raw LLM Output for review: Good service, good staff!!!\n",
      "- Key topics: [Staff, Service Quality]\n",
      "- Sentiment: Positive\n",
      "\n",
      "Raw LLM Output for review: Good Customer service!!!! 100/100\n",
      "- Key topics: [Staff]\n",
      "- Sentiment: Positive\n",
      "\n",
      "Raw LLM Output for review: Only 2 people actually believe in co\n",
      "Customer service\n",
      "- Key topics:[Not Classified,Product Quality]\n",
      "- Sentiment:Negative\n",
      "\n",
      "Raw LLM Output for review: They don't service CHEVY 'S conversion vans at this DEALERSHIP\n",
      "- Key topics:Product Availability, Staff \n",
      "- Sentiment:Negative\n",
      "\n",
      "Raw LLM Output for review: Pretty good service most of the time\n",
      "- Key topics:[Service Quality, Facilities]\n",
      "- Sentiment:Neutral\n",
      "\n",
      "Raw LLM Output for review: Their workers are really nice and helpful\n",
      "- Key topics:[Staff]\n",
      "- Sentiment:Positive\n",
      "\n",
      "Raw LLM Output for review: My  music stopped working again ! Smh 😫😔 …\n",
      "- Key topics:[Music System,Product Quality]\n",
      "- Sentiment:[Negative]\n",
      "\n",
      "Raw LLM Output for review: Mount sini hospital 1468 Madison  Avenue\n",
      "- Key topics: [Not Classified,Facilities]\n",
      "- Sentiment:[Negative]\n",
      "\n",
      "Raw LLM Output for review: Working very slow\n",
      "😡😡 …\n",
      "- Key topics:[Service Time,Not Classified]\n",
      "- Sentiment:Negative\n",
      "\n"
     ]
    },
    {
     "name": "stderr",
     "output_type": "stream",
     "text": [
      "Processing Reviews:  67%|█████████████▍      | 795/1181 [12:32<16:55,  2.63s/it]"
     ]
    },
    {
     "name": "stdout",
     "output_type": "stream",
     "text": [
      "Raw LLM Output for review: It was a good service experience\n",
      "- Key topics: \n",
      "- Sentiment: [Positive]\n",
      "\n",
      "Raw LLM Output for review: I have no complains, they are great!\n",
      "- Key topics:\n",
      "- Product Quality\n",
      "- Staff \n",
      "- Service Cost\n",
      "- Sentiment: [Positive/Negative/Neutral]\n",
      "\n",
      "Note: The reviewer is explicitly stating that they have \"no complaints\", which implies a positive sentiment. However, since the question asks for relevant topics only, I included all possible relevant topics even though most of them are negative.\n",
      "\n"
     ]
    },
    {
     "name": "stderr",
     "output_type": "stream",
     "text": [
      "Processing Reviews:  68%|█████████████▋      | 806/1181 [12:33<03:12,  1.95it/s]"
     ]
    },
    {
     "name": "stdout",
     "output_type": "stream",
     "text": [
      "Raw LLM Output for review: Great place to service your car !\n",
      "- Key topics:[Not Classified]\n",
      "-Sentiment:Positive\n",
      "\n"
     ]
    },
    {
     "name": "stderr",
     "output_type": "stream",
     "text": [
      "Processing Reviews:  68%|█████████████▋      | 807/1181 [12:33<03:01,  2.06it/s]"
     ]
    },
    {
     "name": "stdout",
     "output_type": "stream",
     "text": [
      "Raw LLM Output for review: Went with a friend it was fairly quick\n",
      "- Key topics:[Service Time]\n",
      "- Sentiment: [Neutral]\n",
      "\n"
     ]
    },
    {
     "name": "stderr",
     "output_type": "stream",
     "text": [
      "Processing Reviews:  68%|█████████████▋      | 808/1181 [12:34<03:38,  1.70it/s]"
     ]
    },
    {
     "name": "stdout",
     "output_type": "stream",
     "text": [
      "Raw LLM Output for review: Great people.. great service\n",
      "- Key topics: [Staff]\n",
      "- Sentiment: [Positive]\n",
      "\n"
     ]
    },
    {
     "name": "stderr",
     "output_type": "stream",
     "text": [
      "Processing Reviews:  69%|█████████████▋      | 810/1181 [12:34<02:53,  2.13it/s]"
     ]
    },
    {
     "name": "stdout",
     "output_type": "stream",
     "text": [
      "Raw LLM Output for review: Friendly, quick, and efficient service.\n",
      "- Key topics:[Service Time, Staff]\n",
      "- Sentiment: [Positive]\n",
      "\n",
      "Raw LLM Output for review: Very bad\n",
      "- Key topics:Not Classified\n",
      "\n",
      "\n",
      "- Sentiment:Negative\n",
      "\n"
     ]
    },
    {
     "name": "stderr",
     "output_type": "stream",
     "text": [
      "Processing Reviews:  69%|█████████████▋      | 811/1181 [12:35<02:46,  2.22it/s]"
     ]
    },
    {
     "name": "stdout",
     "output_type": "stream",
     "text": [
      "Raw LLM Output for review: First time to maijor good service\n",
      "- Key topics:[Service Time]\n",
      "- Sentiment:[Positive]\n",
      "\n"
     ]
    },
    {
     "name": "stderr",
     "output_type": "stream",
     "text": [
      "Processing Reviews:  69%|█████████████▊      | 813/1181 [12:37<03:24,  1.80it/s]"
     ]
    },
    {
     "name": "stdout",
     "output_type": "stream",
     "text": [
      "Raw LLM Output for review: Fast on time\n",
      "- Key topics: [Service Time]\n",
      "- Sentiment: [Positive]\n",
      "\n",
      "Raw LLM Output for review: Wonderful people and good service\n",
      "- Key topics:Staff,Service Quality\n",
      "- Sentiment:Positive\n",
      "\n",
      "Raw LLM Output for review: Fast.  Great service\n",
      "- Key topics:[Not Classified, Service Quality]\n",
      "- Sentiment: Positive\n",
      "\n"
     ]
    },
    {
     "name": "stderr",
     "output_type": "stream",
     "text": [
      "Processing Reviews:  69%|█████████████▊      | 815/1181 [12:37<02:49,  2.16it/s]"
     ]
    },
    {
     "name": "stdout",
     "output_type": "stream",
     "text": [
      "Raw LLM Output for review: Parts department is 5 stars\n",
      "- Key topics:[Product Quality]\n",
      "-Sentiment: [Not Classified]\n",
      "\n"
     ]
    },
    {
     "name": "stderr",
     "output_type": "stream",
     "text": [
      "Processing Reviews:  69%|█████████████▊      | 816/1181 [12:39<04:06,  1.48it/s]"
     ]
    },
    {
     "name": "stdout",
     "output_type": "stream",
     "text": [
      "Raw LLM Output for review: Was fix properly in a few days\n",
      "- Key topics: [Service Time]\n",
      "- Sentiment: Neutral\n",
      "\n",
      "Raw LLM Output for review: They need better Customer Service\n",
      "- Key topics:Staff,Service Quality\n",
      "- Sentiment:Negative\n",
      "\n",
      "Raw LLM Output for review: They are goo d just slow\n",
      "- Key topics:[Not Classified]\n",
      "- Sentiment:Neutral\n",
      "\n"
     ]
    },
    {
     "name": "stderr",
     "output_type": "stream",
     "text": [
      "Processing Reviews:  69%|█████████████▊      | 819/1181 [12:39<02:54,  2.07it/s]"
     ]
    },
    {
     "name": "stdout",
     "output_type": "stream",
     "text": [
      "Raw LLM Output for review: Prepare to be there all day\n",
      "- Key topics:[Service Time]\n",
      "- Sentiment: [Negative]\n",
      "\n",
      "Raw LLM Output for review: Staff always willing to help\n",
      "- Key topics:Staff\n",
      "-Sentiment:Positive\n",
      "\n"
     ]
    },
    {
     "name": "stderr",
     "output_type": "stream",
     "text": [
      "Processing Reviews:  69%|█████████████▉      | 820/1181 [12:41<03:39,  1.65it/s]"
     ]
    },
    {
     "name": "stdout",
     "output_type": "stream",
     "text": [
      "Raw LLM Output for review: The worse ever.  Facts\n",
      "- Key topics: [Not Classified]\n",
      "- Sentiment: Negative\n",
      "\n"
     ]
    },
    {
     "name": "stderr",
     "output_type": "stream",
     "text": [
      "Processing Reviews:  70%|█████████████▉      | 823/1181 [12:42<02:44,  2.17it/s]"
     ]
    },
    {
     "name": "stdout",
     "output_type": "stream",
     "text": [
      "Raw LLM Output for review: Terrible place to buy a car.\n",
      "- Key topics: [Not Classified,Facilities,Staff,Product Quality]\n",
      "- Sentiment: Negative\n",
      "\n",
      "Raw LLM Output for review: Still having problems with truck..\n",
      "- Key topics:[Not Classified,Product Quality]\n",
      "- Sentiment:Negative\n",
      "\n"
     ]
    },
    {
     "name": "stderr",
     "output_type": "stream",
     "text": [
      "Processing Reviews:  70%|█████████████▉      | 824/1181 [12:42<02:47,  2.13it/s]"
     ]
    },
    {
     "name": "stdout",
     "output_type": "stream",
     "text": [
      "Raw LLM Output for review: These people are never happy.\n",
      "- Key topics:[Not Classified]\n",
      "- Sentiment:Negative\n",
      "\n"
     ]
    },
    {
     "name": "stderr",
     "output_type": "stream",
     "text": [
      "Processing Reviews:  70%|█████████████▉      | 825/1181 [12:43<02:51,  2.08it/s]"
     ]
    },
    {
     "name": "stdout",
     "output_type": "stream",
     "text": [
      "Raw LLM Output for review: Not organized poor management\n",
      "- Key topics:[Poor Management]\n",
      "- Sentiment: [Negative]\n",
      "\n"
     ]
    },
    {
     "name": "stderr",
     "output_type": "stream",
     "text": [
      "Processing Reviews:  70%|█████████████▉      | 826/1181 [12:44<03:16,  1.81it/s]"
     ]
    },
    {
     "name": "stdout",
     "output_type": "stream",
     "text": [
      "Raw LLM Output for review: Good fast service..\n",
      "- Key topics:Service Time\n",
      "- Sentiment:Positive\n",
      "Raw LLM Output for review: Good cars\n",
      "- Key topics:[Not Classified]\n",
      "- Sentiment:Neutral\n",
      "\n",
      "\n"
     ]
    },
    {
     "name": "stderr",
     "output_type": "stream",
     "text": [
      "Processing Reviews:  70%|██████████████      | 828/1181 [12:44<02:37,  2.24it/s]"
     ]
    },
    {
     "name": "stdout",
     "output_type": "stream",
     "text": [
      "Raw LLM Output for review: Quick.  Fast . Efficient 😁 …\n",
      "- Key topics:Not Classified\n",
      "- Sentiment:Positive\n",
      "\n"
     ]
    },
    {
     "name": "stderr",
     "output_type": "stream",
     "text": [
      "Processing Reviews:  70%|██████████████      | 829/1181 [12:45<02:53,  2.03it/s]"
     ]
    },
    {
     "name": "stdout",
     "output_type": "stream",
     "text": [
      "Raw LLM Output for review: Great service department!\n",
      "- Key topics:[Service Department]\n",
      "- Sentiment:[Positive]\n",
      "\n"
     ]
    },
    {
     "name": "stderr",
     "output_type": "stream",
     "text": [
      "Processing Reviews:  70%|██████████████      | 830/1181 [12:45<03:05,  1.89it/s]"
     ]
    },
    {
     "name": "stdout",
     "output_type": "stream",
     "text": [
      "Raw LLM Output for review: The counter guys are the best\n",
      "- Key topics: [Staff]\n",
      "- Sentiment: Positive\n",
      "\n"
     ]
    },
    {
     "name": "stderr",
     "output_type": "stream",
     "text": [
      "Processing Reviews:  70%|██████████████      | 831/1181 [12:46<02:52,  2.03it/s]"
     ]
    },
    {
     "name": "stdout",
     "output_type": "stream",
     "text": [
      "Raw LLM Output for review: Excellent good thanks\n",
      "- Key topics: [Not Classified]\n",
      "- Sentiment: [Neutral]\n",
      "\n"
     ]
    },
    {
     "name": "stderr",
     "output_type": "stream",
     "text": [
      "Processing Reviews:  70%|██████████████      | 832/1181 [12:46<02:54,  2.01it/s]"
     ]
    },
    {
     "name": "stdout",
     "output_type": "stream",
     "text": [
      "Raw LLM Output for review: Really good service\n",
      "- Key topics:[Staff,Service Quality]\n",
      "- Sentiment:Positive\n",
      "\n"
     ]
    },
    {
     "name": "stderr",
     "output_type": "stream",
     "text": [
      "Processing Reviews:  71%|██████████████      | 833/1181 [12:47<03:07,  1.85it/s]"
     ]
    },
    {
     "name": "stdout",
     "output_type": "stream",
     "text": [
      "Raw LLM Output for review: It was ok\n",
      "- Key topics: [Not Classified]\n",
      "- Sentiment:[Neutral]\n",
      "\n"
     ]
    },
    {
     "name": "stderr",
     "output_type": "stream",
     "text": [
      "Processing Reviews:  71%|██████████████▏     | 835/1181 [12:48<02:40,  2.15it/s]"
     ]
    },
    {
     "name": "stdout",
     "output_type": "stream",
     "text": [
      "Raw LLM Output for review: 3 hours to change oil\n",
      "- Key topics:[Oil Change/Refill]\n",
      "- Sentiment: Neutral\n",
      "\n",
      "Raw LLM Output for review: The best\n",
      "- Key topics: [Not Classified]\n",
      "- Sentiment: Positive\n",
      "\n"
     ]
    },
    {
     "name": "stderr",
     "output_type": "stream",
     "text": [
      "Processing Reviews:  71%|██████████████▏     | 836/1181 [12:49<03:09,  1.82it/s]"
     ]
    },
    {
     "name": "stdout",
     "output_type": "stream",
     "text": [
      "Raw LLM Output for review: Was good service\n",
      "- Key topics:Service Quality,Facilities \n",
      "- Sentiment:Neutral\n",
      "\n"
     ]
    },
    {
     "name": "stderr",
     "output_type": "stream",
     "text": [
      "Processing Reviews:  71%|██████████████▏     | 837/1181 [12:49<02:38,  2.18it/s]"
     ]
    },
    {
     "name": "stdout",
     "output_type": "stream",
     "text": [
      "Raw LLM Output for review: Nenad is great!!\n",
      "- Key topics: []\n",
      "- Sentiment: [Positive]\n",
      "\n",
      "Raw LLM Output for review: Major world is the worst\n",
      "- Key topics:[Not Classified]\n",
      "- Sentiment:[Negative]\n",
      "\n"
     ]
    },
    {
     "name": "stderr",
     "output_type": "stream",
     "text": [
      "Processing Reviews:  71%|██████████████▏     | 838/1181 [12:50<03:50,  1.49it/s]"
     ]
    },
    {
     "name": "stdout",
     "output_type": "stream",
     "text": [
      "Raw LLM Output for review: Great👍 …\n",
      "- Key topics:\n",
      "- Not Classified\n",
      "\n",
      "\n",
      "- Sentiment: [Positive]\n",
      "\n"
     ]
    },
    {
     "name": "stderr",
     "output_type": "stream",
     "text": [
      "Processing Reviews:  71%|██████████████▏     | 840/1181 [12:51<03:46,  1.50it/s]"
     ]
    },
    {
     "name": "stdout",
     "output_type": "stream",
     "text": [
      "Raw LLM Output for review: Run while you can\n",
      "- Key topics: [Not Classified, Not Classified]\n",
      "- Sentiment: [Negative]\n",
      "\n"
     ]
    },
    {
     "name": "stderr",
     "output_type": "stream",
     "text": [
      "Processing Reviews:  71%|██████████████▎     | 842/1181 [12:52<02:40,  2.12it/s]"
     ]
    },
    {
     "name": "stdout",
     "output_type": "stream",
     "text": [
      "Raw LLM Output for review: SCAM ! SCAM ! MAJOR WORLD SCAM.\n",
      "- Key topics:[Not Classified, Not Classified, Not Classified]\n",
      "- Sentiment:[Negative]\n",
      "\n",
      "Raw LLM Output for review: Always excellent!\n",
      "- Key topics:[Product Quality]\n",
      "- Sentiment:[Positive]\n",
      "\n"
     ]
    },
    {
     "name": "stderr",
     "output_type": "stream",
     "text": [
      "Processing Reviews:  71%|██████████████▎     | 843/1181 [12:52<02:18,  2.43it/s]"
     ]
    },
    {
     "name": "stdout",
     "output_type": "stream",
     "text": [
      "Raw LLM Output for review: Great service\n",
      "- Key topics:[Staff]\n",
      "- Sentiment: [Positive]\n",
      "\n"
     ]
    },
    {
     "name": "stderr",
     "output_type": "stream",
     "text": [
      "Processing Reviews:  71%|██████████████▎     | 844/1181 [12:54<03:52,  1.45it/s]"
     ]
    },
    {
     "name": "stdout",
     "output_type": "stream",
     "text": [
      "Raw LLM Output for review: Scammers\n",
      "- Key topics:[Not Classified]\n",
      "- Sentiment: [Negative]\n",
      "\n"
     ]
    },
    {
     "name": "stderr",
     "output_type": "stream",
     "text": [
      "Processing Reviews:  72%|██████████████▎     | 845/1181 [12:54<03:08,  1.78it/s]"
     ]
    },
    {
     "name": "stdout",
     "output_type": "stream",
     "text": [
      "Raw LLM Output for review: Great sercice!!\n",
      "- Key topics:[Service Quality]\n",
      "- Sentiment:[Positive]\n",
      "\n"
     ]
    },
    {
     "name": "stderr",
     "output_type": "stream",
     "text": [
      "Processing Reviews:  72%|██████████████▎     | 846/1181 [12:54<02:39,  2.09it/s]"
     ]
    },
    {
     "name": "stdout",
     "output_type": "stream",
     "text": [
      "Raw LLM Output for review: Horrible service\n",
      "- Key topics: [Service Quality, Staff]\n",
      "- Sentiment: Negative\n",
      "\n"
     ]
    },
    {
     "name": "stderr",
     "output_type": "stream",
     "text": [
      "Processing Reviews:  72%|██████████████▎     | 847/1181 [12:54<02:33,  2.18it/s]"
     ]
    },
    {
     "name": "stdout",
     "output_type": "stream",
     "text": [
      "Raw LLM Output for review: Bad service\n",
      "- Key topics:[Not Classified,Service Quality]\n",
      "- Sentiment:Negative\n",
      "\n"
     ]
    },
    {
     "name": "stderr",
     "output_type": "stream",
     "text": [
      "Processing Reviews:  72%|██████████████▍     | 849/1181 [12:56<02:46,  1.99it/s]"
     ]
    },
    {
     "name": "stdout",
     "output_type": "stream",
     "text": [
      "Raw LLM Output for review: Worst!!!\n",
      "- Key topics: [Not Classified]\n",
      "- Sentiment: Negative\n",
      "\n",
      "Raw LLM Output for review: Excellent\n",
      "- Key topics:[Not Classified]\n",
      "- Sentiment:Excellent\n",
      "\n"
     ]
    },
    {
     "name": "stderr",
     "output_type": "stream",
     "text": [
      "Processing Reviews:  72%|██████████████▍     | 850/1181 [12:56<02:33,  2.16it/s]"
     ]
    },
    {
     "name": "stdout",
     "output_type": "stream",
     "text": [
      "Raw LLM Output for review: Great work\n",
      "- Key topics: [Not Classified]\n",
      "- Sentiment: Positive\n",
      "\n"
     ]
    },
    {
     "name": "stderr",
     "output_type": "stream",
     "text": [
      "Processing Reviews:  72%|██████████████▍     | 851/1181 [12:56<02:25,  2.27it/s]"
     ]
    },
    {
     "name": "stdout",
     "output_type": "stream",
     "text": [
      "Raw LLM Output for review: Okay\n",
      "- Key topics:[Not Classified]\n",
      "- Sentiment:[Neutral]\n",
      "\n",
      "Raw LLM Output for review: Sucks\n",
      "- Key topics:[Not Classified]\n",
      "- Sentiment:[Negative]\n",
      "\n",
      "Raw LLM Output for review: The best\n",
      "- Key topics:\n",
      "- Not Classified\n",
      "\n",
      "\n",
      "- Sentiment: [Positive]\n",
      "\n",
      "Raw LLM Output for review: Great\n",
      "- Key topics: [Not Classified]\n",
      "- Sentiment: [Positive]\n",
      "\n",
      "Raw LLM Output for review: Great\n",
      "- Key topics: [Not Classified]\n",
      "- Sentiment: [Positive]\n",
      "\n",
      "Raw LLM Output for review: Great!!!\n",
      "- Key topics:[Not Classified]\n",
      "- Sentiment:[Positive]\n",
      "\n",
      "Raw LLM Output for review: Excellent service, it is not necessary to wait or queue for service, the people who serve Chevrolet are very friendly and it is clear that they know what they do very well. Congratulations.\n",
      "- Key topics:[Service Time,Staff]\n",
      "- Sentiment:Positive\n",
      "\n",
      "Raw LLM Output for review: I purchased a 2018 Chevrolet USV at the beginning of the year, and the service I was receiving was 100 percent positive and today I assure all of you that Major World Service are guaranteed professionals, you can count on all the staff, especially Jessica and Nenad, one hundred percent recommended.\n",
      "- Key topics:[Staff]\n",
      "- Sentiment:Positive\n",
      "\n",
      "Raw LLM Output for review: Great\n",
      "Since the review is \"Great\", it can be inferred that overall sentiment is Positive. \n",
      "\n",
      "Given this information and based on predefined list of possible topics, I would identify the most relevant topics discussed as:\n",
      "\n",
      "- Not Classified\n",
      "\n",
      "Raw LLM Output for review: I arrived around 11 o'clock and it was almost 5 o'clock in the afternoon. It was great not to finish but to check.\n",
      "- Key topics:[Service Time, Facilities]\n",
      "- Sentiment:[Negative]\n",
      "\n",
      "Raw LLM Output for review: Excellent service. The time needed to fix the problem. Honest and guarantee the work done.\n",
      "- Key topics:Service Time\n",
      "- Sentiment:Positive\n",
      "\n"
     ]
    },
    {
     "name": "stderr",
     "output_type": "stream",
     "text": [
      "Processing Reviews:  72%|██████████████▍     | 852/1181 [13:06<16:57,  3.09s/it]"
     ]
    },
    {
     "name": "stdout",
     "output_type": "stream",
     "text": [
      "Raw LLM Output for review: Upping\n",
      "Since there is no review provided, I'll assume that you meant to provide a text. However, please note that \"Upping\" seems to be a single word and not a topic from the predefined list.\n",
      "\n",
      "Could you please provide the actual review or text you'd like me to analyze? I'll be happy to help once I have the relevant information.\n",
      "\n"
     ]
    },
    {
     "name": "stderr",
     "output_type": "stream",
     "text": [
      "Processing Reviews:  73%|██████████████▌     | 863/1181 [13:07<03:20,  1.58it/s]"
     ]
    },
    {
     "name": "stdout",
     "output_type": "stream",
     "text": [
      "Raw LLM Output for review: They take a long time with vehicles. They never call you to tell you if it's ready\n",
      "- Key topics:[Service Time]\n",
      "- Sentiment:Negative\n",
      "\n"
     ]
    },
    {
     "name": "stderr",
     "output_type": "stream",
     "text": [
      "Processing Reviews:  73%|██████████████▋     | 864/1181 [13:07<03:08,  1.68it/s]"
     ]
    },
    {
     "name": "stdout",
     "output_type": "stream",
     "text": [
      "Raw LLM Output for review: Fast and friendly attention, I was satisfied with my car repaired before the indicated time\n",
      "- Key topics:[Service Time,Staff]\n",
      "- Sentiment: Positive\n",
      "\n",
      "Raw LLM Output for review: They make you wait without telling you what's happening or what time it will be!!! They should improve\n",
      "- Key topics:[Service Time]\n",
      "- Sentiment:Negative\n",
      "\n"
     ]
    },
    {
     "name": "stderr",
     "output_type": "stream",
     "text": [
      "Processing Reviews:  73%|██████████████▋     | 866/1181 [13:09<03:11,  1.64it/s]"
     ]
    },
    {
     "name": "stdout",
     "output_type": "stream",
     "text": [
      "Raw LLM Output for review: Always make an appointment and call before going to the appointment to make sure you are not going to waste your time.\n",
      "- Key topics:[Service Time, Facilities,Not Classified]\n",
      "- Sentiment: Neutral\n",
      "\n"
     ]
    },
    {
     "name": "stderr",
     "output_type": "stream",
     "text": [
      "Processing Reviews:  73%|██████████████▋     | 867/1181 [13:09<03:18,  1.58it/s]"
     ]
    },
    {
     "name": "stdout",
     "output_type": "stream",
     "text": [
      "Raw LLM Output for review: A thousand thanks to Mr. Victor Almont and his salesman Joel Cernuda for excellent service\n",
      "- Key topics:[Staff, Service Quality]\n",
      "- Sentiment:Positive\n",
      "\n"
     ]
    },
    {
     "name": "stderr",
     "output_type": "stream",
     "text": [
      "Processing Reviews:  73%|██████████████▋     | 868/1181 [13:10<02:58,  1.75it/s]"
     ]
    },
    {
     "name": "stdout",
     "output_type": "stream",
     "text": [
      "Raw LLM Output for review: Very satisfied, they treated me very well and quickly. Thank you so much.\n",
      "- Key topics:Staff,Service Time\n",
      "-Sentiment:Positive\n",
      "\n",
      "Raw LLM Output for review: It is the place where I bought my car, they have good service in the Workshop\n",
      "- Key topics:[Service Quality,Facilities]\n",
      "- Sentiment:Positive\n",
      "\n"
     ]
    },
    {
     "name": "stderr",
     "output_type": "stream",
     "text": [
      "Processing Reviews:  74%|██████████████▋     | 869/1181 [13:11<03:34,  1.46it/s]"
     ]
    },
    {
     "name": "stdout",
     "output_type": "stream",
     "text": [
      "Raw LLM Output for review: good service recommended\n",
      "- Key topics:[Service Quality]\n",
      "- Sentiment:Positive.\n",
      "\n"
     ]
    },
    {
     "name": "stderr",
     "output_type": "stream",
     "text": [
      "Processing Reviews:  74%|██████████████▊     | 871/1181 [13:12<03:02,  1.70it/s]"
     ]
    },
    {
     "name": "stdout",
     "output_type": "stream",
     "text": [
      "Raw LLM Output for review: The service is fast.. and they keep their promises.. and they are honest.\n",
      "Key topics:[Service Time, Staff]\n",
      "Sentiment:Positive.\n",
      "\n"
     ]
    },
    {
     "name": "stderr",
     "output_type": "stream",
     "text": [
      "Processing Reviews:  74%|██████████████▊     | 873/1181 [13:12<02:21,  2.18it/s]"
     ]
    },
    {
     "name": "stdout",
     "output_type": "stream",
     "text": [
      "Raw LLM Output for review: Very friendly workers, lots of space in the place\n",
      "- Key topics:Staff,Facilities\n",
      "- Sentiment:Positive\n",
      "\n",
      "Raw LLM Output for review: Everything that has to do with major world is a big scam\n",
      "- Key topics: [Not Classified]\n",
      "- Sentiment: [Negative]\n",
      "\n"
     ]
    },
    {
     "name": "stderr",
     "output_type": "stream",
     "text": [
      "Processing Reviews:  74%|██████████████▊     | 874/1181 [13:13<02:25,  2.11it/s]"
     ]
    },
    {
     "name": "stdout",
     "output_type": "stream",
     "text": [
      "Raw LLM Output for review: They don't have good service and the manager always has a rude attitude.\n",
      "- Key topics:[Staff]\n",
      "- Sentiment:Negative\n",
      "\n"
     ]
    },
    {
     "name": "stderr",
     "output_type": "stream",
     "text": [
      "Processing Reviews:  74%|██████████████▊     | 875/1181 [13:14<03:23,  1.50it/s]"
     ]
    },
    {
     "name": "stdout",
     "output_type": "stream",
     "text": [
      "Raw LLM Output for review: The service attitude is very good and the repair effect is very good.\n",
      "- Key topics:[Staff,Service Quality]\n",
      "- Sentiment:Positive\n",
      "\n"
     ]
    },
    {
     "name": "stderr",
     "output_type": "stream",
     "text": [
      "Processing Reviews:  74%|██████████████▊     | 876/1181 [13:14<03:12,  1.58it/s]"
     ]
    },
    {
     "name": "stdout",
     "output_type": "stream",
     "text": [
      "Raw LLM Output for review: I didn't like it, they sell very expensive\n",
      "- Key topics:[Product Quality,Price]\n",
      "- Sentiment:Negative\n",
      "\n",
      "Raw LLM Output for review: Good service and very friendly people\n",
      "- Key topics:Staff,Service Time\n",
      "- Sentiment:[Positive]\n",
      "\n"
     ]
    },
    {
     "name": "stderr",
     "output_type": "stream",
     "text": [
      "Processing Reviews:  74%|██████████████▊     | 878/1181 [13:15<02:22,  2.12it/s]"
     ]
    },
    {
     "name": "stdout",
     "output_type": "stream",
     "text": [
      "Raw LLM Output for review: Professional, fast and safe service\n",
      "- Key topics:Service Quality, Staff \n",
      "- Sentiment:Positive\n",
      "\n",
      "Raw LLM Output for review: Good service\n",
      "- Key topics:Service Quality \n",
      "- Sentiment: Positive\n",
      "\n"
     ]
    },
    {
     "name": "stderr",
     "output_type": "stream",
     "text": [
      "Processing Reviews:  74%|██████████████▉     | 879/1181 [13:17<03:46,  1.34it/s]"
     ]
    },
    {
     "name": "stdout",
     "output_type": "stream",
     "text": [
      "Raw LLM Output for review: Cold no heat\n",
      "- Key topics: [Not Classified,Product Quality]\n",
      "- Sentiment:[Negative]\n",
      "Raw LLM Output for review: Very professional services!\n",
      "- Key topics:[Service Quality]\n",
      "- Sentiment: [Positive]\n",
      "\n",
      "\n"
     ]
    },
    {
     "name": "stderr",
     "output_type": "stream",
     "text": [
      "Processing Reviews:  75%|██████████████▉     | 882/1181 [13:17<02:19,  2.14it/s]"
     ]
    },
    {
     "name": "stdout",
     "output_type": "stream",
     "text": [
      "Raw LLM Output for review: Wolves!\n",
      "- Key topics:[Not Classified]\n",
      "- Sentiment:[Negative]\n",
      "\n",
      "Raw LLM Output for review: dishonest\n",
      "- Key topics:[Not Classified]\n",
      "- Sentiment: Negative\n",
      "\n"
     ]
    },
    {
     "name": "stderr",
     "output_type": "stream",
     "text": [
      "Processing Reviews:  75%|██████████████▉     | 883/1181 [13:20<04:37,  1.07it/s]"
     ]
    },
    {
     "name": "stdout",
     "output_type": "stream",
     "text": [
      "Raw LLM Output for review: Car went in for battery replacement,  2 years old not a scratch on the car, came back with over 20 scratches and abrasions and broken trim piece inside. Unbelievable and ofc zero responsibility.\n",
      "- Key topics:[Battery, Recall]\n",
      "- Sentiment: [Negative]\n",
      "\n",
      "Raw LLM Output for review: Well\n",
      "- Key topics:[Not Classified,Not Classified]\n",
      "-Sentiment: [Positive/Negative/Neutral]\n",
      "\n"
     ]
    },
    {
     "name": "stderr",
     "output_type": "stream",
     "text": [
      "Processing Reviews:  75%|██████████████▉     | 885/1181 [13:21<04:03,  1.21it/s]"
     ]
    },
    {
     "name": "stdout",
     "output_type": "stream",
     "text": [
      "Raw LLM Output for review: Tesla Paramus has a great team! There are always helpful and nice people working here whenever I come. The Cybertruck is here in the showroom! You can sit inside it and look at everything.\n",
      "- Key topics:[Staff]\n",
      "- Sentiment:Positive\n",
      "\n",
      "Raw LLM Output for review: Well\n",
      "Since there is not enough information in the provided review to identify any relevant topics, I will assign it as **Not Classified**.\n",
      "\n"
     ]
    },
    {
     "name": "stderr",
     "output_type": "stream",
     "text": [
      "Processing Reviews:  75%|███████████████     | 888/1181 [13:23<03:22,  1.44it/s]"
     ]
    },
    {
     "name": "stdout",
     "output_type": "stream",
     "text": [
      "Raw LLM Output for review: Just stopped by to use the Supercharger, and popped into the showroom to see the new Cybertruck. It looks great. Also had a chance to briefly sit in an updated Model 3...it's gorgeous inside!\n",
      "- Key topics:[Music System]\n",
      "- Sentiment:Neutral\n",
      "\n"
     ]
    },
    {
     "name": "stderr",
     "output_type": "stream",
     "text": [
      "Processing Reviews:  75%|███████████████     | 889/1181 [13:24<03:25,  1.42it/s]"
     ]
    },
    {
     "name": "stdout",
     "output_type": "stream",
     "text": [
      "Raw LLM Output for review: They are learning as they go . Last time I was there . They sent me 3 different price for my estimate and made the process so much longer .\n",
      "- Key topics:[Service Cost,Service Time]\n",
      "- Sentiment:Negative\n",
      "\n"
     ]
    },
    {
     "name": "stderr",
     "output_type": "stream",
     "text": [
      "Processing Reviews:  75%|███████████████     | 890/1181 [13:25<03:52,  1.25it/s]"
     ]
    },
    {
     "name": "stdout",
     "output_type": "stream",
     "text": [
      "Raw LLM Output for review: Amazing experience at this place!! Loved the customer service, the car, everything was simply flawless!! Happy customer here!\n",
      "Cybertruck on display now! Last update: 1/2/2024\n",
      "- Key topics:[Not Classified,Product Quality]\n",
      "- Sentiment:Positive\n",
      "\n",
      "Raw LLM Output for review: Very busy place. Picked up my new model Y performance and was in and out of there in less than 5 minutes. Everything was in the car already waiting for me. Everything is done on your phone and the minute you arrive for pickup your app becomes the car key.\n",
      "- Key topics:[Service Time,Product Quality]\n",
      "- Sentiment:Positive\n",
      "\n"
     ]
    },
    {
     "name": "stderr",
     "output_type": "stream",
     "text": [
      "Processing Reviews:  76%|███████████████     | 892/1181 [13:26<03:45,  1.28it/s]"
     ]
    },
    {
     "name": "stdout",
     "output_type": "stream",
     "text": [
      "Raw LLM Output for review: The difference is day and night when you compare pre and post sale. Basically once you take delivery you are treated like a Kleenex tissue… a month later still cant get any help with registration documents, I’m passed on from department to department like a hot potato…simply unacceptable!!!\n",
      "- Key topics:[Service Cost, Facilities]\n",
      "- Sentiment:Negative\n",
      "\n"
     ]
    },
    {
     "name": "stderr",
     "output_type": "stream",
     "text": [
      "Processing Reviews:  76%|███████████████     | 893/1181 [13:27<03:54,  1.23it/s]"
     ]
    },
    {
     "name": "stdout",
     "output_type": "stream",
     "text": [
      "Raw LLM Output for review: To say Tesla knows customer service would be an insult to all the other dealers who put real effort in treating their customers right. Not one staffer came to see what we needed, or showed any real interest in helping us.\n",
      "- Key topics:[Service Staff, Service Quality]\n",
      "- Sentiment: Negative\n",
      "\n"
     ]
    },
    {
     "name": "stderr",
     "output_type": "stream",
     "text": [
      "Processing Reviews:  76%|███████████████▏    | 894/1181 [13:29<04:34,  1.05it/s]"
     ]
    },
    {
     "name": "stdout",
     "output_type": "stream",
     "text": [
      "Raw LLM Output for review: Tesla service took 5 attempts to fix a common problem on my new Model Y. Their communication system is fundamentally flawed and if there is any small error on their part, they completely fall apart and have no way of tracing it. I have never left the dealership/service on a positive note.\n",
      "- Key topics:[Service Time,Product Quality]\n",
      "- Sentiment:Negative\n",
      "\n",
      "Raw LLM Output for review: Picked up my Model Y today and have had a phenomenal experience with it so far. Huge thanks to Michael K for the great service!\n",
      "- Key topics:[Product Availability,Service Cost]\n",
      "- Sentiment:Positive\n",
      "\n"
     ]
    },
    {
     "name": "stderr",
     "output_type": "stream",
     "text": [
      "Processing Reviews:  76%|███████████████▏    | 896/1181 [13:30<04:12,  1.13it/s]"
     ]
    },
    {
     "name": "stdout",
     "output_type": "stream",
     "text": [
      "Raw LLM Output for review: if you dream it because you can't have it… if you want it, fight and even if they tell you that you can't, of course you can….  the best investment you will not regret it very nice the price depends on your taste you dreamed of the car of the future is aka the important thing friendly to the environment\n",
      "- Key topics:[Product Availability, Not Classified]\n",
      "- Sentiment:[Positive]\n",
      "\n"
     ]
    },
    {
     "name": "stderr",
     "output_type": "stream",
     "text": [
      "Processing Reviews:  76%|███████████████▏    | 897/1181 [13:31<03:35,  1.32it/s]"
     ]
    },
    {
     "name": "stdout",
     "output_type": "stream",
     "text": [
      "Raw LLM Output for review: This place has the worst customer service. I’ve been calling for over a week to speak with an advisor, even sent various messages in the app. They pickup up the phone , don’t say a word, then place you on hold until you hang up. I waited over an hour twice. 35 mins another.\n",
      "- Key topics:[Staff,Service Time]\n",
      "- Sentiment:Negative\n",
      "\n",
      "Raw LLM Output for review: Tesla really needs to improve the service department. My model Y is not drivable because of the rattling noise and appointments are only available in 10 days and there is no way to talk to them... They should at least pick up the phone!\n",
      "- Key topics:[Service Cost, Facilities]\n",
      "- Sentiment:Negative\n",
      "\n"
     ]
    },
    {
     "name": "stderr",
     "output_type": "stream",
     "text": [
      "Processing Reviews:  76%|███████████████▏    | 898/1181 [13:32<04:47,  1.02s/it]"
     ]
    },
    {
     "name": "stdout",
     "output_type": "stream",
     "text": [
      "Raw LLM Output for review: Awesome experience with Tesla service, Monroe came out and did an exceptional job changing out windshield! Super fast, crazy convenient and very professional!\n",
      "- Key topics:[Staff,Service Time, Facilities]\n",
      "- Sentiment:Positive\n",
      "\n"
     ]
    },
    {
     "name": "stderr",
     "output_type": "stream",
     "text": [
      "Processing Reviews:  76%|███████████████▏    | 900/1181 [13:34<04:08,  1.13it/s]"
     ]
    },
    {
     "name": "stdout",
     "output_type": "stream",
     "text": [
      "Raw LLM Output for review: Really great staff, polite and efficient. One of the staff members even helped me get my babys car seat in for the test drive. Waiting patiently for the shipment.\n",
      "- Key topics:[Staff,Facilities]\n",
      "- Sentiment:Positive\n",
      "\n"
     ]
    },
    {
     "name": "stderr",
     "output_type": "stream",
     "text": [
      "Processing Reviews:  76%|███████████████▎    | 901/1181 [13:34<03:54,  1.19it/s]"
     ]
    },
    {
     "name": "stdout",
     "output_type": "stream",
     "text": [
      "Raw LLM Output for review: First time there for service. They have a small waiting room with wifi and coffee. Repair took about 2 hours which is within my expectations. I guess you can also walk to the Paramus mall but they don't open till 10am.\n",
      "- Key topics:[Facilities,Service Time]\n",
      "-Sentiment:Neutral\n",
      "\n"
     ]
    },
    {
     "name": "stderr",
     "output_type": "stream",
     "text": [
      "Processing Reviews:  76%|███████████████▎    | 903/1181 [13:36<03:21,  1.38it/s]"
     ]
    },
    {
     "name": "stdout",
     "output_type": "stream",
     "text": [
      "Raw LLM Output for review: Hmm, 2.25 hrs of diagnosing the “noise” and the jury is still out… more to follow.   Range of customer svc personnel helpfulness.  They have the Cybertruck on display!!\n",
      "- Key topics:[Service Time]\n",
      "- Sentiment:[Neutral]\n",
      "\n",
      "Raw LLM Output for review: It is a bare place, like most other Tesla places.  The major attraction was a Cybertruck they had on display.  Nobody can touch it.  I don't know how long it will be there.\n",
      "- Key topics:[Facilities]\n",
      "- Sentiment:Neutral\n",
      "\n"
     ]
    },
    {
     "name": "stderr",
     "output_type": "stream",
     "text": [
      "Processing Reviews:  77%|███████████████▎    | 904/1181 [13:38<05:28,  1.19s/it]"
     ]
    },
    {
     "name": "stdout",
     "output_type": "stream",
     "text": [
      "Raw LLM Output for review: Always beyond outstanding job at this location. If you want to experience the best of Tesla here is the place to do it. 11/10 I’ve bought and had my car serviced here and left literally always with my expectations blown out of the water. Other service centers get the job done but this one is always been my favorite.\n",
      "- Key topics:[Service,Staff]\n",
      "- Sentiment:Positive\n",
      "\n",
      "Raw LLM Output for review: There's no parking for handicap All the parking are taking up by brand new vehicle from the dealer so a handicap person can't park.\n",
      "- Key topics:[Facilities,Staff,Product Availability]\n",
      "-Sentiment:Negative\n",
      "\n"
     ]
    },
    {
     "name": "stderr",
     "output_type": "stream",
     "text": [
      "Processing Reviews:  77%|███████████████▎    | 906/1181 [13:40<04:40,  1.02s/it]"
     ]
    },
    {
     "name": "stdout",
     "output_type": "stream",
     "text": [
      "Raw LLM Output for review: Great service, I guess everything about Tesla is Amazing. The supercharger station is able to boost the Model S battery about 80% in just 50 minutes. Awesome! Definitely the Tesla concept is changing the world. I'm glad to be part of.\n",
      "- Key topics:[Product Availability, Facilities]\n",
      "- Sentiment:Positive\n",
      "\n",
      "Raw LLM Output for review: The contactless pickup process for our model Y was super easy. Unfortunately the showroom is still closed due to a storm and flooding they had, but they are still doing new vehicle pickups.\n",
      "- Key topics:[Service Time]\n",
      "- Sentiment:[Positive/Neutral]\n",
      "\n"
     ]
    },
    {
     "name": "stderr",
     "output_type": "stream",
     "text": [
      "Processing Reviews:  77%|███████████████▍    | 908/1181 [13:42<04:55,  1.08s/it]"
     ]
    },
    {
     "name": "stdout",
     "output_type": "stream",
     "text": [
      "Raw LLM Output for review: My Tesla delivery day was here. Amazing experience. I was left to explore my car on my own, but it was clear that employees were there if I needed help. I had one question about my car and Krista and Mark were super helpful. Nobody tried to sell me on any products or upsell me on an extended warranty.\n",
      "- Key topics:[Staff, Facilities]\n",
      "- Sentiment:Positive\n",
      "\n",
      "Raw LLM Output for review: The appointment to pick up was 30 minutes ago and they still don't have the care ready\n",
      "- Key topics:[Service Time, Facilities]\n",
      "- Sentiment:Negative\n",
      "\n"
     ]
    },
    {
     "name": "stderr",
     "output_type": "stream",
     "text": [
      "Processing Reviews:  77%|███████████████▍    | 910/1181 [13:44<04:49,  1.07s/it]"
     ]
    },
    {
     "name": "stdout",
     "output_type": "stream",
     "text": [
      "Raw LLM Output for review: About to lease model 3 but after got insurance costs it stopped me to lease it. Insurance cost is 75% morethan tesla monthly lease payments, Tesla it self does not offer insurance in NJ or NY. Tesla need to work with insurance companies or introduce their own insurance in NJ and NY!\n",
      "- Key topics:[Recall,Product Availability]\n",
      "- Sentiment:Positive\n",
      "\n",
      "Raw LLM Output for review: I had a test drive for model y and this is the car I'm getting it just perfectly fit for my business need thank you guys very nice environment\n",
      "- Key topics:[Facilities,Product Availability]\n",
      "- Sentiment:[Positive]\n",
      "\n"
     ]
    },
    {
     "name": "stderr",
     "output_type": "stream",
     "text": [
      "Processing Reviews:  77%|███████████████▍    | 912/1181 [13:46<04:18,  1.04it/s]"
     ]
    },
    {
     "name": "stdout",
     "output_type": "stream",
     "text": [
      "Raw LLM Output for review: Mathew C. Was an absolute pleasure to work with. He was extremely kind, patient, and professional. As someone who was hesitant test driving and purchasing a Tesla, he put me as ease. He also explained everything in layman’s terms. He didn’t rush us or make us feel uncomfortable. Highly recommend working with him for your Tesla needs.\n",
      "- Key topics:[Staff]\n",
      "- Sentiment:Positive\n",
      "\n",
      "Raw LLM Output for review: Good buying experience.  Most of your car purchase is done online so all you have to do is draw few signatures then you are good to go.\n",
      "- Key topics:Product Availability\n",
      "- Sentiment:Positive\n",
      "\n"
     ]
    },
    {
     "name": "stderr",
     "output_type": "stream",
     "text": [
      "Processing Reviews:  77%|███████████████▍    | 915/1181 [13:48<03:53,  1.14it/s]"
     ]
    },
    {
     "name": "stdout",
     "output_type": "stream",
     "text": [
      "Raw LLM Output for review: Absolute waste of time, they can’t even pick up the phone. Avoid this location like the plague!\n",
      "- Key topics:[Staff,Service Time]\n",
      "- Sentiment:Negative\n",
      "\n",
      "Raw LLM Output for review: My excitement for getting a new car with my parents died when we realized the new Model X seats weren’t all functional. I didn’t even get a chance to ride in it before they had to take it in for repairs. :(\n",
      "- Key topics:[Product Quality,Recall]\n",
      "- Sentiment:Negative\n",
      "\n"
     ]
    },
    {
     "name": "stderr",
     "output_type": "stream",
     "text": [
      "Processing Reviews:  78%|███████████████▌    | 916/1181 [13:49<03:58,  1.11it/s]"
     ]
    },
    {
     "name": "stdout",
     "output_type": "stream",
     "text": [
      "Raw LLM Output for review: Very attentive. Polite, kind, friendly. That Saturday i went very busy as well but I didnt have to wait long for demo Drive. I showed up a little late as well. Not before 15 min they recommended. Great experience. All of the staff super helpful. A+ so far.\n",
      "- Key topics:[Staff]\n",
      "- Sentiment:[Positive]\n",
      "\n"
     ]
    },
    {
     "name": "stderr",
     "output_type": "stream",
     "text": [
      "Processing Reviews:  78%|███████████████▌    | 917/1181 [13:50<03:53,  1.13it/s]"
     ]
    },
    {
     "name": "stdout",
     "output_type": "stream",
     "text": [
      "Raw LLM Output for review: Very nice location, the sales are friendly and answer all my questions.\n",
      "- Key topics: [Facilities, Staff]\n",
      "- Sentiment: Positive\n",
      "\n",
      "Raw LLM Output for review: A temp license plate has been expired two weeks ago, and I am still waiting for license plates. I already visited the dealer three times to complete missing paperwork. I just hope to receive license plates next week.\n",
      "- Key topics:[Product Availability]\n",
      "- Sentiment: [Negative]\n",
      "\n",
      "Raw LLM Output for review: James and Parnell are great at their jobs. Well educated about what they're selling. Left with an order for a brand new model Y, picked up just a month after and left there with the necessary knowledge about vehicle to carry us a long way.\n",
      "- Key topics:[Staff]\n",
      "- Sentiment:Positive\n",
      "\n"
     ]
    },
    {
     "name": "stderr",
     "output_type": "stream",
     "text": [
      "Processing Reviews:  78%|███████████████▌    | 918/1181 [13:54<06:40,  1.52s/it]"
     ]
    },
    {
     "name": "stdout",
     "output_type": "stream",
     "text": [
      "Raw LLM Output for review: I came to tesla and felt extremely welcomed. I had a phenomenal experience test driving and ordering. Delivery was a breeze, Tesla over delivered!\n",
      "- Key topics:[Service Quality, Facilities], \n",
      "- Sentiment: [Positive]\n",
      "\n"
     ]
    },
    {
     "name": "stderr",
     "output_type": "stream",
     "text": [
      "Processing Reviews:  78%|███████████████▌    | 921/1181 [13:55<04:08,  1.05it/s]"
     ]
    },
    {
     "name": "stdout",
     "output_type": "stream",
     "text": [
      "Raw LLM Output for review: Went in for test drive. Meet with a sales person in a few minutes and was in a car in ten minutes. I test drive the model x and model y.  All cars are a little pricey. I have a model 3 now 4 years old and the maintenance costs are negligible.\n",
      "- Key topics:[Product Quality,Service Time]\n",
      "- Sentiment:Neutral\n",
      "\n",
      "Raw LLM Output for review: Everyone there was very helpful on pickup day, despite being incredibly swamped with deliveries. One thing to not do on delivery day is to obsess over every tiny detail of the car - just check for important stuff and move on.\n",
      "- Key topics:[Staff]\n",
      "- Sentiment:Neutral\n",
      "\n"
     ]
    },
    {
     "name": "stderr",
     "output_type": "stream",
     "text": [
      "Processing Reviews:  78%|███████████████▋    | 924/1181 [13:58<03:38,  1.18it/s]"
     ]
    },
    {
     "name": "stdout",
     "output_type": "stream",
     "text": [
      "Raw LLM Output for review: Wish I could afford one. The staff was very helpful and the vehicles are amazing. Tesla is the future.\n",
      "- Key topics:[Staff, Product Quality]\n",
      "- Sentiment:Positive\n",
      "\n",
      "Raw LLM Output for review: Great Tesla service , solve my problems same day (drop off car at 10am fixed at 3pm ) . Definitely recommend and will use that service center in the future. Thank You\n",
      "- Key topics:[Service Quality]\n",
      "-Sentiment:Positive\n",
      "\n"
     ]
    },
    {
     "name": "stderr",
     "output_type": "stream",
     "text": [
      "Processing Reviews:  78%|███████████████▋    | 925/1181 [14:00<04:48,  1.13s/it]"
     ]
    },
    {
     "name": "stdout",
     "output_type": "stream",
     "text": [
      "Raw LLM Output for review: No parking at all. Cars are double parked all over the place. Delivery is a complete chaos. I had to wait over an hour past my appointment time for someone to help with my delivery. Never have I experienced this at another dealership.\n",
      "- Key topics:[Facilities,Service Time]\n",
      "- Sentiment: Negative\n",
      "\n"
     ]
    },
    {
     "name": "stderr",
     "output_type": "stream",
     "text": [
      "Processing Reviews:  78%|███████████████▋    | 926/1181 [14:01<04:55,  1.16s/it]"
     ]
    },
    {
     "name": "stdout",
     "output_type": "stream",
     "text": [
      "Raw LLM Output for review: When I make my service appointment I read some reviews I was thinking I will have big problems but this people are really nice people and they fixed my car very fast very quick in and out when checked in my loaner was ready every body in there super nice people thank you Paramus Tesla\n",
      "- Key topics:[Staff,Service Time]\n",
      "- Sentiment:Positive\n",
      "\n"
     ]
    },
    {
     "name": "stderr",
     "output_type": "stream",
     "text": [
      "Processing Reviews:  78%|███████████████▋    | 927/1181 [14:02<04:47,  1.13s/it]"
     ]
    },
    {
     "name": "stdout",
     "output_type": "stream",
     "text": [
      "Raw LLM Output for review: Seems like most company owned places. Similar to service in Moscow. Why work when your job is guaranteed? Elon it's time to set up middle class dealership franchises who GAS and want to become successful, imho\n",
      "- Key topics:[Not Classified,Not Classified]\n",
      "- Sentiment:Neutral\n",
      "\n",
      "Raw LLM Output for review: Went for service  coz my tires for my heavy Model X had issue. They fixed them the same day the car was towed there. Everything  went 5 they forgot to put the tesla logo hub caps back on my wheels so we had to go again the next day.\n",
      "- Key topics:[Wheel/Tires,Service Time]\n",
      "- Sentiment:Neutral\n",
      "\n"
     ]
    },
    {
     "name": "stderr",
     "output_type": "stream",
     "text": [
      "Processing Reviews:  79%|███████████████▋    | 929/1181 [14:04<04:37,  1.10s/it]"
     ]
    },
    {
     "name": "stdout",
     "output_type": "stream",
     "text": [
      "Raw LLM Output for review: Worst service l every had they have more employees then customer but it seems like they don’t get any work done they promised my car Tuesday it was not there l come on Thursday it took 2/30 hours for me to get the car I do not recommend this place\n",
      "- Key topics:[Staff,Service Time]\n",
      "- Sentiment:Negative\n",
      "\n",
      "Raw LLM Output for review: Great place, real knowledgeable staff, loving the product and company. It makes you feel good talking with them, confidence is at a higher level.\n",
      "Key topics:[Staff]\n",
      "Sentiment:[Positive]\n",
      "\n"
     ]
    },
    {
     "name": "stderr",
     "output_type": "stream",
     "text": [
      "Processing Reviews:  79%|███████████████▋    | 930/1181 [14:06<05:24,  1.29s/it]"
     ]
    },
    {
     "name": "stdout",
     "output_type": "stream",
     "text": [
      "Raw LLM Output for review: Large show room and service center. Cool selection of vehicle colors. Super chargers and fast chargers.\n",
      "- Key topics:[Facilities,Product Availability]\n",
      "- Sentiment:[Positive]\n",
      "\n"
     ]
    },
    {
     "name": "stderr",
     "output_type": "stream",
     "text": [
      "Processing Reviews:  79%|███████████████▊    | 931/1181 [14:07<04:32,  1.09s/it]"
     ]
    },
    {
     "name": "stdout",
     "output_type": "stream",
     "text": [
      "Raw LLM Output for review: Very impressed with this location. Stopped here due to a nail in the tire and the service advisor was able to not only squeeze me in but diagnose a problem and get a tire on before my travels to NY. Very impressed with the team here. Keep up the great work.\n",
      "- Key topics:[Staff,Service Time]\n",
      "- Sentiment:Positive\n",
      "\n"
     ]
    },
    {
     "name": "stderr",
     "output_type": "stream",
     "text": [
      "Processing Reviews:  79%|███████████████▊    | 933/1181 [14:09<04:31,  1.09s/it]"
     ]
    },
    {
     "name": "stdout",
     "output_type": "stream",
     "text": [
      "Raw LLM Output for review: As far as Tesla’s service center goes this is a good one, it is always challenging depending on the types of problems you are there for… but overall I find that if you show respect you will be respected too. Facilities and waiting area are very basic but you likely don’t want to spend time there anyways.\n",
      "- Key topics:[Service Quality,Facilities]\n",
      "- Sentiment:Neutral\n",
      "\n",
      "Raw LLM Output for review: Courteous and knowledgeable staff, Nice greeting, honest desire to help and very professional.\n",
      "- Key topics:Staff\n",
      "- Sentiment: Positive\n",
      "\n"
     ]
    },
    {
     "name": "stderr",
     "output_type": "stream",
     "text": [
      "Processing Reviews:  79%|███████████████▊    | 934/1181 [14:11<05:54,  1.43s/it]"
     ]
    },
    {
     "name": "stdout",
     "output_type": "stream",
     "text": [
      "Raw LLM Output for review: Great service, always great to stop by Tesla see what's going on\n",
      "- Key topics:[Not Classified, Not Classified, Service Time]\n",
      "- Sentiment: [Positive]\n",
      "\n",
      "Raw LLM Output for review: Thanks John the best mechanic out there who has customer empathy. This dude is Rockstar\n",
      "Also all SA's out there are nice kinda like family to each other. Great branch thanks.\n",
      "- Key topics:[Staff]\n",
      "- Sentiment:[Positive/Negative/Neutral]\n",
      "\n"
     ]
    },
    {
     "name": "stderr",
     "output_type": "stream",
     "text": [
      "Processing Reviews:  79%|███████████████▊    | 937/1181 [14:14<04:36,  1.13s/it]"
     ]
    },
    {
     "name": "stdout",
     "output_type": "stream",
     "text": [
      "Raw LLM Output for review: Great service.. Was in my loaner in less then 15 minutes.. 👍😎 …\n",
      "- Key topics:[Service Time,Staff]\n",
      "- Sentiment:Positive\n",
      "Raw LLM Output for review: Very good experience to fix a few minute problems with delivery. They replaced a damaged headrest quickly and then scheduled me for mobile service for the item they could but fix right away. They have a very large and nice waiting area and service was quick. My service rep was also very good and kept us updated every step of the way.\n",
      "- Key topics:[Facilities,Service Time,Staff]\n",
      "- Sentiment:Positive\n",
      "\n",
      "\n",
      "Raw LLM Output for review: Subertruck is really interesting\n",
      "- Key topics:[Not Classified]\n",
      "- Sentiment:[Neutral]\n",
      "\n",
      "Raw LLM Output for review: Let me tell you something, no auto dealership gives the consistent great customer service that this dealership reproduces, time and time again. My service today was impeccable and I watched multiple other clients, in the short time that I was there, receive same. If you don't have a TESLA,, get one and go here for service and sanity.\n",
      "- Key topics:[Service Cost, Staff]\n",
      "- Sentiment:Positive\n",
      "\n"
     ]
    },
    {
     "name": "stderr",
     "output_type": "stream",
     "text": [
      "Processing Reviews:  80%|███████████████▉    | 939/1181 [14:16<04:16,  1.06s/it]"
     ]
    },
    {
     "name": "stdout",
     "output_type": "stream",
     "text": [
      "Raw LLM Output for review: Courteous, friendly and fast. The service is a breeze through process. Best of all, you get the attention from the reps right away. #ProudTeslaOwner\n",
      "- Key topics:[Service Quality,Facilities]\n",
      "- Sentiment:Positive\n",
      "\n"
     ]
    },
    {
     "name": "stderr",
     "output_type": "stream",
     "text": [
      "Processing Reviews:  80%|███████████████▉    | 941/1181 [14:19<05:01,  1.26s/it]"
     ]
    },
    {
     "name": "stdout",
     "output_type": "stream",
     "text": [
      "Raw LLM Output for review: Staffs that help test drive was great.\n",
      "But parking is big problem here. Lot staff doesnt know what to to because of lack of parking space.\n",
      "- Key topics:[Staff, Facilities]\n",
      "- Sentiment: [Negative/Neutral]\n",
      "\n"
     ]
    },
    {
     "name": "stderr",
     "output_type": "stream",
     "text": [
      "Processing Reviews:  80%|███████████████▉    | 943/1181 [14:20<04:15,  1.07s/it]"
     ]
    },
    {
     "name": "stdout",
     "output_type": "stream",
     "text": [
      "Raw LLM Output for review: One of the worst customer service. No one comes on the phone. Keep dialing, and dialing and keep holding and holding. Tesla has become very remote. Not even an option that they will call you back. Very disappointed. Even the app does not have an option - for communicating.\n",
      "- Key topics:[Customer Service, Staff]\n",
      "- Sentiment: Negative\n",
      "\n",
      "Raw LLM Output for review: Took my car in for service. And everyone was attentive. The moment I went into the wrong driveway(lol) someone came out and politely offered me assistance. Went over to service and staff was knowledgeable and respectful. Will be going back if my car comes out quick.\n",
      "- Key topics:[Staff,Service Time]\n",
      "- Sentiment:Positive\n",
      "\n"
     ]
    },
    {
     "name": "stderr",
     "output_type": "stream",
     "text": [
      "Processing Reviews:  80%|████████████████    | 945/1181 [14:23<04:36,  1.17s/it]"
     ]
    },
    {
     "name": "stdout",
     "output_type": "stream",
     "text": [
      "Raw LLM Output for review: My husband and I purchased 3 Tesla from this dealership, All the team is great and the service was top notch. Highly recommend everybody to purchase a Tesla and lets support Elon he is doing great for science and technology.\n",
      "- Key topics:[Staff,Service Quality]\n",
      "- Sentiment:Positive\n",
      "\n"
     ]
    },
    {
     "name": "stderr",
     "output_type": "stream",
     "text": [
      "Processing Reviews:  80%|████████████████    | 946/1181 [14:24<04:03,  1.03s/it]"
     ]
    },
    {
     "name": "stdout",
     "output_type": "stream",
     "text": [
      "Raw LLM Output for review: Customer service is not their priority. Even though everything is done through the app there are times when customers need to talk to a human. The hold time when you call is ****ing horrendous. Upper management needs to do something with this location as it does not look like anyone is monitoring this location for quality.\n",
      "- Key topics:[Service Time, Staff]\n",
      "- Sentiment:Negative\n",
      "\n"
     ]
    },
    {
     "name": "stderr",
     "output_type": "stream",
     "text": [
      "Processing Reviews:  80%|████████████████    | 947/1181 [14:25<04:04,  1.04s/it]"
     ]
    },
    {
     "name": "stdout",
     "output_type": "stream",
     "text": [
      "Raw LLM Output for review: Great experience as a repair customer today.. Most of the work was covered under warranty.  Some additional repairs,  not covered under warranty were needed. The charges were very fair and the staff was very helpful.  I won't hesitate to recommend your facility to other Tesla owners.\n",
      "- Key topics:[Product Quality,Staff]\n",
      "- Sentiment:Positive\n",
      "\n",
      "Raw LLM Output for review: Excellent service, came for model Y test drive.\n",
      "- Key topics:[Service Quality, Facilities]\n",
      "- Sentiment:Positive\n",
      "\n"
     ]
    },
    {
     "name": "stderr",
     "output_type": "stream",
     "text": [
      "Processing Reviews:  80%|████████████████    | 949/1181 [14:27<04:04,  1.05s/it]"
     ]
    },
    {
     "name": "stdout",
     "output_type": "stream",
     "text": [
      "Raw LLM Output for review: I want to commend Raymond Sanabria. He was very helpful both the times I visited the showroom. He was able to answer all my questions, and resolve an issue. Keep up the good work.\n",
      "- Key topics:[Staff]\n",
      "-Sentiment:Positive\n",
      "\n"
     ]
    },
    {
     "name": "stderr",
     "output_type": "stream",
     "text": [
      "Processing Reviews:  80%|████████████████    | 950/1181 [14:28<04:21,  1.13s/it]"
     ]
    },
    {
     "name": "stdout",
     "output_type": "stream",
     "text": [
      "Raw LLM Output for review: Didn't purchase a vehicle, but came for a test drive. Very efficient process. Need to make an appointment. Parking spots are limited.\n",
      "- Key topics:[Service Time, Facilities]\n",
      "- Sentiment: Neutral\n",
      "\n",
      "Raw LLM Output for review: Very helpful and customer focused staff.\n",
      "\n",
      "It definitely makes me happy to own Teslas.  Service team is top notch and timely with work and repairs.\n",
      "- Key topics:[Staff]\n",
      "- Sentiment:Positive\n",
      "\n"
     ]
    },
    {
     "name": "stderr",
     "output_type": "stream",
     "text": [
      "Processing Reviews:  81%|████████████████    | 952/1181 [14:29<03:13,  1.18it/s]"
     ]
    },
    {
     "name": "stdout",
     "output_type": "stream",
     "text": [
      "Raw LLM Output for review: Very backed up in the service department. Wouldn’t recommend this center. Staff did a poor job helping with concerns. Told me 5 hours to replace a headlight even with an appointment\n",
      "- Key topics:[Service Time,Staff]\n",
      "- Sentiment:Negative\n",
      "\n"
     ]
    },
    {
     "name": "stderr",
     "output_type": "stream",
     "text": [
      "Processing Reviews:  81%|████████████████▏   | 953/1181 [14:31<03:59,  1.05s/it]"
     ]
    },
    {
     "name": "stdout",
     "output_type": "stream",
     "text": [
      "Raw LLM Output for review: Purchase my Model X on 12/31 at 3:45 pm. Easiest transaction ever.\n",
      "\n",
      "There was an issue with my rear passenger door. I was helped by Andrea M. and that problem was a thing of the past. She's the best car tech I've ever dealt with period.\n",
      "- Key topics:[Staff,Service]\n",
      "- Sentiment:Positive\n",
      "\n"
     ]
    },
    {
     "name": "stderr",
     "output_type": "stream",
     "text": [
      "Processing Reviews:  81%|████████████████▏   | 954/1181 [14:32<04:26,  1.18s/it]"
     ]
    },
    {
     "name": "stdout",
     "output_type": "stream",
     "text": [
      "Raw LLM Output for review: Having Tesla is not just owning an electric car but it's one of the assets.\n",
      "- Key topics:Not Classified\n",
      "- Sentiment:[Positive]\n",
      "\n",
      "Raw LLM Output for review: Great dealership! Service rep Tomasina was very helpful and communicated every step of the way.  This is my perfered Tesla dealership!\n",
      "- Key topics:[Staff,Facilities]\n",
      "- Sentiment:Positive\n",
      "\n"
     ]
    },
    {
     "name": "stderr",
     "output_type": "stream",
     "text": [
      "Processing Reviews:  81%|████████████████▏   | 955/1181 [14:34<04:25,  1.17s/it]"
     ]
    },
    {
     "name": "stdout",
     "output_type": "stream",
     "text": [
      "Raw LLM Output for review: Terrible service with rookie people. I had to go back for the same problem 5 times. Each time they fix something, either it is not fixed or damage some other things in the car. Get some expert technicians!!!\n",
      "- Key topics:[Staff, Service Time]\n",
      "- Sentiment:Negative\n",
      "\n"
     ]
    },
    {
     "name": "stderr",
     "output_type": "stream",
     "text": [
      "Processing Reviews:  81%|████████████████▏   | 957/1181 [14:35<03:57,  1.06s/it]"
     ]
    },
    {
     "name": "stdout",
     "output_type": "stream",
     "text": [
      "Raw LLM Output for review: It’s a good spot for supercharging between Albany and New York City. Please stop parking service vehicles or just cars in general in the super charging area. I almost lucked out with a bunch of cars parked there and not plugged in and there was one spot open for me to charge.\n",
      "- Key topics:[Not Classified, Facilities]\n",
      "- Sentiment:Neutral\n",
      "\n"
     ]
    },
    {
     "name": "stderr",
     "output_type": "stream",
     "text": [
      "Processing Reviews:  81%|████████████████▏   | 958/1181 [14:36<03:21,  1.10it/s]"
     ]
    },
    {
     "name": "stdout",
     "output_type": "stream",
     "text": [
      "Raw LLM Output for review: Ordering Tesla and waiting for the car became a complicated process. I want to give my biggest compliments to David Diamond. He is the best person I ever dealt while buying a car. I have only great things to say about him. Very professional!!!\n",
      "- Key topics:[Staff]\n",
      "- Sentiment:Positive\n",
      "\n"
     ]
    },
    {
     "name": "stderr",
     "output_type": "stream",
     "text": [
      "Processing Reviews:  81%|████████████████▏   | 959/1181 [14:37<03:40,  1.01it/s]"
     ]
    },
    {
     "name": "stdout",
     "output_type": "stream",
     "text": [
      "Raw LLM Output for review: Possibly the worst service I have ever received.  Can't wait to return my lease!  Don't bother calling them. They just put people on hold and hope they hang up.\n",
      "- Key topics:[Service Time,Staff]\n",
      "- Sentiment:Negative\n",
      "\n"
     ]
    },
    {
     "name": "stderr",
     "output_type": "stream",
     "text": [
      "Processing Reviews:  81%|████████████████▎   | 960/1181 [14:37<03:03,  1.20it/s]"
     ]
    },
    {
     "name": "stdout",
     "output_type": "stream",
     "text": [
      "Raw LLM Output for review: I love this location since it's close to many markets, The only problem is that some of the stalls always act up. Also, it's always crowded so be careful when pulling up to the chargers.\n",
      "- Key topics:[Facilities]\n",
      "- Sentiment:Neutral\n",
      "\n"
     ]
    },
    {
     "name": "stderr",
     "output_type": "stream",
     "text": [
      "Processing Reviews:  81%|████████████████▎   | 961/1181 [14:40<04:35,  1.25s/it]"
     ]
    },
    {
     "name": "stdout",
     "output_type": "stream",
     "text": [
      "Raw LLM Output for review: Easy fast very helpful service dept.  I had a customers roadster. They stayed late to charge me enough to get the vehicle back to my shop for paint protection film installation as we just moved to a larger location and do not have the high voltage plug set up yet and the roadster's are not able to use the outside superchargers.\n",
      "- Key topics:[Service Cost, Facilities]\n",
      "- Sentiment:Positive\n",
      "\n",
      "Raw LLM Output for review: They are great people! Everyone is well educated on Tesla. My purchase went off without any issues at all. They were great to deal with, would recommend them to all. The experience buying was easy to do. It was like buying an appliance. GREAT STAFF!!!\n",
      "- Key topics:[Staff]\n",
      "- Sentiment:Positive\n",
      "\n"
     ]
    },
    {
     "name": "stderr",
     "output_type": "stream",
     "text": [
      "Processing Reviews:  81%|████████████████▎   | 962/1181 [14:40<03:55,  1.07s/it]"
     ]
    },
    {
     "name": "stdout",
     "output_type": "stream",
     "text": [
      "Raw LLM Output for review: Not much of the location but the brand. I own a Model 3, and what a miserable experience it is. Constantly visiting the service center, full of quality issues (never seen a car with so many small quality flaws). Getting things done is usually a hassle.\n",
      "- Key topics:[Product Quality,Service Time]\n",
      "- Sentiment:Negative\n",
      "\n"
     ]
    },
    {
     "name": "stderr",
     "output_type": "stream",
     "text": [
      "Processing Reviews:  82%|████████████████▎   | 964/1181 [14:43<04:00,  1.11s/it]"
     ]
    },
    {
     "name": "stdout",
     "output_type": "stream",
     "text": [
      "Raw LLM Output for review: Wow, I have to update this more later but let me just say the service going above and beyond for Tesla family is simply astonishing. More to come.\n",
      "- Key topics:[Service Cost, Staff,Service Quality]\n",
      "- Sentiment:[Positive]\n",
      "\n"
     ]
    },
    {
     "name": "stderr",
     "output_type": "stream",
     "text": [
      "Processing Reviews:  82%|████████████████▎   | 965/1181 [14:44<04:12,  1.17s/it]"
     ]
    },
    {
     "name": "stdout",
     "output_type": "stream",
     "text": [
      "Raw LLM Output for review: Good place. But need more efficient employees to help.\n",
      "- Key topics:[Staff]\n",
      "- Sentiment: [Negative]\n",
      "\n"
     ]
    },
    {
     "name": "stderr",
     "output_type": "stream",
     "text": [
      "Processing Reviews:  82%|████████████████▎   | 966/1181 [14:45<03:49,  1.07s/it]"
     ]
    },
    {
     "name": "stdout",
     "output_type": "stream",
     "text": [
      "Raw LLM Output for review: From a potential buyers point of view,  Advisor Jamie was great. The environment was somewhat chaotic and this is in large part due to demand for everything from service, sales to superchargers. I feel as though there needs to be some clear signs or direction when arriving so that it can be more efficient for all involved.\n",
      "- Key topics:[Staff,Facilities]\n",
      "- Sentiment:Neutral\n",
      "\n",
      "Raw LLM Output for review: The Tesla process was very quick and customer focused. I came in a little early and they were able to work on my car right away and have me out in about an hour or less. Everything was explained up front and they answered all of my questions. I sat in the lounge and had coffee while I waited.\n",
      "- Key topics:[Service Time,Staff]\n",
      "- Sentiment:Positive\n",
      "\n"
     ]
    },
    {
     "name": "stderr",
     "output_type": "stream",
     "text": [
      "Processing Reviews:  82%|████████████████▍   | 968/1181 [14:46<03:23,  1.05it/s]"
     ]
    },
    {
     "name": "stdout",
     "output_type": "stream",
     "text": [
      "Raw LLM Output for review: Someone tell Jason's boss in the service area what an awesome job he did helping us resolve a replace 12v battery error we had today! He helped us find a closer option (NY) for us that we could make by the service depts closing hours. Then he called Matt there to set it up and verify they had our battery.\n",
      "- Key topics:[Staff]\n",
      "- Sentiment:Positive\n",
      "\n"
     ]
    },
    {
     "name": "stderr",
     "output_type": "stream",
     "text": [
      "Processing Reviews:  82%|████████████████▍   | 969/1181 [14:48<04:00,  1.13s/it]"
     ]
    },
    {
     "name": "stdout",
     "output_type": "stream",
     "text": [
      "Raw LLM Output for review: Waiting for half an hour and no one is picking up my call. I am not taking a day off fit your guys’ schedule and pick up a car. Terrible customer service attitude!\n",
      "- Key topics:[Service Time,Staff]\n",
      "- Sentiment:Negative\n",
      "\n"
     ]
    },
    {
     "name": "stderr",
     "output_type": "stream",
     "text": [
      "Processing Reviews:  82%|████████████████▍   | 970/1181 [14:49<03:49,  1.09s/it]"
     ]
    },
    {
     "name": "stdout",
     "output_type": "stream",
     "text": [
      "Raw LLM Output for review: Great experience with Aleksander and the team. I was running late to pick up my car and they provided great customer service. He showed me all the details of the car and stayed well past closing time for the location.\n",
      "- Key topics:[Staff,Service Time]\n",
      "- Sentiment:Positive\n",
      "\n",
      "Raw LLM Output for review: Very busy Tesla service center. They could do better, but given the circumstances and pressure they did a great job. Kudos to Jose the service advisor and techs for getting it done right the first time.\n",
      "- Key topics:[Service Center,Facilities]\n",
      "- Sentiment:Neutral\n",
      "\n"
     ]
    },
    {
     "name": "stderr",
     "output_type": "stream",
     "text": [
      "Processing Reviews:  82%|████████████████▍   | 972/1181 [14:50<03:09,  1.10it/s]"
     ]
    },
    {
     "name": "stdout",
     "output_type": "stream",
     "text": [
      "Raw LLM Output for review: Helpful for a test drive but nothing else. I've called like 10 times and no one answers. Terrible service and inaccurate answers when you walk in to get a response. Stay away.\n",
      "Key topics: [Service Cost, Staff]\n",
      "- Sentiment: Negative\n",
      "\n"
     ]
    },
    {
     "name": "stderr",
     "output_type": "stream",
     "text": [
      "Processing Reviews:  82%|████████████████▍   | 973/1181 [14:52<03:37,  1.05s/it]"
     ]
    },
    {
     "name": "stdout",
     "output_type": "stream",
     "text": [
      "Raw LLM Output for review: My delivery was pretty fast and smooth. Programmed a second key, took my trade, walked through the car in all less then 90 mins.\n",
      "Place is stuffed with Tesla’s\n",
      "- Key topics:[Service Time]\n",
      "- Sentiment:Positive\n",
      "\n"
     ]
    },
    {
     "name": "stderr",
     "output_type": "stream",
     "text": [
      "Processing Reviews:  82%|████████████████▍   | 974/1181 [14:53<03:50,  1.11s/it]"
     ]
    },
    {
     "name": "stdout",
     "output_type": "stream",
     "text": [
      "Raw LLM Output for review: Service advisor nickilia is the worse person to help you at Tesla literally had me regret ever buying a Tesla no disrespectful it’s unbelievable I will be selling my Tesla\n",
      "- Key topics:[Staff, Product Quality]\n",
      "- Sentiment: Negative\n",
      "\n",
      "Raw LLM Output for review: Very pleased with my experience with tesla rt17. Nell from sevice was great. He helped me out by showing me a lot of things about my tesla and made my experience great.\n",
      "- Key topics:[Staff,SERVICE Time]\n",
      "- Sentiment:Positive\n",
      "\n"
     ]
    },
    {
     "name": "stderr",
     "output_type": "stream",
     "text": [
      "Processing Reviews:  83%|████████████████▌   | 976/1181 [14:55<03:28,  1.01s/it]"
     ]
    },
    {
     "name": "stdout",
     "output_type": "stream",
     "text": [
      "Raw LLM Output for review: Great fast charger!  We had a 70% charge from 29% in about twenty minutes.  The only thing I feel is annoying is there are no food or coffee shops in the area where you can leave your car charging and go for a quick cup of coffee, because by the time you get done in a half hour, we're at like 90% charge which is perfect.\n",
      "- Key topics:[Music System, Not Classified]\n",
      "- Sentiment:Neutral\n",
      "\n"
     ]
    },
    {
     "name": "stderr",
     "output_type": "stream",
     "text": [
      "Processing Reviews:  83%|████████████████▌   | 977/1181 [14:55<02:55,  1.16it/s]"
     ]
    },
    {
     "name": "stdout",
     "output_type": "stream",
     "text": [
      "Raw LLM Output for review: Excellent service here. I don't own a Tesla (out of my price range right now), but the sales people at the store weren't pushy, and were really polite about answering my questions and letting me take a test drive. Very informative staff, and some awesome cars in the lot!\n",
      "- Key topics:[Staff]\n",
      "- Sentiment:Positive\n",
      "\n"
     ]
    },
    {
     "name": "stderr",
     "output_type": "stream",
     "text": [
      "Processing Reviews:  83%|████████████████▌   | 978/1181 [14:57<03:43,  1.10s/it]"
     ]
    },
    {
     "name": "stdout",
     "output_type": "stream",
     "text": [
      "Raw LLM Output for review: Everything was great here. The team that works on these cars is very diligent at this location. I was surprised how well it went and am very appreciative of their efforts and work. Specifically at this location, the team here really went above and beyond to get everything right.\n",
      "- Key topics:[Staff,Service Time]\n",
      "- Sentiment:Positive\n",
      "\n",
      "Raw LLM Output for review: Great service team that helps you get your problems addressed and the sales team is even better.. they have super chargers and a Starbucks location is within walking distance.. free WiFi and coffee water is available in the service lounge. Make sure you check out their new performance model 3 while you are there.\n",
      "- Key topics:[Staff,Product Availability]\n",
      "- Sentiment:[Positive]\n",
      "\n"
     ]
    },
    {
     "name": "stderr",
     "output_type": "stream",
     "text": [
      "Processing Reviews:  83%|████████████████▌   | 979/1181 [14:59<04:19,  1.29s/it]"
     ]
    },
    {
     "name": "stdout",
     "output_type": "stream",
     "text": [
      "Raw LLM Output for review: Nicole from Tesla Paramus provided on my first on site service today. She replaced a tire and fog light in 30 minutes. She was professional, fast, and accurate. Very impressive.\n",
      "- Key topics:[Staff,Service Time]\n",
      "- Sentiment:Positive\n",
      "\n"
     ]
    },
    {
     "name": "stderr",
     "output_type": "stream",
     "text": [
      "Processing Reviews:  83%|████████████████▌   | 981/1181 [14:59<02:42,  1.23it/s]"
     ]
    },
    {
     "name": "stdout",
     "output_type": "stream",
     "text": [
      "Raw LLM Output for review: Purchase my Model X on 12/31 at 3:45 pm. Easiest transaction ever.\n",
      "\n",
      "There was an issue with my door. I was helped by Andrea and that problem was a thing of the past.\n",
      "- Key topics:[Door, Staff]\n",
      "- Sentiment:[Positive]\n",
      "\n"
     ]
    },
    {
     "name": "stderr",
     "output_type": "stream",
     "text": [
      "Processing Reviews:  83%|████████████████▋   | 983/1181 [15:02<02:52,  1.14it/s]"
     ]
    },
    {
     "name": "stdout",
     "output_type": "stream",
     "text": [
      "Raw LLM Output for review: Had my Model 3 serviced here. Was very satisfied with the service and quick turnaround from booking appointment to picking up the car. Shout out to Andrea and the team!\n",
      "- Key topics:[Service Quality, Facilities]\n",
      "- Sentiment:Positive\n",
      "\n",
      "Raw LLM Output for review: Scheduled a test drive 2 weeks in advance and received a call after driving 30 minutes to the dealership that they sold the car 20 minutes before my appointment.  Then they said I couldn’t even come and look at the interior of the car because it was sold.\n",
      "- Key topics:[Product Availability,Service Time]\n",
      "- Sentiment:Neutral\n",
      "\n"
     ]
    },
    {
     "name": "stderr",
     "output_type": "stream",
     "text": [
      "Processing Reviews:  83%|████████████████▋   | 984/1181 [15:03<03:21,  1.02s/it]"
     ]
    },
    {
     "name": "stdout",
     "output_type": "stream",
     "text": [
      "Raw LLM Output for review: I've been there twice, and all the time they treated me with respect and consideration. They always listen to me and took the corresponding actions. The team is amazing and the location is great.\n",
      "- Key topics:[Staff,Facilities]\n",
      "- Sentiment:Positive\n",
      "\n"
     ]
    },
    {
     "name": "stderr",
     "output_type": "stream",
     "text": [
      "Processing Reviews:  83%|████████████████▋   | 985/1181 [15:04<03:34,  1.10s/it]"
     ]
    },
    {
     "name": "stdout",
     "output_type": "stream",
     "text": [
      "Raw LLM Output for review: Horrible customer service! Don’t go there expecting anything. You won’t get a test drive until weeks if not months out. No cars are available to sell either. Waste of time! And why would I give my hard earned money to Elon when he wants to get rid of Unions?? No thanks! I’ll wait for another company to try out an electric vehicle.\n",
      "- Key topics:[Service Cost,Service Time,Facilities]\n",
      "- Sentiment:Negative\n",
      "\n"
     ]
    },
    {
     "name": "stderr",
     "output_type": "stream",
     "text": [
      "Processing Reviews:  83%|████████████████▋   | 986/1181 [15:05<03:33,  1.09s/it]"
     ]
    },
    {
     "name": "stdout",
     "output_type": "stream",
     "text": [
      "Raw LLM Output for review: This was my first time. I Went on a Saturday night before our first winter storm. Online it said 8 were available but one was out of service. I was a bit dissapointed. All stalls were taken. They need to expand their stations.\n",
      "- Key topics:[Service Time,Staff]\n",
      "- Sentiment:Neutral\n",
      "\n"
     ]
    },
    {
     "name": "stderr",
     "output_type": "stream",
     "text": [
      "Processing Reviews:  84%|████████████████▋   | 987/1181 [15:06<03:11,  1.01it/s]"
     ]
    },
    {
     "name": "stdout",
     "output_type": "stream",
     "text": [
      "Raw LLM Output for review: Tesla Service did a great job replacing my struts!\n",
      "Friendly Service! Thank You!\n",
      "- Key topics:[Staff,Service Time,Product Quality]\n",
      "- Sentiment:Positive\n",
      "\n"
     ]
    },
    {
     "name": "stderr",
     "output_type": "stream",
     "text": [
      "Processing Reviews:  84%|████████████████▋   | 988/1181 [15:07<03:14,  1.01s/it]"
     ]
    },
    {
     "name": "stdout",
     "output_type": "stream",
     "text": [
      "Raw LLM Output for review: Unprofessionalism. Somebody left a coffee in my car after service. With all the COVID restrictions that the service center is enforcing, this makes me wonder why somebody drank coffee in my car without wearing a mask. service date 3-10-21\n",
      "- Key topics:[Service Quality, Facilities]\n",
      "- Sentiment:Negative\n",
      "\n"
     ]
    },
    {
     "name": "stderr",
     "output_type": "stream",
     "text": [
      "Processing Reviews:  84%|████████████████▋   | 989/1181 [15:08<03:26,  1.08s/it]"
     ]
    },
    {
     "name": "stdout",
     "output_type": "stream",
     "text": [
      "Raw LLM Output for review: Cannot go into the building. Cars outside looked great and they were a lot of people in the parking lot looking. Dropped off Veterans Car Show 2020 flyer and invited Tesla to bring test drive cars to the show. Also asked them to sponcer the electric car trophy. Was told they would contact marketing.\n",
      "- Key topics:[Not Classified, Facilities]\n",
      "- Sentiment:Positive\n",
      "\n"
     ]
    },
    {
     "name": "stderr",
     "output_type": "stream",
     "text": [
      "Processing Reviews:  84%|████████████████▊   | 990/1181 [15:09<03:14,  1.02s/it]"
     ]
    },
    {
     "name": "stdout",
     "output_type": "stream",
     "text": [
      "Raw LLM Output for review: Great and fast service . We went there in a Saturday afternoon with appointment already booked.\n",
      "We got in a new Tesla for a test drive and it was a blast !! Definitely worth checking out and the staff is super helpful too.\n",
      "- Key topics:[Service Time, Staff]\n",
      "- Sentiment:Positive\n",
      "\n"
     ]
    },
    {
     "name": "stderr",
     "output_type": "stream",
     "text": [
      "Processing Reviews:  84%|████████████████▊   | 991/1181 [15:10<02:34,  1.23it/s]"
     ]
    },
    {
     "name": "stdout",
     "output_type": "stream",
     "text": [
      "Raw LLM Output for review: Came here on a Thursday afternoon, supposed to be apparently an efficient supercharger at speeds of 120 kW. However, was averaging about 67 kW, really slow Tesla considering this is your main showroom and dealership in Bergen county with the version 3 super chargers providing 250 kw this is just ancient. Upgrade already.\n",
      "- Key topics:[Product Quality]\n",
      "- Sentiment:[Negative]\n",
      "\n"
     ]
    },
    {
     "name": "stderr",
     "output_type": "stream",
     "text": [
      "Processing Reviews:  84%|████████████████▊   | 992/1181 [15:11<02:49,  1.11it/s]"
     ]
    },
    {
     "name": "stdout",
     "output_type": "stream",
     "text": [
      "Raw LLM Output for review: It’s not worth it to visit this place until you do everything online . People their are straight , they ask you if you have visit online and that’s pretty much they don’t guide you very well.\n",
      "-Key topics:Product Quality, Facilities\n",
      "-Sentiment:Negative\n",
      "\n"
     ]
    },
    {
     "name": "stderr",
     "output_type": "stream",
     "text": [
      "Processing Reviews:  84%|████████████████▊   | 993/1181 [15:13<03:57,  1.26s/it]"
     ]
    },
    {
     "name": "stdout",
     "output_type": "stream",
     "text": [
      "Raw LLM Output for review: I really love this service center and supercharger. The service is great. It has few charger stalls. Few shops in a walking distance. Burger place, other restaurants, vitamin shop, hair cut place, vacuum cleaner service and sales, eye glass shop and coffee place if dare walking few minutes by route 17.\n",
      "- Key topics:[Service Quality, Facilities]\n",
      "- Sentiment:Positive\n",
      "\n",
      "Raw LLM Output for review: Terrible customer service , nobody knows anything, im waiting my title more than 1 months for payoff car , dont trust it\n",
      "- Key topics:[Service Quality, Staff, Service Time], \n",
      "- Sentiment: Negative\n",
      "\n",
      "Raw LLM Output for review: Completely different customer experience structure vs other dealerships. I was really really impressed. Staffs were all super friendly and professional - I loved it! Thanks Joey!\n",
      "- Key topics:[Staff, Product Quality]\n",
      "- Sentiment:Positive\n",
      "\n"
     ]
    },
    {
     "name": "stderr",
     "output_type": "stream",
     "text": [
      "Processing Reviews:  84%|████████████████▊   | 995/1181 [15:16<04:03,  1.31s/it]"
     ]
    },
    {
     "name": "stdout",
     "output_type": "stream",
     "text": [
      "Raw LLM Output for review: So many deliveries but Tesla team has managed our Tesla with perfectly\n",
      "- Key topics:[Not Classified, Not Classified, Not Classified, Not Classified, Not Classified]\n",
      "- Sentiment:Neutral.\n",
      "\n"
     ]
    },
    {
     "name": "stderr",
     "output_type": "stream",
     "text": [
      "Processing Reviews:  85%|████████████████▉   | 998/1181 [15:17<02:23,  1.27it/s]"
     ]
    },
    {
     "name": "stdout",
     "output_type": "stream",
     "text": [
      "Raw LLM Output for review: Stay away from any customer service with Tesla. If you ever got an appointment to begin with.\n",
      "- Key topics:[Service Cost, Staff]\n",
      "- Sentiment:Negative\n",
      "\n",
      "Raw LLM Output for review: overall ok because of the product but not services. the car sell itself.   transfering plates the services & information are not well provided/organized. Customer services could be better.\n",
      "- Key topics:[Service Quality,Product Availability]\n",
      "-Sentiment:Neutral\n",
      "\n"
     ]
    },
    {
     "name": "stderr",
     "output_type": "stream",
     "text": [
      "Processing Reviews:  85%|████████████████▉   | 999/1181 [15:18<03:07,  1.03s/it]"
     ]
    },
    {
     "name": "stdout",
     "output_type": "stream",
     "text": [
      "Raw LLM Output for review: Terrible customer service, no follow up about delivery nothing they leave you in the dark. Online is the absolute WORST.\n",
      "- Key topics:[Staff,Service Time,Facilities]\n",
      "- Sentiment:Negative\n",
      "\n"
     ]
    },
    {
     "name": "stderr",
     "output_type": "stream",
     "text": [
      "Processing Reviews:  85%|████████████████   | 1000/1181 [15:19<02:57,  1.02it/s]"
     ]
    },
    {
     "name": "stdout",
     "output_type": "stream",
     "text": [
      "Raw LLM Output for review: For a big company like Tesla the should have a better customer service,  no body answer the phone , you go there no body want to help you , what a shame\n",
      "- Key topics:[Staff,Service Time]\n",
      "- Sentiment:[Negative]\n",
      "\n"
     ]
    },
    {
     "name": "stderr",
     "output_type": "stream",
     "text": [
      "Processing Reviews:  85%|████████████████   | 1002/1181 [15:20<02:15,  1.32it/s]"
     ]
    },
    {
     "name": "stdout",
     "output_type": "stream",
     "text": [
      "Raw LLM Output for review: Although the supercharger here works perfectly and you get a good rate of charge, it's not very close to anything useful especially at off-hours.  So it's great for a charge, but not great in terms of grabbing a drink, a bite to eat, or using the washroom.\n",
      "- Key topics:[Not Classified, Not Classified]\n",
      "- Sentiment:[Negative]\n",
      "\n",
      "Raw LLM Output for review: Absolutely the MOST professional service center I have had the pleasure of dealing with in any dealership. Great sales team too. Easy to work with and answers any questions.\n",
      "- Key topics:[Staff, Service Quality,Product Availability]\n",
      "- Sentiment:Positive\n",
      "\n"
     ]
    },
    {
     "name": "stderr",
     "output_type": "stream",
     "text": [
      "Processing Reviews:  85%|████████████████▏  | 1003/1181 [15:22<02:36,  1.14it/s]"
     ]
    },
    {
     "name": "stdout",
     "output_type": "stream",
     "text": [
      "Raw LLM Output for review: Great customer care. Very friendly people and great service.\n",
      "- Key topics:[Staff,Service Time]\n",
      "- Sentiment: Positive\n",
      "\n"
     ]
    },
    {
     "name": "stderr",
     "output_type": "stream",
     "text": [
      "Processing Reviews:  85%|████████████████▏  | 1004/1181 [15:23<02:52,  1.03it/s]"
     ]
    },
    {
     "name": "stdout",
     "output_type": "stream",
     "text": [
      "Raw LLM Output for review: Pick up was ok. Staff was helpful but car was not charged and lots of minor issues, plastic on door frames, etc.\n",
      "- Key topics:[Staff,Product Availability]\n",
      "- Sentiment:Neutral\n",
      "\n"
     ]
    },
    {
     "name": "stderr",
     "output_type": "stream",
     "text": [
      "Processing Reviews:  85%|████████████████▏  | 1005/1181 [15:24<02:36,  1.12it/s]"
     ]
    },
    {
     "name": "stdout",
     "output_type": "stream",
     "text": [
      "Raw LLM Output for review: Very convenient location, always several available parking spots. I wish they would make a walkway to go to the shopping center next door so you don't have to use route 17 as a sidewalk.\n",
      "- Key topics:[Facilities]\n",
      "- Sentiment:Neutral\n",
      "\n",
      "Raw LLM Output for review: Quick and easy to purchase a car\n",
      "- Key topics:Product Availability\n",
      "- Sentiment: Positive\n",
      "\n"
     ]
    },
    {
     "name": "stderr",
     "output_type": "stream",
     "text": [
      "Processing Reviews:  85%|████████████████▏  | 1007/1181 [15:25<02:34,  1.12it/s]"
     ]
    },
    {
     "name": "stdout",
     "output_type": "stream",
     "text": [
      "Raw LLM Output for review: We have had the worst experience at this service center. Our new Model Y broke down twice within 2 months and both the times it was impossible to reach out to them. Calls, texts, emails, they do not respond to any. So please pray you never have to visit their service center.\n",
      "- Key topics:[Service Quality, Facilities]\n",
      "- Sentiment:Negative\n",
      "\n"
     ]
    },
    {
     "name": "stderr",
     "output_type": "stream",
     "text": [
      "Processing Reviews:  85%|████████████████▏  | 1008/1181 [15:26<02:25,  1.19it/s]"
     ]
    },
    {
     "name": "stdout",
     "output_type": "stream",
     "text": [
      "Raw LLM Output for review: Called service/parts during business hours and left voicemail. Three days later and still no return call. Typical of Tesla’s customer service not at the level for a luxury car.\n",
      "- Key topics:[Not Classified]\n",
      "- Sentiment:Negative\n",
      "\n",
      "Raw LLM Output for review: Easy access to chargers, restrooms in the store and a few places to eat\n",
      "- Key topics:Facilities\n",
      "-Sentiment:Neutral\n",
      "\n"
     ]
    },
    {
     "name": "stderr",
     "output_type": "stream",
     "text": [
      "Processing Reviews:  85%|████████████████▏  | 1009/1181 [15:27<02:24,  1.19it/s]"
     ]
    },
    {
     "name": "stdout",
     "output_type": "stream",
     "text": [
      "Raw LLM Output for review: Google says their service closes at 7pm but they close at 6pm. Noone there 5 min after 6 to give me my car. I am stuck without a car for the rest of the weekend.\n",
      "- Key topics:[Service Time, Staff]\n",
      "- Sentiment: Negative\n",
      "\n"
     ]
    },
    {
     "name": "stderr",
     "output_type": "stream",
     "text": [
      "Processing Reviews:  86%|████████████████▏  | 1010/1181 [15:28<02:57,  1.04s/it]"
     ]
    },
    {
     "name": "stdout",
     "output_type": "stream",
     "text": [
      "Raw LLM Output for review: Service staff were exceptionally professional, educational and patiently explained the repair as well as beneficial tips.\n",
      "Key topics: Staff\n",
      "- Sentiment: Positive\n",
      "\n",
      "Raw LLM Output for review: Very friendly customer service. Answer all your questions and provide necessary details. The test drive was great. Make sure to register in advance.\n",
      "- Key topics:[Service Cost, Staff]\n",
      "- Sentiment: Positive\n",
      "\n"
     ]
    },
    {
     "name": "stderr",
     "output_type": "stream",
     "text": [
      "Processing Reviews:  86%|████████████████▎  | 1013/1181 [15:30<02:11,  1.28it/s]"
     ]
    },
    {
     "name": "stdout",
     "output_type": "stream",
     "text": [
      "Raw LLM Output for review: All they do is lie and blame each other for their mistakes last Tesla I will own.\n",
      "- Key topics:[Not Classified,Product Availability]\n",
      "- Sentiment:[Negative]\n",
      "\n"
     ]
    },
    {
     "name": "stderr",
     "output_type": "stream",
     "text": [
      "Processing Reviews:  86%|████████████████▎  | 1014/1181 [15:31<02:08,  1.30it/s]"
     ]
    },
    {
     "name": "stdout",
     "output_type": "stream",
     "text": [
      "Raw LLM Output for review: Very rigid dealership, unable to resolve any issues. Am about to cancel my order.\n",
      "- Key topics:[Staff,Service Time,Product Quality]\n",
      "- Sentiment: Negative\n",
      "\n"
     ]
    },
    {
     "name": "stderr",
     "output_type": "stream",
     "text": [
      "Processing Reviews:  86%|████████████████▎  | 1015/1181 [15:31<01:58,  1.40it/s]"
     ]
    },
    {
     "name": "stdout",
     "output_type": "stream",
     "text": [
      "Raw LLM Output for review: They had me in and out very quickly.  The staff was very nice and informative.  Kamal was super helpful and patient in the leadup to the appointment.\n",
      "- Key topics:Staff\n",
      "- Sentiment:[Positive]\n",
      "\n",
      "Raw LLM Output for review: Deserves a negative review. Who hired these people? Qualifications to work at this location: literally nothing. Sorry guys but hope you read this. Do us a favor and change careers.\n",
      "- Key topics:[Staff]\n",
      "- Sentiment:[Negative]\n",
      "\n"
     ]
    },
    {
     "name": "stderr",
     "output_type": "stream",
     "text": [
      "Processing Reviews:  86%|████████████████▎  | 1017/1181 [15:33<02:14,  1.22it/s]"
     ]
    },
    {
     "name": "stdout",
     "output_type": "stream",
     "text": [
      "Raw LLM Output for review: I just stocked in the supercharge station there is no snow remove. Someone stocked exit they are waiting like an hour. First thing I will get rid of Tesla.\n",
      "- Key topics:[Not Classified, Facilities]\n",
      "- Sentiment:Positive\n",
      "\n"
     ]
    },
    {
     "name": "stderr",
     "output_type": "stream",
     "text": [
      "Processing Reviews:  86%|████████████████▍  | 1018/1181 [15:34<02:09,  1.26it/s]"
     ]
    },
    {
     "name": "stdout",
     "output_type": "stream",
     "text": [
      "Raw LLM Output for review: loved the whole experience, from test drive to interaction with site manager and even sales process\n",
      "- Key topics:Staff,Facilities \n",
      "- Sentiment:Positive\n",
      "\n"
     ]
    },
    {
     "name": "stderr",
     "output_type": "stream",
     "text": [
      "Processing Reviews:  86%|████████████████▍  | 1019/1181 [15:35<02:04,  1.30it/s]"
     ]
    },
    {
     "name": "stdout",
     "output_type": "stream",
     "text": [
      "Raw LLM Output for review: Fantastic showroom. No pushy sales pressure salespeople. Hands-on models in showroom available. Large inventory of vehicles.\n",
      "- Key topics:[Product Availability, Facilities]\n",
      "- Sentiment:Positive\n",
      "\n",
      "Raw LLM Output for review: Excellent, professional service from people who know what they're talking about. Very accommodating to allow my entire family to ride along for the test drive.\n",
      "- Key topics:[Staff,Service Time]\n",
      "- Sentiment:Positive\n",
      "\n"
     ]
    },
    {
     "name": "stderr",
     "output_type": "stream",
     "text": [
      "Processing Reviews:  86%|████████████████▍  | 1020/1181 [15:37<02:58,  1.11s/it]"
     ]
    },
    {
     "name": "stdout",
     "output_type": "stream",
     "text": [
      "Raw LLM Output for review: The worst customer Service. Not acceptable for a Tesla brand name! No one is ever available to speak. Messages in Tesla app are simply ignore.\n",
      "- Key topics:[Staff,Service Quality]\n",
      "- Sentiment:Negative\n",
      "\n"
     ]
    },
    {
     "name": "stderr",
     "output_type": "stream",
     "text": [
      "Processing Reviews:  87%|████████████████▍  | 1022/1181 [15:38<02:11,  1.21it/s]"
     ]
    },
    {
     "name": "stdout",
     "output_type": "stream",
     "text": [
      "Raw LLM Output for review: Don’t answer any of your messages on the app or answer the phone. Worst customer service I’ve ever had.\n",
      "- Key topics:[Staff]\n",
      "- Sentiment:[Negative]\n",
      "\n",
      "Raw LLM Output for review: Supercharging our Model 3 from VT: no baby changing tables in bathroom, styrofoam cups for coffee (with our very green car?!) and messy parking lot. Small toy area for kids to play.\n",
      "- Key topics:[Facilities,Service Quality]\n",
      "- Sentiment:Negative\n",
      "\n"
     ]
    },
    {
     "name": "stderr",
     "output_type": "stream",
     "text": [
      "Processing Reviews:  87%|████████████████▍  | 1024/1181 [15:38<01:27,  1.79it/s]"
     ]
    },
    {
     "name": "stdout",
     "output_type": "stream",
     "text": [
      "Raw LLM Output for review: Great service!! I drove from Delaware to this service center and because of the king drive they took care of everything and even gave me Tesla All Weather Mats- the staff was great, nice, and welcoming!!\n",
      "- Key topics:[Staff, Service Time]\n",
      "- Sentiment:Positive\n",
      "\n"
     ]
    },
    {
     "name": "stderr",
     "output_type": "stream",
     "text": [
      "Processing Reviews:  87%|████████████████▍  | 1025/1181 [15:40<02:22,  1.09it/s]"
     ]
    },
    {
     "name": "stdout",
     "output_type": "stream",
     "text": [
      "Raw LLM Output for review: This was the best car buying experience I had in 25 years everyone was super friendly Joseph Romanczuk made the process easy and explained all the details and model x is amazing!\n",
      "- Key topics:[Staff,Product Availability]\n",
      "- Sentiment:Positive\n",
      "\n",
      "Raw LLM Output for review: Smooth pick up of my new vehicle, staff is very friendly and knowledgeable.\n",
      "- Key topics:[Staff]\n",
      "- Sentiment:Positive\n",
      "\n"
     ]
    },
    {
     "name": "stderr",
     "output_type": "stream",
     "text": [
      "Processing Reviews:  87%|████████████████▌  | 1026/1181 [15:41<02:24,  1.07it/s]"
     ]
    },
    {
     "name": "stdout",
     "output_type": "stream",
     "text": [
      "Raw LLM Output for review: This place is too busy for its size. It needs more charging stations and a much more decent place to wait inside when charging.\n",
      "- Key topics:[Service Time,Facilities]\n",
      "- Sentiment:Negative\n",
      "\n",
      "Raw LLM Output for review: Amazing place got both of my Tesla’s there and if there is any issue this location have a service center that is 10 out of 10.\n",
      "- Key topics:[Product Quality]\n",
      "- Sentiment:Positive.\n",
      "\n",
      "Raw LLM Output for review: Great place to stop by on a RoadTrip\n",
      "- Key topics:[Not Classified]\n",
      "- Sentiment:Neutral\n",
      "\n"
     ]
    },
    {
     "name": "stderr",
     "output_type": "stream",
     "text": [
      "Processing Reviews:  87%|████████████████▌  | 1029/1181 [15:44<02:14,  1.13it/s]"
     ]
    },
    {
     "name": "stdout",
     "output_type": "stream",
     "text": [
      "Raw LLM Output for review: Slow service. You drive into the shop, service area. Definitely not even close to being on the level of a luxury car dealership.\n",
      "- Key topics:[Service Time,Facilities]\n",
      "- Sentiment:Negative\n",
      "\n"
     ]
    },
    {
     "name": "stderr",
     "output_type": "stream",
     "text": [
      "Processing Reviews:  87%|████████████████▌  | 1031/1181 [15:44<01:50,  1.36it/s]"
     ]
    },
    {
     "name": "stdout",
     "output_type": "stream",
     "text": [
      "Raw LLM Output for review: Responsive team, plus there's a bathroom and WiFi while you wait. Bonus - most of the time the mechanics seem to be listening to Megan Thee Stallion while they work.\n",
      "Key topics:Staff,Safety Facilities\n",
      "Sentiment:[Positive]\n",
      "\n",
      "Raw LLM Output for review: It is shameful to call this a service\n",
      "This was my third Tesla to lease you should avoid to pick your new car from Paramus location use other facilities if you can\n",
      "No sales person to speak if you have problems worse experience\n",
      "- Key topics:[Service Quality, Facilities]\n",
      "- Sentiment:Negative\n",
      "\n",
      "Raw LLM Output for review: Superchargers should not be broken at tesla.. also the parking lanes could stand to be about 1 foot wider on both sides also putting stuff in your stores to buy like hats and shirts and etc would be nice\n",
      "- Key topics:[Product Quality, Facilities]\n",
      "- Sentiment:Neutral\n",
      "\n",
      "Raw LLM Output for review: Horrible customer service. Not willing to do anything to help their customers. Will just smile and say \"there's nothing we can do for you\".\n",
      "- Key topics:[Staff,Service Cost]\n",
      "- Sentiment:Negative\n",
      "\n",
      "Raw LLM Output for review: Checked out and drove 2 models.  Cars are incredible.  Steve, our salesperson, was superb.\n",
      "- Key topics:[Product Quality, Staff]\n",
      "- Sentiment:Positive\n",
      "\n"
     ]
    },
    {
     "name": "stderr",
     "output_type": "stream",
     "text": [
      "Processing Reviews:  87%|████████████████▌  | 1033/1181 [15:48<02:34,  1.04s/it]"
     ]
    },
    {
     "name": "stdout",
     "output_type": "stream",
     "text": [
      "Raw LLM Output for review: The service was great. The only problem is finding a parking space.\n",
      "- Key topics:[Service Quality,Facilities]\n",
      "- Sentiment: [Positive/Negative/Neutral]: Neutral\n",
      "\n"
     ]
    },
    {
     "name": "stderr",
     "output_type": "stream",
     "text": [
      "Processing Reviews:  88%|████████████████▋  | 1037/1181 [15:50<01:56,  1.23it/s]"
     ]
    },
    {
     "name": "stdout",
     "output_type": "stream",
     "text": [
      "Raw LLM Output for review: No loaners if your car on repair, no restrooms if you waiting your car. You may tray crossing highway and find another facility for with working restroom (or die).\n",
      "- Key topics:[Not Classified]\n",
      "- Sentiment:[Negative]\n",
      "\n"
     ]
    },
    {
     "name": "stderr",
     "output_type": "stream",
     "text": [
      "Processing Reviews:  88%|████████████████▋  | 1038/1181 [15:51<01:56,  1.23it/s]"
     ]
    },
    {
     "name": "stdout",
     "output_type": "stream",
     "text": [
      "Raw LLM Output for review: I was there 3 months ago and I wanted to test drive a car . They were being so rude because on my young age . I definitely will never buy from this dealership\n",
      "- Key topics:[Staff]\n",
      "- Sentiment:[Negative]\n",
      "\n",
      "Raw LLM Output for review: delivery was impeccable and the service was 10/10. supercharger is not 250kw however.\n",
      "- Key topics:[Service Cost,Product Quality]\n",
      "- Sentiment: Positive\n",
      "\n"
     ]
    },
    {
     "name": "stderr",
     "output_type": "stream",
     "text": [
      "Processing Reviews:  88%|████████████████▋  | 1039/1181 [15:51<01:38,  1.44it/s]"
     ]
    },
    {
     "name": "stdout",
     "output_type": "stream",
     "text": [
      "Raw LLM Output for review: Great vehicles! Sometime in the future I will definitely own a Tesla. But...just so hard to get away from my Audi...first world problems....\n",
      "- Key topics:[Not Classified, Product Availability]\n",
      "- Sentiment:[Neutral]\n",
      "\n"
     ]
    },
    {
     "name": "stderr",
     "output_type": "stream",
     "text": [
      "Processing Reviews:  88%|████████████████▋  | 1041/1181 [15:53<01:44,  1.34it/s]"
     ]
    },
    {
     "name": "stdout",
     "output_type": "stream",
     "text": [
      "Raw LLM Output for review: Staff are very attentive, probably one the best experience I had buying a car\n",
      "- Key topics:[Staff]\n",
      "- Sentiment:Positive\n",
      "\n",
      "Raw LLM Output for review: If you're charging while the service center is open, it's great, but if it's closed, then you'll have to hike to find restrooms or anything useful while you charge.\n",
      "- Key topics:[Charging]\n",
      "- Sentiment:Neutral\n",
      "\n",
      "Raw LLM Output for review: Very friendly staff, went on a test drive and had a great time, not sure about service though, I don’t own a Tesla right now\n",
      "- Key topics:[Staff]\n",
      "- Sentiment:Neutral\n",
      "\n"
     ]
    },
    {
     "name": "stderr",
     "output_type": "stream",
     "text": [
      "Processing Reviews:  88%|████████████████▊  | 1042/1181 [15:55<02:29,  1.08s/it]"
     ]
    },
    {
     "name": "stdout",
     "output_type": "stream",
     "text": [
      "Raw LLM Output for review: Buying & Picking up experience\n",
      "- Key topics: [Not Classified, Facilities]\n",
      "- Sentiment: [Neutral/Negative]\n",
      "\n"
     ]
    },
    {
     "name": "stderr",
     "output_type": "stream",
     "text": [
      "Processing Reviews:  88%|████████████████▊  | 1045/1181 [15:56<01:37,  1.39it/s]"
     ]
    },
    {
     "name": "stdout",
     "output_type": "stream",
     "text": [
      "Raw LLM Output for review: Some of the friendliest people I have spoken to. I have spent hours talking their ears off and always find them happy to chat and answer anything I throw their way.\n",
      "- Key topics:Staff\n",
      "- Sentiment:[Positive]\n",
      "\n"
     ]
    },
    {
     "name": "stderr",
     "output_type": "stream",
     "text": [
      "Processing Reviews:  89%|████████████████▊  | 1047/1181 [15:57<01:29,  1.49it/s]"
     ]
    },
    {
     "name": "stdout",
     "output_type": "stream",
     "text": [
      "Raw LLM Output for review: First time using the Supercharger with a battery under 20%. It was at 90% in less than an hour. The is a pizza place and smash burger less than a block away to grab a bite.\n",
      "- Key topics:[Charging,Battery]\n",
      "- Sentiment:Positive\n",
      "\n",
      "Raw LLM Output for review: Out of 120,000 employees in tesla Inc, not one is qualified for the quality control department?\n",
      "Does tesla even have a quality control department?\n",
      "- Key topics:[Recall,Product Quality]\n",
      "- Sentiment:Negative\n",
      "\n"
     ]
    },
    {
     "name": "stderr",
     "output_type": "stream",
     "text": [
      "Processing Reviews:  89%|████████████████▉  | 1049/1181 [15:59<01:33,  1.41it/s]"
     ]
    },
    {
     "name": "stdout",
     "output_type": "stream",
     "text": [
      "Raw LLM Output for review: Worst supercharger ever ! Do not stop here ...it’s at a service center and half of the super chargers aren’t working ! There is currently a line of 6 Tesla’s waiting to charge ...stay away ! But if you are forced to stop , the pizza place across the way is really good.\n",
      "- Key topics:[Not Classified,Product Quality]\n",
      "- Sentiment:[Negative]\n",
      "\n",
      "Raw LLM Output for review: Polite staff, efficient delivery. Everything was on time (took delivery of my car on Friday at 4pm).\n",
      "- Key topics:[Staff, Service Time]\n",
      "- Sentiment:Positive\n",
      "\n"
     ]
    },
    {
     "name": "stderr",
     "output_type": "stream",
     "text": [
      "Processing Reviews:  89%|████████████████▉  | 1050/1181 [16:00<01:41,  1.29it/s]"
     ]
    },
    {
     "name": "stdout",
     "output_type": "stream",
     "text": [
      "Raw LLM Output for review: Superslow charging - getting 30-32kw power,  should be 100-120kw. Used to be around 75kw just couple of months ago. What's going on, Paramus Tesla?\n",
      "- Key topics:[Charging]\n",
      "- Sentiment:Negative\n",
      "\n",
      "Raw LLM Output for review: Best experience buying a car in and out in 30 minutes.\n",
      "- Key topics:Service Time\n",
      "-Sentiment:Positive\n",
      "\n"
     ]
    },
    {
     "name": "stderr",
     "output_type": "stream",
     "text": [
      "Processing Reviews:  89%|████████████████▉  | 1052/1181 [16:02<01:50,  1.16it/s]"
     ]
    },
    {
     "name": "stdout",
     "output_type": "stream",
     "text": [
      "Raw LLM Output for review: Worst customer service\n",
      "- Key topics:[Staff,Product Quality]\n",
      "- Sentiment:Negative\n",
      "\n"
     ]
    },
    {
     "name": "stderr",
     "output_type": "stream",
     "text": [
      "Processing Reviews:  89%|████████████████▉  | 1053/1181 [16:02<01:33,  1.36it/s]"
     ]
    },
    {
     "name": "stdout",
     "output_type": "stream",
     "text": [
      "Raw LLM Output for review: They're nice. They wanna sell you a car, like all the car dealerships. Pretty much the same thing.\n",
      "- Key topics: [Not Classified, Not Classified]\n",
      "- Sentiment: Neutral\n",
      "\n",
      "Raw LLM Output for review: The Tesla staff were super helpful during our visit, when considering our next vehicle\n",
      "- Key topics:[Staff]\n",
      "- Sentiment:Positive\n",
      "\n"
     ]
    },
    {
     "name": "stderr",
     "output_type": "stream",
     "text": [
      "Processing Reviews:  89%|████████████████▉  | 1054/1181 [16:04<01:57,  1.08it/s]"
     ]
    },
    {
     "name": "stdout",
     "output_type": "stream",
     "text": [
      "Raw LLM Output for review: Plenty of chargers and super fast, good spot to stop. Road is very business but some of the best shopping a short drive away.\n",
      "- Key topics:[Facilities,Service Time]\n",
      "- Sentiment:[Positive]\n",
      "\n",
      "Raw LLM Output for review: Jose from the service center is a fantastic person. He will try his best to answer all the questions and will give you best advice.\n",
      "- Key topics:[Staff]\n",
      "- Sentiment:Positive\n",
      "\n"
     ]
    },
    {
     "name": "stderr",
     "output_type": "stream",
     "text": [
      "Processing Reviews:  89%|████████████████▉  | 1056/1181 [16:06<01:54,  1.09it/s]"
     ]
    },
    {
     "name": "stdout",
     "output_type": "stream",
     "text": [
      "Raw LLM Output for review: My review goes for the super charger. There are never super chargers available. Wait is always long to charge and most of the time there are 2 or more chargers that are defective. Seriously Tesla, add more super chargers for us that live close to Paramus!\n",
      "- Key topics:[Product Availability,Service Time]\n",
      "- Sentiment:Negative\n",
      "\n",
      "Raw LLM Output for review: Tesla rep was delightful,  so was the Tesla X. Once you drive a Tesla you realize combustion engine's  days are numbered.\n",
      "Key topics:[Product Quality, Staff]\n",
      "- Sentiment: Positive\n",
      "\n"
     ]
    },
    {
     "name": "stderr",
     "output_type": "stream",
     "text": [
      "Processing Reviews:  90%|█████████████████  | 1059/1181 [16:07<01:30,  1.34it/s]"
     ]
    },
    {
     "name": "stdout",
     "output_type": "stream",
     "text": [
      "Raw LLM Output for review: Great place to stop in for a quick charge. Equipment is always in good shape, usually free spots, and fast charge rates.\n",
      "- Key topics:[Music System,Not Classified]\n",
      "- Sentiment:[Positive]\n",
      "\n"
     ]
    },
    {
     "name": "stderr",
     "output_type": "stream",
     "text": [
      "Processing Reviews:  90%|█████████████████  | 1060/1181 [16:09<01:49,  1.10it/s]"
     ]
    },
    {
     "name": "stdout",
     "output_type": "stream",
     "text": [
      "Raw LLM Output for review: Had a great experience no issues they took me early and finished early.\n",
      "- Key topics:[Service Time,Facilities]\n",
      "- Sentiment:Positive\n",
      "\n",
      "Raw LLM Output for review: Nice place. Easy in and out. Lots of Tesla cars in parking lot of one of few dealership and service centers in USA\n",
      "- Key topics: [Not Classified, Facilities]\n",
      "- Sentiment: Positive\n",
      "\n",
      "Raw LLM Output for review: Been truly went above and beyond thank you so much for the wonderful experience\n",
      "- Key topics:[Not Classified, Not Classified, Not Classified]\n",
      "- Sentiment: Positive\n",
      "\n"
     ]
    },
    {
     "name": "stderr",
     "output_type": "stream",
     "text": [
      "Processing Reviews:  90%|█████████████████  | 1062/1181 [16:10<01:40,  1.19it/s]"
     ]
    },
    {
     "name": "stdout",
     "output_type": "stream",
     "text": [
      "Raw LLM Output for review: Helpful staff but the place is too crowded.  Hard to even supercharge here\n",
      "- Key topics:[Staff,Facilities]\n",
      "- Sentiment:[Negative]\n",
      "\n",
      "Raw LLM Output for review: William is very helpful. Great test drive and worked out everything quickly!\n",
      "- Key topics:[Staff]\n",
      "- Sentiment:Positive\n",
      "\n"
     ]
    },
    {
     "name": "stderr",
     "output_type": "stream",
     "text": [
      "Processing Reviews:  90%|█████████████████  | 1064/1181 [16:12<01:41,  1.16it/s]"
     ]
    },
    {
     "name": "stdout",
     "output_type": "stream",
     "text": [
      "Raw LLM Output for review: Expect is way better service after receiving a brand new car with issues\n",
      "- Key topics:[Product Quality,Service Time]\n",
      "- Sentiment:Negative\n",
      "\n",
      "Raw LLM Output for review: Don't arrive more that 30 seconds later than your scheduled appointment, or you'll be cancelled.\n",
      "- Key topics:[Service Time,Not Classified]\n",
      "- Sentiment:Negative\n",
      "\n",
      "Raw LLM Output for review: To bad they were decommissioned by the flood.\n",
      "I hope the charging station is still working and they should put a few more in.\n",
      "- Key topics:[Facilities,Product Availability]\n",
      "- Sentiment:Neutral\n",
      "\n",
      "Raw LLM Output for review: Terrible service. Incompetent\n",
      "- Key topics:[Staff, Service Quality]\n",
      "- Sentiment: Negative\n",
      "\n",
      "Raw LLM Output for review: Clean and friendly staff but limited supercharges at the location\n",
      "- Key topics:[Staff,Facilities]\n",
      "- Sentiment:[Neutral]\n",
      "\n",
      "Raw LLM Output for review: No available chargers\n",
      "\n",
      "Looks like all employees parked their cars by the charger\n",
      "- Key topics:[Not Classified, Staff]\n",
      "- Sentiment:Negative\n",
      "\n",
      "Raw LLM Output for review: Fast experience very easy process when following all the steps.\n",
      "- Key topics:[Service Time, Facilities]\n",
      "- Sentiment:[Positive]\n",
      "\n",
      "Raw LLM Output for review: Tesla is changing the game,  Amazing customer service\n",
      "- Key topics:[Not Classified, Not Classified, Not Classified, Not Classified, Not Classified]\n",
      "- Sentiment:Positive.\n",
      "\n",
      "Raw LLM Output for review: My son and i had a great expsrience here. Treated us with lots of respect and courtesy.\n",
      "- Key topics:[Staff]\n",
      "- Sentiment:Positive\n",
      "\n"
     ]
    },
    {
     "name": "stderr",
     "output_type": "stream",
     "text": [
      "Processing Reviews:  90%|█████████████████▏ | 1067/1181 [16:21<03:09,  1.66s/it]"
     ]
    },
    {
     "name": "stdout",
     "output_type": "stream",
     "text": [
      "Raw LLM Output for review: Good service 👍🏻 …\n",
      "- Key topics:Service\n",
      "-Sentiment:Positive\n",
      "\n",
      "Raw LLM Output for review: Made an appointment for a test drive but sales representative messed up our appointment and we didn't get a full test drive but otherwise the experience was great\n",
      "- Key topics:[Service Time,Sales Staff]\n",
      "- Sentiment: [Negative]\n",
      "\n",
      "Note: Review mentions that the service time (appointment) was messed up, which is negative sentiment. Also, it highlights the performance of sales staff, indicating a negative aspect in their behavior.\n",
      "\n"
     ]
    },
    {
     "name": "stderr",
     "output_type": "stream",
     "text": [
      "Processing Reviews:  91%|█████████████████▎ | 1076/1181 [16:23<01:19,  1.32it/s]"
     ]
    },
    {
     "name": "stdout",
     "output_type": "stream",
     "text": [
      "Raw LLM Output for review: Had a delivery there worked out pretty well\n",
      "- Key topics:Service Time\n",
      "- Sentiment:[Positive]\n",
      "\n",
      "Raw LLM Output for review: Professional. Thorough, and they will come to you if it's appropriate.  Communication was excellent.\n",
      "- Key topics:[Service Quality, Staff]\n",
      "- Sentiment: Positive\n",
      "\n",
      "Raw LLM Output for review: Great Service Department, great people! I would say best in NJ!\n",
      "- Key topics:Staff\n",
      "-Sentiment:Positive\n",
      "\n"
     ]
    },
    {
     "name": "stderr",
     "output_type": "stream",
     "text": [
      "Processing Reviews:  91%|█████████████████▎ | 1078/1181 [16:24<01:16,  1.34it/s]"
     ]
    },
    {
     "name": "stdout",
     "output_type": "stream",
     "text": [
      "Raw LLM Output for review: Don’t use as a supercharge stop, they hook up the service cars so can go from 6 empty to full in a minute and you will be stuck waiting\n",
      "- Key topics:[Not Classified,Not Classified,Service Time]\n",
      "- Sentiment:Negative\n",
      "\n",
      "Raw LLM Output for review: Needed a quick service ..  they took care of me right away\n",
      "- Key topics:[Service Time]\n",
      "- Sentiment:Positive\n",
      "\n",
      "Raw LLM Output for review: Mathew C is great to work with!\n",
      "- Key topics:Staff\n",
      "- Sentiment:Positive\n",
      "\n"
     ]
    },
    {
     "name": "stderr",
     "output_type": "stream",
     "text": [
      "Processing Reviews:  91%|█████████████████▍ | 1080/1181 [16:26<01:14,  1.35it/s]"
     ]
    },
    {
     "name": "stdout",
     "output_type": "stream",
     "text": [
      "Raw LLM Output for review: Great customer service and clean environment.\n",
      "- Key topics:Staff,Facilities\n",
      "- Sentiment:Positive\n",
      "\n"
     ]
    },
    {
     "name": "stderr",
     "output_type": "stream",
     "text": [
      "Processing Reviews:  92%|█████████████████▍ | 1083/1181 [16:28<01:09,  1.40it/s]"
     ]
    },
    {
     "name": "stdout",
     "output_type": "stream",
     "text": [
      "Raw LLM Output for review: They had my car for a week and they can tell me how long it will be and I can't get any information on my car\n",
      "- Key topics:[Service Time,Product Quality]\n",
      "- Sentiment:Negative\n",
      "\n",
      "Raw LLM Output for review: Just went to look at a car and a worker just yelled at me for taking a picture.  I left….\n",
      "- Key topics:[Staff]\n",
      "- Sentiment:Negative\n",
      "\n",
      "Raw LLM Output for review: Sales Associate Mark was very knowledgeable and professional.\n",
      "- Key topics:Staff\n",
      "- Sentiment:Positive\n",
      "\n"
     ]
    },
    {
     "name": "stderr",
     "output_type": "stream",
     "text": [
      "Processing Reviews:  92%|█████████████████▍ | 1084/1181 [16:29<01:11,  1.36it/s]"
     ]
    },
    {
     "name": "stdout",
     "output_type": "stream",
     "text": [
      "Raw LLM Output for review: Decent charge station.  Very tight to pull in/out due to dealer park extra cars in front of chargers.\n",
      "- Key topics:[Product Availability, Facilities]\n",
      "- Sentiment:Neutral\n",
      "\n"
     ]
    },
    {
     "name": "stderr",
     "output_type": "stream",
     "text": [
      "Processing Reviews:  92%|█████████████████▌ | 1088/1181 [16:31<01:03,  1.47it/s]"
     ]
    },
    {
     "name": "stdout",
     "output_type": "stream",
     "text": [
      "Raw LLM Output for review: All good. Service was great and service advisers are professional.\n",
      "- Key topics:[Staff,Service Time]\n",
      "- Sentiment: [Positive]\n",
      "\n",
      "Raw LLM Output for review: Visited to charge vehicle with owner.  Minimalist showroom with no pressure sales.\n",
      "- Key topics:[Facilities]\n",
      "- Sentiment:Neutral\n",
      "\n",
      "Raw LLM Output for review: Welcoming experience each visit, friendly staff and a clean private waiting area.\n",
      "- Key topics:[Staff, Facilities]\n",
      "- Sentiment: [Positive]\n",
      "\n"
     ]
    },
    {
     "name": "stderr",
     "output_type": "stream",
     "text": [
      "Processing Reviews:  92%|█████████████████▌ | 1089/1181 [16:32<01:01,  1.50it/s]"
     ]
    },
    {
     "name": "stdout",
     "output_type": "stream",
     "text": [
      "Raw LLM Output for review: Best experience with new car ownership\n",
      "- Key topics: [Not Classified,Product Quality]\n",
      "- Sentiment: Positive\n",
      "\n"
     ]
    },
    {
     "name": "stderr",
     "output_type": "stream",
     "text": [
      "Processing Reviews:  92%|█████████████████▌ | 1091/1181 [16:34<01:10,  1.27it/s]"
     ]
    },
    {
     "name": "stdout",
     "output_type": "stream",
     "text": [
      "Raw LLM Output for review: Awesome experience, highly recommend Ryan Smith as a sales consultant\n",
      "- Key topics:Not Classified\n",
      "- Sentiment:Positive\n",
      "\n",
      "Raw LLM Output for review: Friendly and professional delivery experience!\n",
      "- Key topics:[Staff]\n",
      "- Sentiment: [Positive]\n",
      "\n"
     ]
    },
    {
     "name": "stderr",
     "output_type": "stream",
     "text": [
      "Processing Reviews:  93%|█████████████████▌ | 1093/1181 [16:35<00:58,  1.50it/s]"
     ]
    },
    {
     "name": "stdout",
     "output_type": "stream",
     "text": [
      "Raw LLM Output for review: Not a dealership, but good stop for a quick charge or viewing of the stock.\n",
      "- Key topics:[Product Availability]\n",
      "- Sentiment: Neutral\n",
      "\n",
      "Raw LLM Output for review: Tesla's service and customer service  is horrible.\n",
      "- Key topics:[Service Quality, Staff,Product Availability]\n",
      "- Sentiment:Negative\n",
      "\n"
     ]
    },
    {
     "name": "stderr",
     "output_type": "stream",
     "text": [
      "Processing Reviews:  93%|█████████████████▌ | 1095/1181 [16:36<01:02,  1.39it/s]"
     ]
    },
    {
     "name": "stdout",
     "output_type": "stream",
     "text": [
      "Raw LLM Output for review: Saving on Gas but there's program glitches needing maintenance ㅠㅠ\n",
      "- Key topics:[Not Classified]\n",
      "- Sentiment:Neutral\n",
      "\n"
     ]
    },
    {
     "name": "stderr",
     "output_type": "stream",
     "text": [
      "Processing Reviews:  93%|█████████████████▋ | 1096/1181 [16:37<01:00,  1.40it/s]"
     ]
    },
    {
     "name": "stdout",
     "output_type": "stream",
     "text": [
      "Raw LLM Output for review: The attitude of service is terrible, they look people down\n",
      "- Key topics:[Staff]\n",
      "- Sentiment:[Negative]\n",
      "\n",
      "Raw LLM Output for review: A few charging stalls were available so no waiting to start charging. The charge rate was a bit lower at 80mph.\n",
      "- Key topics: [Charging,Service Time]\n",
      "- Sentiment: Neutral\n",
      "\n",
      "Raw LLM Output for review: Very friendly, welcoming and patient.\n",
      "- Key topics: [Staff]\n",
      "- Sentiment: Positive\n",
      "\n"
     ]
    },
    {
     "name": "stderr",
     "output_type": "stream",
     "text": [
      "Processing Reviews:  93%|█████████████████▋ | 1099/1181 [16:39<01:02,  1.32it/s]"
     ]
    },
    {
     "name": "stdout",
     "output_type": "stream",
     "text": [
      "Raw LLM Output for review: 5 stars all around!\n",
      "- Key topics:[Product Quality,Service Cost]\n",
      "- Sentiment:Positive\n",
      "\n",
      "Raw LLM Output for review: Superchargers do not work well in this place.  There are multiple ports that charges very slowly.\n",
      "Key topics:[Product Quality, Charging]\n",
      "Sentiment:Negative\n",
      "\n"
     ]
    },
    {
     "name": "stderr",
     "output_type": "stream",
     "text": [
      "Processing Reviews:  93%|█████████████████▋ | 1100/1181 [16:40<01:00,  1.34it/s]"
     ]
    },
    {
     "name": "stdout",
     "output_type": "stream",
     "text": [
      "Raw LLM Output for review: Worst costumer service ever\n",
      "- Key topics:[Staff,Service Cost]\n",
      "- Sentiment:Negative\n",
      "\n"
     ]
    },
    {
     "name": "stderr",
     "output_type": "stream",
     "text": [
      "Processing Reviews:  93%|█████████████████▋ | 1101/1181 [16:41<01:01,  1.29it/s]"
     ]
    },
    {
     "name": "stdout",
     "output_type": "stream",
     "text": [
      "Raw LLM Output for review: I barely made to the supercharger. There were many things to do while charging the car.\n",
      "- Key topics:[Not Classified,Product Quality,Service Time]\n",
      "- Sentiment:[Negative]\n",
      "\n"
     ]
    },
    {
     "name": "stderr",
     "output_type": "stream",
     "text": [
      "Processing Reviews:  93%|█████████████████▋ | 1103/1181 [16:42<00:58,  1.33it/s]"
     ]
    },
    {
     "name": "stdout",
     "output_type": "stream",
     "text": [
      "Raw LLM Output for review: Test drove a Tesla. Wished I would've test driven one before buying my new car\n",
      "- Key topics:[Not Classified]\n",
      "- Sentiment:[Negative]\n",
      "\n",
      "Raw LLM Output for review: Hook up for all types of electric vehicles. Plus a few dedicated Tesla spots.\n",
      "- Key topics:[Not Classified]\n",
      "- Sentiment:[Neutral]\n",
      "\n"
     ]
    },
    {
     "name": "stderr",
     "output_type": "stream",
     "text": [
      "Processing Reviews:  94%|█████████████████▊ | 1105/1181 [16:43<00:40,  1.86it/s]"
     ]
    },
    {
     "name": "stdout",
     "output_type": "stream",
     "text": [
      "Raw LLM Output for review: Had an awesome experience. Very helpful.\n",
      "- Key topics:Not Classified\n",
      "- Sentiment:Positive\n",
      "\n"
     ]
    },
    {
     "name": "stderr",
     "output_type": "stream",
     "text": [
      "Processing Reviews:  94%|█████████████████▊ | 1106/1181 [16:43<00:43,  1.73it/s]"
     ]
    },
    {
     "name": "stdout",
     "output_type": "stream",
     "text": [
      "Raw LLM Output for review: Usually great customer service\n",
      "- Key topics:[Staff]\n",
      "- Sentiment:Positive\n",
      "\n",
      "Raw LLM Output for review: Please be more professional and have some good attitude.\n",
      "- Key topics:[Staff]\n",
      "- Sentiment:[Negative]\n",
      "\n",
      "Raw LLM Output for review: The best car buying experience ever!\n",
      "- Key topics:[None Classified]\n",
      "- Sentiment:Positive\n",
      "\n"
     ]
    },
    {
     "name": "stderr",
     "output_type": "stream",
     "text": [
      "Processing Reviews:  94%|█████████████████▊ | 1107/1181 [16:46<01:10,  1.06it/s]"
     ]
    },
    {
     "name": "stdout",
     "output_type": "stream",
     "text": [
      "Raw LLM Output for review: Great\n",
      "- Key topics:\n",
      "- Not Classified\n",
      "\n",
      "\n",
      "- Sentiment: [Not Classified]\n",
      "\n"
     ]
    },
    {
     "name": "stderr",
     "output_type": "stream",
     "text": [
      "Processing Reviews:  94%|█████████████████▊ | 1110/1181 [16:47<00:45,  1.58it/s]"
     ]
    },
    {
     "name": "stdout",
     "output_type": "stream",
     "text": [
      "Raw LLM Output for review: Staff was friendly and they had the part I needed.\n",
      "- Key topics: [Staff, Product Quality]\n",
      "- Sentiment: Positive\n",
      "\n"
     ]
    },
    {
     "name": "stderr",
     "output_type": "stream",
     "text": [
      "Processing Reviews:  94%|█████████████████▊ | 1111/1181 [16:48<00:54,  1.29it/s]"
     ]
    },
    {
     "name": "stdout",
     "output_type": "stream",
     "text": [
      "Raw LLM Output for review: Thoroughly impressed with basically everything I witnessed well thought out.\n",
      "- Key topics:[Not Classified]\n",
      "- Sentiment:Positive\n",
      "\n",
      "Raw LLM Output for review: Friendly staff and good availability for test drives.\n",
      "- Key topics:[Staff,Facilities]\n",
      "- Sentiment:Positive\n",
      "\n"
     ]
    },
    {
     "name": "stderr",
     "output_type": "stream",
     "text": [
      "Processing Reviews:  94%|█████████████████▉ | 1114/1181 [16:49<00:38,  1.76it/s]"
     ]
    },
    {
     "name": "stdout",
     "output_type": "stream",
     "text": [
      "Raw LLM Output for review: Worst vehicle ever stay away from\n",
      "Tesla\n",
      "- Key topics:[Not Classified,Product Quality]\n",
      "- Sentiment:[Negative]\n",
      "\n",
      "Raw LLM Output for review: Terible 2 stations down all stations occupied for more than 30 mins\n",
      "- Key topics:[Service Time]\n",
      "- Sentiment:Negative\n",
      "\n"
     ]
    },
    {
     "name": "stderr",
     "output_type": "stream",
     "text": [
      "Processing Reviews:  94%|█████████████████▉ | 1115/1181 [16:50<00:48,  1.35it/s]"
     ]
    },
    {
     "name": "stdout",
     "output_type": "stream",
     "text": [
      "Raw LLM Output for review: Great experience, good customer service!!\n",
      "- Key topics:Staff\n",
      "- Sentiment:Positive\n",
      "\n",
      "Raw LLM Output for review: Telsa delivery is smooth, fast and well organized\n",
      "- Key topics:[Service Time]\n",
      "- Sentiment:Positive\n",
      "\n"
     ]
    },
    {
     "name": "stderr",
     "output_type": "stream",
     "text": [
      "Processing Reviews:  95%|█████████████████▉ | 1117/1181 [16:51<00:39,  1.62it/s]"
     ]
    },
    {
     "name": "stdout",
     "output_type": "stream",
     "text": [
      "Raw LLM Output for review: The delivery team was awesome!\n",
      "- Key topics:Staff\n",
      "- Sentiment:Positive\n",
      "\n"
     ]
    },
    {
     "name": "stderr",
     "output_type": "stream",
     "text": [
      "Processing Reviews:  95%|██████████████████ | 1119/1181 [16:53<00:38,  1.60it/s]"
     ]
    },
    {
     "name": "stdout",
     "output_type": "stream",
     "text": [
      "Raw LLM Output for review: Very good and great service from Luis.\n",
      "Thank you\n",
      "- Key topics:[Staff]\n",
      "- Sentiment:Positive\n",
      "\n",
      "Raw LLM Output for review: I'm happy with my experience owning a Tesla.\n",
      "- Key topics:[Not Classified,Product Availability, Product Quality]\n",
      "- Sentiment:[Positive]\n",
      "\n",
      "Raw LLM Output for review: Fast charging!! Fast and easy\n",
      "- Key topics:[Not Classified]\n",
      "- Sentiment:Neutral\n",
      "\n"
     ]
    },
    {
     "name": "stderr",
     "output_type": "stream",
     "text": [
      "Processing Reviews:  95%|██████████████████ | 1121/1181 [16:54<00:42,  1.43it/s]"
     ]
    },
    {
     "name": "stdout",
     "output_type": "stream",
     "text": [
      "Raw LLM Output for review: Great car, need more chargers, too busy\n",
      "- Key topics:[Charging,Service Time]\n",
      "- Sentiment: Neutral\n",
      "\n",
      "Raw LLM Output for review: People were extremely helpful and courteous.\n",
      "- Key topics:[Staff]\n",
      "- Sentiment:Positive\n",
      "\n"
     ]
    },
    {
     "name": "stderr",
     "output_type": "stream",
     "text": [
      "Processing Reviews:  95%|██████████████████ | 1123/1181 [16:56<00:36,  1.59it/s]"
     ]
    },
    {
     "name": "stdout",
     "output_type": "stream",
     "text": [
      "Raw LLM Output for review: Great experience!\n",
      "- Key topics: [Not Classified]\n",
      "- Sentiment: Positive\n",
      "\n",
      "Raw LLM Output for review: Very busy. They need more charging so stations.\n",
      "- Key topics:[Service Time, Facilities]\n",
      "- Sentiment:Neutral\n",
      "\n"
     ]
    },
    {
     "name": "stderr",
     "output_type": "stream",
     "text": [
      "Processing Reviews:  95%|██████████████████ | 1125/1181 [16:57<00:39,  1.41it/s]"
     ]
    },
    {
     "name": "stdout",
     "output_type": "stream",
     "text": [
      "Raw LLM Output for review: Timely and pleasant new car delivery.\n",
      "- Key topics: [Product Availability]\n",
      "- Sentiment: Neutral\n",
      "\n"
     ]
    },
    {
     "name": "stderr",
     "output_type": "stream",
     "text": [
      "Processing Reviews:  95%|██████████████████▏| 1127/1181 [16:58<00:29,  1.85it/s]"
     ]
    },
    {
     "name": "stdout",
     "output_type": "stream",
     "text": [
      "Raw LLM Output for review: Coool Model X on Display!\n",
      "- Key topics:Not Classified\n",
      "- Sentiment:Positive\n",
      "\n",
      "Raw LLM Output for review: These guys definitely put the customer first.\n",
      "- Key topics: \n",
      "- Sentiment:[Positive]\n",
      "\n"
     ]
    },
    {
     "name": "stderr",
     "output_type": "stream",
     "text": [
      "Processing Reviews:  96%|██████████████████▏| 1128/1181 [16:58<00:25,  2.07it/s]"
     ]
    },
    {
     "name": "stdout",
     "output_type": "stream",
     "text": [
      "Raw LLM Output for review: Service communication stinks.  You can't call.  They don't respond to messages.\n",
      "- Key topics:[Not Classified]\n",
      "- Sentiment:[Negative]\n",
      "\n"
     ]
    },
    {
     "name": "stderr",
     "output_type": "stream",
     "text": [
      "Processing Reviews:  96%|██████████████████▏| 1129/1181 [17:00<00:39,  1.32it/s]"
     ]
    },
    {
     "name": "stdout",
     "output_type": "stream",
     "text": [
      "Raw LLM Output for review: Great service and helpful service managers.\n",
      "- Key topics: [Staff]\n",
      "- Sentiment: Positive\n",
      "\n"
     ]
    },
    {
     "name": "stderr",
     "output_type": "stream",
     "text": [
      "Processing Reviews:  96%|██████████████████▏| 1130/1181 [17:00<00:32,  1.58it/s]"
     ]
    },
    {
     "name": "stdout",
     "output_type": "stream",
     "text": [
      "Raw LLM Output for review: Great service with friendly and professional staff\n",
      "- Key topics:[Staff]\n",
      "- Sentiment:Positive\n",
      "\n"
     ]
    },
    {
     "name": "stderr",
     "output_type": "stream",
     "text": [
      "Processing Reviews:  96%|██████████████████▏| 1131/1181 [17:01<00:30,  1.64it/s]"
     ]
    },
    {
     "name": "stdout",
     "output_type": "stream",
     "text": [
      "Raw LLM Output for review: Very friendly staff and quick service.\n",
      "- Key topics:Staff,Service Time\n",
      "- Sentiment:Positive\n",
      "\n",
      "Raw LLM Output for review: Bad customer service over the phone\n",
      "- Key topics:[Staff]\n",
      "- Sentiment:Negative\n",
      "\n"
     ]
    },
    {
     "name": "stderr",
     "output_type": "stream",
     "text": [
      "Processing Reviews:  96%|██████████████████▏| 1133/1181 [17:03<00:36,  1.30it/s]"
     ]
    },
    {
     "name": "stdout",
     "output_type": "stream",
     "text": [
      "Raw LLM Output for review: It's a little isolated for travel by foot, though it does the job.\n",
      "- Key topics:[Not Classified, Facilities]\n",
      "- Sentiment:Neutral\n",
      "\n"
     ]
    },
    {
     "name": "stderr",
     "output_type": "stream",
     "text": [
      "Processing Reviews:  96%|██████████████████▎| 1136/1181 [17:03<00:19,  2.33it/s]"
     ]
    },
    {
     "name": "stdout",
     "output_type": "stream",
     "text": [
      "Raw LLM Output for review: My adviser Ryan was awesome .\n",
      "- Key topics:Staff\n",
      "-Sentiment:Positive\n",
      "\n",
      "Raw LLM Output for review: Great location with plenty of extra superchargers.\n",
      "- Key topics:[Not Classified]\n",
      "- Sentiment: [Neutral]\n",
      "\n",
      "Raw LLM Output for review: Easiest car buying / testing process ever.\n",
      "- Key topics:[Not Classified]\n",
      "- Sentiment:Positive\n",
      "\n"
     ]
    },
    {
     "name": "stderr",
     "output_type": "stream",
     "text": [
      "Processing Reviews:  96%|██████████████████▎| 1137/1181 [17:05<00:33,  1.30it/s]"
     ]
    },
    {
     "name": "stdout",
     "output_type": "stream",
     "text": [
      "Raw LLM Output for review: Melissa was extremely rude and condescending.\n",
      "- Key topics:Staff\n",
      "-Sentiment:Negative\n",
      "\n",
      "Raw LLM Output for review: Need more superchargers! C'mon Tesla these are the only ones around.\n",
      "- Key topics:[Product Availability]\n",
      "- Sentiment:Positive\n",
      "\n",
      "Raw LLM Output for review: Very helpful and near a strip mall\n",
      "- Key topics:[Facilities]\n",
      "- Sentiment:[Positive]\n",
      "\n"
     ]
    },
    {
     "name": "stderr",
     "output_type": "stream",
     "text": [
      "Processing Reviews:  96%|██████████████████▎| 1138/1181 [17:06<00:35,  1.22it/s]"
     ]
    },
    {
     "name": "stdout",
     "output_type": "stream",
     "text": [
      "Raw LLM Output for review: Exciting place and always has a positive energy\n",
      "- Key topics: [Not Classified]\n",
      "- Sentiment: [Positive]\n",
      "\n"
     ]
    },
    {
     "name": "stderr",
     "output_type": "stream",
     "text": [
      "Processing Reviews:  97%|██████████████████▎| 1142/1181 [17:08<00:22,  1.71it/s]"
     ]
    },
    {
     "name": "stdout",
     "output_type": "stream",
     "text": [
      "Raw LLM Output for review: Best service, as usual!\n",
      "- Key topics:[Service]\n",
      "- Sentiment: [Positive]\n",
      "\n",
      "Raw LLM Output for review: Friendly service staff at this location.\n",
      "- Key topics:[Staff]\n",
      "- Sentiment:Positive\n",
      "\n"
     ]
    },
    {
     "name": "stderr",
     "output_type": "stream",
     "text": [
      "Processing Reviews:  97%|██████████████████▍| 1143/1181 [17:08<00:21,  1.76it/s]"
     ]
    },
    {
     "name": "stdout",
     "output_type": "stream",
     "text": [
      "Raw LLM Output for review: Quick charging. Busy place\n",
      "- Key topics: Charging\n",
      "- Sentiment:[Neutral/Negative]\n",
      "\n"
     ]
    },
    {
     "name": "stderr",
     "output_type": "stream",
     "text": [
      "Processing Reviews:  97%|██████████████████▍| 1144/1181 [17:09<00:22,  1.63it/s]"
     ]
    },
    {
     "name": "stdout",
     "output_type": "stream",
     "text": [
      "Raw LLM Output for review: Always fairly quick to charge\n",
      "- Key topics: [Charging]\n",
      "- Sentiment: [Positive]\n",
      "\n"
     ]
    },
    {
     "name": "stderr",
     "output_type": "stream",
     "text": [
      "Processing Reviews:  97%|██████████████████▍| 1145/1181 [17:10<00:27,  1.31it/s]"
     ]
    },
    {
     "name": "stdout",
     "output_type": "stream",
     "text": [
      "Raw LLM Output for review: Justin was awesome to talk to!\n",
      "- Key topics:[Staff]\n",
      "- Sentiment:Positive\n",
      "\n",
      "Raw LLM Output for review: Gets car and excellent service\n",
      "- Key topics:[Service Quality]\n",
      "- Sentiment:Positive\n",
      "\n"
     ]
    },
    {
     "name": "stderr",
     "output_type": "stream",
     "text": [
      "Processing Reviews:  97%|██████████████████▍| 1147/1181 [17:11<00:23,  1.48it/s]"
     ]
    },
    {
     "name": "stdout",
     "output_type": "stream",
     "text": [
      "Raw LLM Output for review: Always busy on weekend's\n",
      "- Key topics:[Not Classified]\n",
      "- Sentiment: Neutral\n",
      "\n"
     ]
    },
    {
     "name": "stderr",
     "output_type": "stream",
     "text": [
      "Processing Reviews:  97%|██████████████████▍| 1148/1181 [17:12<00:26,  1.24it/s]"
     ]
    },
    {
     "name": "stdout",
     "output_type": "stream",
     "text": [
      "Raw LLM Output for review: Couldn't have been better!\n",
      "- Key topics: [Not Classified]\n",
      "- Sentiment: Positive\n",
      "\n",
      "Raw LLM Output for review: Conveniently located supercharger. What is not to love!\n",
      "- Key topics:[None Classified]\n",
      "- Sentiment:Positive\n",
      "\n"
     ]
    },
    {
     "name": "stderr",
     "output_type": "stream",
     "text": [
      "Processing Reviews:  97%|██████████████████▍| 1149/1181 [17:15<00:45,  1.42s/it]"
     ]
    },
    {
     "name": "stdout",
     "output_type": "stream",
     "text": [
      "Raw LLM Output for review: Always a pleasure to visit!\n",
      "- Key topics:\n",
      "- Staff\n",
      "- Service Time\n",
      "- Facilities\n",
      "\n",
      "\n",
      "- Sentiment: Positive\n",
      "\n"
     ]
    },
    {
     "name": "stderr",
     "output_type": "stream",
     "text": [
      "Processing Reviews:  97%|██████████████████▌| 1151/1181 [17:16<00:24,  1.20it/s]"
     ]
    },
    {
     "name": "stdout",
     "output_type": "stream",
     "text": [
      "Raw LLM Output for review: Great place with immediate service\n",
      "- Key topics:Service Time,Facilities\n",
      "- Sentiment:Positive\n",
      "\n"
     ]
    },
    {
     "name": "stderr",
     "output_type": "stream",
     "text": [
      "Processing Reviews:  98%|██████████████████▌| 1152/1181 [17:16<00:23,  1.26it/s]"
     ]
    },
    {
     "name": "stdout",
     "output_type": "stream",
     "text": [
      "Raw LLM Output for review: I got my tesla today!\n",
      "- Key topics:Product Availability\n",
      "-Sentiment:Positive\n",
      "\n"
     ]
    },
    {
     "name": "stderr",
     "output_type": "stream",
     "text": [
      "Processing Reviews:  98%|██████████████████▌| 1153/1181 [17:18<00:25,  1.11it/s]"
     ]
    },
    {
     "name": "stdout",
     "output_type": "stream",
     "text": [
      "Raw LLM Output for review: The service is the best, period.\n",
      "- Key topics:[Service Quality]\n",
      "- Sentiment:Positive\n",
      "\n",
      "Raw LLM Output for review: Limited number of superchargers and the charge is low.\n",
      "- Key topics:[Charging,Product Availability]\n",
      "- Sentiment:Neutral\n",
      "\n"
     ]
    },
    {
     "name": "stderr",
     "output_type": "stream",
     "text": [
      "Processing Reviews:  98%|██████████████████▌| 1154/1181 [17:20<00:39,  1.44s/it]"
     ]
    },
    {
     "name": "stdout",
     "output_type": "stream",
     "text": [
      "Raw LLM Output for review: Went to see about leasing  a tesla\n",
      "- Key topics:[Not Classified,Product Availability]\n",
      "- Sentiment: [Negative]\n",
      "\n"
     ]
    },
    {
     "name": "stderr",
     "output_type": "stream",
     "text": [
      "Processing Reviews:  98%|██████████████████▌| 1156/1181 [17:21<00:21,  1.14it/s]"
     ]
    },
    {
     "name": "stdout",
     "output_type": "stream",
     "text": [
      "Raw LLM Output for review: I want my model 3 ASAP\n",
      "- Key topics:[Product Quality,Service Time]\n",
      "- Sentiment:Negative\n",
      "\n"
     ]
    },
    {
     "name": "stderr",
     "output_type": "stream",
     "text": [
      "Processing Reviews:  98%|██████████████████▌| 1157/1181 [17:22<00:21,  1.13it/s]"
     ]
    },
    {
     "name": "stdout",
     "output_type": "stream",
     "text": [
      "Raw LLM Output for review: Love the service.\n",
      "- Key topics: [Service,Staff]\n",
      "- Sentiment: Positive\n",
      "\n"
     ]
    },
    {
     "name": "stderr",
     "output_type": "stream",
     "text": [
      "Processing Reviews:  98%|██████████████████▋| 1158/1181 [17:23<00:25,  1.09s/it]"
     ]
    },
    {
     "name": "stdout",
     "output_type": "stream",
     "text": [
      "Raw LLM Output for review: Excellent service representative folks\n",
      "- Key topics:[Staff]\n",
      "- Sentiment:Positive\n",
      "\n"
     ]
    },
    {
     "name": "stderr",
     "output_type": "stream",
     "text": [
      "Processing Reviews:  98%|██████████████████▋| 1159/1181 [17:24<00:20,  1.08it/s]"
     ]
    },
    {
     "name": "stdout",
     "output_type": "stream",
     "text": [
      "Raw LLM Output for review: Salesmen are nice and friendly\n",
      "- Key topics:Staff\n",
      "-Sentiment:Positive\n",
      "\n"
     ]
    },
    {
     "name": "stderr",
     "output_type": "stream",
     "text": [
      "Processing Reviews:  98%|██████████████████▋| 1160/1181 [17:24<00:15,  1.33it/s]"
     ]
    },
    {
     "name": "stdout",
     "output_type": "stream",
     "text": [
      "Raw LLM Output for review: Absolutely loved be the car!\n",
      "- Key topics: []\n",
      "- Sentiment: [Positive]\n",
      "\n",
      "Raw LLM Output for review: great customer service\n",
      "- Key topics:Staff\n",
      "-Sentiment:Positive\n",
      "\n",
      "Raw LLM Output for review: In one word awesome 💪 …\n",
      "- Key topics: []\n",
      "- Sentiment: [Positive]\n",
      "\n",
      "Raw LLM Output for review: Allen was cool\n",
      "- Key topics: [Not Classified]\n",
      "- Sentiment: [Negative]\n",
      "\n",
      "Raw LLM Output for review: Professional. Courteous. Knowledgeable.\n",
      "- Key topics:Staff,Sentiment:[Positive/Neutral]\n",
      "\n",
      "Raw LLM Output for review: Outstanding customer services\n",
      "- Key topics:[Staff]\n",
      "- Sentiment: [Positive]\n",
      "\n",
      "Raw LLM Output for review: Best car ever\n",
      "- Key topics:[Not Classified]\n",
      "- Sentiment:Positive\n",
      "\n",
      "Raw LLM Output for review: Can't beat this place!\n",
      "- Key topics:[Not Classified]\n",
      "- Sentiment:Positive\n",
      "\n",
      "Raw LLM Output for review: This is a super busy supercharger\n",
      "- Key topics: [Not Classified, Facilities]\n",
      "- Sentiment: Neutral\n",
      "\n",
      "Raw LLM Output for review: Check before you go\n",
      "- Key topics:[Not Classified, Not Classified, Not Classified]\n",
      "- Sentiment: [Neutral/Negative]\n",
      "\n",
      "Raw LLM Output for review: I need a test drive\n",
      "- Key topics:[Product Quality,Service Time]\n",
      "- Sentiment:Neutral\n",
      "\n",
      "Raw LLM Output for review: Nothing value\n",
      "- Key topics:[Not Classified]\n",
      "- Sentiment: [Negative]\n",
      "\n",
      "Raw LLM Output for review: great place\n",
      "- Key topics:[Facilities]\n",
      "- Sentiment:Positive\n",
      "\n",
      "Raw LLM Output for review: Awesome place\n",
      "- Key topics: [Not Classified, Facilities]\n",
      "- Sentiment: Positive\n",
      "\n",
      "Raw LLM Output for review: Nice\n",
      "- Key topics: \n",
      "- Sentiment: [Not Classified]\n",
      "\n"
     ]
    },
    {
     "name": "stderr",
     "output_type": "stream",
     "text": [
      "Processing Reviews:  98%|██████████████████▋| 1161/1181 [17:45<02:10,  6.51s/it]"
     ]
    },
    {
     "name": "stdout",
     "output_type": "stream",
     "text": [
      "Raw LLM Output for review: Only took me 107mims\n",
      "- Key topics:Service Time\n",
      "-Sentiment: [Negative]\n",
      "\n",
      "Note: The provided review seems to be incomplete or not relevant. The given text \"Only took me 107mims\" does not appear to be a coherent review about the mentioned topics. However, since it's incomplete, I can only identify Service Time as relevant and assign it as Negative due to the context that it implies a negative experience of service time, implying delays or inefficiency.\n",
      "\n"
     ]
    },
    {
     "name": "stderr",
     "output_type": "stream",
     "text": [
      "Processing Reviews: 100%|██████████████████▉| 1176/1181 [17:46<00:04,  1.07it/s]"
     ]
    },
    {
     "name": "stdout",
     "output_type": "stream",
     "text": [
      "Raw LLM Output for review: Fast service\n",
      "- Key topics:Service Time\n",
      "- Sentiment: [Positive]\n",
      "\n",
      "Raw LLM Output for review: Interesting\n",
      "- Key topics:Not Classified\n",
      "- Sentiment:Not Classified\n",
      "\n",
      "Raw LLM Output for review: I know very little about this place but they say that what they sell is very good, they are the cars and I don't know the address so little.\n",
      "- Key topics:[Not Classified]\n",
      "- Sentiment:[Neutral]\n",
      "\n",
      "Raw LLM Output for review: Too busy\n",
      "- Key topics: [Not Classified]\n",
      "- Sentiment: [Negative]\n",
      "\n"
     ]
    },
    {
     "name": "stderr",
     "output_type": "stream",
     "text": [
      "Processing Reviews: 100%|██████████████████▉| 1179/1181 [17:50<00:02,  1.04s/it]"
     ]
    },
    {
     "name": "stdout",
     "output_type": "stream",
     "text": [
      "Raw LLM Output for review: A beautiful showroom where you can see the new Cybertruck and Tesla 3, and Tesla's new robot is also here.\n",
      "- Key topics:[Not Classified, Not Classified]\n",
      "-Sentiment: [Neutral]\n",
      "\n"
     ]
    },
    {
     "name": "stderr",
     "output_type": "stream",
     "text": [
      "Processing Reviews: 100%|███████████████████| 1181/1181 [17:53<00:00,  1.10it/s]"
     ]
    },
    {
     "name": "stdout",
     "output_type": "stream",
     "text": [
      "Raw LLM Output for review: Car cool\n",
      "- Key topics: [Not Classified,Not Classified,Not Classified,Not Classified,Not Classified,Not Classified,Not Classified,Not Classified,Not Classified]\n",
      "- Sentiment: [Negative]\n",
      "\n"
     ]
    },
    {
     "name": "stderr",
     "output_type": "stream",
     "text": [
      "\n"
     ]
    }
   ],
   "source": [
    "import pandas as pd\n",
    "from tqdm import tqdm\n",
    "from ollama import chat\n",
    "import re\n",
    "from concurrent.futures import ThreadPoolExecutor\n",
    "\n",
    "PREDEFINED_TOPIC_STYLE = \"\"\"\n",
    "The topics you identify should follow this pattern: \n",
    "1. Use clear, concise phrases that reflect a broader category (e.g., \"Product Quality\" instead of \"Quality of product\").\n",
    "2. Avoid overly specific or long phrases.\n",
    "3. Use two to three words for each topic, aiming to summarize the key aspects of the review in a short, general way.\n",
    "\n",
    "Examples of appropriate topics:\n",
    "- Product Quality\n",
    "- Staff \n",
    "- Service Time\n",
    "- Music System\n",
    "- Recall\n",
    "- Brake\n",
    "- Oil Change/Refill\n",
    "- Wheel/Tires\n",
    "- Product Quality\n",
    "- Service Cost\n",
    "- Service Diagnostics\n",
    "- Facilities\n",
    "- Windshield\n",
    "- Door\n",
    "- Battery\n",
    "- Engine\n",
    "-Product Availability\n",
    "\"\"\"\n",
    "# Define the review analysis prompt with a strict output format\n",
    "PROMPT_TEMPLATE = '''\n",
    "\n",
    "Please analyze the following review and identify the most relevant topics discussed. \n",
    "The following is a predefined list of possible topics that you should choose from:\n",
    "- Product Quality\n",
    "- Staff\n",
    "- Service Time\n",
    "- Music System\n",
    "- Recall\n",
    "- Brake\n",
    "- Oil Change/Refill\n",
    "- Wheel/Tires\n",
    "- Product Quality\n",
    "- Service Cost\n",
    "- Service Diagnostics\n",
    "- Facilities\n",
    "- Windshield\n",
    "- Door\n",
    "- Battery\n",
    "- Engine\n",
    "- Gear Box\n",
    "- Charging\n",
    "- Product Availability\n",
    "- Not Classified\n",
    "\n",
    "\n",
    "You should **only** choose topics from this list, based on the review. If multiple topics apply, list them in order of relevance (from most relevant to least relevant).\n",
    "If You are not able to find relevant topic assign it as **Not Classified**\n",
    "\n",
    "Below are **few-shot examples** showing how to identify the topics :\n",
    "\n",
    "Example 1:\n",
    "Review: \"The music feature stopped working again. I'm really frustrated with this issue.\"\n",
    "- Chain of Thought:\n",
    "  1. The review mentions \"music feature\", which suggests reviewer talks about Music System. \n",
    "  2.Stopped working again suggest a Product failure hence Product Quality\n",
    "- Key topics: Music System,Product Quality\n",
    "\n",
    "\n",
    "Example 2:\n",
    "Review: \"The staff at the dealership were amazing! Tomasina provided great service, and I had a smooth experience.\"\n",
    "- Chain of Thought:\n",
    "  1. The review highlights positive experiences with the staff or service person hence \"Staff\"\n",
    "- Key topics: Staff \n",
    "\n",
    "\n",
    "Example 3:\n",
    "Review: \"Came to change brake pad. The product doesn't meet the standards, and I'm disappointed.\"\n",
    "- Chain of Thought:\n",
    "  1. The review mentions \"brake pad\", indicating the issue is with a specific part.\n",
    "  2. The phrase \"doesn't meet the standards\" suggests a problem with the product’s quality.\n",
    "- Key topics: Brake,Product Quality\n",
    "\n",
    "\n",
    "Example 4:\n",
    "Review: \"I had a quick and easy service appointment. The staff were courteous, and the mechanic did a great job in quick time.\"\n",
    "- Chain of Thought:\n",
    "  1. The review mentions a \"quick and easy service appointment\", which suggests that the service time was favorable.\n",
    "  2. The staff were \"courteous\", indicating a positive review of staff or service person behavior.\n",
    "  3. The mechanic did a \"great job\", suggesting that service quality was also good and broadly classify it into staff.\n",
    "- Key topics: Staff,Service Time\n",
    "\n",
    "\n",
    "Example 5:\n",
    "Review: \"While the service was good, the facilities were basic and not ideal. I wish there were more amenities.\"\n",
    "- Chain of Thought:\n",
    "  1. The review mentions a service was good, which suggest overall experience was good\n",
    "  2. however they also mention facilities were basic and not ideal and they would like more aminities hence indicating negative sentiment due to lack of Facilities\n",
    "- Key topics: Service quality, Facilities\n",
    "\n",
    "\n",
    "Example 6:\n",
    "Review: \"I found only one screw on my left front wheel after recall by this service center. That mistake totally ruined my wheel and cost hundreds of dollars to fix.\"\n",
    "- Chain of Thought:\n",
    "  1. The review mentions only one screw was there,which means overall Service quality was bad\n",
    "  2. Customer also mentions a specific part as wheel hence identify Wheel/Tires,also this was a recall service hence labelling recall\n",
    "- Key topics: Wheel/Tires, Recall,Service Quality\n",
    "\n",
    "\n",
    "Example 7:\n",
    "Review: \"I went to get an inspection and they told me to fix a bulb for $400. When I did it outside, they did it for $49. They were ripping people off. I waited 3 hours and they still couldn’t figure out what was wrong with the car.\"\n",
    "- Chain of Thought:\n",
    "  1. The review mentions feeling ripped off which indicates high Service Cost\n",
    "  2. Review also takes about waiting for 3 hours hence Service Time\n",
    "  3. It also mentions that they could not figure out whats wrong with thw car hence Service Diagnostics\n",
    "- Key topics: Service Cost,Service Diagnostics,Service Time\n",
    "\n",
    "\n",
    "Example 8:\n",
    "Review: \"Worst customer service ever. Took my F150 for a recall. From the start, she was so negative about the issue, told me it would take months to fix, and that I would have to leave the truck there. She is not even a technician and gave a diagnostic before inspecting the car. I was in disbelief. I suggest taking your Ford to a better service department.\"\n",
    " 1. The Customer takes about a service person being negative and expresses disappointment also they have mentioned it was  for a recall\n",
    " 2.Customer has also expressed that Staff mentioned it would take months to fix hence a Topic Service Time and also alleges wrong diagnosis hence Service Diagnostics\n",
    "- Key topics: Staff ,Recall,Service Time,Service Diagnostics\n",
    "\n",
    "\n",
    "\n",
    "\n",
    "Each output **must strictly follow the format below** ,Always **Output**Key topics andSentiment  **Do Not Output** Chain of Thought or Other Note:\n",
    "\n",
    "- Key topics:[Topic1, Topic2, Topic3]\n",
    "- Sentiment:[Positive/Negative/Neutral].\n",
    "\n",
    "\n",
    "Now, analyze the following review:\n",
    "{review}\n",
    "'''\n",
    "\n",
    "# Function to send a review for analysis\n",
    "def analyze_review(review: str, model: str = \"llama3.2\", max_retries: int = 3) -> str:\n",
    "    \"\"\"\n",
    "    Analyzes a review using the LLM model.\n",
    "\n",
    "    Args:\n",
    "    review (str): The review text to analyze.\n",
    "    model (str, optional): The LLM model to use. Defaults to \"llama3.2\".\n",
    "    max_retries (int, optional): The maximum number of retries. Defaults to 3.\n",
    "\n",
    "    Returns:\n",
    "    str: The raw LLM response.\n",
    "    \"\"\"\n",
    "    prompt = PROMPT_TEMPLATE.format(review=review)\n",
    "    messages = [{'role': 'user', 'content': prompt}]\n",
    "\n",
    "    for attempt in range(max_retries):\n",
    "        try:\n",
    "            # Use a more specific exception type instead of bare Exception\n",
    "            response = chat(model, messages=messages)\n",
    "            return response.message.content.strip()\n",
    "        except RuntimeError as e:\n",
    "            # Provide more informative error messages\n",
    "            print(f\"Retry {attempt + 1}/{max_retries} failed: {e}\")\n",
    "        except Exception as e:\n",
    "            # Catch any other unexpected exceptions\n",
    "            print(f\"Unexpected error: {e}\")\n",
    "            break\n",
    "\n",
    "    # Raise a more specific exception instead of RuntimeError\n",
    "    raise TimeoutError(\"Failed to get a valid response from the LLM after retries.\")\n",
    "\n",
    "\n",
    "    \n",
    "# Function to process a single review and parse the result\n",
    "import re\n",
    "\n",
    "#Here's an updated version of the process_review function to handle this new Raw LLM Output:\n",
    "#Python\n",
    "#import re\n",
    "\n",
    "import re\n",
    "\n",
    "def process_review(review: str) -> dict:\n",
    "    \"\"\"\n",
    "    Processes a review and extracts the topics and sentiment.\n",
    "\n",
    "    Args:\n",
    "    review (str): The review text to process.\n",
    "\n",
    "    Returns:\n",
    "    dict: A dictionary containing the extracted topics and sentiment.\n",
    "    \"\"\"\n",
    "    try:\n",
    "        # Get raw LLM response\n",
    "        review_output = analyze_review(review)\n",
    "        print(f\"Raw LLM Output for review: {review}\\n{review_output}\\n\")\n",
    "\n",
    "        # Extract key topics\n",
    "        key_topics_match = re.search(r\"- Key topics:(.*?)\\n- Sentiment:\", review_output, re.DOTALL)\n",
    "        if key_topics_match:\n",
    "            key_topics = [topic.strip() for topic in key_topics_match.group(1).split(\"\\n- \")]\n",
    "        else:\n",
    "            key_topics_match = re.search(r\"-Key topics:\\s*(.*?)\\s*-Sentiment:\", review_output, re.DOTALL)\n",
    "            if key_topics_match:\n",
    "                key_topics = [topic.strip() for topic in key_topics_match.group(1).split(\"\\n\")]\n",
    "            else:\n",
    "                key_topics_match = re.search(r\"- Key topics: (.*?)$\", review_output, re.DOTALL)\n",
    "                if key_topics_match:\n",
    "                    key_topics = [topic.strip() for topic in key_topics_match.group(1).split(\",\")]\n",
    "                else:\n",
    "                    key_topics_match = re.search(r\"Key topics:\\s*(.*?)\\s*Sentiment:\", review_output, re.DOTALL)\n",
    "                    if key_topics_match:\n",
    "                        key_topics = [topic.strip() for topic in key_topics_match.group(1).split(\"\\n- \")]\n",
    "                    else:\n",
    "                        key_topics = [\"Unknown\"]\n",
    "\n",
    "        # Extract sentiment\n",
    "        sentiment_match = re.search(r\"- Sentiment: (.*?)$\", review_output, re.IGNORECASE)\n",
    "        if sentiment_match:\n",
    "            sentiment = sentiment_match.group(1).strip().capitalize()\n",
    "        else:\n",
    "            sentiment_match = re.search(r\"-Sentiment: (.*?)$\", review_output, re.IGNORECASE)\n",
    "            if sentiment_match:\n",
    "                sentiment = sentiment_match.group(1).strip().capitalize()\n",
    "            else:\n",
    "                sentiment = \"Unknown\"\n",
    "\n",
    "        return {\"topics\": key_topics, \"sentiment\": sentiment}\n",
    "\n",
    "    except Exception as e:\n",
    "        # Catch any unexpected exceptions\n",
    "        print(f\"Unexpected error processing review: {e}\")\n",
    "        return {\"topics\": [\"Unknown\"], \"sentiment\": \"Unknown\"}\n",
    "        \n",
    "def parallel_processing(reviews, max_workers=5):\n",
    "    with ThreadPoolExecutor(max_workers=max_workers) as executor:\n",
    "        results = list(tqdm(\n",
    "            executor.map(process_review, reviews),\n",
    "            total=len(reviews),\n",
    "            desc=\"Processing Reviews\"\n",
    "        ))\n",
    "    return results\n",
    "\n",
    "# Process reviews in parallel\n",
    "results = parallel_processing(data['review'])\n",
    "\n",
    "# Align the results with the DataFrame\n",
    "data['topics'] = [result['topics'] for result in results]\n",
    "data['sentiment'] = [result['sentiment'] for result in results]\n",
    "\n",
    "# Display the updated DataFrame\n",
    "\n"
   ]
  },
  {
   "cell_type": "code",
   "execution_count": 21,
   "id": "b75b39a9-e976-4925-ac71-b6cc9249eb9a",
   "metadata": {
    "scrolled": true
   },
   "outputs": [
    {
     "data": {
      "text/plain": [
       "[{'topics': ['[Service Diagnostics, Service Cost]'], 'sentiment': 'Unknown'},\n",
       " {'topics': ['[Product Quality, Service Diagnostics]'],\n",
       "  'sentiment': 'Unknown'},\n",
       " {'topics': ['[Staff, Facilities]'], 'sentiment': 'Unknown'},\n",
       " {'topics': ['[Staff, Facilities]'], 'sentiment': 'Unknown'},\n",
       " {'topics': ['[Brake,Product Quality]'], 'sentiment': 'Unknown'},\n",
       " {'topics': ['[Biener Ford, Service Quality]'], 'sentiment': 'Unknown'},\n",
       " {'topics': ['[Door, Recall, Staff]'], 'sentiment': 'Negative'},\n",
       " {'topics': ['[Service Time,Staff,SERVICE COST]\\n-'], 'sentiment': 'Positive'},\n",
       " {'topics': ['[Staff]\\n-'], 'sentiment': 'Unknown'},\n",
       " {'topics': ['[Service Quality, Door]'], 'sentiment': 'Unknown'},\n",
       " {'topics': ['[Staff, Service Cost]'], 'sentiment': 'Negative'},\n",
       " {'topics': ['Staff'], 'sentiment': 'Unknown'},\n",
       " {'topics': ['[Service Time, Facilities]'], 'sentiment': 'Unknown'},\n",
       " {'topics': ['[Service Time, Service Cost, Staff]'], 'sentiment': 'Unknown'},\n",
       " {'topics': ['[Staff,Service Time]'], 'sentiment': 'Unknown'},\n",
       " {'topics': ['[Staff, Service Cost]'], 'sentiment': 'Unknown'},\n",
       " {'topics': ['[Staff,Service Quality]'], 'sentiment': 'Neutral'},\n",
       " {'topics': ['[Staff, Product Quality]'], 'sentiment': 'Unknown'},\n",
       " {'topics': ['[Staff,Service Quality]'], 'sentiment': 'Unknown'},\n",
       " {'topics': ['[Recall,Product Quality,Service Cost]'],\n",
       "  'sentiment': '[negative]'},\n",
       " {'topics': ['[Staff,Service Quality]\\n-'], 'sentiment': 'Unknown'},\n",
       " {'topics': ['[Service Cost,Service Time,Service Diagnostics]'],\n",
       "  'sentiment': 'Unknown'},\n",
       " {'topics': ['[Service Quality, Facilities]'], 'sentiment': 'Unknown'},\n",
       " {'topics': ['[Wheel/Tires, Recall]'], 'sentiment': 'Unknown'},\n",
       " {'topics': ['[Service Cost, Facilities]'], 'sentiment': 'Unknown'},\n",
       " {'topics': ['[Staff,Service Time]'], 'sentiment': 'Unknown'},\n",
       " {'topics': ['[Staff]'], 'sentiment': 'Unknown'},\n",
       " {'topics': ['[Service Time, Facilities]'], 'sentiment': 'Unknown'},\n",
       " {'topics': ['[Recall,Staff]'], 'sentiment': 'Unknown'},\n",
       " {'topics': ['[Service Cost, Facilities]'], 'sentiment': 'Unknown'},\n",
       " {'topics': ['[Staff,Service Time]'], 'sentiment': 'Unknown'},\n",
       " {'topics': ['[Staff,Service Time]'], 'sentiment': 'Unknown'},\n",
       " {'topics': ['[Door, Recall,Service Quality]'], 'sentiment': 'Unknown'},\n",
       " {'topics': ['[Staff,Service Time]'], 'sentiment': 'Unknown'},\n",
       " {'topics': ['[Wheel/Tires, Service Quality]'], 'sentiment': 'Unknown'},\n",
       " {'topics': ['[Service Quality, Recall, Facilities]'], 'sentiment': 'Unknown'},\n",
       " {'topics': ['[Staff, Service Quality]'], 'sentiment': 'Unknown'},\n",
       " {'topics': ['[Staff, Recall,Service Time,Service Diagnostics]'],\n",
       "  'sentiment': 'Negative'},\n",
       " {'topics': ['[Facilities,Service Time,Staff]'], 'sentiment': 'Unknown'},\n",
       " {'topics': ['[Service Quality, Facilities ,Staff]'], 'sentiment': 'Unknown'},\n",
       " {'topics': ['[Staff, Service Quality,Service Cost, Service Diagnostics]'],\n",
       "  'sentiment': 'Unknown'},\n",
       " {'topics': ['[Service Time,Staff]'], 'sentiment': 'Unknown'},\n",
       " {'topics': ['[Product Quality,Staff]'], 'sentiment': 'Unknown'},\n",
       " {'topics': ['[Staff,Product Quality]'], 'sentiment': '[negative]'},\n",
       " {'topics': ['[Staff,Service Time]'], 'sentiment': 'Unknown'},\n",
       " {'topics': ['[Service Cost, Facilities, Staff]'], 'sentiment': 'Unknown'},\n",
       " {'topics': ['[Staff, Facilities]'], 'sentiment': 'Unknown'},\n",
       " {'topics': ['[Service Quality, Facilities]'], 'sentiment': 'Unknown'},\n",
       " {'topics': ['[Recall, Wheel/Tires]'], 'sentiment': 'Unknown'},\n",
       " {'topics': ['[Staff]'], 'sentiment': 'Unknown'},\n",
       " {'topics': ['Staff'], 'sentiment': 'Unknown'},\n",
       " {'topics': ['[Product Quality,Service Cost]'], 'sentiment': 'Unknown'},\n",
       " {'topics': ['[Recall,Wheel/Tires]'], 'sentiment': 'Unknown'},\n",
       " {'topics': ['[Product Quality, Staff]'], 'sentiment': '[negative]'},\n",
       " {'topics': ['[Service Quality, Staff , Service Time]'],\n",
       "  'sentiment': 'Unknown'},\n",
       " {'topics': ['Staff,Service Time,Facilities,Sentiment:[Positive]'],\n",
       "  'sentiment': 'Unknown'},\n",
       " {'topics': ['[Service Time,Staff]'], 'sentiment': 'Unknown'},\n",
       " {'topics': ['[Service Cost, Staff]'], 'sentiment': '[positive]'},\n",
       " {'topics': ['[Staff]'], 'sentiment': 'Unknown'},\n",
       " {'topics': ['[Product Quality, Service Cost]'], 'sentiment': '[negative]'},\n",
       " {'topics': ['[Service Cost,Product Quality]'], 'sentiment': 'Unknown'},\n",
       " {'topics': ['[Staff,Service Time]'], 'sentiment': 'Unknown'},\n",
       " {'topics': ['[Service Quality, Facilities]'], 'sentiment': '[negative]'},\n",
       " {'topics': ['[Service Cost, Staff]'], 'sentiment': 'Unknown'},\n",
       " {'topics': ['[Staff,Product Availability]'], 'sentiment': 'Unknown'},\n",
       " {'topics': ['[Staff,Product Quality]'], 'sentiment': 'Unknown'},\n",
       " {'topics': ['[Staff,Service Quality]'], 'sentiment': 'Unknown'},\n",
       " {'topics': ['[Recall,Product Availability,Not Classified]'],\n",
       "  'sentiment': 'Unknown'},\n",
       " {'topics': ['[Facilities,Staff]'], 'sentiment': 'Unknown'},\n",
       " {'topics': ['[Staff, Service Quality]'], 'sentiment': 'Unknown'},\n",
       " {'topics': ['[Facilities,Staff]'], 'sentiment': 'Unknown'},\n",
       " {'topics': ['[Staff,Facilities]'], 'sentiment': 'Unknown'},\n",
       " {'topics': ['[Service Cost, Facilities]'], 'sentiment': 'Negative'},\n",
       " {'topics': ['[Staff,Service Time]'], 'sentiment': 'Unknown'},\n",
       " {'topics': ['[Staff,Product Quality]'], 'sentiment': 'Negative'},\n",
       " {'topics': ['[Staff]'], 'sentiment': 'Unknown'},\n",
       " {'topics': ['[Staff]'], 'sentiment': 'Unknown'},\n",
       " {'topics': ['[Service Time,Facilities,Staff]'], 'sentiment': 'Unknown'},\n",
       " {'topics': ['[Staff,Service Quality]'], 'sentiment': 'Unknown'},\n",
       " {'topics': ['[Facilities,Staff]'], 'sentiment': 'Unknown'},\n",
       " {'topics': ['[Staff, Facilities]'], 'sentiment': 'Negative'},\n",
       " {'topics': ['[Staff]\\n-'], 'sentiment': 'Unknown'},\n",
       " {'topics': ['[Service Quality, Facilities]'], 'sentiment': '[negative]'},\n",
       " {'topics': ['[Service Time, Service Quality]'], 'sentiment': 'Negative'},\n",
       " {'topics': ['[Staff,Service Time]'], 'sentiment': 'Unknown'},\n",
       " {'topics': ['[Not Classified, Not Classified, Not Classified]'],\n",
       "  'sentiment': 'Unknown'},\n",
       " {'topics': ['[Staff,Service Time]'], 'sentiment': 'Unknown'},\n",
       " {'topics': ['[Staff,Service Quality]'], 'sentiment': 'Unknown'},\n",
       " {'topics': ['[Staff,Service Time]'], 'sentiment': 'Unknown'},\n",
       " {'topics': ['[Service Quality,Staff]'], 'sentiment': 'Unknown'},\n",
       " {'topics': ['[Recall,Staff]'], 'sentiment': 'Unknown'},\n",
       " {'topics': ['[Staff]\\n-'], 'sentiment': 'Positive'},\n",
       " {'topics': ['[Staff, Product Quality]'], 'sentiment': 'Unknown'},\n",
       " {'topics': ['[Wheel/Tires,Service Cost,Staff]'], 'sentiment': 'Unknown'},\n",
       " {'topics': ['[Service Time]\\n-'], 'sentiment': 'Unknown'},\n",
       " {'topics': ['[Staff]'], 'sentiment': 'Unknown'},\n",
       " {'topics': ['[Staff]'], 'sentiment': 'Unknown'},\n",
       " {'topics': ['[Service Time, Staff]'], 'sentiment': 'Unknown'},\n",
       " {'topics': ['[Service Availability,Product Quality]'],\n",
       "  'sentiment': 'Unknown'},\n",
       " {'topics': ['[Staff]'], 'sentiment': 'Unknown'},\n",
       " {'topics': ['[Staff]'], 'sentiment': 'Unknown'},\n",
       " {'topics': ['[Staff, Facilities]'], 'sentiment': 'Unknown'},\n",
       " {'topics': ['[Staff]'], 'sentiment': '[negative]'},\n",
       " {'topics': ['[Staff]'], 'sentiment': 'Unknown'},\n",
       " {'topics': ['[Staff,Service Time]'], 'sentiment': 'Unknown'},\n",
       " {'topics': ['[Service Time, Service Quality]'], 'sentiment': 'Negative'},\n",
       " {'topics': ['[Staff]'], 'sentiment': 'Unknown'},\n",
       " {'topics': ['[Staff,Product Availability]'], 'sentiment': 'Unknown'},\n",
       " {'topics': ['[Not Classified,Product Availability]'], 'sentiment': 'Unknown'},\n",
       " {'topics': ['[Service Time, Service Cost]'], 'sentiment': 'Negative'},\n",
       " {'topics': ['[Staff, Service Quality]'], 'sentiment': 'Negative'},\n",
       " {'topics': ['[Service Quality,S Staff]'], 'sentiment': 'Unknown'},\n",
       " {'topics': ['[Recall,Service Quality]'], 'sentiment': 'Unknown'},\n",
       " {'topics': ['Service Cost,Product Quality\\n-'], 'sentiment': 'Unknown'},\n",
       " {'topics': ['[Staff,Service Quality,Facilities]'], 'sentiment': 'Unknown'},\n",
       " {'topics': ['[Staff]'], 'sentiment': 'Unknown'},\n",
       " {'topics': ['[Staff,Product Quality]'], 'sentiment': 'Unknown'},\n",
       " {'topics': ['[Service Time, Service Cost]'], 'sentiment': 'Unknown'},\n",
       " {'topics': ['[Staff,Service Time]\\n-'], 'sentiment': 'Unknown'},\n",
       " {'topics': ['[Facilities,Service Time]'], 'sentiment': '[positive]'},\n",
       " {'topics': ['[Staff,Facilities]'], 'sentiment': 'Unknown'},\n",
       " {'topics': ['[Service Time]'], 'sentiment': 'Unknown'},\n",
       " {'topics': ['[Service Cost,Product Quality]'], 'sentiment': 'Unknown'},\n",
       " {'topics': ['[Service Time, Product Availability]'], 'sentiment': 'Unknown'},\n",
       " {'topics': ['[Facilities,Staff]'], 'sentiment': 'Unknown'},\n",
       " {'topics': ['Staff,Product Availability'], 'sentiment': 'Unknown'},\n",
       " {'topics': ['[Service Time, Facilities]'], 'sentiment': 'Unknown'},\n",
       " {'topics': ['[Service Cost, Facilities]'], 'sentiment': 'Unknown'},\n",
       " {'topics': ['[Service Time, Service Cost]'], 'sentiment': 'Negative'},\n",
       " {'topics': ['[Staff]'], 'sentiment': 'Unknown'},\n",
       " {'topics': ['[Product Quality, Staff]'], 'sentiment': 'Negative'},\n",
       " {'topics': ['[Service Cost, Staff]\\n-'], 'sentiment': 'Unknown'},\n",
       " {'topics': ['[Service Quality, Facilities, Staff]'], 'sentiment': 'Unknown'},\n",
       " {'topics': ['[Staff, Facilities]'], 'sentiment': 'Positive'},\n",
       " {'topics': ['[Facilities, Staff]'], 'sentiment': 'Unknown'},\n",
       " {'topics': ['Staff,SERVICE Quality,Facilities\\n-'], 'sentiment': 'Unknown'},\n",
       " {'topics': ['[Staff,Service Time]\\n-'], 'sentiment': 'Positive'},\n",
       " {'topics': ['[Staff, Facilities]'], 'sentiment': 'Unknown'},\n",
       " {'topics': ['[Service Quality, Staff]'], 'sentiment': 'Positive'},\n",
       " {'topics': ['[Facilities,Staff,Service Time]'], 'sentiment': 'Unknown'},\n",
       " {'topics': ['Facilities'], 'sentiment': 'Positive'},\n",
       " {'topics': ['[Service Time,Service Cost]'], 'sentiment': 'Unknown'},\n",
       " {'topics': ['[Staff,Service Time]'], 'sentiment': 'Unknown'},\n",
       " {'topics': ['[Service Cost, Service Diagnostics]'], 'sentiment': 'Unknown'},\n",
       " {'topics': ['[Staff]'], 'sentiment': 'Unknown'},\n",
       " {'topics': ['[Staff,Service Time]'], 'sentiment': 'Unknown'},\n",
       " {'topics': ['[Staff,Product Quality]\\n-'], 'sentiment': 'Negative'},\n",
       " {'topics': ['[Service Time, Service Quality]'], 'sentiment': 'Unknown'},\n",
       " {'topics': ['[Dealership/Service,Wheel/Tires]'], 'sentiment': 'Unknown'},\n",
       " {'topics': ['[Service Quality, Service Cost]'], 'sentiment': 'Negative'},\n",
       " {'topics': ['[Facilities,Service Quality]'], 'sentiment': 'Unknown'},\n",
       " {'topics': ['[Recall,Windshield]'], 'sentiment': 'Unknown'},\n",
       " {'topics': ['[Staff, Facilities]'], 'sentiment': '[positive]'},\n",
       " {'topics': ['[Facilities,Staff]'], 'sentiment': 'Unknown'},\n",
       " {'topics': ['[Service Time,Transmission]'], 'sentiment': 'Negative'},\n",
       " {'topics': ['[Service Time,Service Quality]'], 'sentiment': 'Unknown'},\n",
       " {'topics': ['[Staff, Product Quality]'], 'sentiment': '[negative]'},\n",
       " {'topics': ['[Service Time]'], 'sentiment': 'Unknown'},\n",
       " {'topics': ['[Staff ,Service Time,Battery]'], 'sentiment': 'Unknown'},\n",
       " {'topics': ['[Not Classified, Facilities]'], 'sentiment': 'Unknown'},\n",
       " {'topics': ['[Staff, Facilities]'], 'sentiment': 'Positive'},\n",
       " {'topics': ['Facilities,SERVICE Time'], 'sentiment': 'Positive'},\n",
       " {'topics': ['[Staff]'], 'sentiment': 'Unknown'},\n",
       " {'topics': ['[Product Availability,Service Quality]\\n-'],\n",
       "  'sentiment': 'Unknown'},\n",
       " {'topics': ['[Staff,Service Quality]'], 'sentiment': 'Unknown'},\n",
       " {'topics': ['Service Cost,Staff'], 'sentiment': 'Unknown'},\n",
       " {'topics': ['Staff'], 'sentiment': 'Positive'},\n",
       " {'topics': ['[Staff]'], 'sentiment': 'Unknown'},\n",
       " {'topics': ['Staff,Service Time\\n-'], 'sentiment': 'Unknown'},\n",
       " {'topics': ['[Service Time,Staff ,Product Quality]'], 'sentiment': 'Unknown'},\n",
       " {'topics': ['[Staff,Product Availability]'], 'sentiment': 'Unknown'},\n",
       " {'topics': ['Not Classified'], 'sentiment': 'Unknown'},\n",
       " {'topics': ['[Product Quality, Staff]'], 'sentiment': 'Negative'},\n",
       " {'topics': ['[]'], 'sentiment': '[positive]'},\n",
       " {'topics': ['[Service Quality,Staff]'], 'sentiment': 'Unknown'},\n",
       " {'topics': ['[Staff]'], 'sentiment': 'Unknown'},\n",
       " {'topics': ['[Not Classified, Service Cost]'], 'sentiment': 'Negative'},\n",
       " {'topics': ['[Facilities,Staff,Service Time]'], 'sentiment': 'Unknown'},\n",
       " {'topics': ['[Service Time]'], 'sentiment': 'Unknown'},\n",
       " {'topics': ['[Product Quality, Staff]'], 'sentiment': '[positive]'},\n",
       " {'topics': ['Staff\\n-'], 'sentiment': 'Unknown'},\n",
       " {'topics': ['Staff,Service Quality\\n-'], 'sentiment': 'Unknown'},\n",
       " {'topics': ['Staff'], 'sentiment': 'Unknown'},\n",
       " {'topics': ['[Staff,Service Time]'], 'sentiment': 'Unknown'},\n",
       " {'topics': ['[Staff]'], 'sentiment': 'Unknown'},\n",
       " {'topics': ['[Not Classified,Service Quality]'], 'sentiment': 'Unknown'},\n",
       " {'topics': ['[Product Quality, Recall]'], 'sentiment': 'Unknown'},\n",
       " {'topics': ['[Service Time]'], 'sentiment': 'Unknown'},\n",
       " {'topics': ['[Service Quality]'], 'sentiment': '[positive]'},\n",
       " {'topics': ['Staff,Service Quality'], 'sentiment': 'Unknown'},\n",
       " {'topics': ['[Staff,Service Quality]'], 'sentiment': 'Positive'},\n",
       " {'topics': ['[Staff,Facilities,Product Quality]'], 'sentiment': 'Unknown'},\n",
       " {'topics': ['[Service Time]'], 'sentiment': 'Unknown'},\n",
       " {'topics': ['[Product Quality, Staff]'], 'sentiment': 'Unknown'},\n",
       " {'topics': ['[Not Classified]'], 'sentiment': 'Unknown'},\n",
       " {'topics': ['[Service Time,Oil Change/Refill]'], 'sentiment': 'Unknown'},\n",
       " {'topics': ['[Staff,Service Time]'], 'sentiment': 'Unknown'},\n",
       " {'topics': ['[Staff]'], 'sentiment': 'Unknown'},\n",
       " {'topics': ['Staff,Parking'], 'sentiment': 'Neutral'},\n",
       " {'topics': ['[Not Classified]'], 'sentiment': 'Unknown'},\n",
       " {'topics': ['[Staff]'], 'sentiment': '[positive]'},\n",
       " {'topics': ['[Service Time,Product Availability]'], 'sentiment': 'Unknown'},\n",
       " {'topics': ['Service Time\\n-'], 'sentiment': 'Unknown'},\n",
       " {'topics': ['Facilities'], 'sentiment': '[not classified]'},\n",
       " {'topics': ['Staff\\n-'], 'sentiment': 'Unknown'},\n",
       " {'topics': ['[Not Classified]'], 'sentiment': 'Unknown'},\n",
       " {'topics': ['Facilities,Negative'], 'sentiment': 'Negative'},\n",
       " {'topics': ['[Service Cost, Facilities,Staff]'], 'sentiment': 'Unknown'},\n",
       " {'topics': ['[Product Quality, Service Cost]'], 'sentiment': 'Unknown'},\n",
       " {'topics': ['[Oil Change/Refill]'], 'sentiment': '[negative]'},\n",
       " {'topics': ['[Service Cost, Service]'], 'sentiment': 'Neutral'},\n",
       " {'topics': ['[Product Quality]'], 'sentiment': 'Unknown'},\n",
       " {'topics': [''], 'sentiment': '[positive]'},\n",
       " {'topics': ['[Service Quality]'], 'sentiment': 'Positive'},\n",
       " {'topics': ['[Product Quality,Service Cost]'],\n",
       "  'sentiment': '[not classified]'},\n",
       " {'topics': ['[Staff]'], 'sentiment': 'Unknown'},\n",
       " {'topics': ['[Not Classified]'], 'sentiment': 'Unknown'},\n",
       " {'topics': ['Staff'], 'sentiment': 'Unknown'},\n",
       " {'topics': ['[Staff]'], 'sentiment': 'Unknown'},\n",
       " {'topics': ['[Service Quality,Not Classified]'], 'sentiment': 'Unknown'},\n",
       " {'topics': ['[Not Classified, Not Classified]'],\n",
       "  'sentiment': '[negative/neutral]'},\n",
       " {'topics': ['[Staff]'], 'sentiment': 'Unknown'},\n",
       " {'topics': ['[Staff]'], 'sentiment': 'Unknown'},\n",
       " {'topics': ['[Staff]'], 'sentiment': 'Unknown'},\n",
       " {'topics': ['[Not Classified]'], 'sentiment': 'Unknown'},\n",
       " {'topics': ['[Not Classified]'], 'sentiment': '[negative]'},\n",
       " {'topics': ['Staff'], 'sentiment': 'Unknown'},\n",
       " {'topics': ['[Staff,Service Time]'], 'sentiment': '[positive]'},\n",
       " {'topics': ['[Service Time]'], 'sentiment': 'Unknown'},\n",
       " {'topics': ['[Not Classified]'], 'sentiment': 'Unknown'},\n",
       " {'topics': ['[Not Classified]\\n-'],\n",
       "  'sentiment': '[positive/negative/neutral]'},\n",
       " {'topics': ['[Product Quality,Recall]'], 'sentiment': 'Unknown'},\n",
       " {'topics': ['[Staff]'], 'sentiment': '[positive]'},\n",
       " {'topics': ['[Not Classified]'], 'sentiment': '[negative/negative/ neutral]'},\n",
       " {'topics': ['[Staff, Product Quality]'], 'sentiment': 'Unknown'},\n",
       " {'topics': ['Staff'], 'sentiment': 'Unknown'},\n",
       " {'topics': ['[Not Classified]'], 'sentiment': '[not classified]'},\n",
       " {'topics': ['[Not Classified,Not Classified,Service Time,Not Classified]'],\n",
       "  'sentiment': '[neutral/negative]'},\n",
       " {'topics': ['[Staff]'], 'sentiment': '[positive]'},\n",
       " {'topics': ['[Not Classified, Product Quality, Service Cost]'],\n",
       "  'sentiment': '[negative]'},\n",
       " {'topics': ['[Staff]'], 'sentiment': 'Unknown'},\n",
       " {'topics': ['[Product Quality]'], 'sentiment': '[negative]'},\n",
       " {'topics': ['[Service Cost, Staff]'], 'sentiment': 'Unknown'},\n",
       " {'topics': ['[Staff,Service Time]'], 'sentiment': '[positive]'},\n",
       " {'topics': ['[Service Quality]'], 'sentiment': '[positive]'},\n",
       " {'topics': [''], 'sentiment': '[not classified]'},\n",
       " {'topics': ['[Facilities]'], 'sentiment': 'Unknown'},\n",
       " {'topics': ['[Service Quality, Facilities, Staff]'], 'sentiment': 'Unknown'},\n",
       " {'topics': ['[Service Time,Battery]'], 'sentiment': 'Unknown'},\n",
       " {'topics': ['[Service Quality, Facilities]'], 'sentiment': 'Negative'},\n",
       " {'topics': ['[Staff]'], 'sentiment': 'Unknown'},\n",
       " {'topics': ['[Service Time, Oil Change/Refill]'], 'sentiment': 'Unknown'},\n",
       " {'topics': ['[Staff]'], 'sentiment': '[negative]'},\n",
       " {'topics': ['[Not Classified,Staff]'], 'sentiment': '[positive]'},\n",
       " {'topics': ['[Staff]'], 'sentiment': 'Unknown'},\n",
       " {'topics': ['[None Classified,Not Classified]'], 'sentiment': '[positive]'},\n",
       " {'topics': ['[Service Time,Facilities]'], 'sentiment': 'Unknown'},\n",
       " {'topics': ['[Service Cost,Service Time]'], 'sentiment': 'Unknown'},\n",
       " {'topics': ['[Service Cost, Facilities]'], 'sentiment': 'Unknown'},\n",
       " {'topics': ['[Service Time, Staff, Product Quality]'],\n",
       "  'sentiment': '[positive]'},\n",
       " {'topics': ['[Product Quality,Service Cost]'], 'sentiment': '[negative]'},\n",
       " {'topics': ['[Staff,Service Time]'], 'sentiment': 'Unknown'},\n",
       " {'topics': ['[Recall, Service Time,Wheel/Tires]'], 'sentiment': 'Unknown'},\n",
       " {'topics': ['[Staff,Service Quality]'], 'sentiment': 'Unknown'},\n",
       " {'topics': ['Staff\\n-'], 'sentiment': 'Unknown'},\n",
       " {'topics': ['[Staff,Service Time]\\n-'], 'sentiment': 'Negative'},\n",
       " {'topics': ['[Service Time, Facilities]'], 'sentiment': 'Unknown'},\n",
       " {'topics': ['[Product Availability,Recall]'], 'sentiment': 'Positive'},\n",
       " {'topics': ['[Product Quality, Facilities]'], 'sentiment': 'Unknown'},\n",
       " {'topics': ['[Staff,Service Time,Product Quality]'], 'sentiment': 'Unknown'},\n",
       " {'topics': ['[Staff,Service Time]'], 'sentiment': 'Unknown'},\n",
       " {'topics': ['[Staff]'], 'sentiment': 'Unknown'},\n",
       " {'topics': ['[Service Quality, Facilities]'], 'sentiment': 'Unknown'},\n",
       " {'topics': ['[Service Time,Product Quality]'], 'sentiment': 'Unknown'},\n",
       " {'topics': ['[Service Time, Facilities]'], 'sentiment': 'Unknown'},\n",
       " {'topics': ['[Service Cost, Facilities]'], 'sentiment': 'Unknown'},\n",
       " {'topics': ['[Service Quality, Facilities]'], 'sentiment': 'Negative'},\n",
       " {'topics': ['[Staff]'], 'sentiment': 'Unknown'},\n",
       " {'topics': ['[Staff]'], 'sentiment': 'Unknown'},\n",
       " {'topics': ['[Staff, Facilities]'], 'sentiment': 'Unknown'},\n",
       " {'topics': ['[Staff, Service Time]'], 'sentiment': 'Unknown'},\n",
       " {'topics': ['[Service Time,Staff,Product Quality]'], 'sentiment': 'Negative'},\n",
       " {'topics': ['[Service Diagnostics, Staff, Facilities]'],\n",
       "  'sentiment': 'Unknown'},\n",
       " {'topics': ['[Service Time, Facilities]'], 'sentiment': '[negative]'},\n",
       " {'topics': ['[Music System,Service Quality]'], 'sentiment': 'Unknown'},\n",
       " {'topics': ['[Service Time, Facilities]'], 'sentiment': 'Unknown'},\n",
       " {'topics': ['[Staff, Service Time]'], 'sentiment': '[positive]'},\n",
       " {'topics': ['[Staff,Service Time,Facilities]'], 'sentiment': 'Unknown'},\n",
       " {'topics': ['[Staff,Service Quality]'], 'sentiment': 'Unknown'},\n",
       " {'topics': ['[Staff]'], 'sentiment': 'Unknown'},\n",
       " {'topics': ['[Service Time, Staff]'], 'sentiment': 'Negative'},\n",
       " {'topics': ['[Staff, Facilities]'], 'sentiment': 'Unknown'},\n",
       " {'topics': ['[Brake,Turbo underboost,Service Quality]'],\n",
       "  'sentiment': 'Unknown'},\n",
       " {'topics': ['[Staff, Facilities]'], 'sentiment': 'Unknown'},\n",
       " {'topics': ['[Staff, Recall]'], 'sentiment': 'Unknown'},\n",
       " {'topics': ['[Wheel/Tires,Product Quality]'], 'sentiment': 'Unknown'},\n",
       " {'topics': ['[Staff,Service Time]'], 'sentiment': '[positive]'},\n",
       " {'topics': ['[Service Quality,Staff]'], 'sentiment': 'Unknown'},\n",
       " {'topics': ['[Staff]'], 'sentiment': 'Unknown'},\n",
       " {'topics': ['[Service Cost, Product Quality]'], 'sentiment': 'Unknown'},\n",
       " {'topics': ['[Service Quality, Facilities]\\n-'], 'sentiment': 'Positive'},\n",
       " {'topics': ['[Service Quality, Facilities, Staff]'], 'sentiment': 'Unknown'},\n",
       " {'topics': ['Service Cost, Service Quality'], 'sentiment': 'Unknown'},\n",
       " {'topics': ['[Not Classified,Recall,Product Quality]'],\n",
       "  'sentiment': 'Unknown'},\n",
       " {'topics': ['[Product Quality,Service Cost]'], 'sentiment': 'Unknown'},\n",
       " {'topics': ['[Staff]'], 'sentiment': 'Unknown'},\n",
       " {'topics': ['[Staff, Facilities]'], 'sentiment': 'Unknown'},\n",
       " {'topics': ['[Service Cost,Staff]'], 'sentiment': 'Unknown'},\n",
       " {'topics': ['[Staff]'], 'sentiment': 'Unknown'},\n",
       " {'topics': ['[Service Time, Product Quality]'], 'sentiment': 'Negative'},\n",
       " {'topics': ['[Product Availability, Recall]'], 'sentiment': 'Unknown'},\n",
       " {'topics': ['[Recall,Service Quality]'], 'sentiment': 'Unknown'},\n",
       " {'topics': ['[Staff],Service Time'], 'sentiment': 'Unknown'},\n",
       " {'topics': ['[Staff]'], 'sentiment': 'Unknown'},\n",
       " {'topics': ['[Staff]'], 'sentiment': 'Unknown'},\n",
       " {'topics': ['[Service Time, Service Cost]'], 'sentiment': 'Unknown'},\n",
       " {'topics': ['[Wheel/Tires, Facilities, Service Quality]'],\n",
       "  'sentiment': 'Negative'},\n",
       " {'topics': ['[Staff,SERVICE COST ,Facilities]'], 'sentiment': 'Unknown'},\n",
       " {'topics': ['[Staff,Service Time]'], 'sentiment': 'Unknown'},\n",
       " {'topics': ['[Product Quality, Staff]'], 'sentiment': 'Unknown'},\n",
       " {'topics': ['[Not Classified, Service Cost]'], 'sentiment': 'Unknown'},\n",
       " {'topics': ['[Service Diagnostics, Facilities]'], 'sentiment': 'Unknown'},\n",
       " {'topics': ['[Staff]'], 'sentiment': 'Unknown'},\n",
       " {'topics': ['[Staff,Service Cost]'], 'sentiment': 'Unknown'},\n",
       " {'topics': ['[Staff, Facilities]'], 'sentiment': 'Unknown'},\n",
       " {'topics': ['[Wheel/Tires,Service Quality]'], 'sentiment': 'Unknown'},\n",
       " {'topics': ['Service Time'], 'sentiment': 'Unknown'},\n",
       " {'topics': ['Staff,Sservice Time'], 'sentiment': 'Unknown'},\n",
       " {'topics': ['Not Classified'], 'sentiment': 'Unknown'},\n",
       " {'topics': ['[Service Time,Wheel/Tires]'], 'sentiment': 'Unknown'},\n",
       " {'topics': ['[Service Quality, Facilities, Product Availability]'],\n",
       "  'sentiment': 'Unknown'},\n",
       " {'topics': ['[Service Time, Staff]'], 'sentiment': 'Unknown'},\n",
       " {'topics': ['Service Time,Staff'], 'sentiment': 'Unknown'},\n",
       " {'topics': ['[Service Quality,Facilities]'], 'sentiment': 'Unknown'},\n",
       " {'topics': ['[Staff, Product Quality]'], 'sentiment': '[positive]'},\n",
       " {'topics': ['[Product Availability, Staff]\\n-'], 'sentiment': 'Positive'},\n",
       " {'topics': ['[Service Quality,Staff]'], 'sentiment': 'Unknown'},\n",
       " {'topics': ['[Service Time]'], 'sentiment': 'Unknown'},\n",
       " {'topics': ['Staff,Product Availability'], 'sentiment': 'Unknown'},\n",
       " {'topics': ['[Staff,Service Quality]'], 'sentiment': 'Unknown'},\n",
       " {'topics': ['[Service Cost, Staff, Facilities]'], 'sentiment': 'Unknown'},\n",
       " {'topics': ['Service Quality\\n-'], 'sentiment': 'Unknown'},\n",
       " {'topics': ['[Staff, Product Quality]'], 'sentiment': 'Positive'},\n",
       " {'topics': ['[Staff,Service Quality]'], 'sentiment': 'Unknown'},\n",
       " {'topics': ['[Service Time,Staff]'], 'sentiment': 'Unknown'},\n",
       " {'topics': ['[Staff]\\n-'], 'sentiment': 'Unknown'},\n",
       " {'topics': ['[Staff,Product Quality]'], 'sentiment': 'Unknown'},\n",
       " {'topics': ['Not Classified'], 'sentiment': 'Unknown'},\n",
       " {'topics': ['[Staff,Service Time,Facilities]'], 'sentiment': 'Unknown'},\n",
       " {'topics': ['Service quality,Facilities'], 'sentiment': 'Unknown'},\n",
       " {'topics': ['[Staff,Service Quality]'], 'sentiment': 'Unknown'},\n",
       " {'topics': ['[Staff,Service Quality,Facilities]'], 'sentiment': 'Unknown'},\n",
       " {'topics': ['[Staff]'], 'sentiment': 'Unknown'},\n",
       " {'topics': ['[Service Time,Wheel/Tires]'], 'sentiment': 'Neutral'},\n",
       " {'topics': ['[Staff]'], 'sentiment': 'Unknown'},\n",
       " {'topics': ['[Staff]'], 'sentiment': 'Positive'},\n",
       " {'topics': ['[Staff, Service Time]'], 'sentiment': 'Positive'},\n",
       " {'topics': ['Staff,Service Time'], 'sentiment': 'Unknown'},\n",
       " {'topics': ['[Service Quality]'], 'sentiment': 'Unknown'},\n",
       " {'topics': ['[Service Time]\\n-'], 'sentiment': 'Unknown'},\n",
       " {'topics': ['[Service Quality, Facilities]'], 'sentiment': 'Unknown'},\n",
       " {'topics': ['[Staff]'], 'sentiment': 'Unknown'},\n",
       " {'topics': ['[Staff, Service Quality]'], 'sentiment': 'Negative'},\n",
       " {'topics': ['[Service Cost, Facilities]'], 'sentiment': 'Unknown'},\n",
       " {'topics': ['Staff'], 'sentiment': 'Unknown'},\n",
       " {'topics': ['[Product Quality,Service Time]'], 'sentiment': '[neutral]'},\n",
       " {'topics': ['[Staff,Product Quality]'], 'sentiment': '[positive]'},\n",
       " {'topics': ['[Service Quality,Facilities]'], 'sentiment': 'Unknown'},\n",
       " {'topics': ['[Wheel/Tires,Recall]\\n-'], 'sentiment': '[negative]'},\n",
       " {'topics': ['[Service Time]'], 'sentiment': 'Unknown'},\n",
       " {'topics': ['Staff,'], 'sentiment': 'Unknown'},\n",
       " {'topics': ['[Staff]'], 'sentiment': 'Positive'},\n",
       " {'topics': ['[Staff,Service Time]'],\n",
       "  'sentiment': '[positive/negative/neutral]'},\n",
       " {'topics': ['[Staff]'], 'sentiment': '[positive]'},\n",
       " {'topics': ['[Service Cost, Oil Change/Refill]'], 'sentiment': 'Unknown'},\n",
       " {'topics': ['[Service Time,Staff]'], 'sentiment': 'Unknown'},\n",
       " {'topics': ['[Staff,Service Time]'], 'sentiment': 'Positive'},\n",
       " {'topics': ['[Service Quality, Staff]'], 'sentiment': 'Unknown'},\n",
       " {'topics': ['[Service Cost,Staff]'],\n",
       "  'sentiment': '[positive/negative/neutral]'},\n",
       " {'topics': ['[Staff]\\n-'], 'sentiment': 'Unknown'},\n",
       " {'topics': ['Product Availability'], 'sentiment': 'Unknown'},\n",
       " {'topics': ['Service Time\\n-'], 'sentiment': 'Unknown'},\n",
       " {'topics': ['[Not Classified]'], 'sentiment': '[positive]'},\n",
       " {'topics': ['[Service Time, Staff]'], 'sentiment': 'Unknown'},\n",
       " {'topics': ['[Service Cost, Staff]'], 'sentiment': '[positive]'},\n",
       " {'topics': ['[Service Time]'], 'sentiment': 'Unknown'},\n",
       " {'topics': ['[Staff]'], 'sentiment': 'Unknown'},\n",
       " {'topics': ['Staff'], 'sentiment': 'Unknown'},\n",
       " {'topics': ['Staff,Service Time'], 'sentiment': 'Unknown'},\n",
       " {'topics': ['[Staff]'], 'sentiment': '[positive]'},\n",
       " {'topics': ['Not Classified'], 'sentiment': 'Unknown'},\n",
       " {'topics': ['[Not Classified, Facilities]'], 'sentiment': 'Neutral'},\n",
       " {'topics': ['[Staff,Service Time]'], 'sentiment': '[positive]'},\n",
       " {'topics': ['[Staff]'], 'sentiment': 'Positive'},\n",
       " {'topics': ['[Staff, Facilities]'], 'sentiment': '[positive]'},\n",
       " {'topics': ['Staff\\n-'], 'sentiment': 'Unknown'},\n",
       " {'topics': ['[Staff,Service Time]'], 'sentiment': 'Unknown'},\n",
       " {'topics': ['[Service Quality, Facilities]'], 'sentiment': 'Unknown'},\n",
       " {'topics': ['Staff'], 'sentiment': 'Unknown'},\n",
       " {'topics': ['[Staff]'], 'sentiment': 'Positive'},\n",
       " {'topics': ['[Staff]',\n",
       "   'Sentiment: [Positive]\\n\\nNote: The review does not explicitly mention any specific topic from the predefined list except Staff. However',\n",
       "   'it is mentioned that \"I dont go anywhere else\" which implies Product Quality as well because reviewer prefers to go with same service center for their all needs'],\n",
       "  'sentiment': 'Unknown'},\n",
       " {'topics': ['', 'Staff'], 'sentiment': 'Unknown'},\n",
       " {'topics': ['[Staff]'], 'sentiment': 'Unknown'},\n",
       " {'topics': ['[Not Classified]'], 'sentiment': '[neutral]'},\n",
       " {'topics': ['[Wheel/Tires, Facilities,Recall]'], 'sentiment': 'Unknown'},\n",
       " {'topics': ['Service Cost'], 'sentiment': 'Unknown'},\n",
       " {'topics': ['Staff\\n-'], 'sentiment': 'Unknown'},\n",
       " {'topics': ['[Not Classified]'], 'sentiment': '[negative]'},\n",
       " {'topics': ['Service Cost'], 'sentiment': 'Unknown'},\n",
       " {'topics': ['[Recall, Service Quality]'], 'sentiment': 'Unknown'},\n",
       " {'topics': ['Service Time'], 'sentiment': 'Unknown'},\n",
       " {'topics': ['None'], 'sentiment': 'Unknown'},\n",
       " {'topics': ['Staff\\n-'], 'sentiment': 'Unknown'},\n",
       " {'topics': ['[Service Quality]'], 'sentiment': '[positive]'},\n",
       " {'topics': ['[Recall, Facilities]'], 'sentiment': 'Neutral'},\n",
       " {'topics': ['[Service Quality,Facilities]'], 'sentiment': 'Unknown'},\n",
       " {'topics': ['[Service Quality]'], 'sentiment': 'Positive'},\n",
       " {'topics': ['[Staff,Service Time]'], 'sentiment': 'Unknown'},\n",
       " {'topics': ['[None Classified]'], 'sentiment': '[positive]'},\n",
       " {'topics': ['[Service Time,Product Quality]'], 'sentiment': 'Unknown'},\n",
       " {'topics': ['[Staff,Service Time]'], 'sentiment': '[positive]'},\n",
       " {'topics': ['[Staff]'], 'sentiment': '[positive]'},\n",
       " {'topics': ['[Not Classified, Not Classified]'], 'sentiment': 'Unknown'},\n",
       " {'topics': ['[Not Classified, Not Classified, Not Classified, Not Classified, Not Classified, Not Classified, Not Classified, Not Classified, Service Quality]'],\n",
       "  'sentiment': 'Positive'},\n",
       " {'topics': ['[Service Time]'], 'sentiment': '[positive]'},\n",
       " {'topics': ['Staff\\n-'], 'sentiment': 'Unknown'},\n",
       " {'topics': ['[Service Quality,Staff]'], 'sentiment': 'Unknown'},\n",
       " {'topics': ['[Staff]'], 'sentiment': 'Unknown'},\n",
       " {'topics': [''], 'sentiment': '[positive]'},\n",
       " {'topics': ['[Staff]'], 'sentiment': 'Positive'},\n",
       " {'topics': ['Staff'], 'sentiment': 'Unknown'},\n",
       " {'topics': ['[Not Classified]'], 'sentiment': 'Unknown'},\n",
       " {'topics': ['[Staff]'], 'sentiment': 'Unknown'},\n",
       " {'topics': ['[Facilities]'], 'sentiment': '[negative]'},\n",
       " {'topics': ['[Staff]'], 'sentiment': 'Unknown'},\n",
       " {'topics': [''], 'sentiment': '[positive]'},\n",
       " {'topics': ['[Service Time]'], 'sentiment': 'Unknown'},\n",
       " {'topics': ['[Not Classified]'], 'sentiment': 'Unknown'},\n",
       " {'topics': ['[Staff]'], 'sentiment': 'Unknown'},\n",
       " {'topics': ['[Not Classified, Not Classified, Not Classified]'],\n",
       "  'sentiment': 'Positive'},\n",
       " {'topics': ['[Staff]'], 'sentiment': 'Positive'},\n",
       " {'topics': ['[Not Classified, Staff]'], 'sentiment': '[positive]'},\n",
       " {'topics': ['[Service]'], 'sentiment': 'Unknown'},\n",
       " {'topics': ['[]'], 'sentiment': '[]'},\n",
       " {'topics': ['[Not Classified]'], 'sentiment': 'Unknown'},\n",
       " {'topics': ['[Staff]'], 'sentiment': '[positive]'},\n",
       " {'topics': ['Not Classified'], 'sentiment': 'Unknown'},\n",
       " {'topics': ['[Staff,Safety]'], 'sentiment': 'Unknown'},\n",
       " {'topics': ['[Service Quality,Staff]'], 'sentiment': 'Unknown'},\n",
       " {'topics': ['[Not Classified, Not Classified, Not Classified]'],\n",
       "  'sentiment': 'Unknown'},\n",
       " {'topics': ['[Not Classified, Staff]'], 'sentiment': 'Unknown'},\n",
       " {'topics': ['[Staff,Service Quality]'], 'sentiment': 'Unknown'},\n",
       " {'topics': ['Service quality,Facilities'], 'sentiment': 'Unknown'},\n",
       " {'topics': ['[Not Classified]'], 'sentiment': 'Unknown'},\n",
       " {'topics': ['Not Classified'], 'sentiment': 'Unknown'},\n",
       " {'topics': ['[Service Time,Staff]'], 'sentiment': 'Unknown'},\n",
       " {'topics': ['[Staff,Service Quality]'], 'sentiment': 'Unknown'},\n",
       " {'topics': ['[Not Classified, Not Classified]'], 'sentiment': 'Unknown'},\n",
       " {'topics': ['[Staff]'], 'sentiment': 'Unknown'},\n",
       " {'topics': ['Service Time,Product Availability'], 'sentiment': 'Unknown'},\n",
       " {'topics': ['[Battery,Engine]\\n-'], 'sentiment': 'Unknown'},\n",
       " {'topics': ['[Service Diagnostics, Service Cost]'], 'sentiment': 'Negative'},\n",
       " {'topics': ['[Staff,Service Time]'], 'sentiment': 'Negative'},\n",
       " {'topics': ['[Service Time,Not Classified]'], 'sentiment': 'Unknown'},\n",
       " {'topics': ['[Service Time,Staff]'], 'sentiment': 'Unknown'},\n",
       " {'topics': ['[Service Time,Staff]'], 'sentiment': 'Unknown'},\n",
       " {'topics': ['[Staff,Product Availability]'], 'sentiment': 'Unknown'},\n",
       " {'topics': ['[Service Quality,Staff,Service Cost]'], 'sentiment': 'Unknown'},\n",
       " {'topics': ['', 'Staff', 'Service Time'], 'sentiment': 'Positive'},\n",
       " {'topics': ['[Staff,Satisfaction]'], 'sentiment': '[negative]'},\n",
       " {'topics': ['[Staff, Service Quality]'], 'sentiment': 'Negative'},\n",
       " {'topics': ['[Service Time, Staff,Customer Service]'],\n",
       "  'sentiment': 'Unknown'},\n",
       " {'topics': ['[Service Time,Wheel/Tires]'], 'sentiment': 'Negative'},\n",
       " {'topics': ['[Service Time, Staff]'], 'sentiment': 'Unknown'},\n",
       " {'topics': ['[Service Cost,Staff]'], 'sentiment': 'Unknown'},\n",
       " {'topics': ['[Oil Change/Refill, Wheel/Tires]'], 'sentiment': 'Unknown'},\n",
       " {'topics': ['[Service Time, Oil Change/Refill]'], 'sentiment': 'Unknown'},\n",
       " {'topics': ['[Service Quality, Facilities]'], 'sentiment': 'Unknown'},\n",
       " {'topics': ['[Service Cost, Service Time]'], 'sentiment': 'Negative'},\n",
       " {'topics': ['[Recall, Product Quality]'], 'sentiment': 'Unknown'},\n",
       " {'topics': ['[Service Time,Staff]'], 'sentiment': 'Unknown'},\n",
       " {'topics': ['[Staff]'], 'sentiment': 'Unknown'},\n",
       " {'topics': ['[Oil Change/Refill,Service Time]'], 'sentiment': 'Unknown'},\n",
       " {'topics': ['[Service Quality,Staff]'], 'sentiment': 'Unknown'},\n",
       " {'topics': ['[Service Quality, Facilities, Oil Change/Refill]'],\n",
       "  'sentiment': 'Negative'},\n",
       " {'topics': ['[Service Time, Staff]'], 'sentiment': 'Unknown'},\n",
       " {'topics': ['[Product Quality,Service Diagnostics]'], 'sentiment': 'Unknown'},\n",
       " {'topics': ['[Staff,Service Time,Recall]\\n-'], 'sentiment': 'Negative'},\n",
       " {'topics': ['[Staff,Service Time]'], 'sentiment': 'Unknown'},\n",
       " {'topics': ['Service Time,Facilities'], 'sentiment': 'Unknown'},\n",
       " {'topics': ['[Recall,Service Quality]\\n-'], 'sentiment': 'Unknown'},\n",
       " {'topics': ['[Not Classified, Not Classified, Not Classified]'],\n",
       "  'sentiment': 'Unknown'},\n",
       " {'topics': ['[Staff,Service Cost]'], 'sentiment': 'Unknown'},\n",
       " {'topics': ['[Service Time, Service Cost, Staff]'], 'sentiment': 'Unknown'},\n",
       " {'topics': ['[Service Time, Staff]'], 'sentiment': 'Positive'},\n",
       " {'topics': ['[Not Classified]'], 'sentiment': 'Unknown'},\n",
       " {'topics': ['- Staff', 'Service Time', 'Not Classified\\n\\n\\n-'],\n",
       "  'sentiment': 'Negative'},\n",
       " {'topics': ['Staff\\n-'], 'sentiment': 'Unknown'},\n",
       " {'topics': ['[Staff,Service Quality]'], 'sentiment': 'Unknown'},\n",
       " {'topics': ['[Service Quality, Facilities]'], 'sentiment': 'Unknown'},\n",
       " {'topics': ['[Service Time, Facilities]'], 'sentiment': 'Unknown'},\n",
       " {'topics': ['[Product Availability,Service Quality]'],\n",
       "  'sentiment': 'Unknown'},\n",
       " {'topics': ['[Staff,Service Time]'], 'sentiment': 'Unknown'},\n",
       " {'topics': ['[Service Quality,Facilities]'], 'sentiment': 'Unknown'},\n",
       " {'topics': ['[Service Quality, Facilities]'], 'sentiment': 'Unknown'},\n",
       " {'topics': ['[Staff]'], 'sentiment': 'Unknown'},\n",
       " {'topics': ['[Oil Change/Refill, Service Time]'], 'sentiment': 'Unknown'},\n",
       " {'topics': ['[Staff,Service Time]'], 'sentiment': 'Unknown'},\n",
       " {'topics': ['[Staff,Service Time]'], 'sentiment': 'Unknown'},\n",
       " {'topics': ['[Service,Staff]'], 'sentiment': 'Unknown'},\n",
       " {'topics': ['[Service Cost, Facilities]'], 'sentiment': 'Unknown'},\n",
       " {'topics': ['[Service Cost, Staff]'], 'sentiment': 'Unknown'},\n",
       " {'topics': ['[Not Classified, Staff]'], 'sentiment': 'Negative'},\n",
       " {'topics': ['[Staff]'], 'sentiment': 'Unknown'},\n",
       " {'topics': ['[Service Time, Staff]'], 'sentiment': 'Negative'},\n",
       " {'topics': ['[Staff,Service Time]'], 'sentiment': 'Unknown'},\n",
       " {'topics': ['[Service Time]'], 'sentiment': 'Unknown'},\n",
       " {'topics': ['[Product Quality]'], 'sentiment': 'Positive'},\n",
       " {'topics': ['[Service Cost,Product Quality]'], 'sentiment': 'Unknown'},\n",
       " {'topics': ['[Not Classified,Service Quality]'], 'sentiment': 'Unknown'},\n",
       " {'topics': ['[Service Time]'], 'sentiment': 'Unknown'},\n",
       " {'topics': ['[Oil Change/Refill,Service Time]'], 'sentiment': 'Unknown'},\n",
       " {'topics': ['[Service Cost, Facilities]'], 'sentiment': 'Unknown'},\n",
       " {'topics': ['[Product Quality, Staff]'], 'sentiment': '[negative]'},\n",
       " {'topics': ['[Service Time, Staff]'], 'sentiment': 'Unknown'},\n",
       " {'topics': ['Staff'], 'sentiment': 'Unknown'},\n",
       " {'topics': ['[Staff,Service Quality]'], 'sentiment': 'Unknown'},\n",
       " {'topics': ['[Engine,Product Quality]'], 'sentiment': 'Unknown'},\n",
       " {'topics': ['[Service Quality, Staff]'], 'sentiment': '[negative]'},\n",
       " {'topics': ['[Service Quality,Staff]'], 'sentiment': 'Unknown'},\n",
       " {'topics': ['[Not Classified,Service Cost]'], 'sentiment': 'Unknown'},\n",
       " {'topics': ['[Staff]'], 'sentiment': 'Unknown'},\n",
       " {'topics': ['[Service Cost, Staff]'], 'sentiment': 'Unknown'},\n",
       " {'topics': ['[Staff]'], 'sentiment': 'Unknown'},\n",
       " {'topics': ['[Staff, Service Time]'], 'sentiment': '[negative]'},\n",
       " {'topics': ['[Staff]'], 'sentiment': '[positive]'},\n",
       " {'topics': ['[Staff]'], 'sentiment': 'Unknown'},\n",
       " {'topics': ['[Service Time, Service Cost]'], 'sentiment': 'Negative'},\n",
       " {'topics': ['Service Time'], 'sentiment': 'Unknown'},\n",
       " {'topics': ['[Staff, Service Quality]'], 'sentiment': 'Negative'},\n",
       " {'topics': ['[Staff]'], 'sentiment': 'Unknown'},\n",
       " {'topics': ['[Product Quality,Service]'], 'sentiment': 'Unknown'},\n",
       " {'topics': ['[Not Classified,Service Time]'], 'sentiment': 'Unknown'},\n",
       " {'topics': ['[Product Quality]'], 'sentiment': 'Unknown'},\n",
       " {'topics': ['[Not Classified, Not Classified, Not Classified, Not Classified]'],\n",
       "  'sentiment': 'Unknown'},\n",
       " {'topics': ['[Staff, Service Time]'], 'sentiment': 'Negative'},\n",
       " {'topics': ['[Staff,Customer Service]'], 'sentiment': 'Unknown'},\n",
       " {'topics': ['[Service Time]'], 'sentiment': 'Positive'},\n",
       " {'topics': ['[Not Classified,Product Availability]'], 'sentiment': 'Unknown'},\n",
       " {'topics': ['[Product Quality, Product Availability]'],\n",
       "  'sentiment': '[negative]'},\n",
       " {'topics': ['[Service Quality]'], 'sentiment': 'Unknown'},\n",
       " {'topics': ['[Not Classified]'], 'sentiment': '[negative]'},\n",
       " {'topics': ['[Service Diagnostics, Staff, Service Quality]'],\n",
       "  'sentiment': 'Unknown'},\n",
       " {'topics': ['[Staff,Service Time]'], 'sentiment': 'Unknown'},\n",
       " {'topics': ['[Product Quality,Staff]'], 'sentiment': 'Unknown'},\n",
       " {'topics': ['[Product Quality,Service Cost]'], 'sentiment': 'Negative'},\n",
       " {'topics': ['[Service Time, Service Cost]'], 'sentiment': 'Unknown'},\n",
       " {'topics': ['[Service Time,Service Cost,Product Quality]'],\n",
       "  'sentiment': 'Unknown'},\n",
       " {'topics': ['Staff,Service Time'], 'sentiment': 'Unknown'},\n",
       " {'topics': ['[Service Time,Staff]'], 'sentiment': 'Unknown'},\n",
       " {'topics': ['[Not Classified,Service Time]'], 'sentiment': 'Unknown'},\n",
       " {'topics': ['[Not Classified]'], 'sentiment': 'Unknown'},\n",
       " {'topics': ['', 'Facilities', 'Staff'], 'sentiment': 'Positive'},\n",
       " {'topics': ['Service Time\\n-'], 'sentiment': 'Unknown'},\n",
       " {'topics': ['[Not Classified, Not Classified]'], 'sentiment': '[negative]'},\n",
       " {'topics': ['[Service Quality, Staff]'], 'sentiment': 'Unknown'},\n",
       " {'topics': ['[Staff]'], 'sentiment': 'Unknown'},\n",
       " {'topics': ['[Staff]'], 'sentiment': 'Unknown'},\n",
       " {'topics': ['[Staff]'], 'sentiment': 'Unknown'},\n",
       " {'topics': ['Service Time'], 'sentiment': 'Unknown'},\n",
       " {'topics': ['Staff'], 'sentiment': 'Unknown'},\n",
       " {'topics': ['[Staff]'], 'sentiment': 'Unknown'},\n",
       " {'topics': ['[Not Classified]'], 'sentiment': 'Unknown'},\n",
       " {'topics': ['[Product Availability,Service Cost,Staff]'],\n",
       "  'sentiment': '[positive]'},\n",
       " {'topics': ['[Product Quality,Service Cost]'], 'sentiment': 'Unknown'},\n",
       " {'topics': ['Service Time\\n-'], 'sentiment': 'Unknown'},\n",
       " {'topics': ['[Staff]'], 'sentiment': 'Unknown'},\n",
       " {'topics': ['[Service Time]'], 'sentiment': 'Unknown'},\n",
       " {'topics': ['[Service Time,Product Quality]'], 'sentiment': 'Negative'},\n",
       " {'topics': ['[Service Cost]'], 'sentiment': 'Unknown'},\n",
       " {'topics': ['[Staff, Service Quality]'], 'sentiment': '[negative]'},\n",
       " {'topics': ['Service'], 'sentiment': 'Unknown'},\n",
       " {'topics': ['[Service Cost, Staff]'], 'sentiment': 'Unknown'},\n",
       " {'topics': ['[Not Classified]'], 'sentiment': 'Unknown'},\n",
       " {'topics': ['[Service]'], 'sentiment': '[positive]'},\n",
       " {'topics': ['Staff'], 'sentiment': 'Unknown'},\n",
       " {'topics': ['[Not Classified]'], 'sentiment': 'Unknown'},\n",
       " {'topics': ['Staff,Service Quality'], 'sentiment': 'Unknown'},\n",
       " {'topics': ['Staff,Service Time'], 'sentiment': 'Unknown'},\n",
       " {'topics': ['Staff\\n-'], 'sentiment': 'Unknown'},\n",
       " {'topics': ['[Not Classified,Not Classified,Not Classified,Not Classified,Not Classified,Not Classified,Not Classified,Not Classified,Not Classified,Not Classified,Not Classified,Not Classified]'],\n",
       "  'sentiment': 'Unknown'},\n",
       " {'topics': ['[Service Time]'], 'sentiment': 'Unknown'},\n",
       " {'topics': ['[Staff]'], 'sentiment': 'Negative'},\n",
       " {'topics': ['[Not Classified]'], 'sentiment': 'Unknown'},\n",
       " {'topics': ['Staff'], 'sentiment': 'Unknown'},\n",
       " {'topics': ['Not Classified'], 'sentiment': 'Unknown'},\n",
       " {'topics': ['[Staff, Service Quality]'], 'sentiment': 'Unknown'},\n",
       " {'topics': ['[Service Time]'], 'sentiment': 'Negative'},\n",
       " {'topics': ['[Staff]'], 'sentiment': 'Unknown'},\n",
       " {'topics': ['[Product Quality]'], 'sentiment': '[positive]'},\n",
       " {'topics': ['[Service Quality,Staff]'], 'sentiment': '[positive]'},\n",
       " {'topics': ['Staff\\n-'], 'sentiment': 'Unknown'},\n",
       " {'topics': ['Not Classified'], 'sentiment': 'Unknown'},\n",
       " {'topics': ['[Service Quality,Staff]'], 'sentiment': 'Unknown'},\n",
       " {'topics': ['[Not Classified,Not Classified,Not Classified,Not Classified,Not Classified,Not Classified,Not Classified,Not Classified,Not Classified,Not Classified,Not Classified]'],\n",
       "  'sentiment': '[positive/negative/neutral]: positive'},\n",
       " {'topics': ['Staff\\n-'], 'sentiment': 'Unknown'},\n",
       " {'topics': ['[Service Quality]'], 'sentiment': 'Positive'},\n",
       " {'topics': ['[Not Classified]'], 'sentiment': 'Unknown'},\n",
       " {'topics': ['Not Classified'], 'sentiment': 'Unknown'},\n",
       " {'topics': ['Not Classified'], 'sentiment': 'Unknown'},\n",
       " {'topics': ['[Staff]'], 'sentiment': '[negative]'},\n",
       " {'topics': ['[Not Classified]'], 'sentiment': 'Unknown'},\n",
       " {'topics': ['[Poor Service]'], 'sentiment': 'Unknown'},\n",
       " {'topics': ['Not Classified'], 'sentiment': 'Unknown'},\n",
       " {'topics': ['[Not Classified]'], 'sentiment': 'Positive'},\n",
       " {'topics': ['[Recall, Service Quality]'], 'sentiment': 'Unknown'},\n",
       " {'topics': ['[Service Time]'], 'sentiment': '[positive]'},\n",
       " {'topics': ['[Facilities,Staff]'], 'sentiment': 'Unknown'},\n",
       " {'topics': ['[Staff]'], 'sentiment': 'Unknown'},\n",
       " {'topics': ['[Service Quality,Staff]'], 'sentiment': 'Unknown'},\n",
       " {'topics': ['Service Quality'], 'sentiment': 'Unknown'},\n",
       " {'topics': ['[Staff]'], 'sentiment': 'Unknown'},\n",
       " {'topics': [''], 'sentiment': 'Positive'},\n",
       " {'topics': ['Service'], 'sentiment': 'Unknown'},\n",
       " {'topics': ['[Staff, Service Time]'], 'sentiment': 'Positive'},\n",
       " {'topics': ['[Staff, Service Quality]'], 'sentiment': 'Unknown'},\n",
       " {'topics': ['[Staff,Service Time]'], 'sentiment': 'Unknown'},\n",
       " {'topics': ['[Staff,Service Time]'], 'sentiment': 'Unknown'},\n",
       " {'topics': ['[Staff,Service Time]'], 'sentiment': 'Unknown'},\n",
       " {'topics': ['[Service Time,Staff]'], 'sentiment': 'Unknown'},\n",
       " {'topics': ['[Service Time, Service Quality]\\n-'], 'sentiment': 'Negative'},\n",
       " {'topics': ['Service Cost'], 'sentiment': '[positive]'},\n",
       " {'topics': ['[Service Quality,Facilities]'], 'sentiment': 'Unknown'},\n",
       " {'topics': ['[Staff,Service Quality]'], 'sentiment': 'Unknown'},\n",
       " {'topics': ['[Not Classified]'], 'sentiment': 'Positive'},\n",
       " {'topics': ['[Staff,Service Quality]'], 'sentiment': 'Unknown'},\n",
       " {'topics': ['[Service Time, Staff, Facilities]'], 'sentiment': 'Positive'},\n",
       " {'topics': ['[Price/Cost,Product Quality]'], 'sentiment': 'Unknown'},\n",
       " {'topics': ['Not Classified'], 'sentiment': 'Unknown'},\n",
       " {'topics': ['[Service Time,Product Availability]'], 'sentiment': 'Unknown'},\n",
       " {'topics': ['[Staff]'], 'sentiment': 'Unknown'},\n",
       " {'topics': ['[Not Classified]'], 'sentiment': 'Unknown'},\n",
       " {'topics': ['[Not Classified, Product Quality]'], 'sentiment': 'Unknown'},\n",
       " {'topics': ['[Not Classified,Product Quality]'], 'sentiment': 'Positive'},\n",
       " {'topics': ['Not Classified'], 'sentiment': 'Unknown'},\n",
       " {'topics': ['[Not Classified]'], 'sentiment': '[neutral]'},\n",
       " {'topics': ['[Not Classified]'], 'sentiment': 'Unknown'},\n",
       " {'topics': ['[Not Classified]'], 'sentiment': 'Unknown'},\n",
       " {'topics': ['[Not Classified,Not Classified]'], 'sentiment': 'Unknown'},\n",
       " {'topics': ['[Staff,Service Cost]'], 'sentiment': 'Unknown'},\n",
       " {'topics': ['[Not Classified]'], 'sentiment': 'Excellent'},\n",
       " {'topics': ['[Staff,Service Time]'], 'sentiment': 'Positive'},\n",
       " {'topics': ['[Staff]'], 'sentiment': 'Unknown'},\n",
       " {'topics': ['[Product Quality]'], 'sentiment': 'Unknown'},\n",
       " {'topics': ['[Staff,Service Quality,Facilities]'], 'sentiment': 'Unknown'},\n",
       " {'topics': ['[Service Time,Product Quality]'], 'sentiment': 'Unknown'},\n",
       " {'topics': ['[Service Cost, Facilities, Staff]'], 'sentiment': 'Unknown'},\n",
       " {'topics': ['[Staff,Service Time]'], 'sentiment': 'Unknown'},\n",
       " {'topics': ['[Product Quality,Service Time,Recall]'], 'sentiment': 'Unknown'},\n",
       " {'topics': ['Service, Staff'], 'sentiment': 'Unknown'},\n",
       " {'topics': ['[Service Cost, Staff]'], 'sentiment': 'Unknown'},\n",
       " {'topics': ['[Staff,Service Quality]'], 'sentiment': 'Unknown'},\n",
       " {'topics': ['[Staff,Service Quality,Facilities]'], 'sentiment': 'Unknown'},\n",
       " {'topics': ['[Service Quality, Staff]'], 'sentiment': 'Unknown'},\n",
       " {'topics': ['[Staff,Service Quality]'], 'sentiment': 'Unknown'},\n",
       " {'topics': ['[Staff,Service Time]'], 'sentiment': 'Unknown'},\n",
       " {'topics': ['[Staff, Product Quality]'], 'sentiment': 'Unknown'},\n",
       " {'topics': ['[Staff,Service Time]'], 'sentiment': 'Unknown'},\n",
       " {'topics': ['[Service Time]'], 'sentiment': 'Unknown'},\n",
       " {'topics': ['[Staff,Service Quality,Facilities]\\n-'], 'sentiment': 'Unknown'},\n",
       " {'topics': ['[Staff,Facilities,Service Time]'], 'sentiment': 'Unknown'},\n",
       " {'topics': ['[Staff,Service Time]'], 'sentiment': 'Unknown'},\n",
       " {'topics': ['[Staff, Service Quality]'], 'sentiment': 'Negative'},\n",
       " {'topics': ['[Facilities, Service Quality]'],\n",
       "  'sentiment': '[negative/negative]'},\n",
       " {'topics': ['[Service Time,Staff]'], 'sentiment': 'Unknown'},\n",
       " {'topics': ['[Staff]'], 'sentiment': 'Unknown'},\n",
       " {'topics': ['[Staff,Service Time]'], 'sentiment': 'Unknown'},\n",
       " {'topics': ['[Service Cost,Staff,Service Time]'], 'sentiment': 'Positive'},\n",
       " {'topics': ['[Staff, Facilities],'], 'sentiment': 'Negative'},\n",
       " {'topics': ['[Staff,Service Time]'], 'sentiment': 'Unknown'},\n",
       " {'topics': ['[Staff, Service Time]'], 'sentiment': 'Negative'},\n",
       " {'topics': ['[Service Cost, Facilities]'], 'sentiment': 'Unknown'},\n",
       " {'topics': ['[Staff,Service Time,Facilities]'], 'sentiment': 'Unknown'},\n",
       " {'topics': ['[Staff]\\n-'], 'sentiment': 'Unknown'},\n",
       " {'topics': ['Staff,Service Cost'], 'sentiment': 'Unknown'},\n",
       " {'topics': ['[Service Time, Staff]'], 'sentiment': 'Unknown'},\n",
       " {'topics': ['[Service Cost, Service Time]'], 'sentiment': 'Negative'},\n",
       " {'topics': ['[Staff]'], 'sentiment': 'Unknown'},\n",
       " {'topics': ['[Staff]\\n-'], 'sentiment': 'Unknown'},\n",
       " {'topics': ['Not Classified'], 'sentiment': 'Unknown'},\n",
       " {'topics': ['[Staff,Product Quality]'], 'sentiment': 'Unknown'},\n",
       " {'topics': ['[Staff]'], 'sentiment': 'Unknown'},\n",
       " {'topics': ['[Staff,Product Quality]'], 'sentiment': 'Unknown'},\n",
       " {'topics': ['[Service Quality,Staff]'], 'sentiment': 'Unknown'},\n",
       " {'topics': ['[Facilities,Product Availability]'], 'sentiment': 'Unknown'},\n",
       " {'topics': ['[Staff, Facilities]'], 'sentiment': 'Unknown'},\n",
       " {'topics': ['[Service Time, Facilities]'], 'sentiment': 'Unknown'},\n",
       " {'topics': ['[Staff, Product Availability]'], 'sentiment': 'Unknown'},\n",
       " {'topics': ['[Service Time, Staff]'], 'sentiment': 'Unknown'},\n",
       " {'topics': ['[Service Cost, Service Time]'], 'sentiment': 'Negative'},\n",
       " {'topics': ['[Staff, Service Quality]'], 'sentiment': 'Unknown'},\n",
       " {'topics': ['[Service Time,Staff]'], 'sentiment': 'Unknown'},\n",
       " {'topics': ['[Service Time, Staff]'], 'sentiment': 'Unknown'},\n",
       " {'topics': ['[Product Quality]'], 'sentiment': '[negative]'},\n",
       " {'topics': ['[Service Time]'], 'sentiment': 'Unknown'},\n",
       " {'topics': ['[Staff,Product Quality]'], 'sentiment': 'Unknown'},\n",
       " {'topics': ['[Staff]'], 'sentiment': 'Unknown'},\n",
       " {'topics': ['[Staff]\\n-'], 'sentiment': 'Unknown'},\n",
       " {'topics': ['[Recall]'], 'sentiment': 'Unknown'},\n",
       " {'topics': ['[Not Classified]'], 'sentiment': 'Unknown'},\n",
       " {'topics': ['[Product Quality, Brake]\\n-'], 'sentiment': 'Negative'},\n",
       " {'topics': ['[Product Quality,Service Cost]'], 'sentiment': 'Unknown'},\n",
       " {'topics': ['[Scammers,Service Cost]'], 'sentiment': 'Unknown'},\n",
       " {'topics': ['[Staff]'], 'sentiment': 'Unknown'},\n",
       " {'topics': ['[Staff]'], 'sentiment': 'Unknown'},\n",
       " {'topics': ['[Service Time, Facilities]'], 'sentiment': 'Negative'},\n",
       " {'topics': ['[Product Quality,Not Classified]'], 'sentiment': 'Negative'},\n",
       " {'topics': ['[Staff]'], 'sentiment': 'Positive'},\n",
       " {'topics': ['[Staff, Facilities]'], 'sentiment': 'Unknown'},\n",
       " {'topics': ['[Not Classified]'], 'sentiment': 'Unknown'},\n",
       " {'topics': ['[Service Quality,Facilities]'], 'sentiment': 'Unknown'},\n",
       " {'topics': ['[Service Diagnostics,Staff]'], 'sentiment': 'Unknown'},\n",
       " {'topics': ['[Service Quality, Facilities]'], 'sentiment': 'Unknown'},\n",
       " {'topics': ['[Staff]'], 'sentiment': 'Unknown'},\n",
       " {'topics': ['[Dealership, Service Time]'], 'sentiment': 'Negative'},\n",
       " {'topics': ['[Service Cost, Facilities]'], 'sentiment': 'Unknown'},\n",
       " {'topics': ['[Service Time, Facilities, Staff]'], 'sentiment': 'Negative'},\n",
       " {'topics': ['[Service Time,Oil Change]'],\n",
       "  'sentiment': '[positive/negative/neutral]: positive'},\n",
       " {'topics': ['[Service Time]'], 'sentiment': 'Neutral'},\n",
       " {'topics': ['[Service Time]'], 'sentiment': 'Unknown'},\n",
       " {'topics': ['[Service Time, Staff]'],\n",
       "  'sentiment': '[positive/negative/neutral]'},\n",
       " {'topics': ['[Staff]'], 'sentiment': 'Unknown'},\n",
       " {'topics': ['[Staff,Service Quality]'], 'sentiment': 'Unknown'},\n",
       " {'topics': ['[Staff,Service Time]'], 'sentiment': 'Positive'},\n",
       " {'topics': ['[Oil Change/Refill]'], 'sentiment': 'Unknown'},\n",
       " {'topics': ['[Staff]\\n-'], 'sentiment': 'Unknown'},\n",
       " {'topics': ['[Service Time]'], 'sentiment': 'Unknown'},\n",
       " {'topics': ['[Staff]\\n-'], 'sentiment': 'Unknown'},\n",
       " {'topics': ['[Staff,Service Quality]'], 'sentiment': 'Unknown'},\n",
       " {'topics': ['[Staff,Facilities,Product Quality]'], 'sentiment': 'Unknown'},\n",
       " {'topics': ['Staff,Service Time'], 'sentiment': 'Unknown'},\n",
       " {'topics': ['[Recall,Product Quality]'], 'sentiment': 'Unknown'},\n",
       " {'topics': ['[Service Cost,Service Quality]'], 'sentiment': 'Unknown'},\n",
       " {'topics': ['[Product Availability,Product Quality]'],\n",
       "  'sentiment': 'Negative'},\n",
       " {'topics': ['[Staff]'], 'sentiment': 'Unknown'},\n",
       " {'topics': ['Staff\\n-'], 'sentiment': 'Unknown'},\n",
       " {'topics': ['Service Time,Staff'], 'sentiment': 'Unknown'},\n",
       " {'topics': ['[Service Cost, Not Classified]'], 'sentiment': 'Unknown'},\n",
       " {'topics': ['[Staff,Service Time]'], 'sentiment': 'Unknown'},\n",
       " {'topics': ['[Not Classified,Service Cost]'], 'sentiment': 'Negative'},\n",
       " {'topics': ['[Staff, Product Quality]'], 'sentiment': 'Negative'},\n",
       " {'topics': ['[Not Classified]'], 'sentiment': 'Unknown'},\n",
       " {'topics': ['[Service Time]'], 'sentiment': '[positive]'},\n",
       " {'topics': ['[Service Time,Product Quality]'], 'sentiment': 'Unknown'},\n",
       " {'topics': ['[Product Availability,Staff,Service Cost]'],\n",
       "  'sentiment': 'Unknown'},\n",
       " {'topics': ['[Salesperson, Sales/Purchasing, Service Cost]'],\n",
       "  'sentiment': '[negative]'},\n",
       " {'topics': ['[Not Classified,Product Availability]'], 'sentiment': 'Unknown'},\n",
       " {'topics': ['[Staff]'], 'sentiment': 'Unknown'},\n",
       " {'topics': ['[]'], 'sentiment': 'Positive'},\n",
       " {'topics': ['[Staff,Service Time]'], 'sentiment': 'Positive'},\n",
       " {'topics': ['[Music System]'], 'sentiment': 'Unknown'},\n",
       " {'topics': ['[Wheel/Tires,Product Quality]'], 'sentiment': 'Unknown'},\n",
       " {'topics': ['Service Time'], 'sentiment': 'Unknown'},\n",
       " {'topics': ['[Service Time,Product Quality]'], 'sentiment': 'Unknown'},\n",
       " {'topics': ['[Not Classified]'], 'sentiment': 'Unknown'},\n",
       " {'topics': ['[Service Quality,Staff]'], 'sentiment': 'Unknown'},\n",
       " {'topics': ['[Facilities,Product Availability]'], 'sentiment': 'Unknown'},\n",
       " {'topics': ['[Service Time,Staff]'], 'sentiment': 'Negative'},\n",
       " {'topics': ['[Product Availability, Not Classified]'],\n",
       "  'sentiment': 'Unknown'},\n",
       " {'topics': ['[Service Time]'], 'sentiment': 'Unknown'},\n",
       " {'topics': ['[Staff]'], 'sentiment': 'Unknown'},\n",
       " {'topics': ['[Service Time,Recall]'], 'sentiment': 'Unknown'},\n",
       " {'topics': ['[Product Quality,Service Cost]'], 'sentiment': 'Unknown'},\n",
       " {'topics': ['[Service Quality, Facilities]'], 'sentiment': 'Unknown'},\n",
       " {'topics': ['[Recall]'], 'sentiment': 'Unknown'},\n",
       " {'topics': ['[Not Classified]'], 'sentiment': 'Unknown'},\n",
       " {'topics': ['[Not Classified]'], 'sentiment': 'Unknown'},\n",
       " {'topics': ['[Service Time, Facilities]'], 'sentiment': 'Unknown'},\n",
       " {'topics': ['[Service Time, Facilities]'], 'sentiment': 'Unknown'},\n",
       " {'topics': ['[Service Time]'], 'sentiment': 'Unknown'},\n",
       " {'topics': ['Service Cost,Staff'], 'sentiment': 'Unknown'},\n",
       " {'topics': ['[Staff]'], 'sentiment': 'Unknown'},\n",
       " {'topics': ['[Staff]'], 'sentiment': 'Unknown'},\n",
       " {'topics': ['[Product Quality]'], 'sentiment': 'Neutral'},\n",
       " {'topics': ['[Staff, Product Quality]'], 'sentiment': '[negative]'},\n",
       " {'topics': ['', 'Staff', 'Service Cost'], 'sentiment': '[positive]'},\n",
       " {'topics': ['[Not Classified]'], 'sentiment': 'Unknown'},\n",
       " {'topics': ['[Staff,Service Time]'], 'sentiment': 'Unknown'},\n",
       " {'topics': ['Staff,Sentiment'], 'sentiment': 'Unknown'},\n",
       " {'topics': ['[Staff,Service Time]'], 'sentiment': 'Unknown'},\n",
       " {'topics': ['[Not Classified]'], 'sentiment': 'Unknown'},\n",
       " {'topics': ['[Not Classified]'], 'sentiment': 'Unknown'},\n",
       " {'topics': ['[Staff,SERVICE Cost]\\n-'], 'sentiment': 'Unknown'},\n",
       " {'topics': ['[Service Cost, Facilities]'], 'sentiment': 'Unknown'},\n",
       " {'topics': ['', 'Product Quality', 'Staff', 'Service Cost'],\n",
       "  'sentiment': 'Unknown'},\n",
       " {'topics': ['[Staff, Service Quality]'], 'sentiment': 'Positive'},\n",
       " {'topics': ['[Staff]'], 'sentiment': 'Positive'},\n",
       " {'topics': ['[Not Classified,Product Quality]'], 'sentiment': 'Unknown'},\n",
       " {'topics': ['Product Availability, Staff'], 'sentiment': 'Unknown'},\n",
       " {'topics': ['[Service Quality, Facilities]'], 'sentiment': 'Unknown'},\n",
       " {'topics': ['[Staff]'], 'sentiment': 'Unknown'},\n",
       " {'topics': ['[Music System,Product Quality]'], 'sentiment': 'Unknown'},\n",
       " {'topics': ['[Not Classified,Facilities]'], 'sentiment': 'Unknown'},\n",
       " {'topics': ['[Service Time,Not Classified]'], 'sentiment': 'Unknown'},\n",
       " {'topics': [''], 'sentiment': '[positive]'},\n",
       " {'topics': ['[Not Classified]\\n-'], 'sentiment': 'Unknown'},\n",
       " {'topics': ['[Service Time]'], 'sentiment': '[neutral]'},\n",
       " {'topics': ['[Staff]'], 'sentiment': '[positive]'},\n",
       " {'topics': ['[Service Time, Staff]'], 'sentiment': '[positive]'},\n",
       " {'topics': ['Not Classified'], 'sentiment': 'Unknown'},\n",
       " {'topics': ['[Service Time]'], 'sentiment': 'Unknown'},\n",
       " {'topics': ['[Service Time]'], 'sentiment': '[positive]'},\n",
       " {'topics': ['Staff,Service Quality'], 'sentiment': 'Unknown'},\n",
       " {'topics': ['[Not Classified, Service Quality]'], 'sentiment': 'Positive'},\n",
       " {'topics': ['[Product Quality]\\n-'], 'sentiment': '[not classified]'},\n",
       " {'topics': ['Staff,Service Quality'], 'sentiment': 'Unknown'},\n",
       " {'topics': ['[Service Time]'], 'sentiment': 'Neutral'},\n",
       " {'topics': ['[Not Classified]'], 'sentiment': 'Unknown'},\n",
       " {'topics': ['[Service Time]'], 'sentiment': '[negative]'},\n",
       " {'topics': ['[Not Classified]'], 'sentiment': 'Negative'},\n",
       " {'topics': ['[Not Classified,Facilities,Staff,Product Quality]'],\n",
       "  'sentiment': 'Negative'},\n",
       " {'topics': ['Staff\\n-'], 'sentiment': 'Unknown'},\n",
       " {'topics': ['[Not Classified,Product Quality]'], 'sentiment': 'Unknown'},\n",
       " {'topics': ['[Not Classified]'], 'sentiment': 'Unknown'},\n",
       " {'topics': ['[Poor Management]'], 'sentiment': '[negative]'},\n",
       " {'topics': ['Service Time'], 'sentiment': 'Unknown'},\n",
       " {'topics': ['[Not Classified]'], 'sentiment': 'Unknown'},\n",
       " {'topics': ['Not Classified'], 'sentiment': 'Unknown'},\n",
       " {'topics': ['[Service Department]'], 'sentiment': 'Unknown'},\n",
       " {'topics': ['[Staff]'], 'sentiment': 'Positive'},\n",
       " {'topics': ['[Not Classified]'], 'sentiment': '[neutral]'},\n",
       " {'topics': ['[Staff,Service Quality]'], 'sentiment': 'Unknown'},\n",
       " {'topics': ['[Not Classified]'], 'sentiment': 'Unknown'},\n",
       " {'topics': ['[Oil Change/Refill]'], 'sentiment': 'Neutral'},\n",
       " {'topics': ['[Not Classified]'], 'sentiment': 'Positive'},\n",
       " {'topics': ['Service Quality,Facilities'], 'sentiment': 'Unknown'},\n",
       " {'topics': ['[]'], 'sentiment': '[positive]'},\n",
       " {'topics': ['', 'Not Classified'], 'sentiment': '[positive]'},\n",
       " {'topics': ['[Not Classified]'], 'sentiment': 'Unknown'},\n",
       " {'topics': ['[Not Classified, Not Classified]'], 'sentiment': '[negative]'},\n",
       " {'topics': ['[Not Classified, Not Classified, Not Classified]'],\n",
       "  'sentiment': 'Unknown'},\n",
       " {'topics': ['[Product Quality]'], 'sentiment': 'Unknown'},\n",
       " {'topics': ['[Staff]'], 'sentiment': '[positive]'},\n",
       " {'topics': ['[Not Classified]'], 'sentiment': '[negative]'},\n",
       " {'topics': ['[Service Quality]'], 'sentiment': 'Unknown'},\n",
       " {'topics': ['[Service Quality, Staff]'], 'sentiment': 'Negative'},\n",
       " {'topics': ['[Not Classified,Service Quality]'], 'sentiment': 'Unknown'},\n",
       " {'topics': ['[Not Classified]'], 'sentiment': 'Negative'},\n",
       " {'topics': ['[Not Classified]'], 'sentiment': 'Unknown'},\n",
       " {'topics': ['[Not Classified]'], 'sentiment': 'Positive'},\n",
       " {'topics': ['[Not Classified]'], 'sentiment': 'Unknown'},\n",
       " {'topics': ['Unknown'], 'sentiment': 'Unknown'},\n",
       " {'topics': ['[Not Classified]'], 'sentiment': 'Unknown'},\n",
       " {'topics': ['', 'Not Classified'], 'sentiment': '[positive]'},\n",
       " {'topics': ['[Not Classified]'], 'sentiment': '[positive]'},\n",
       " {'topics': ['[Not Classified]'], 'sentiment': '[positive]'},\n",
       " {'topics': ['Unknown'], 'sentiment': 'Unknown'},\n",
       " {'topics': ['[Not Classified]'], 'sentiment': 'Unknown'},\n",
       " {'topics': ['[Service Time,Staff]'], 'sentiment': 'Unknown'},\n",
       " {'topics': ['[Staff]'], 'sentiment': 'Unknown'},\n",
       " {'topics': ['[Service Time, Facilities]'], 'sentiment': 'Unknown'},\n",
       " {'topics': ['Service Time'], 'sentiment': 'Unknown'},\n",
       " {'topics': ['[Service Time]'], 'sentiment': 'Unknown'},\n",
       " {'topics': ['[Service Time,Staff]'], 'sentiment': 'Positive'},\n",
       " {'topics': ['[Service Time]'], 'sentiment': 'Unknown'},\n",
       " {'topics': ['[Service Time, Facilities,Not Classified]'],\n",
       "  'sentiment': 'Neutral'},\n",
       " {'topics': ['[Staff, Service Quality]'], 'sentiment': 'Unknown'},\n",
       " {'topics': ['Staff,Service Time\\n-'], 'sentiment': 'Unknown'},\n",
       " {'topics': ['[Service Quality]'], 'sentiment': 'Unknown'},\n",
       " {'topics': ['[Service Quality,Facilities]'], 'sentiment': 'Unknown'},\n",
       " {'topics': ['[Service Time, Staff]'], 'sentiment': 'Unknown'},\n",
       " {'topics': ['Staff,Facilities'], 'sentiment': 'Unknown'},\n",
       " {'topics': ['[Not Classified]'], 'sentiment': '[negative]'},\n",
       " {'topics': ['[Staff]'], 'sentiment': 'Unknown'},\n",
       " {'topics': ['[Staff,Service Quality]'], 'sentiment': 'Unknown'},\n",
       " {'topics': ['Staff,Service Time'], 'sentiment': 'Unknown'},\n",
       " {'topics': ['[Product Quality,Price]'], 'sentiment': 'Unknown'},\n",
       " {'topics': ['Service Quality, Staff'], 'sentiment': 'Unknown'},\n",
       " {'topics': ['[Not Classified,Product Quality]'], 'sentiment': 'Unknown'},\n",
       " {'topics': ['Service Quality'], 'sentiment': 'Positive'},\n",
       " {'topics': ['[Service Quality]'], 'sentiment': '[positive]'},\n",
       " {'topics': ['[Not Classified]'], 'sentiment': 'Unknown'},\n",
       " {'topics': ['[Not Classified,Not Classified]\\n-'],\n",
       "  'sentiment': '[positive/negative/neutral]'},\n",
       " {'topics': ['[Not Classified]'], 'sentiment': 'Negative'},\n",
       " {'topics': ['Unknown'], 'sentiment': 'Unknown'},\n",
       " {'topics': ['[Battery, Recall]'], 'sentiment': '[negative]'},\n",
       " {'topics': ['[Staff]'], 'sentiment': 'Unknown'},\n",
       " {'topics': ['[Music System]'], 'sentiment': 'Unknown'},\n",
       " {'topics': ['[Service Cost,Service Time]'], 'sentiment': 'Unknown'},\n",
       " {'topics': ['[Not Classified,Product Quality]'], 'sentiment': 'Unknown'},\n",
       " {'topics': ['[Service Time,Product Quality]'], 'sentiment': 'Unknown'},\n",
       " {'topics': ['[Service Cost, Facilities]'], 'sentiment': 'Unknown'},\n",
       " {'topics': ['[Service Staff, Service Quality]'], 'sentiment': 'Negative'},\n",
       " {'topics': ['[Service Time,Product Quality]'], 'sentiment': 'Unknown'},\n",
       " {'topics': ['[Product Availability,Service Cost]'], 'sentiment': 'Unknown'},\n",
       " {'topics': ['[Product Availability, Not Classified]'],\n",
       "  'sentiment': 'Unknown'},\n",
       " {'topics': ['[Staff,Service Time]'], 'sentiment': 'Unknown'},\n",
       " {'topics': ['[Staff,Service Time, Facilities]'], 'sentiment': 'Unknown'},\n",
       " {'topics': ['[Service Cost, Facilities]'], 'sentiment': 'Unknown'},\n",
       " {'topics': ['[Staff,Facilities]'], 'sentiment': 'Unknown'},\n",
       " {'topics': ['[Facilities,Service Time]\\n-'], 'sentiment': 'Unknown'},\n",
       " {'topics': ['[Service Time]'], 'sentiment': 'Unknown'},\n",
       " {'topics': ['[Facilities]'], 'sentiment': 'Unknown'},\n",
       " {'topics': ['[Facilities,Staff,Product Availability]\\n-'],\n",
       "  'sentiment': 'Unknown'},\n",
       " {'topics': ['[Service,Staff]'], 'sentiment': 'Unknown'},\n",
       " {'topics': ['[Service Time]'], 'sentiment': 'Unknown'},\n",
       " {'topics': ['[Product Availability, Facilities]'], 'sentiment': 'Unknown'},\n",
       " {'topics': ['[Service Time, Facilities]'], 'sentiment': 'Unknown'},\n",
       " {'topics': ['[Staff, Facilities]'], 'sentiment': 'Unknown'},\n",
       " {'topics': ['[Facilities,Product Availability]'], 'sentiment': 'Unknown'},\n",
       " {'topics': ['[Recall,Product Availability]'], 'sentiment': 'Unknown'},\n",
       " {'topics': ['Product Availability'], 'sentiment': 'Unknown'},\n",
       " {'topics': ['[Staff]'], 'sentiment': 'Unknown'},\n",
       " {'topics': ['[Staff,Service Time]'], 'sentiment': 'Unknown'},\n",
       " {'topics': ['[Product Quality,Recall]'], 'sentiment': 'Unknown'},\n",
       " {'topics': ['[Staff]'], 'sentiment': 'Unknown'},\n",
       " {'topics': ['[Facilities, Staff]'], 'sentiment': 'Positive'},\n",
       " {'topics': ['[Service Quality, Facilities],'], 'sentiment': '[positive]'},\n",
       " {'topics': ['[Product Availability]'], 'sentiment': '[negative]'},\n",
       " {'topics': ['[Staff]'], 'sentiment': 'Unknown'},\n",
       " {'topics': ['[Product Quality,Service Time]'], 'sentiment': 'Unknown'},\n",
       " {'topics': ['[Staff, Product Quality]'], 'sentiment': 'Unknown'},\n",
       " {'topics': ['[Staff]'], 'sentiment': 'Unknown'},\n",
       " {'topics': ['[Service Quality]\\n-'], 'sentiment': 'Unknown'},\n",
       " {'topics': ['[Facilities,Service Time]'], 'sentiment': 'Negative'},\n",
       " {'topics': ['[Staff,Service Time]'], 'sentiment': 'Unknown'},\n",
       " {'topics': ['[Wheel/Tires,Service Time]'], 'sentiment': 'Unknown'},\n",
       " {'topics': ['[Not Classified,Not Classified]'], 'sentiment': 'Unknown'},\n",
       " {'topics': ['[Staff,Service Time]'], 'sentiment': 'Unknown'},\n",
       " {'topics': ['[Facilities,Product Availability]'], 'sentiment': 'Unknown'},\n",
       " {'topics': ['[Staff,Service Time]'], 'sentiment': 'Unknown'},\n",
       " {'topics': ['[Staff]'], 'sentiment': 'Unknown'},\n",
       " {'topics': ['[Service Quality,Facilities]'], 'sentiment': 'Unknown'},\n",
       " {'topics': ['[Not Classified, Not Classified, Service Time]'],\n",
       "  'sentiment': '[positive]'},\n",
       " {'topics': ['Staff'], 'sentiment': 'Positive'},\n",
       " {'topics': ['[Staff]'], 'sentiment': 'Unknown'},\n",
       " {'topics': ['[Facilities,Service Time,Staff]'], 'sentiment': 'Unknown'},\n",
       " {'topics': ['[Service Time,Staff]'], 'sentiment': 'Unknown'},\n",
       " {'topics': ['[Service Cost, Staff]'], 'sentiment': 'Unknown'},\n",
       " {'topics': ['[Not Classified]'], 'sentiment': 'Unknown'},\n",
       " {'topics': ['[Staff, Facilities]'], 'sentiment': '[negative/neutral]'},\n",
       " {'topics': ['[Service Quality,Facilities]'], 'sentiment': 'Unknown'},\n",
       " {'topics': ['[Customer Service, Staff]'], 'sentiment': 'Negative'},\n",
       " {'topics': ['[Staff,Service Time]'], 'sentiment': 'Unknown'},\n",
       " {'topics': ['[Staff,Service Quality]'], 'sentiment': 'Unknown'},\n",
       " {'topics': ['[Service Time, Staff]'], 'sentiment': 'Unknown'},\n",
       " {'topics': ['[Product Quality,Staff]'], 'sentiment': 'Unknown'},\n",
       " {'topics': ['[Service Quality, Facilities]'], 'sentiment': 'Unknown'},\n",
       " {'topics': ['[Staff]\\n-'], 'sentiment': 'Unknown'},\n",
       " {'topics': ['[Service Time, Facilities]'], 'sentiment': 'Neutral'},\n",
       " {'topics': ['[Staff]'], 'sentiment': 'Unknown'},\n",
       " {'topics': ['[Service Time,Staff]'], 'sentiment': 'Unknown'},\n",
       " {'topics': ['[Staff,Service]'], 'sentiment': 'Unknown'},\n",
       " {'topics': ['[Staff,Facilities]'], 'sentiment': 'Unknown'},\n",
       " {'topics': ['[Staff, Service Time]'], 'sentiment': 'Unknown'},\n",
       " {'topics': ['Not Classified'], 'sentiment': 'Unknown'},\n",
       " {'topics': ['[Not Classified, Facilities]'], 'sentiment': 'Unknown'},\n",
       " {'topics': ['[Staff]'], 'sentiment': 'Unknown'},\n",
       " {'topics': ['[Service Time,Staff]'], 'sentiment': 'Unknown'},\n",
       " {'topics': ['[Facilities]'], 'sentiment': 'Unknown'},\n",
       " {'topics': ['[Service Cost, Facilities]'], 'sentiment': 'Unknown'},\n",
       " {'topics': ['[Product Quality,Service Time]'], 'sentiment': 'Unknown'},\n",
       " {'topics': ['[Staff]'], 'sentiment': 'Unknown'},\n",
       " {'topics': ['[Service Cost, Staff,Service Quality]'], 'sentiment': 'Unknown'},\n",
       " {'topics': ['[Staff]'], 'sentiment': '[negative]'},\n",
       " {'topics': ['[Staff,Facilities]'], 'sentiment': 'Unknown'},\n",
       " {'topics': ['[Service Time,Staff]'], 'sentiment': 'Unknown'},\n",
       " {'topics': ['[Staff]'], 'sentiment': 'Unknown'},\n",
       " {'topics': ['[Service Time,Staff]'], 'sentiment': 'Unknown'},\n",
       " {'topics': ['[Service Center,Facilities]'], 'sentiment': 'Unknown'},\n",
       " {'topics': ['[Staff,Service Time]'], 'sentiment': 'Unknown'},\n",
       " {'topics': ['[Service Cost, Staff]\\n-'], 'sentiment': 'Negative'},\n",
       " {'topics': ['[Service Time]'], 'sentiment': 'Unknown'},\n",
       " {'topics': ['[Staff, Product Quality]'], 'sentiment': 'Negative'},\n",
       " {'topics': ['[Staff,SERVICE Time]'], 'sentiment': 'Unknown'},\n",
       " {'topics': ['[Music System, Not Classified]'], 'sentiment': 'Unknown'},\n",
       " {'topics': ['[Staff]'], 'sentiment': 'Unknown'},\n",
       " {'topics': ['[Staff,Service Time]'], 'sentiment': 'Unknown'},\n",
       " {'topics': ['[Staff,Service Time]'], 'sentiment': 'Unknown'},\n",
       " {'topics': ['[Staff,Product Availability]'], 'sentiment': 'Unknown'},\n",
       " {'topics': ['[Door, Staff]'], 'sentiment': 'Unknown'},\n",
       " {'topics': ['[Service Quality, Facilities]'], 'sentiment': 'Unknown'},\n",
       " {'topics': ['[Product Availability,Service Time]'], 'sentiment': 'Unknown'},\n",
       " {'topics': ['[Staff,Facilities]'], 'sentiment': 'Unknown'},\n",
       " {'topics': ['[Service Cost,Service Time,Facilities]'],\n",
       "  'sentiment': 'Unknown'},\n",
       " {'topics': ['[Service Time,Staff]'], 'sentiment': 'Unknown'},\n",
       " {'topics': ['[Staff,Service Time,Product Quality]'], 'sentiment': 'Unknown'},\n",
       " {'topics': ['[Service Quality, Facilities]'], 'sentiment': 'Unknown'},\n",
       " {'topics': ['[Not Classified, Facilities]'], 'sentiment': 'Unknown'},\n",
       " {'topics': ['[Service Time, Staff]'], 'sentiment': 'Unknown'},\n",
       " {'topics': ['[Product Quality]'], 'sentiment': 'Unknown'},\n",
       " {'topics': ['Product Quality, Facilities'], 'sentiment': 'Unknown'},\n",
       " {'topics': ['[Service Quality, Staff, Service Time],'],\n",
       "  'sentiment': 'Negative'},\n",
       " {'topics': ['[Service Quality, Facilities]'], 'sentiment': 'Unknown'},\n",
       " {'topics': ['[Not Classified, Not Classified, Not Classified, Not Classified, Not Classified]'],\n",
       "  'sentiment': 'Unknown'},\n",
       " {'topics': ['[Staff, Product Quality]'], 'sentiment': 'Unknown'},\n",
       " {'topics': ['[Service Cost, Staff]'], 'sentiment': 'Unknown'},\n",
       " {'topics': ['[Service Quality,Product Availability]\\n-'],\n",
       "  'sentiment': 'Unknown'},\n",
       " {'topics': ['[Staff,Service Time,Facilities]'], 'sentiment': 'Unknown'},\n",
       " {'topics': ['[Staff,Service Time]'], 'sentiment': 'Unknown'},\n",
       " ...]"
      ]
     },
     "execution_count": 21,
     "metadata": {},
     "output_type": "execute_result"
    }
   ],
   "source": [
    "results"
   ]
  },
  {
   "cell_type": "code",
   "execution_count": 18,
   "id": "4456e3a9-26b8-46f6-95a8-107d08c8314f",
   "metadata": {},
   "outputs": [
    {
     "data": {
      "text/plain": [
       "Index(['index', 'serviceCentre', 'dummy', 'overall rating', 'dummy1',\n",
       "       'geo_location', 'Unnamed: 5', 'Unnamed: 6', 'user', 'Unnamed: 8',\n",
       "       'date', 'rating', 'review', 'Unnamed: 12', 'response',\n",
       "       'review_original', 'topics', 'sentiment'],\n",
       "      dtype='object')"
      ]
     },
     "execution_count": 18,
     "metadata": {},
     "output_type": "execute_result"
    }
   ],
   "source": [
    "data.columns"
   ]
  },
  {
   "cell_type": "code",
   "execution_count": 19,
   "id": "d622b76b-bf16-45a4-bb40-406bfe222c67",
   "metadata": {},
   "outputs": [
    {
     "data": {
      "text/html": [
       "<div>\n",
       "<style scoped>\n",
       "    .dataframe tbody tr th:only-of-type {\n",
       "        vertical-align: middle;\n",
       "    }\n",
       "\n",
       "    .dataframe tbody tr th {\n",
       "        vertical-align: top;\n",
       "    }\n",
       "\n",
       "    .dataframe thead th {\n",
       "        text-align: right;\n",
       "    }\n",
       "</style>\n",
       "<table border=\"1\" class=\"dataframe\">\n",
       "  <thead>\n",
       "    <tr style=\"text-align: right;\">\n",
       "      <th></th>\n",
       "      <th>index</th>\n",
       "      <th>serviceCentre</th>\n",
       "      <th>dummy</th>\n",
       "      <th>overall rating</th>\n",
       "      <th>dummy1</th>\n",
       "      <th>geo_location</th>\n",
       "      <th>Unnamed: 5</th>\n",
       "      <th>Unnamed: 6</th>\n",
       "      <th>user</th>\n",
       "      <th>Unnamed: 8</th>\n",
       "      <th>date</th>\n",
       "      <th>rating</th>\n",
       "      <th>review</th>\n",
       "      <th>Unnamed: 12</th>\n",
       "      <th>response</th>\n",
       "      <th>review_original</th>\n",
       "      <th>topics</th>\n",
       "      <th>sentiment</th>\n",
       "    </tr>\n",
       "  </thead>\n",
       "  <tbody>\n",
       "    <tr>\n",
       "      <th>0</th>\n",
       "      <td>0</td>\n",
       "      <td>Ford of Queens Service Center</td>\n",
       "      <td>Car Service Station</td>\n",
       "      <td>1.0</td>\n",
       "      <td>624</td>\n",
       "      <td>92-15 170th St, Woodside, NY 11433, United States</td>\n",
       "      <td>\\n+1 718-865-8591</td>\n",
       "      <td>https://www.fordofqueensboulevard.com/</td>\n",
       "      <td>Janghoon Jeon</td>\n",
       "      <td>https://www.google.com/maps/contrib/1049414359...</td>\n",
       "      <td>4 months ago</td>\n",
       "      <td>1 star</td>\n",
       "      <td>The service department encountered challenges ...</td>\n",
       "      <td>3.0</td>\n",
       "      <td>Thank you for taking the time to review our se...</td>\n",
       "      <td>The service department encountered challenges ...</td>\n",
       "      <td>[[Service Diagnostics, Service Cost]]</td>\n",
       "      <td>Unknown</td>\n",
       "    </tr>\n",
       "    <tr>\n",
       "      <th>1</th>\n",
       "      <td>1</td>\n",
       "      <td>Ford of Queens Service Center</td>\n",
       "      <td>Car Service Station</td>\n",
       "      <td>3.5</td>\n",
       "      <td>624</td>\n",
       "      <td>92-15 170th St, Woodside, NY 11433, United States</td>\n",
       "      <td>\\n+1 718-865-8591</td>\n",
       "      <td>https://www.fordofqueensboulevard.com/</td>\n",
       "      <td>Andy Nisthalal</td>\n",
       "      <td>https://www.google.com/maps/contrib/1088727238...</td>\n",
       "      <td>a month ago</td>\n",
       "      <td>1 star</td>\n",
       "      <td>Lies and condescending attitudes from the serv...</td>\n",
       "      <td>NaN</td>\n",
       "      <td>Andy, thank you for taking the time to review ...</td>\n",
       "      <td>Lies and condescending attitudes from the serv...</td>\n",
       "      <td>[[Product Quality, Service Diagnostics]]</td>\n",
       "      <td>Unknown</td>\n",
       "    </tr>\n",
       "    <tr>\n",
       "      <th>2</th>\n",
       "      <td>2</td>\n",
       "      <td>Ford of Queens Service Center</td>\n",
       "      <td>Car Service Station</td>\n",
       "      <td>3.5</td>\n",
       "      <td>624</td>\n",
       "      <td>92-15 170th St, Woodside, NY 11433, United States</td>\n",
       "      <td>\\n+1 718-865-8591</td>\n",
       "      <td>https://www.fordofqueensboulevard.com/</td>\n",
       "      <td>Najai Najai</td>\n",
       "      <td>https://www.google.com/maps/contrib/1017533967...</td>\n",
       "      <td>a month ago</td>\n",
       "      <td>1 star</td>\n",
       "      <td>I walked in, there was about 4 employees at th...</td>\n",
       "      <td>NaN</td>\n",
       "      <td>Najai, we are sorry to see your negative revie...</td>\n",
       "      <td>I walked in, there was about 4 employees at th...</td>\n",
       "      <td>[[Staff, Facilities]]</td>\n",
       "      <td>Unknown</td>\n",
       "    </tr>\n",
       "    <tr>\n",
       "      <th>3</th>\n",
       "      <td>3</td>\n",
       "      <td>Ford of Queens Service Center</td>\n",
       "      <td>Car Service Station</td>\n",
       "      <td>3.5</td>\n",
       "      <td>624</td>\n",
       "      <td>92-15 170th St, Woodside, NY 11433, United States</td>\n",
       "      <td>\\n+1 718-865-8591</td>\n",
       "      <td>https://www.fordofqueensboulevard.com/</td>\n",
       "      <td>Ranjeet Singh</td>\n",
       "      <td>https://www.google.com/maps/contrib/1035747110...</td>\n",
       "      <td>a month ago</td>\n",
       "      <td>1 star</td>\n",
       "      <td>I had a very bad experience in that location. ...</td>\n",
       "      <td>NaN</td>\n",
       "      <td>Ranjeet, we apologize if you have received any...</td>\n",
       "      <td>I had a very bad experience in that location. ...</td>\n",
       "      <td>[[Staff, Facilities]]</td>\n",
       "      <td>Unknown</td>\n",
       "    </tr>\n",
       "    <tr>\n",
       "      <th>4</th>\n",
       "      <td>4</td>\n",
       "      <td>Ford of Queens Service Center</td>\n",
       "      <td>Car Service Station</td>\n",
       "      <td>3.5</td>\n",
       "      <td>624</td>\n",
       "      <td>92-15 170th St, Woodside, NY 11433, United States</td>\n",
       "      <td>\\n+1 718-865-8591</td>\n",
       "      <td>https://www.fordofqueensboulevard.com/</td>\n",
       "      <td>Paul Knight</td>\n",
       "      <td>https://www.google.com/maps/contrib/1083373622...</td>\n",
       "      <td>a month ago</td>\n",
       "      <td>1 star</td>\n",
       "      <td>Took my truck in to get the front brakes repla...</td>\n",
       "      <td>NaN</td>\n",
       "      <td>Paul, we are sorry to see your negative review...</td>\n",
       "      <td>Took my truck in to get the front brakes repla...</td>\n",
       "      <td>[[Brake,Product Quality]]</td>\n",
       "      <td>Unknown</td>\n",
       "    </tr>\n",
       "    <tr>\n",
       "      <th>...</th>\n",
       "      <td>...</td>\n",
       "      <td>...</td>\n",
       "      <td>...</td>\n",
       "      <td>...</td>\n",
       "      <td>...</td>\n",
       "      <td>...</td>\n",
       "      <td>...</td>\n",
       "      <td>...</td>\n",
       "      <td>...</td>\n",
       "      <td>...</td>\n",
       "      <td>...</td>\n",
       "      <td>...</td>\n",
       "      <td>...</td>\n",
       "      <td>...</td>\n",
       "      <td>...</td>\n",
       "      <td>...</td>\n",
       "      <td>...</td>\n",
       "      <td>...</td>\n",
       "    </tr>\n",
       "    <tr>\n",
       "      <th>1176</th>\n",
       "      <td>1775</td>\n",
       "      <td>Tesla</td>\n",
       "      <td>Car repair and maintenance service</td>\n",
       "      <td>4.0</td>\n",
       "      <td>828</td>\n",
       "      <td>530 NJ-17, Paramus, NJ 07652, United States</td>\n",
       "      <td>\\n+1 201-225-2544</td>\n",
       "      <td>https://www.tesla.com/paramusroute17</td>\n",
       "      <td>bleichmanklein lawyers ny nj</td>\n",
       "      <td>https://www.google.com/maps/contrib/1173073817...</td>\n",
       "      <td>5 years ago</td>\n",
       "      <td>4 stars</td>\n",
       "      <td>Interesting</td>\n",
       "      <td>NaN</td>\n",
       "      <td>NaN</td>\n",
       "      <td>Interesting</td>\n",
       "      <td>[Not Classified]</td>\n",
       "      <td>Unknown</td>\n",
       "    </tr>\n",
       "    <tr>\n",
       "      <th>1177</th>\n",
       "      <td>1776</td>\n",
       "      <td>Tesla</td>\n",
       "      <td>Car repair and maintenance service</td>\n",
       "      <td>4.0</td>\n",
       "      <td>828</td>\n",
       "      <td>530 NJ-17, Paramus, NJ 07652, United States</td>\n",
       "      <td>\\n+1 201-225-2544</td>\n",
       "      <td>https://www.tesla.com/paramusroute17</td>\n",
       "      <td>Süreyya Çağlar</td>\n",
       "      <td>https://www.google.com/maps/contrib/1172518932...</td>\n",
       "      <td>2 months ago</td>\n",
       "      <td>5 stars</td>\n",
       "      <td>A beautiful showroom where you can see the new...</td>\n",
       "      <td>NaN</td>\n",
       "      <td>NaN</td>\n",
       "      <td>A beautiful showroom where you can see the new...</td>\n",
       "      <td>[[Not Classified, Not Classified]\\n-]</td>\n",
       "      <td>[neutral]</td>\n",
       "    </tr>\n",
       "    <tr>\n",
       "      <th>1178</th>\n",
       "      <td>1777</td>\n",
       "      <td>Tesla</td>\n",
       "      <td>Car repair and maintenance service</td>\n",
       "      <td>4.0</td>\n",
       "      <td>828</td>\n",
       "      <td>530 NJ-17, Paramus, NJ 07652, United States</td>\n",
       "      <td>\\n+1 201-225-2544</td>\n",
       "      <td>https://www.tesla.com/paramusroute17</td>\n",
       "      <td>Manuel Delgadillo</td>\n",
       "      <td>https://www.google.com/maps/contrib/1004720626...</td>\n",
       "      <td>2 years ago</td>\n",
       "      <td>5 stars</td>\n",
       "      <td>I know very little about this place but they s...</td>\n",
       "      <td>NaN</td>\n",
       "      <td>NaN</td>\n",
       "      <td>I know very little about this place but they s...</td>\n",
       "      <td>[[Not Classified]]</td>\n",
       "      <td>Unknown</td>\n",
       "    </tr>\n",
       "    <tr>\n",
       "      <th>1179</th>\n",
       "      <td>1779</td>\n",
       "      <td>Tesla</td>\n",
       "      <td>Car repair and maintenance service</td>\n",
       "      <td>4.0</td>\n",
       "      <td>828</td>\n",
       "      <td>530 NJ-17, Paramus, NJ 07652, United States</td>\n",
       "      <td>\\n+1 201-225-2544</td>\n",
       "      <td>https://www.tesla.com/paramusroute17</td>\n",
       "      <td>조강훈</td>\n",
       "      <td>https://www.google.com/maps/contrib/1069169425...</td>\n",
       "      <td>9 months ago</td>\n",
       "      <td>4 stars</td>\n",
       "      <td>Too busy</td>\n",
       "      <td>NaN</td>\n",
       "      <td>NaN</td>\n",
       "      <td>Too busy</td>\n",
       "      <td>[[Not Classified]]</td>\n",
       "      <td>[negative]</td>\n",
       "    </tr>\n",
       "    <tr>\n",
       "      <th>1180</th>\n",
       "      <td>1781</td>\n",
       "      <td>Tesla</td>\n",
       "      <td>Car repair and maintenance service</td>\n",
       "      <td>4.0</td>\n",
       "      <td>828</td>\n",
       "      <td>530 NJ-17, Paramus, NJ 07652, United States</td>\n",
       "      <td>\\n+1 201-225-2544</td>\n",
       "      <td>https://www.tesla.com/paramusroute17</td>\n",
       "      <td>Kid Estévez</td>\n",
       "      <td>https://www.google.com/maps/contrib/1035478574...</td>\n",
       "      <td>2 years ago</td>\n",
       "      <td>5 stars</td>\n",
       "      <td>Car cool</td>\n",
       "      <td>NaN</td>\n",
       "      <td>NaN</td>\n",
       "      <td>Car cool</td>\n",
       "      <td>[[Not Classified,Not Classified,Not Classified...</td>\n",
       "      <td>[negative]</td>\n",
       "    </tr>\n",
       "  </tbody>\n",
       "</table>\n",
       "<p>1181 rows × 18 columns</p>\n",
       "</div>"
      ],
      "text/plain": [
       "      index                  serviceCentre  \\\n",
       "0         0  Ford of Queens Service Center   \n",
       "1         1  Ford of Queens Service Center   \n",
       "2         2  Ford of Queens Service Center   \n",
       "3         3  Ford of Queens Service Center   \n",
       "4         4  Ford of Queens Service Center   \n",
       "...     ...                            ...   \n",
       "1176   1775                          Tesla   \n",
       "1177   1776                          Tesla   \n",
       "1178   1777                          Tesla   \n",
       "1179   1779                          Tesla   \n",
       "1180   1781                          Tesla   \n",
       "\n",
       "                                   dummy  overall rating  dummy1  \\\n",
       "0                    Car Service Station             1.0     624   \n",
       "1                    Car Service Station             3.5     624   \n",
       "2                    Car Service Station             3.5     624   \n",
       "3                    Car Service Station             3.5     624   \n",
       "4                    Car Service Station             3.5     624   \n",
       "...                                  ...             ...     ...   \n",
       "1176  Car repair and maintenance service             4.0     828   \n",
       "1177  Car repair and maintenance service             4.0     828   \n",
       "1178  Car repair and maintenance service             4.0     828   \n",
       "1179  Car repair and maintenance service             4.0     828   \n",
       "1180  Car repair and maintenance service             4.0     828   \n",
       "\n",
       "                                           geo_location          Unnamed: 5  \\\n",
       "0     92-15 170th St, Woodside, NY 11433, United States  \\n+1 718-865-8591   \n",
       "1     92-15 170th St, Woodside, NY 11433, United States  \\n+1 718-865-8591   \n",
       "2     92-15 170th St, Woodside, NY 11433, United States  \\n+1 718-865-8591   \n",
       "3     92-15 170th St, Woodside, NY 11433, United States  \\n+1 718-865-8591   \n",
       "4     92-15 170th St, Woodside, NY 11433, United States  \\n+1 718-865-8591   \n",
       "...                                                 ...                 ...   \n",
       "1176        530 NJ-17, Paramus, NJ 07652, United States  \\n+1 201-225-2544   \n",
       "1177        530 NJ-17, Paramus, NJ 07652, United States  \\n+1 201-225-2544   \n",
       "1178        530 NJ-17, Paramus, NJ 07652, United States  \\n+1 201-225-2544   \n",
       "1179        530 NJ-17, Paramus, NJ 07652, United States  \\n+1 201-225-2544   \n",
       "1180        530 NJ-17, Paramus, NJ 07652, United States  \\n+1 201-225-2544   \n",
       "\n",
       "                                  Unnamed: 6                          user  \\\n",
       "0     https://www.fordofqueensboulevard.com/                 Janghoon Jeon   \n",
       "1     https://www.fordofqueensboulevard.com/                Andy Nisthalal   \n",
       "2     https://www.fordofqueensboulevard.com/                   Najai Najai   \n",
       "3     https://www.fordofqueensboulevard.com/                 Ranjeet Singh   \n",
       "4     https://www.fordofqueensboulevard.com/                   Paul Knight   \n",
       "...                                      ...                           ...   \n",
       "1176    https://www.tesla.com/paramusroute17  bleichmanklein lawyers ny nj   \n",
       "1177    https://www.tesla.com/paramusroute17                Süreyya Çağlar   \n",
       "1178    https://www.tesla.com/paramusroute17             Manuel Delgadillo   \n",
       "1179    https://www.tesla.com/paramusroute17                           조강훈   \n",
       "1180    https://www.tesla.com/paramusroute17                   Kid Estévez   \n",
       "\n",
       "                                             Unnamed: 8          date  \\\n",
       "0     https://www.google.com/maps/contrib/1049414359...  4 months ago   \n",
       "1     https://www.google.com/maps/contrib/1088727238...   a month ago   \n",
       "2     https://www.google.com/maps/contrib/1017533967...   a month ago   \n",
       "3     https://www.google.com/maps/contrib/1035747110...   a month ago   \n",
       "4     https://www.google.com/maps/contrib/1083373622...   a month ago   \n",
       "...                                                 ...           ...   \n",
       "1176  https://www.google.com/maps/contrib/1173073817...   5 years ago   \n",
       "1177  https://www.google.com/maps/contrib/1172518932...  2 months ago   \n",
       "1178  https://www.google.com/maps/contrib/1004720626...   2 years ago   \n",
       "1179  https://www.google.com/maps/contrib/1069169425...  9 months ago   \n",
       "1180  https://www.google.com/maps/contrib/1035478574...   2 years ago   \n",
       "\n",
       "       rating                                             review  Unnamed: 12  \\\n",
       "0      1 star  The service department encountered challenges ...          3.0   \n",
       "1      1 star  Lies and condescending attitudes from the serv...          NaN   \n",
       "2      1 star  I walked in, there was about 4 employees at th...          NaN   \n",
       "3      1 star  I had a very bad experience in that location. ...          NaN   \n",
       "4      1 star  Took my truck in to get the front brakes repla...          NaN   \n",
       "...       ...                                                ...          ...   \n",
       "1176  4 stars                                        Interesting          NaN   \n",
       "1177  5 stars  A beautiful showroom where you can see the new...          NaN   \n",
       "1178  5 stars  I know very little about this place but they s...          NaN   \n",
       "1179  4 stars                                           Too busy          NaN   \n",
       "1180  5 stars                                           Car cool          NaN   \n",
       "\n",
       "                                               response  \\\n",
       "0     Thank you for taking the time to review our se...   \n",
       "1     Andy, thank you for taking the time to review ...   \n",
       "2     Najai, we are sorry to see your negative revie...   \n",
       "3     Ranjeet, we apologize if you have received any...   \n",
       "4     Paul, we are sorry to see your negative review...   \n",
       "...                                                 ...   \n",
       "1176                                                NaN   \n",
       "1177                                                NaN   \n",
       "1178                                                NaN   \n",
       "1179                                                NaN   \n",
       "1180                                                NaN   \n",
       "\n",
       "                                        review_original  \\\n",
       "0     The service department encountered challenges ...   \n",
       "1     Lies and condescending attitudes from the serv...   \n",
       "2     I walked in, there was about 4 employees at th...   \n",
       "3     I had a very bad experience in that location. ...   \n",
       "4     Took my truck in to get the front brakes repla...   \n",
       "...                                                 ...   \n",
       "1176                                        Interesting   \n",
       "1177  A beautiful showroom where you can see the new...   \n",
       "1178  I know very little about this place but they s...   \n",
       "1179                                           Too busy   \n",
       "1180                                           Car cool   \n",
       "\n",
       "                                                 topics   sentiment  \n",
       "0                 [[Service Diagnostics, Service Cost]]     Unknown  \n",
       "1              [[Product Quality, Service Diagnostics]]     Unknown  \n",
       "2                                 [[Staff, Facilities]]     Unknown  \n",
       "3                                 [[Staff, Facilities]]     Unknown  \n",
       "4                             [[Brake,Product Quality]]     Unknown  \n",
       "...                                                 ...         ...  \n",
       "1176                                   [Not Classified]     Unknown  \n",
       "1177              [[Not Classified, Not Classified]\\n-]   [neutral]  \n",
       "1178                                 [[Not Classified]]     Unknown  \n",
       "1179                                 [[Not Classified]]  [negative]  \n",
       "1180  [[Not Classified,Not Classified,Not Classified...  [negative]  \n",
       "\n",
       "[1181 rows x 18 columns]"
      ]
     },
     "execution_count": 19,
     "metadata": {},
     "output_type": "execute_result"
    }
   ],
   "source": [
    "data"
   ]
  },
  {
   "cell_type": "code",
   "execution_count": 20,
   "id": "3d76935f-6f09-48f4-a4d2-6369efd33070",
   "metadata": {},
   "outputs": [],
   "source": [
    "data.to_csv(\"sample_output_llama_3.2.csv\")"
   ]
  },
  {
   "cell_type": "code",
   "execution_count": null,
   "id": "b6c7c79b-3b0d-4fa7-b4b9-1b6cd632c0fa",
   "metadata": {},
   "outputs": [],
   "source": [
    "data=pd.read_csv(\"/Users/santhanakrishnans/Downloads/sample_output-4.csv\")"
   ]
  },
  {
   "cell_type": "code",
   "execution_count": null,
   "id": "ed42399e-3b61-41cc-b47d-50c0632467a3",
   "metadata": {},
   "outputs": [],
   "source": [
    "data.columns"
   ]
  },
  {
   "cell_type": "code",
   "execution_count": null,
   "id": "296899e7-cab3-49c8-bda4-d8596064c2a4",
   "metadata": {},
   "outputs": [],
   "source": [
    "data"
   ]
  },
  {
   "cell_type": "code",
   "execution_count": null,
   "id": "a83e5477-760a-4cf7-a4f9-a655f3a9b8dc",
   "metadata": {},
   "outputs": [],
   "source": [
    "import re\n",
    "\n",
    "def cleanse_topics(topics_column):\n",
    "    cleansed_topics = []\n",
    "    for topics in topics_column:\n",
    "        # Replace \"-\" or \"--\" with \",\"\n",
    "        topics = re.sub(r\"--|-\", \",\", topics)\n",
    "        # Remove unwanted words and characters\n",
    "        topics = re.sub(r\"(?i)\\b(sentiment|neutral|positive|negative)\\b\", \"\", topics)\n",
    "        topics = topics.replace(\"\\n\", \"\").replace(\"/n\", \"\")\n",
    "        # Remove extra commas and whitespace\n",
    "        topics = re.sub(r\",+\", \",\", topics).strip(\", \")\n",
    "        cleansed_topics.append(topics.strip())\n",
    "    return cleansed_topics\n",
    "\n",
    "# Apply the function to data[\"topics\"]\n",
    "data[\"topics\"] = cleanse_topics(data[\"topics\"])\n",
    "\n",
    "data[\"topics\"]\n"
   ]
  },
  {
   "cell_type": "code",
   "execution_count": null,
   "id": "ee2bca57-f21a-4504-b72b-4a0c7c81203c",
   "metadata": {},
   "outputs": [],
   "source": [
    "data[\"topics\"] = data[\"topics\"].replace(\"'\", \"\").replace(\",,\", \"\").replace(\":\", \"\").replace(\"\\n\", \"\")\n"
   ]
  },
  {
   "cell_type": "code",
   "execution_count": null,
   "id": "be463c35-44f0-457c-b4a4-4119328f6519",
   "metadata": {},
   "outputs": [],
   "source": [
    "data[\"topics\"].to_csv(\"/Users/santhanakrishnans/Downloads/rawtopics.csv\")"
   ]
  },
  {
   "cell_type": "code",
   "execution_count": null,
   "id": "d0ee41dd-0552-48a6-a40a-e19eb3eca7ff",
   "metadata": {},
   "outputs": [],
   "source": [
    "import pandas as pd\n",
    "\n",
    "# Step 1: Extract unique topics\n",
    "def get_unique_topics(topics_column):\n",
    "    all_topics = []\n",
    "    for topics in topics_column:\n",
    "        if topics:  # Ensure the value is not empty\n",
    "            all_topics.extend([topic.strip() for topic in topics.split(\",\")])\n",
    "    return list(set(all_topics))\n",
    "\n",
    "# Step 2: Create new columns for each topic\n",
    "def add_topic_columns(data, unique_topics):\n",
    "    for topic in unique_topics:\n",
    "        data[topic] = data[\"topics\"].apply(lambda x: 1 if topic in x.split(\",\") else 0)\n",
    "    return data\n",
    "\n",
    "# Generate the unique topics list\n",
    "unique_topics = get_unique_topics(data[\"topics\"])\n",
    "\n",
    "# Add new columns for each topic\n",
    "data = add_topic_columns(data, unique_topics)\n",
    "\n",
    "# Display updated DataFrame\n",
    "data\n"
   ]
  },
  {
   "cell_type": "code",
   "execution_count": null,
   "id": "89ca23bc-a447-49ae-a36d-ea5278bbd24e",
   "metadata": {},
   "outputs": [],
   "source": [
    "data.columns"
   ]
  },
  {
   "cell_type": "code",
   "execution_count": null,
   "id": "f3af657c-755e-4942-a63b-ca16286b7e77",
   "metadata": {},
   "outputs": [],
   "source": [
    "data.to_csv(\"sample_output_w_topics.csv\")"
   ]
  },
  {
   "cell_type": "code",
   "execution_count": null,
   "id": "bfcd4fce-3c5d-471b-a228-2cc66068e69b",
   "metadata": {},
   "outputs": [],
   "source": [
    "# Include 'sentiment' column along with the columns to the right of it\n",
    "right_columns = data.loc[:, data.columns[data.columns.get_loc(\"sentiment\"):]]\n",
    "\n",
    "# Melt the data so that the columns right of 'Sentiment' become rows\n",
    "melted_data = right_columns.melt(id_vars=[\"sentiment\"], var_name=\"Category\", value_name=\"Value\")\n",
    "\n",
    "# Create a pivot table to summarize by 'Sentiment' and 'Category'\n",
    "pivot_table = melted_data.pivot_table(index=\"sentiment\", columns=\"Category\", values=\"Value\", aggfunc=\"sum\")\n",
    "\n",
    "# Transpose the table\n",
    "transposed_table = pivot_table.T\n",
    "\n",
    "# Display the transposed table\n",
    "transposed_table\n"
   ]
  },
  {
   "cell_type": "code",
   "execution_count": null,
   "id": "d98f4101-bdb8-47b3-9b69-abb53746d874",
   "metadata": {},
   "outputs": [],
   "source": [
    "data_topic=transposed_table\n"
   ]
  },
  {
   "cell_type": "code",
   "execution_count": null,
   "id": "6feca9d8-77be-4cd3-9256-0adf8e18899d",
   "metadata": {},
   "outputs": [],
   "source": [
    "data_topic.to_csv(\"/Users/santhanakrishnans/Downloads/sampletopics_updated.csv\")"
   ]
  },
  {
   "cell_type": "code",
   "execution_count": null,
   "id": "52cd30a7-ab8d-4212-88c7-0f10438fe263",
   "metadata": {},
   "outputs": [],
   "source": []
  },
  {
   "cell_type": "code",
   "execution_count": null,
   "id": "061204d1-a1b2-4216-9353-dbb3852dd6df",
   "metadata": {},
   "outputs": [],
   "source": []
  }
 ],
 "metadata": {
  "kernelspec": {
   "display_name": "Python 3 (ipykernel)",
   "language": "python",
   "name": "python3"
  },
  "language_info": {
   "codemirror_mode": {
    "name": "ipython",
    "version": 3
   },
   "file_extension": ".py",
   "mimetype": "text/x-python",
   "name": "python",
   "nbconvert_exporter": "python",
   "pygments_lexer": "ipython3",
   "version": "3.12.7"
  }
 },
 "nbformat": 4,
 "nbformat_minor": 5
}
